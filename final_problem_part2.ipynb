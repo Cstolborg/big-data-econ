{
 "cells": [
  {
   "cell_type": "markdown",
   "metadata": {},
   "source": [
    "# Econometrics of Big Data Final Problem\n",
    "*by Christian Stolborg*\n",
    "\n",
    "*15-07-2022*"
   ]
  },
  {
   "cell_type": "markdown",
   "metadata": {},
   "source": [
    "## Part B\n",
    "\n",
    "## Data preparation"
   ]
  },
  {
   "cell_type": "code",
   "execution_count": 1,
   "metadata": {},
   "outputs": [],
   "source": [
    "import warnings\n",
    "\n",
    "import numpy as np\n",
    "import pandas as pd\n",
    "from scipy import stats\n",
    "import statsmodels.api as sm\n",
    "import doubleml as dml\n",
    "\n",
    "from sklearn.preprocessing import PolynomialFeatures\n",
    "from sklearn.linear_model import LassoCV, LogisticRegressionCV\n",
    "from sklearn.ensemble import RandomForestClassifier, RandomForestRegressor\n",
    "from sklearn.tree import DecisionTreeClassifier, DecisionTreeRegressor\n",
    "from sklearn.preprocessing import StandardScaler\n",
    "from sklearn.pipeline import make_pipeline\n",
    "\n",
    "from xgboost import XGBClassifier, XGBRegressor\n",
    "\n",
    "import matplotlib.pyplot as plt\n",
    "import seaborn as sns\n",
    "\n",
    "\n",
    "\n",
    "warnings.filterwarnings('ignore')"
   ]
  },
  {
   "cell_type": "code",
   "execution_count": 2,
   "metadata": {},
   "outputs": [
    {
     "data": {
      "text/html": [
       "<div>\n",
       "<style scoped>\n",
       "    .dataframe tbody tr th:only-of-type {\n",
       "        vertical-align: middle;\n",
       "    }\n",
       "\n",
       "    .dataframe tbody tr th {\n",
       "        vertical-align: top;\n",
       "    }\n",
       "\n",
       "    .dataframe thead th {\n",
       "        text-align: right;\n",
       "    }\n",
       "</style>\n",
       "<table border=\"1\" class=\"dataframe\">\n",
       "  <thead>\n",
       "    <tr style=\"text-align: right;\">\n",
       "      <th></th>\n",
       "      <th>net_tfa</th>\n",
       "      <th>age</th>\n",
       "      <th>inc</th>\n",
       "      <th>fsize</th>\n",
       "      <th>educ</th>\n",
       "      <th>db</th>\n",
       "      <th>marr</th>\n",
       "      <th>twoearn</th>\n",
       "      <th>e401</th>\n",
       "      <th>p401</th>\n",
       "      <th>pira</th>\n",
       "      <th>hown</th>\n",
       "    </tr>\n",
       "  </thead>\n",
       "  <tbody>\n",
       "    <tr>\n",
       "      <th>0</th>\n",
       "      <td>0.0</td>\n",
       "      <td>47</td>\n",
       "      <td>6765.0</td>\n",
       "      <td>2</td>\n",
       "      <td>8</td>\n",
       "      <td>0</td>\n",
       "      <td>0</td>\n",
       "      <td>0</td>\n",
       "      <td>0</td>\n",
       "      <td>0</td>\n",
       "      <td>0</td>\n",
       "      <td>1</td>\n",
       "    </tr>\n",
       "    <tr>\n",
       "      <th>1</th>\n",
       "      <td>1015.0</td>\n",
       "      <td>36</td>\n",
       "      <td>28452.0</td>\n",
       "      <td>1</td>\n",
       "      <td>16</td>\n",
       "      <td>0</td>\n",
       "      <td>0</td>\n",
       "      <td>0</td>\n",
       "      <td>0</td>\n",
       "      <td>0</td>\n",
       "      <td>0</td>\n",
       "      <td>1</td>\n",
       "    </tr>\n",
       "  </tbody>\n",
       "</table>\n",
       "</div>"
      ],
      "text/plain": [
       "   net_tfa  age      inc  fsize  educ  db  marr  twoearn  e401  p401  pira  \\\n",
       "0      0.0   47   6765.0      2     8   0     0        0     0     0     0   \n",
       "1   1015.0   36  28452.0      1    16   0     0        0     0     0     0   \n",
       "\n",
       "   hown  \n",
       "0     1  \n",
       "1     1  "
      ]
     },
     "execution_count": 2,
     "metadata": {},
     "output_type": "execute_result"
    }
   ],
   "source": [
    "df = pd.read_csv(\"./data/401ksubs.csv\")\n",
    "\n",
    "# From DoubleML docs - need to convert to float due to sklearn issue https://github.com/scikit-learn/scikit-learn/issues/21997\n",
    "dtypes = df.dtypes\n",
    "dtypes['net_tfa'] = 'float64'\n",
    "dtypes['inc'] = 'float64'\n",
    "df = df.astype(dtypes)\n",
    "\n",
    "X_cols = \"age,inc,fsize,educ,db,marr,twoearn,pira,hown\".split(\",\")\n",
    "df.head(2)"
   ]
  },
  {
   "cell_type": "markdown",
   "metadata": {},
   "source": [
    "### (i)\n",
    "\n",
    "The problem of estimating the policy effect ($D$) of 401(k) eligibility on net financial assets ($Y$) with only 9 control variables ($X$) becomes a high-dimensional problem when either $Y$ or $D$ is functionally related to $X$ in a way that is not linear in $X$. For example, through higher-order terms, interactions or additional unobservable variables. In this model, enrollment into a 401(k) plan is not random and it is highly likely that net financial assets is affected by households' heterogeneity in saving preferences. Hence, we should believe that both $Y$ and $D$ are partly determined by other factors such as those present in $X$. However, the relationship between $Y$, $D$ and $X$ could very well be a non-linear relationship. Exploring whether this is the case can be done in a data-driven way with double machine learning methods."
   ]
  },
  {
   "cell_type": "markdown",
   "metadata": {},
   "source": [
    "### (ii)\n",
    "\n"
   ]
  },
  {
   "cell_type": "code",
   "execution_count": 3,
   "metadata": {},
   "outputs": [
    {
     "data": {
      "text/html": [
       "<table class=\"simpletable\">\n",
       "<tr>\n",
       "     <td></td>        <th>coef</th>     <th>std err</th>      <th>t</th>      <th>P>|t|</th>  <th>[0.025</th>    <th>0.975]</th>  \n",
       "</tr>\n",
       "<tr>\n",
       "  <th>const</th>   <td>-3.291e+04</td> <td> 4276.223</td> <td>   -7.695</td> <td> 0.000</td> <td>-4.13e+04</td> <td>-2.45e+04</td>\n",
       "</tr>\n",
       "<tr>\n",
       "  <th>e401</th>    <td> 5896.1984</td> <td> 1250.014</td> <td>    4.717</td> <td> 0.000</td> <td> 3445.917</td> <td> 8346.480</td>\n",
       "</tr>\n",
       "<tr>\n",
       "  <th>age</th>     <td>  624.1455</td> <td>   59.521</td> <td>   10.486</td> <td> 0.000</td> <td>  507.472</td> <td>  740.819</td>\n",
       "</tr>\n",
       "<tr>\n",
       "  <th>inc</th>     <td>    0.9357</td> <td>    0.030</td> <td>   30.982</td> <td> 0.000</td> <td>    0.876</td> <td>    0.995</td>\n",
       "</tr>\n",
       "<tr>\n",
       "  <th>fsize</th>   <td>-1018.7979</td> <td>  449.859</td> <td>   -2.265</td> <td> 0.024</td> <td>-1900.614</td> <td> -136.982</td>\n",
       "</tr>\n",
       "<tr>\n",
       "  <th>educ</th>    <td> -639.7538</td> <td>  228.499</td> <td>   -2.800</td> <td> 0.005</td> <td>-1087.659</td> <td> -191.848</td>\n",
       "</tr>\n",
       "<tr>\n",
       "  <th>db</th>      <td>-4904.5684</td> <td> 1359.098</td> <td>   -3.609</td> <td> 0.000</td> <td>-7568.677</td> <td>-2240.460</td>\n",
       "</tr>\n",
       "<tr>\n",
       "  <th>marr</th>    <td>  743.3445</td> <td> 1795.556</td> <td>    0.414</td> <td> 0.679</td> <td>-2776.310</td> <td> 4262.999</td>\n",
       "</tr>\n",
       "<tr>\n",
       "  <th>twoearn</th> <td>-1.923e+04</td> <td> 1576.431</td> <td>  -12.196</td> <td> 0.000</td> <td>-2.23e+04</td> <td>-1.61e+04</td>\n",
       "</tr>\n",
       "<tr>\n",
       "  <th>pira</th>    <td> 2.953e+04</td> <td> 1465.830</td> <td>   20.148</td> <td> 0.000</td> <td> 2.67e+04</td> <td> 3.24e+04</td>\n",
       "</tr>\n",
       "<tr>\n",
       "  <th>hown</th>    <td> 1185.2564</td> <td> 1323.687</td> <td>    0.895</td> <td> 0.371</td> <td>-1409.439</td> <td> 3779.952</td>\n",
       "</tr>\n",
       "</table>"
      ],
      "text/plain": [
       "<class 'statsmodels.iolib.table.SimpleTable'>"
      ]
     },
     "execution_count": 3,
     "metadata": {},
     "output_type": "execute_result"
    }
   ],
   "source": [
    "X = df[[\"e401\"]+X_cols]\n",
    "X = sm.add_constant(X)\n",
    "y = df[\"net_tfa\"]\n",
    "\n",
    "model = sm.OLS(y, X).fit()\n",
    "model.summary().tables[1]"
   ]
  },
  {
   "cell_type": "markdown",
   "metadata": {},
   "source": [
    "Estimating $net_tfa = \\alpha_0 e401 + \\beta'X + \\epsilon$ I find that $\\alpha_0= 5896$ with a standard error of $1250$. Thus, in the linear model, 401(k) eligibility corresponds to an increase in net financial assets of almost \\$6,000"
   ]
  },
  {
   "cell_type": "markdown",
   "metadata": {},
   "source": [
    "### (iii)\n",
    "\n",
    "I now repeat the analysis using double machine learning, allowing for non-linear nuisance functions. I perform the analysis on Lasso, because it was the best predictor in Part A. I also include a Random Forest and XGB. For all models I use 5-fold cross-fitting and I use 5-fold cross-validation to find hyperparameters. "
   ]
  },
  {
   "cell_type": "code",
   "execution_count": 4,
   "metadata": {},
   "outputs": [],
   "source": [
    "dml_data_base = dml.DoubleMLData(df,\n",
    "                        y_col='net_tfa',\n",
    "                        d_cols='e401',\n",
    "                        x_cols=X_cols)"
   ]
  },
  {
   "cell_type": "code",
   "execution_count": 5,
   "metadata": {},
   "outputs": [
    {
     "name": "stdout",
     "output_type": "stream",
     "text": [
      "Shape of flexible data model: (9915, 267)\n"
     ]
    }
   ],
   "source": [
    "def nl_transform(data, features: str) -> pd.DataFrame:\n",
    "    \"\"\" Perform non-linear transformation on features in data \"\"\"\n",
    "    features = data.copy()[features]\n",
    "\n",
    "    # Add polynomials\n",
    "    poly_dict = {'age': 3,\n",
    "                'inc': 3,\n",
    "                'educ': 3,\n",
    "                'fsize': 3}\n",
    "\n",
    "    for key, degree in poly_dict.items():\n",
    "        poly = PolynomialFeatures(degree, include_bias=False)\n",
    "        data_transf = poly.fit_transform(data[[key]])\n",
    "        x_cols = poly.get_feature_names_out([key])\n",
    "        data_transf = pd.DataFrame(data_transf, columns=x_cols)\n",
    "\n",
    "        features = pd.concat((features, data_transf),\n",
    "                            axis=1, sort=False)\n",
    "\n",
    "    # Add interaction terms\n",
    "    cols = features.columns\n",
    "    for col1 in cols:\n",
    "        for col2 in cols:\n",
    "            c1 = col1.strip(\"^23\")\n",
    "            c2 = col2.strip(\"^23\")\n",
    "            if c1 != c2:\n",
    "                features[col1+\"_\"+col2] = features[col1] * features[col2]\n",
    "\n",
    "    model_data = pd.concat((data.copy()[['net_tfa', 'e401']], features.copy()),\n",
    "                            axis=1, sort=False)\n",
    "\n",
    "    return model_data\n",
    "\n",
    "model_data = nl_transform(df, features=['marr', 'twoearn', 'db', 'pira', 'hown'])\n",
    "print(f\"Shape of flexible data model: {model_data.shape}\")\n",
    "\n",
    "\n",
    "# Initialize DoubleMLData (data-backend of DoubleML)\n",
    "dml_data_flex = dml.DoubleMLData(model_data, y_col='net_tfa', d_cols='e401')"
   ]
  },
  {
   "cell_type": "code",
   "execution_count": 6,
   "metadata": {},
   "outputs": [
    {
     "data": {
      "text/html": [
       "<div>\n",
       "<style scoped>\n",
       "    .dataframe tbody tr th:only-of-type {\n",
       "        vertical-align: middle;\n",
       "    }\n",
       "\n",
       "    .dataframe tbody tr th {\n",
       "        vertical-align: top;\n",
       "    }\n",
       "\n",
       "    .dataframe thead th {\n",
       "        text-align: right;\n",
       "    }\n",
       "</style>\n",
       "<table border=\"1\" class=\"dataframe\">\n",
       "  <thead>\n",
       "    <tr style=\"text-align: right;\">\n",
       "      <th></th>\n",
       "      <th>coef</th>\n",
       "      <th>std err</th>\n",
       "      <th>t</th>\n",
       "      <th>P&gt;|t|</th>\n",
       "      <th>2.5 %</th>\n",
       "      <th>97.5 %</th>\n",
       "    </tr>\n",
       "  </thead>\n",
       "  <tbody>\n",
       "    <tr>\n",
       "      <th>e401</th>\n",
       "      <td>5760.268502</td>\n",
       "      <td>1371.244866</td>\n",
       "      <td>4.200758</td>\n",
       "      <td>0.000027</td>\n",
       "      <td>3072.677951</td>\n",
       "      <td>8447.859053</td>\n",
       "    </tr>\n",
       "  </tbody>\n",
       "</table>\n",
       "</div>"
      ],
      "text/plain": [
       "             coef      std err         t     P>|t|        2.5 %       97.5 %\n",
       "e401  5760.268502  1371.244866  4.200758  0.000027  3072.677951  8447.859053"
      ]
     },
     "execution_count": 6,
     "metadata": {},
     "output_type": "execute_result"
    }
   ],
   "source": [
    "# Initialize learners\n",
    "Cs = 0.0001*np.logspace(0, 4, 10)\n",
    "lasso = make_pipeline(StandardScaler(), LassoCV(cv=5, max_iter=10000))\n",
    "lasso_class = make_pipeline(StandardScaler(),\n",
    "                            LogisticRegressionCV(cv=5, penalty='l1', solver='liblinear',\n",
    "                                                 Cs = Cs, max_iter=1000))\n",
    "\n",
    "np.random.seed(42)\n",
    "# Initialize DoubleMLPLR model\n",
    "dml_plr_lasso = dml.DoubleMLPLR(dml_data_base,\n",
    "                                ml_l = lasso,\n",
    "                                ml_m = lasso_class,\n",
    "                                n_folds = 5)\n",
    "\n",
    "dml_plr_lasso.fit(store_predictions=True)\n",
    "lasso_base = dml_plr_lasso.summary\n",
    "lasso_base"
   ]
  },
  {
   "cell_type": "code",
   "execution_count": 7,
   "metadata": {},
   "outputs": [
    {
     "data": {
      "text/html": [
       "<div>\n",
       "<style scoped>\n",
       "    .dataframe tbody tr th:only-of-type {\n",
       "        vertical-align: middle;\n",
       "    }\n",
       "\n",
       "    .dataframe tbody tr th {\n",
       "        vertical-align: top;\n",
       "    }\n",
       "\n",
       "    .dataframe thead th {\n",
       "        text-align: right;\n",
       "    }\n",
       "</style>\n",
       "<table border=\"1\" class=\"dataframe\">\n",
       "  <thead>\n",
       "    <tr style=\"text-align: right;\">\n",
       "      <th></th>\n",
       "      <th>coef</th>\n",
       "      <th>std err</th>\n",
       "      <th>t</th>\n",
       "      <th>P&gt;|t|</th>\n",
       "      <th>2.5 %</th>\n",
       "      <th>97.5 %</th>\n",
       "    </tr>\n",
       "  </thead>\n",
       "  <tbody>\n",
       "    <tr>\n",
       "      <th>e401</th>\n",
       "      <td>9400.019296</td>\n",
       "      <td>1333.841572</td>\n",
       "      <td>7.047328</td>\n",
       "      <td>1.823858e-12</td>\n",
       "      <td>6785.737854</td>\n",
       "      <td>12014.300738</td>\n",
       "    </tr>\n",
       "  </tbody>\n",
       "</table>\n",
       "</div>"
      ],
      "text/plain": [
       "             coef      std err         t         P>|t|        2.5 %  \\\n",
       "e401  9400.019296  1333.841572  7.047328  1.823858e-12  6785.737854   \n",
       "\n",
       "            97.5 %  \n",
       "e401  12014.300738  "
      ]
     },
     "execution_count": 7,
     "metadata": {},
     "output_type": "execute_result"
    }
   ],
   "source": [
    "# Estimate the ATE in the flexible model with lasso\n",
    "np.random.seed(42)\n",
    "dml_plr_lasso = dml.DoubleMLPLR(dml_data_flex,\n",
    "                                ml_l = lasso,\n",
    "                                ml_m = lasso_class,\n",
    "                                n_folds = 5)\n",
    "\n",
    "dml_plr_lasso.fit(store_predictions=True)\n",
    "lasso_summary = dml_plr_lasso.summary\n",
    "\n",
    "lasso_summary"
   ]
  },
  {
   "cell_type": "code",
   "execution_count": 8,
   "metadata": {},
   "outputs": [],
   "source": [
    "dml_plr_lasso = dml.DoubleMLPLR(dml_data_flex,\n",
    "                                ml_l = lasso,\n",
    "                                ml_m = lasso_class,\n",
    "                                n_folds = 1)\n",
    "\n",
    "dml_plr_lasso.fit(store_predictions=True)\n",
    "lasso_summary_nospl = dml_plr_lasso.summary"
   ]
  },
  {
   "cell_type": "markdown",
   "metadata": {},
   "source": [
    "Repeating the procedure with a random forest and gradient boosting:"
   ]
  },
  {
   "cell_type": "code",
   "execution_count": 9,
   "metadata": {},
   "outputs": [
    {
     "data": {
      "text/html": [
       "<div>\n",
       "<style scoped>\n",
       "    .dataframe tbody tr th:only-of-type {\n",
       "        vertical-align: middle;\n",
       "    }\n",
       "\n",
       "    .dataframe tbody tr th {\n",
       "        vertical-align: top;\n",
       "    }\n",
       "\n",
       "    .dataframe thead th {\n",
       "        text-align: right;\n",
       "    }\n",
       "</style>\n",
       "<table border=\"1\" class=\"dataframe\">\n",
       "  <thead>\n",
       "    <tr style=\"text-align: right;\">\n",
       "      <th></th>\n",
       "      <th>coef</th>\n",
       "      <th>std err</th>\n",
       "      <th>t</th>\n",
       "      <th>P&gt;|t|</th>\n",
       "      <th>2.5 %</th>\n",
       "      <th>97.5 %</th>\n",
       "    </tr>\n",
       "  </thead>\n",
       "  <tbody>\n",
       "    <tr>\n",
       "      <th>e401</th>\n",
       "      <td>8965.966775</td>\n",
       "      <td>1309.656687</td>\n",
       "      <td>6.846044</td>\n",
       "      <td>7.592035e-12</td>\n",
       "      <td>6399.086837</td>\n",
       "      <td>11532.846713</td>\n",
       "    </tr>\n",
       "  </tbody>\n",
       "</table>\n",
       "</div>"
      ],
      "text/plain": [
       "             coef      std err         t         P>|t|        2.5 %  \\\n",
       "e401  8965.966775  1309.656687  6.846044  7.592035e-12  6399.086837   \n",
       "\n",
       "            97.5 %  \n",
       "e401  11532.846713  "
      ]
     },
     "execution_count": 9,
     "metadata": {},
     "output_type": "execute_result"
    }
   ],
   "source": [
    "# Random Forest\n",
    "randomForest = RandomForestRegressor(\n",
    "    n_estimators=500, max_depth=7, max_features=3, min_samples_leaf=3)\n",
    "randomForest_class = RandomForestClassifier(\n",
    "    n_estimators=500, max_depth=5, max_features=4, min_samples_leaf=7)\n",
    "\n",
    "np.random.seed(42)\n",
    "dml_plr_forest = dml.DoubleMLPLR(dml_data_base,\n",
    "                                 ml_l = randomForest,\n",
    "                                 ml_m = randomForest_class,\n",
    "                                 n_folds = 5)\n",
    "dml_plr_forest.fit(store_predictions=True)\n",
    "forest_summary = dml_plr_forest.summary\n",
    "\n",
    "forest_summary"
   ]
  },
  {
   "cell_type": "code",
   "execution_count": 10,
   "metadata": {},
   "outputs": [],
   "source": [
    "# Random Forest - no splitting\n",
    "\n",
    "np.random.seed(42)\n",
    "dml_plr_forest = dml.DoubleMLPLR(dml_data_base,\n",
    "                                 ml_l = randomForest,\n",
    "                                 ml_m = randomForest_class,\n",
    "                                 n_folds = 1)\n",
    "dml_plr_forest.fit(store_predictions=True)\n",
    "forest_summary_nospl = dml_plr_forest.summary"
   ]
  },
  {
   "cell_type": "code",
   "execution_count": 11,
   "metadata": {},
   "outputs": [
    {
     "data": {
      "text/html": [
       "<div>\n",
       "<style scoped>\n",
       "    .dataframe tbody tr th:only-of-type {\n",
       "        vertical-align: middle;\n",
       "    }\n",
       "\n",
       "    .dataframe tbody tr th {\n",
       "        vertical-align: top;\n",
       "    }\n",
       "\n",
       "    .dataframe thead th {\n",
       "        text-align: right;\n",
       "    }\n",
       "</style>\n",
       "<table border=\"1\" class=\"dataframe\">\n",
       "  <thead>\n",
       "    <tr style=\"text-align: right;\">\n",
       "      <th></th>\n",
       "      <th>coef</th>\n",
       "      <th>std err</th>\n",
       "      <th>t</th>\n",
       "      <th>P&gt;|t|</th>\n",
       "      <th>2.5 %</th>\n",
       "      <th>97.5 %</th>\n",
       "    </tr>\n",
       "  </thead>\n",
       "  <tbody>\n",
       "    <tr>\n",
       "      <th>e401</th>\n",
       "      <td>8598.748862</td>\n",
       "      <td>1334.712041</td>\n",
       "      <td>6.4424</td>\n",
       "      <td>1.175988e-10</td>\n",
       "      <td>5982.761332</td>\n",
       "      <td>11214.736392</td>\n",
       "    </tr>\n",
       "  </tbody>\n",
       "</table>\n",
       "</div>"
      ],
      "text/plain": [
       "             coef      std err       t         P>|t|        2.5 %  \\\n",
       "e401  8598.748862  1334.712041  6.4424  1.175988e-10  5982.761332   \n",
       "\n",
       "            97.5 %  \n",
       "e401  11214.736392  "
      ]
     },
     "execution_count": 11,
     "metadata": {},
     "output_type": "execute_result"
    }
   ],
   "source": [
    "# Boosted Trees\n",
    "boost = XGBRegressor(n_jobs=1, objective = \"reg:squarederror\",\n",
    "                     eta=0.1, n_estimators=35)\n",
    "boost_class = XGBClassifier(use_label_encoder=False, n_jobs=1,\n",
    "                            objective = \"binary:logistic\", eval_metric = \"logloss\",\n",
    "                            eta=0.1, n_estimators=34)\n",
    "\n",
    "np.random.seed(42)\n",
    "dml_plr_boost = dml.DoubleMLPLR(dml_data_base,\n",
    "                                ml_l = boost,\n",
    "                                ml_m = boost_class,\n",
    "                                n_folds = 5)\n",
    "dml_plr_boost.fit(store_predictions=True)\n",
    "boost_summary = dml_plr_boost.summary\n",
    "\n",
    "boost_summary"
   ]
  },
  {
   "cell_type": "code",
   "execution_count": 12,
   "metadata": {},
   "outputs": [],
   "source": [
    "np.random.seed(42)\n",
    "dml_plr_boost = dml.DoubleMLPLR(dml_data_base,\n",
    "                                ml_l = boost,\n",
    "                                ml_m = boost_class,\n",
    "                                n_folds = 1)\n",
    "dml_plr_boost.fit(store_predictions=True)\n",
    "boost_summary_nospl = dml_plr_boost.summary"
   ]
  },
  {
   "cell_type": "code",
   "execution_count": 13,
   "metadata": {},
   "outputs": [
    {
     "data": {
      "text/html": [
       "<div>\n",
       "<style scoped>\n",
       "    .dataframe tbody tr th:only-of-type {\n",
       "        vertical-align: middle;\n",
       "    }\n",
       "\n",
       "    .dataframe tbody tr th {\n",
       "        vertical-align: top;\n",
       "    }\n",
       "\n",
       "    .dataframe thead th {\n",
       "        text-align: right;\n",
       "    }\n",
       "</style>\n",
       "<table border=\"1\" class=\"dataframe\">\n",
       "  <thead>\n",
       "    <tr style=\"text-align: right;\">\n",
       "      <th></th>\n",
       "      <th>coef</th>\n",
       "      <th>2.5 %</th>\n",
       "      <th>97.5 %</th>\n",
       "    </tr>\n",
       "  </thead>\n",
       "  <tbody>\n",
       "    <tr>\n",
       "      <th>Base Lasso</th>\n",
       "      <td>5760.3</td>\n",
       "      <td>3072.7</td>\n",
       "      <td>8447.9</td>\n",
       "    </tr>\n",
       "    <tr>\n",
       "      <th>Flexible Lasso</th>\n",
       "      <td>9400.0</td>\n",
       "      <td>6785.7</td>\n",
       "      <td>12014.3</td>\n",
       "    </tr>\n",
       "    <tr>\n",
       "      <th>Flexible Lasso - no split</th>\n",
       "      <td>9385.3</td>\n",
       "      <td>6881.6</td>\n",
       "      <td>11889.0</td>\n",
       "    </tr>\n",
       "    <tr>\n",
       "      <th>Forest</th>\n",
       "      <td>8966.0</td>\n",
       "      <td>6399.1</td>\n",
       "      <td>11532.8</td>\n",
       "    </tr>\n",
       "    <tr>\n",
       "      <th>Forest - no split</th>\n",
       "      <td>8751.8</td>\n",
       "      <td>6394.1</td>\n",
       "      <td>11109.6</td>\n",
       "    </tr>\n",
       "    <tr>\n",
       "      <th>XGB</th>\n",
       "      <td>8598.7</td>\n",
       "      <td>5982.8</td>\n",
       "      <td>11214.7</td>\n",
       "    </tr>\n",
       "    <tr>\n",
       "      <th>XGB - no split</th>\n",
       "      <td>8550.9</td>\n",
       "      <td>6508.1</td>\n",
       "      <td>10593.6</td>\n",
       "    </tr>\n",
       "  </tbody>\n",
       "</table>\n",
       "</div>"
      ],
      "text/plain": [
       "                             coef   2.5 %   97.5 %\n",
       "Base Lasso                 5760.3  3072.7   8447.9\n",
       "Flexible Lasso             9400.0  6785.7  12014.3\n",
       "Flexible Lasso - no split  9385.3  6881.6  11889.0\n",
       "Forest                     8966.0  6399.1  11532.8\n",
       "Forest - no split          8751.8  6394.1  11109.6\n",
       "XGB                        8598.7  5982.8  11214.7\n",
       "XGB - no split             8550.9  6508.1  10593.6"
      ]
     },
     "execution_count": 13,
     "metadata": {},
     "output_type": "execute_result"
    }
   ],
   "source": [
    "plr_summary = pd.concat((lasso_base ,lasso_summary, lasso_summary_nospl, forest_summary, forest_summary_nospl, boost_summary, boost_summary_nospl))\n",
    "plr_summary.index = ['Base Lasso','Flexible Lasso', 'Flexible Lasso - no split', 'Forest', 'Forest - no split', 'XGB', 'XGB - no split']\n",
    "plr_summary[['coef', '2.5 %', '97.5 %']].round(1)"
   ]
  },
  {
   "cell_type": "markdown",
   "metadata": {},
   "source": [
    "From the base Lasso model and the linear regression, the DML models appear to put a much higher weight on the effect of 401(k) eligibility on net financial asset. Assuming that 401(k) eligibility is in fact exogenous after controlling for X in the above partially linear models, we can conclude that the effect is around \\$9,000 rather than the linear estimate of just below \\$6,000.\n",
    "\n",
    "Oddly enough removing the sample splits does not significantly alter the conclusions. Yet, as can be seen from the large difference in policy outcome $\\alpha_0$ from the linear model to the ML models, the nuisance function $g_0(X)$ does in fact seem non-linear. It might simply be that the number of parameters then, relative to the number of observations is low enough for the models to get a (relatively) unbiased estimate of the treatment effect without cross-fitting. Note however, that all three models are biased downwards towards the linear model when one removes the cross-fitting."
   ]
  }
 ],
 "metadata": {
  "kernelspec": {
   "display_name": "Python 3 (ipykernel)",
   "language": "python",
   "name": "python3"
  },
  "language_info": {
   "codemirror_mode": {
    "name": "ipython",
    "version": 3
   },
   "file_extension": ".py",
   "mimetype": "text/x-python",
   "name": "python",
   "nbconvert_exporter": "python",
   "pygments_lexer": "ipython3",
   "version": "3.9.12"
  },
  "vscode": {
   "interpreter": {
    "hash": "25ab3d10a1a60c8bc358e76931a1a3a18a76491858f5b01beb494267098a7166"
   }
  }
 },
 "nbformat": 4,
 "nbformat_minor": 4
}
