{
 "cells": [
  {
   "cell_type": "markdown",
   "metadata": {},
   "source": [
    "# Econometrics of Big Data Final Problem Part B\n",
    "*by Christian Stolborg*\n",
    "\n",
    "*15-07-2022*"
   ]
  },
  {
   "cell_type": "markdown",
   "metadata": {},
   "source": [
    "## Data preparation"
   ]
  },
  {
   "cell_type": "code",
   "execution_count": 48,
   "metadata": {},
   "outputs": [],
   "source": [
    "import warnings\n",
    "\n",
    "import numpy as np\n",
    "import pandas as pd\n",
    "from scipy import stats\n",
    "import statsmodels.api as sm\n",
    "import doubleml as dml\n",
    "\n",
    "from sklearn.preprocessing import PolynomialFeatures\n",
    "from sklearn.linear_model import LassoCV, LogisticRegressionCV\n",
    "from sklearn.ensemble import RandomForestClassifier, RandomForestRegressor\n",
    "from sklearn.tree import DecisionTreeClassifier, DecisionTreeRegressor\n",
    "from sklearn.preprocessing import StandardScaler\n",
    "from sklearn.pipeline import make_pipeline\n",
    "\n",
    "from xgboost import XGBClassifier, XGBRegressor\n",
    "\n",
    "import matplotlib.pyplot as plt\n",
    "import seaborn as sns\n",
    "\n",
    "\n",
    "warnings.filterwarnings('ignore')"
   ]
  },
  {
   "cell_type": "code",
   "execution_count": 3,
   "metadata": {},
   "outputs": [
    {
     "data": {
      "text/html": [
       "<div>\n",
       "<style scoped>\n",
       "    .dataframe tbody tr th:only-of-type {\n",
       "        vertical-align: middle;\n",
       "    }\n",
       "\n",
       "    .dataframe tbody tr th {\n",
       "        vertical-align: top;\n",
       "    }\n",
       "\n",
       "    .dataframe thead th {\n",
       "        text-align: right;\n",
       "    }\n",
       "</style>\n",
       "<table border=\"1\" class=\"dataframe\">\n",
       "  <thead>\n",
       "    <tr style=\"text-align: right;\">\n",
       "      <th></th>\n",
       "      <th>net_tfa</th>\n",
       "      <th>age</th>\n",
       "      <th>inc</th>\n",
       "      <th>fsize</th>\n",
       "      <th>educ</th>\n",
       "      <th>db</th>\n",
       "      <th>marr</th>\n",
       "      <th>twoearn</th>\n",
       "      <th>e401</th>\n",
       "      <th>p401</th>\n",
       "      <th>pira</th>\n",
       "      <th>hown</th>\n",
       "    </tr>\n",
       "  </thead>\n",
       "  <tbody>\n",
       "    <tr>\n",
       "      <th>0</th>\n",
       "      <td>0</td>\n",
       "      <td>47</td>\n",
       "      <td>6765</td>\n",
       "      <td>2</td>\n",
       "      <td>8</td>\n",
       "      <td>0</td>\n",
       "      <td>0</td>\n",
       "      <td>0</td>\n",
       "      <td>0</td>\n",
       "      <td>0</td>\n",
       "      <td>0</td>\n",
       "      <td>1</td>\n",
       "    </tr>\n",
       "    <tr>\n",
       "      <th>1</th>\n",
       "      <td>1015</td>\n",
       "      <td>36</td>\n",
       "      <td>28452</td>\n",
       "      <td>1</td>\n",
       "      <td>16</td>\n",
       "      <td>0</td>\n",
       "      <td>0</td>\n",
       "      <td>0</td>\n",
       "      <td>0</td>\n",
       "      <td>0</td>\n",
       "      <td>0</td>\n",
       "      <td>1</td>\n",
       "    </tr>\n",
       "  </tbody>\n",
       "</table>\n",
       "</div>"
      ],
      "text/plain": [
       "   net_tfa  age    inc  fsize  educ  db  marr  twoearn  e401  p401  pira  hown\n",
       "0        0   47   6765      2     8   0     0        0     0     0     0     1\n",
       "1     1015   36  28452      1    16   0     0        0     0     0     0     1"
      ]
     },
     "execution_count": 3,
     "metadata": {},
     "output_type": "execute_result"
    }
   ],
   "source": [
    "df = pd.read_csv(\"./data/401ksubs.csv\")\n",
    "\n",
    "# From DoubleML docs - need to convert to float due to sklearn issue https://github.com/scikit-learn/scikit-learn/issues/21997\n",
    "dtypes = df.dtypes\n",
    "dtypes['nifa'] = 'float64'\n",
    "dtypes['net_tfa'] = 'float64'\n",
    "dtypes['tw'] = 'float64'\n",
    "dtypes['inc'] = 'float64'\n",
    "df = df.astype(dtypes)\n",
    "\n",
    "X_cols = \"age,inc,fsize,educ,db,marr,twoearn,pira,hown\".split(\",\")\n",
    "df.head(2)"
   ]
  },
  {
   "cell_type": "markdown",
   "metadata": {},
   "source": [
    "### (i)\n",
    "\n",
    "The problem of estimating the policy effect ($D$) of 401(k) eligibility on net financial assets ($Y$) with only 9 control variables ($X$) becomes a high-dimensional problem when either $Y$ or $D$ is functionally related to $X$ in a way that is not linear in $X$. For example, through higher-order terms, interactions or additional unobservable variables. In this model, enrollment into a 401(k) plan is not random and it is highly likely that net financial assets is affected by households' heterogeneity in saving preferences. Hence, we should believe that both $Y$ and $D$ are partly determined by other factors such as those present in $X$. However, the relationship between $Y$, $D$ and $X$ could very well be a non-linear relationship. Exploring whether this is the case can be done in a data-driven way with double machine learning methods."
   ]
  },
  {
   "cell_type": "markdown",
   "metadata": {},
   "source": [
    "### (ii)\n",
    "\n"
   ]
  },
  {
   "cell_type": "code",
   "execution_count": 33,
   "metadata": {},
   "outputs": [
    {
     "data": {
      "text/html": [
       "<table class=\"simpletable\">\n",
       "<tr>\n",
       "     <td></td>        <th>coef</th>     <th>std err</th>      <th>t</th>      <th>P>|t|</th>  <th>[0.025</th>    <th>0.975]</th>  \n",
       "</tr>\n",
       "<tr>\n",
       "  <th>const</th>   <td>-3.291e+04</td> <td> 4276.223</td> <td>   -7.695</td> <td> 0.000</td> <td>-4.13e+04</td> <td>-2.45e+04</td>\n",
       "</tr>\n",
       "<tr>\n",
       "  <th>e401</th>    <td> 5896.1984</td> <td> 1250.014</td> <td>    4.717</td> <td> 0.000</td> <td> 3445.917</td> <td> 8346.480</td>\n",
       "</tr>\n",
       "<tr>\n",
       "  <th>age</th>     <td>  624.1455</td> <td>   59.521</td> <td>   10.486</td> <td> 0.000</td> <td>  507.472</td> <td>  740.819</td>\n",
       "</tr>\n",
       "<tr>\n",
       "  <th>inc</th>     <td>    0.9357</td> <td>    0.030</td> <td>   30.982</td> <td> 0.000</td> <td>    0.876</td> <td>    0.995</td>\n",
       "</tr>\n",
       "<tr>\n",
       "  <th>fsize</th>   <td>-1018.7979</td> <td>  449.859</td> <td>   -2.265</td> <td> 0.024</td> <td>-1900.614</td> <td> -136.982</td>\n",
       "</tr>\n",
       "<tr>\n",
       "  <th>educ</th>    <td> -639.7538</td> <td>  228.499</td> <td>   -2.800</td> <td> 0.005</td> <td>-1087.659</td> <td> -191.848</td>\n",
       "</tr>\n",
       "<tr>\n",
       "  <th>db</th>      <td>-4904.5684</td> <td> 1359.098</td> <td>   -3.609</td> <td> 0.000</td> <td>-7568.677</td> <td>-2240.460</td>\n",
       "</tr>\n",
       "<tr>\n",
       "  <th>marr</th>    <td>  743.3445</td> <td> 1795.556</td> <td>    0.414</td> <td> 0.679</td> <td>-2776.310</td> <td> 4262.999</td>\n",
       "</tr>\n",
       "<tr>\n",
       "  <th>twoearn</th> <td>-1.923e+04</td> <td> 1576.431</td> <td>  -12.196</td> <td> 0.000</td> <td>-2.23e+04</td> <td>-1.61e+04</td>\n",
       "</tr>\n",
       "<tr>\n",
       "  <th>pira</th>    <td> 2.953e+04</td> <td> 1465.830</td> <td>   20.148</td> <td> 0.000</td> <td> 2.67e+04</td> <td> 3.24e+04</td>\n",
       "</tr>\n",
       "<tr>\n",
       "  <th>hown</th>    <td> 1185.2564</td> <td> 1323.687</td> <td>    0.895</td> <td> 0.371</td> <td>-1409.439</td> <td> 3779.952</td>\n",
       "</tr>\n",
       "</table>"
      ],
      "text/plain": [
       "<class 'statsmodels.iolib.table.SimpleTable'>"
      ]
     },
     "execution_count": 33,
     "metadata": {},
     "output_type": "execute_result"
    }
   ],
   "source": [
    "X = df[[\"e401\"]+X_cols]\n",
    "X = sm.add_constant(X)\n",
    "y = df[\"net_tfa\"]\n",
    "\n",
    "model = sm.OLS(y, X).fit()\n",
    "model.summary().tables[1]"
   ]
  },
  {
   "cell_type": "markdown",
   "metadata": {},
   "source": [
    "Estimating $net_tfa = \\alpha_0 e401 + \\beta'X + \\epsilon$ I find that $\\alpha_0= 5896$ with a standard error of $1250$. Thus, in the linear model, 401(k) eligibility corresponds to an increase in net financial assets of almost \\$6,000"
   ]
  },
  {
   "cell_type": "markdown",
   "metadata": {},
   "source": [
    "### (iii)\n",
    "\n",
    "I now repeat the analysis using double machine learning, allowing for non-linear nuisance functions."
   ]
  },
  {
   "cell_type": "code",
   "execution_count": 37,
   "metadata": {},
   "outputs": [],
   "source": [
    "dml_data_base = DoubleMLData(df,\n",
    "                        y_col='net_tfa',\n",
    "                        d_cols='e401',\n",
    "                        x_cols=X_cols)"
   ]
  },
  {
   "cell_type": "code",
   "execution_count": 90,
   "metadata": {},
   "outputs": [
    {
     "name": "stdout",
     "output_type": "stream",
     "text": [
      "Shape of flexible data model: (9915, 163)\n"
     ]
    }
   ],
   "source": [
    "def nl_transform(data, features: str) -> pd.DataFrame:\n",
    "    \"\"\" Perform non-linear transformation on features in data \"\"\"\n",
    "    features = data.copy()[features]\n",
    "\n",
    "    # Add polynomials\n",
    "    poly_dict = {'age': 2,\n",
    "                'inc': 2,\n",
    "                'educ': 2,\n",
    "                'fsize': 2}\n",
    "\n",
    "    for key, degree in poly_dict.items():\n",
    "        poly = PolynomialFeatures(degree, include_bias=False)\n",
    "        data_transf = poly.fit_transform(data[[key]])\n",
    "        x_cols = poly.get_feature_names_out([key])\n",
    "        data_transf = pd.DataFrame(data_transf, columns=x_cols)\n",
    "\n",
    "        features = pd.concat((features, data_transf),\n",
    "                            axis=1, sort=False)\n",
    "\n",
    "    # Add interaction terms\n",
    "    cols = features.columns\n",
    "    for col1 in cols:\n",
    "        for col2 in cols:\n",
    "            c1 = col1.strip(\"^23\")\n",
    "            c2 = col2.strip(\"^23\")\n",
    "            if c1 != c2:\n",
    "                features[col1+\"_\"+col2] = features[col1] * features[col2]\n",
    "\n",
    "    model_data = pd.concat((data.copy()[['net_tfa', 'e401']], features.copy()),\n",
    "                            axis=1, sort=False)\n",
    "\n",
    "    return model_data\n",
    "\n",
    "model_data = nl_transform(df, features=['marr', 'twoearn', 'db', 'pira', 'hown'])\n",
    "print(f\"Shape of flexible data model: {model_data.shape}\")\n",
    "\n",
    "\n",
    "# Initialize DoubleMLData (data-backend of DoubleML)\n",
    "dml_data_flex = dml.DoubleMLData(model_data, y_col='net_tfa', d_cols='e401')"
   ]
  },
  {
   "cell_type": "code",
   "execution_count": 91,
   "metadata": {},
   "outputs": [
    {
     "data": {
      "text/html": [
       "<div>\n",
       "<style scoped>\n",
       "    .dataframe tbody tr th:only-of-type {\n",
       "        vertical-align: middle;\n",
       "    }\n",
       "\n",
       "    .dataframe tbody tr th {\n",
       "        vertical-align: top;\n",
       "    }\n",
       "\n",
       "    .dataframe thead th {\n",
       "        text-align: right;\n",
       "    }\n",
       "</style>\n",
       "<table border=\"1\" class=\"dataframe\">\n",
       "  <thead>\n",
       "    <tr style=\"text-align: right;\">\n",
       "      <th></th>\n",
       "      <th>coef</th>\n",
       "      <th>std err</th>\n",
       "      <th>t</th>\n",
       "      <th>P&gt;|t|</th>\n",
       "      <th>2.5 %</th>\n",
       "      <th>97.5 %</th>\n",
       "    </tr>\n",
       "  </thead>\n",
       "  <tbody>\n",
       "    <tr>\n",
       "      <th>e401</th>\n",
       "      <td>5722.476521</td>\n",
       "      <td>1380.619334</td>\n",
       "      <td>4.144862</td>\n",
       "      <td>0.000034</td>\n",
       "      <td>3016.512351</td>\n",
       "      <td>8428.440692</td>\n",
       "    </tr>\n",
       "  </tbody>\n",
       "</table>\n",
       "</div>"
      ],
      "text/plain": [
       "             coef      std err         t     P>|t|        2.5 %       97.5 %\n",
       "e401  5722.476521  1380.619334  4.144862  0.000034  3016.512351  8428.440692"
      ]
     },
     "execution_count": 91,
     "metadata": {},
     "output_type": "execute_result"
    }
   ],
   "source": [
    "# Initialize learners\n",
    "Cs = 0.0001*np.logspace(0, 4, 10)\n",
    "lasso = make_pipeline(StandardScaler(), LassoCV(cv=5, max_iter=10000))\n",
    "lasso_class = make_pipeline(StandardScaler(),\n",
    "                            LogisticRegressionCV(cv=5, penalty='l1', solver='liblinear',\n",
    "                                                 Cs = Cs, max_iter=1000))\n",
    "\n",
    "np.random.seed(123)\n",
    "# Initialize DoubleMLPLR model\n",
    "dml_plr_lasso = dml.DoubleMLPLR(dml_data_base,\n",
    "                                ml_l = lasso,\n",
    "                                ml_m = lasso_class,\n",
    "                                n_folds = 3)\n",
    "\n",
    "dml_plr_lasso.fit(store_predictions=True)\n",
    "dml_plr_lasso.summary"
   ]
  },
  {
   "cell_type": "code",
   "execution_count": 92,
   "metadata": {},
   "outputs": [
    {
     "data": {
      "text/html": [
       "<div>\n",
       "<style scoped>\n",
       "    .dataframe tbody tr th:only-of-type {\n",
       "        vertical-align: middle;\n",
       "    }\n",
       "\n",
       "    .dataframe tbody tr th {\n",
       "        vertical-align: top;\n",
       "    }\n",
       "\n",
       "    .dataframe thead th {\n",
       "        text-align: right;\n",
       "    }\n",
       "</style>\n",
       "<table border=\"1\" class=\"dataframe\">\n",
       "  <thead>\n",
       "    <tr style=\"text-align: right;\">\n",
       "      <th></th>\n",
       "      <th>coef</th>\n",
       "      <th>std err</th>\n",
       "      <th>t</th>\n",
       "      <th>P&gt;|t|</th>\n",
       "      <th>2.5 %</th>\n",
       "      <th>97.5 %</th>\n",
       "    </tr>\n",
       "  </thead>\n",
       "  <tbody>\n",
       "    <tr>\n",
       "      <th>e401</th>\n",
       "      <td>9295.923313</td>\n",
       "      <td>1367.652263</td>\n",
       "      <td>6.796993</td>\n",
       "      <td>1.068250e-11</td>\n",
       "      <td>6615.374134</td>\n",
       "      <td>11976.472492</td>\n",
       "    </tr>\n",
       "  </tbody>\n",
       "</table>\n",
       "</div>"
      ],
      "text/plain": [
       "             coef      std err         t         P>|t|        2.5 %  \\\n",
       "e401  9295.923313  1367.652263  6.796993  1.068250e-11  6615.374134   \n",
       "\n",
       "            97.5 %  \n",
       "e401  11976.472492  "
      ]
     },
     "execution_count": 92,
     "metadata": {},
     "output_type": "execute_result"
    }
   ],
   "source": [
    "# Estimate the ATE in the flexible model with lasso\n",
    "np.random.seed(123)\n",
    "dml_plr_lasso = dml.DoubleMLPLR(dml_data_flex,\n",
    "                                ml_l = lasso,\n",
    "                                ml_m = lasso_class,\n",
    "                                n_folds = 3)\n",
    "\n",
    "dml_plr_lasso.fit(store_predictions=True)\n",
    "lasso_summary = dml_plr_lasso.summary\n",
    "\n",
    "lasso_summary"
   ]
  },
  {
   "cell_type": "code",
   "execution_count": null,
   "metadata": {},
   "outputs": [],
   "source": []
  }
 ],
 "metadata": {
  "kernelspec": {
   "display_name": "Python 3.9.12 ('.venv': venv)",
   "language": "python",
   "name": "python3"
  },
  "language_info": {
   "codemirror_mode": {
    "name": "ipython",
    "version": 3
   },
   "file_extension": ".py",
   "mimetype": "text/x-python",
   "name": "python",
   "nbconvert_exporter": "python",
   "pygments_lexer": "ipython3",
   "version": "3.9.12"
  },
  "orig_nbformat": 4,
  "vscode": {
   "interpreter": {
    "hash": "25ab3d10a1a60c8bc358e76931a1a3a18a76491858f5b01beb494267098a7166"
   }
  }
 },
 "nbformat": 4,
 "nbformat_minor": 2
}
