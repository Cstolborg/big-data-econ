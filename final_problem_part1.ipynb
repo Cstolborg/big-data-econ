{
 "cells": [
  {
   "cell_type": "code",
   "execution_count": 1,
   "id": "69b2d0ba-ec76-447c-b0c3-2e1225959fb5",
   "metadata": {},
   "outputs": [],
   "source": [
    "using MLJ, DataFrames, CSV\n",
    "import Logging\n",
    "\n",
    "Logging.disable_logging(Logging.LogLevel(999));  # Disable info logs, but keep warnings"
   ]
  },
  {
   "cell_type": "code",
   "execution_count": 2,
   "id": "21b99994-54cf-4a1d-8a0a-9dfe53bbc302",
   "metadata": {},
   "outputs": [
    {
     "data": {
      "text/html": [
       "<div class=\"data-frame\"><p>5 rows × 12 columns (omitted printing of 1 columns)</p><table class=\"data-frame\"><thead><tr><th></th><th>net_tfa</th><th>age</th><th>inc</th><th>fsize</th><th>educ</th><th>db</th><th>marr</th><th>twoearn</th><th>e401</th><th>p401</th><th>pira</th></tr><tr><th></th><th title=\"Int64\">Int64</th><th title=\"Int64\">Int64</th><th title=\"Int64\">Int64</th><th title=\"Int64\">Int64</th><th title=\"Int64\">Int64</th><th title=\"Int64\">Int64</th><th title=\"Int64\">Int64</th><th title=\"Int64\">Int64</th><th title=\"Int64\">Int64</th><th title=\"Int64\">Int64</th><th title=\"Int64\">Int64</th></tr></thead><tbody><tr><th>1</th><td>0</td><td>47</td><td>6765</td><td>2</td><td>8</td><td>0</td><td>0</td><td>0</td><td>0</td><td>0</td><td>0</td></tr><tr><th>2</th><td>1015</td><td>36</td><td>28452</td><td>1</td><td>16</td><td>0</td><td>0</td><td>0</td><td>0</td><td>0</td><td>0</td></tr><tr><th>3</th><td>-2000</td><td>37</td><td>3300</td><td>6</td><td>12</td><td>1</td><td>0</td><td>0</td><td>0</td><td>0</td><td>0</td></tr><tr><th>4</th><td>15000</td><td>58</td><td>52590</td><td>2</td><td>16</td><td>0</td><td>1</td><td>1</td><td>0</td><td>0</td><td>0</td></tr><tr><th>5</th><td>0</td><td>32</td><td>21804</td><td>1</td><td>11</td><td>0</td><td>0</td><td>0</td><td>0</td><td>0</td><td>0</td></tr></tbody></table></div>"
      ],
      "text/latex": [
       "\\begin{tabular}{r|cccccccccccc}\n",
       "\t& net\\_tfa & age & inc & fsize & educ & db & marr & twoearn & e401 & p401 & pira & \\\\\n",
       "\t\\hline\n",
       "\t& Int64 & Int64 & Int64 & Int64 & Int64 & Int64 & Int64 & Int64 & Int64 & Int64 & Int64 & \\\\\n",
       "\t\\hline\n",
       "\t1 & 0 & 47 & 6765 & 2 & 8 & 0 & 0 & 0 & 0 & 0 & 0 & $\\dots$ \\\\\n",
       "\t2 & 1015 & 36 & 28452 & 1 & 16 & 0 & 0 & 0 & 0 & 0 & 0 & $\\dots$ \\\\\n",
       "\t3 & -2000 & 37 & 3300 & 6 & 12 & 1 & 0 & 0 & 0 & 0 & 0 & $\\dots$ \\\\\n",
       "\t4 & 15000 & 58 & 52590 & 2 & 16 & 0 & 1 & 1 & 0 & 0 & 0 & $\\dots$ \\\\\n",
       "\t5 & 0 & 32 & 21804 & 1 & 11 & 0 & 0 & 0 & 0 & 0 & 0 & $\\dots$ \\\\\n",
       "\\end{tabular}\n"
      ],
      "text/plain": [
       "\u001b[1m5×12 DataFrame\u001b[0m\n",
       "\u001b[1m Row \u001b[0m│\u001b[1m net_tfa \u001b[0m\u001b[1m age   \u001b[0m\u001b[1m inc   \u001b[0m\u001b[1m fsize \u001b[0m\u001b[1m educ  \u001b[0m\u001b[1m db    \u001b[0m\u001b[1m marr  \u001b[0m\u001b[1m twoearn \u001b[0m\u001b[1m e401  \u001b[0m\u001b[1m p401\u001b[0m ⋯\n",
       "\u001b[1m     \u001b[0m│\u001b[90m Int64   \u001b[0m\u001b[90m Int64 \u001b[0m\u001b[90m Int64 \u001b[0m\u001b[90m Int64 \u001b[0m\u001b[90m Int64 \u001b[0m\u001b[90m Int64 \u001b[0m\u001b[90m Int64 \u001b[0m\u001b[90m Int64   \u001b[0m\u001b[90m Int64 \u001b[0m\u001b[90m Int6\u001b[0m ⋯\n",
       "─────┼──────────────────────────────────────────────────────────────────────────\n",
       "   1 │       0     47   6765      2      8      0      0        0      0       ⋯\n",
       "   2 │    1015     36  28452      1     16      0      0        0      0\n",
       "   3 │   -2000     37   3300      6     12      1      0        0      0\n",
       "   4 │   15000     58  52590      2     16      0      1        1      0\n",
       "   5 │       0     32  21804      1     11      0      0        0      0       ⋯\n",
       "\u001b[36m                                                               3 columns omitted\u001b[0m"
      ]
     },
     "metadata": {},
     "output_type": "display_data"
    }
   ],
   "source": [
    "df = CSV.read(\"./data/401ksubs.csv\", DataFrame)\n",
    "#coerce!(df, Count => Continuous)\n",
    "first(df, 5)"
   ]
  },
  {
   "cell_type": "code",
   "execution_count": 3,
   "id": "8627a995-7138-4f03-b74c-ab4217aa4d49",
   "metadata": {},
   "outputs": [],
   "source": [
    "#describe(df)"
   ]
  },
  {
   "cell_type": "markdown",
   "id": "e3385f12-118f-4b84-b186-1619fefc2db0",
   "metadata": {},
   "source": [
    "# Part A\n",
    "\n",
    "Transformations"
   ]
  },
  {
   "cell_type": "code",
   "execution_count": 4,
   "id": "ce41b18c-88ad-4572-a1ca-68c1d9c6d91b",
   "metadata": {},
   "outputs": [
    {
     "name": "stdout",
     "output_type": "stream",
     "text": [
      "┌─────────┬───────────────┬─────────────────────────────────┐\n",
      "│\u001b[1m names   \u001b[0m│\u001b[1m scitypes      \u001b[0m│\u001b[1m types                           \u001b[0m│\n",
      "│\u001b[90m Symbol  \u001b[0m│\u001b[90m Type          \u001b[0m│\u001b[90m Type                            \u001b[0m│\n",
      "│\u001b[90m Unknown \u001b[0m│\u001b[90m Unknown       \u001b[0m│\u001b[90m Unknown                         \u001b[0m│\n",
      "├─────────┼───────────────┼─────────────────────────────────┤\n",
      "│ net_tfa │ Continuous    │ Float64                         │\n",
      "│ age     │ Continuous    │ Float64                         │\n",
      "│ inc     │ Continuous    │ Float64                         │\n",
      "│ fsize   │ Continuous    │ Float64                         │\n",
      "│ educ    │ Continuous    │ Float64                         │\n",
      "│ db      │ Multiclass{2} │ CategoricalValue{Int64, UInt32} │\n",
      "│ marr    │ Multiclass{2} │ CategoricalValue{Int64, UInt32} │\n",
      "│ twoearn │ Multiclass{2} │ CategoricalValue{Int64, UInt32} │\n",
      "│ e401    │ Multiclass{2} │ CategoricalValue{Int64, UInt32} │\n",
      "│ p401    │ Multiclass{2} │ CategoricalValue{Int64, UInt32} │\n",
      "│ pira    │ Multiclass{2} │ CategoricalValue{Int64, UInt32} │\n",
      "│ hown    │ Multiclass{2} │ CategoricalValue{Int64, UInt32} │\n",
      "└─────────┴───────────────┴─────────────────────────────────┘\n"
     ]
    }
   ],
   "source": [
    "# Get correct types\n",
    "df[!, 1:5] = coerce(df[!, 1:5], Count => Continuous)\n",
    "df[!, 6:end] = coerce(df[!, 6:end], Count => Multiclass)\n",
    "schema(df) |> pretty"
   ]
  },
  {
   "cell_type": "code",
   "execution_count": 5,
   "id": "3c79e60d-9980-4280-b3cd-f85138135551",
   "metadata": {},
   "outputs": [
    {
     "name": "stdout",
     "output_type": "stream",
     "text": [
      "Size of X = (6000, 9)\n"
     ]
    },
    {
     "data": {
      "text/html": [
       "<div class=\"data-frame\"><p>4 rows × 9 columns</p><table class=\"data-frame\"><thead><tr><th></th><th>age</th><th>inc</th><th>fsize</th><th>educ</th><th>db</th><th>marr</th><th>twoearn</th><th>pira</th><th>hown</th></tr><tr><th></th><th title=\"Float64\">Float64</th><th title=\"Float64\">Float64</th><th title=\"Float64\">Float64</th><th title=\"Float64\">Float64</th><th title=\"CategoricalArrays.CategoricalValue{Int64, UInt32}\">Cat…</th><th title=\"CategoricalArrays.CategoricalValue{Int64, UInt32}\">Cat…</th><th title=\"CategoricalArrays.CategoricalValue{Int64, UInt32}\">Cat…</th><th title=\"CategoricalArrays.CategoricalValue{Int64, UInt32}\">Cat…</th><th title=\"CategoricalArrays.CategoricalValue{Int64, UInt32}\">Cat…</th></tr></thead><tbody><tr><th>1</th><td>43.0</td><td>47094.0</td><td>4.0</td><td>14.0</td><td>0</td><td>1</td><td>0</td><td>0</td><td>1</td></tr><tr><th>2</th><td>31.0</td><td>30315.0</td><td>4.0</td><td>13.0</td><td>0</td><td>1</td><td>0</td><td>0</td><td>1</td></tr><tr><th>3</th><td>27.0</td><td>38640.0</td><td>2.0</td><td>16.0</td><td>1</td><td>1</td><td>1</td><td>0</td><td>0</td></tr><tr><th>4</th><td>62.0</td><td>13317.0</td><td>1.0</td><td>11.0</td><td>0</td><td>0</td><td>0</td><td>0</td><td>1</td></tr></tbody></table></div>"
      ],
      "text/latex": [
       "\\begin{tabular}{r|ccccccccc}\n",
       "\t& age & inc & fsize & educ & db & marr & twoearn & pira & hown\\\\\n",
       "\t\\hline\n",
       "\t& Float64 & Float64 & Float64 & Float64 & Cat… & Cat… & Cat… & Cat… & Cat…\\\\\n",
       "\t\\hline\n",
       "\t1 & 43.0 & 47094.0 & 4.0 & 14.0 & 0 & 1 & 0 & 0 & 1 \\\\\n",
       "\t2 & 31.0 & 30315.0 & 4.0 & 13.0 & 0 & 1 & 0 & 0 & 1 \\\\\n",
       "\t3 & 27.0 & 38640.0 & 2.0 & 16.0 & 1 & 1 & 1 & 0 & 0 \\\\\n",
       "\t4 & 62.0 & 13317.0 & 1.0 & 11.0 & 0 & 0 & 0 & 0 & 1 \\\\\n",
       "\\end{tabular}\n"
      ],
      "text/plain": [
       "\u001b[1m4×9 DataFrame\u001b[0m\n",
       "\u001b[1m Row \u001b[0m│\u001b[1m age     \u001b[0m\u001b[1m inc     \u001b[0m\u001b[1m fsize   \u001b[0m\u001b[1m educ    \u001b[0m\u001b[1m db   \u001b[0m\u001b[1m marr \u001b[0m\u001b[1m twoearn \u001b[0m\u001b[1m pira \u001b[0m\u001b[1m hown \u001b[0m\n",
       "\u001b[1m     \u001b[0m│\u001b[90m Float64 \u001b[0m\u001b[90m Float64 \u001b[0m\u001b[90m Float64 \u001b[0m\u001b[90m Float64 \u001b[0m\u001b[90m Cat… \u001b[0m\u001b[90m Cat… \u001b[0m\u001b[90m Cat…    \u001b[0m\u001b[90m Cat… \u001b[0m\u001b[90m Cat… \u001b[0m\n",
       "─────┼─────────────────────────────────────────────────────────────────────\n",
       "   1 │    43.0  47094.0      4.0     14.0  0     1     0        0     1\n",
       "   2 │    31.0  30315.0      4.0     13.0  0     1     0        0     1\n",
       "   3 │    27.0  38640.0      2.0     16.0  1     1     1        0     0\n",
       "   4 │    62.0  13317.0      1.0     11.0  0     0     0        0     1"
      ]
     },
     "metadata": {},
     "output_type": "display_data"
    }
   ],
   "source": [
    "frac = 6000 / size(df)[1]  # Fraction of data that equals 6000 obs\n",
    "df, df_test = partition(df, frac, rng=42)\n",
    "\n",
    "X_cols = split(\"age,inc,fsize,educ,db,marr,twoearn,pira,hown\", \",\")\n",
    "X, y = df[!, X_cols], df[!, :net_tfa]\n",
    "println(\"Size of X = \",size(X))\n",
    "first(X, 4)"
   ]
  },
  {
   "cell_type": "markdown",
   "id": "3172bac6-ab3c-49f7-b585-d42b2480d7bf",
   "metadata": {},
   "source": [
    "### 1. Estimate $E[net\\_tfa]$"
   ]
  },
  {
   "cell_type": "code",
   "execution_count": 6,
   "id": "372a7853-1ece-489f-b0a7-04538030b2df",
   "metadata": {},
   "outputs": [
    {
     "data": {
      "text/plain": [
       "18367.1"
      ]
     },
     "metadata": {},
     "output_type": "display_data"
    }
   ],
   "source": [
    "mean(y)"
   ]
  },
  {
   "cell_type": "markdown",
   "id": "638d2f34-61b2-46d5-9667-4027b7c23903",
   "metadata": {},
   "source": [
    "### 2. Using linear regression estimate $E[net\\_tfa|X = \\{age, inc, fsize, educ, db, marr, twoearn, pira, hown\\}]$"
   ]
  },
  {
   "cell_type": "code",
   "execution_count": 7,
   "id": "1bedc9d3-d074-4c65-bc77-8a5acb18e9f1",
   "metadata": {},
   "outputs": [],
   "source": [
    "LinearRegressor = (@load LinearRegressor pkg=MLJLinearModels verbosity=0)()\n",
    "lm_pipe = ContinuousEncoder(drop_last=true) |> LinearRegressor\n",
    "lm = machine(lm_pipe, X, y) |> fit!;"
   ]
  },
  {
   "cell_type": "code",
   "execution_count": 8,
   "id": "542a7ebf-a14c-41d0-ac87-064973e975de",
   "metadata": {},
   "outputs": [
    {
     "name": "stdout",
     "output_type": "stream",
     "text": [
      "Intercept: -30800.0\n",
      "age     :  657.0\n",
      "inc     :  0.991\n",
      "fsize   :  -855.0\n",
      "educ    :  -364.0\n",
      "db__0   :  3540.0\n",
      "marr__0 :  624.0\n",
      "twoearn__0:  18700.0\n",
      "pira__0 :  -27700.0\n",
      "hown__0 :  -1910.0\n"
     ]
    }
   ],
   "source": [
    "# Display model results\n",
    "fp = fitted_params(lm).linear_regressor\n",
    "coefs = fp.coefs\n",
    "intercept = fp.intercept\n",
    "println(\"Intercept: $(round(intercept, sigdigits=3))\")\n",
    "for (name, val) in coefs\n",
    "    println(\"$(rpad(name, 8)):  $(round(val, sigdigits=3))\")\n",
    "end"
   ]
  },
  {
   "cell_type": "markdown",
   "id": "c7928ce2-815d-4a55-8b22-42a9c14867c3",
   "metadata": {},
   "source": [
    "### 3. Lasso"
   ]
  },
  {
   "cell_type": "code",
   "execution_count": 10,
   "id": "32be89d9-531f-466c-81d8-d32de0f9e797",
   "metadata": {},
   "outputs": [
    {
     "name": "stdout",
     "output_type": "stream",
     "text": [
      "import MLJLinearModels ✔\n"
     ]
    },
    {
     "data": {
      "text/plain": [
       "MLJLinearModels.LassoRegressor"
      ]
     },
     "metadata": {},
     "output_type": "display_data"
    }
   ],
   "source": [
    "LassoRegressor = @load LassoRegressor pkg=MLJLinearModels"
   ]
  },
  {
   "cell_type": "code",
   "execution_count": 54,
   "id": "05bfe96c",
   "metadata": {},
   "outputs": [
    {
     "data": {
      "text/plain": [
       "22-element Vector{String}:\n",
       " \"age\"\n",
       " \"inc\"\n",
       " \"fsize\"\n",
       " \"educ\"\n",
       " \"db__0\"\n",
       " \"db__1\"\n",
       " \"marr__0\"\n",
       " \"marr__1\"\n",
       " \"twoearn__0\"\n",
       " \"twoearn__1\"\n",
       " ⋮\n",
       " \"hown__1\"\n",
       " \"age_sq\"\n",
       " \"inc_sq\"\n",
       " \"fsize_sq\"\n",
       " \"educ_sq\"\n",
       " \"age_function\"\n",
       " \"inc_function\"\n",
       " \"fsize_function\"\n",
       " \"educ_function\""
      ]
     },
     "metadata": {},
     "output_type": "display_data"
    }
   ],
   "source": [
    "names(temp)"
   ]
  },
  {
   "cell_type": "code",
   "execution_count": 11,
   "id": "96ded99c-6b17-4b00-8e77-659c3827e641",
   "metadata": {},
   "outputs": [
    {
     "data": {
      "text/html": [
       "<div class=\"data-frame\"><p>3 rows × 85 columns (omitted printing of 75 columns)</p><table class=\"data-frame\"><thead><tr><th></th><th>age</th><th>inc</th><th>fsize</th><th>educ</th><th>db</th><th>marr</th><th>twoearn</th><th>pira</th><th>hown</th><th>age_inc</th></tr><tr><th></th><th title=\"Float64\">Float64</th><th title=\"Float64\">Float64</th><th title=\"Float64\">Float64</th><th title=\"Float64\">Float64</th><th title=\"CategoricalArrays.CategoricalValue{Float64, UInt32}\">Cat…</th><th title=\"CategoricalArrays.CategoricalValue{Float64, UInt32}\">Cat…</th><th title=\"CategoricalArrays.CategoricalValue{Float64, UInt32}\">Cat…</th><th title=\"CategoricalArrays.CategoricalValue{Float64, UInt32}\">Cat…</th><th title=\"CategoricalArrays.CategoricalValue{Float64, UInt32}\">Cat…</th><th title=\"Float64\">Float64</th></tr></thead><tbody><tr><th>1</th><td>43.0</td><td>47094.0</td><td>4.0</td><td>14.0</td><td>1.0</td><td>2.0</td><td>1.0</td><td>1.0</td><td>2.0</td><td>2.02504e6</td></tr><tr><th>2</th><td>31.0</td><td>30315.0</td><td>4.0</td><td>13.0</td><td>1.0</td><td>2.0</td><td>1.0</td><td>1.0</td><td>2.0</td><td>939765.0</td></tr><tr><th>3</th><td>27.0</td><td>38640.0</td><td>2.0</td><td>16.0</td><td>2.0</td><td>2.0</td><td>2.0</td><td>1.0</td><td>1.0</td><td>1.04328e6</td></tr></tbody></table></div>"
      ],
      "text/latex": [
       "\\begin{tabular}{r|ccccccccccc}\n",
       "\t& age & inc & fsize & educ & db & marr & twoearn & pira & hown & age\\_inc & \\\\\n",
       "\t\\hline\n",
       "\t& Float64 & Float64 & Float64 & Float64 & Cat… & Cat… & Cat… & Cat… & Cat… & Float64 & \\\\\n",
       "\t\\hline\n",
       "\t1 & 43.0 & 47094.0 & 4.0 & 14.0 & 1.0 & 2.0 & 1.0 & 1.0 & 2.0 & 2.02504e6 & $\\dots$ \\\\\n",
       "\t2 & 31.0 & 30315.0 & 4.0 & 13.0 & 1.0 & 2.0 & 1.0 & 1.0 & 2.0 & 939765.0 & $\\dots$ \\\\\n",
       "\t3 & 27.0 & 38640.0 & 2.0 & 16.0 & 2.0 & 2.0 & 2.0 & 1.0 & 1.0 & 1.04328e6 & $\\dots$ \\\\\n",
       "\\end{tabular}\n"
      ],
      "text/plain": [
       "\u001b[1m3×85 DataFrame\u001b[0m\n",
       "\u001b[1m Row \u001b[0m│\u001b[1m age     \u001b[0m\u001b[1m inc     \u001b[0m\u001b[1m fsize   \u001b[0m\u001b[1m educ    \u001b[0m\u001b[1m db   \u001b[0m\u001b[1m marr \u001b[0m\u001b[1m twoearn \u001b[0m\u001b[1m pira \u001b[0m\u001b[1m hown \u001b[0m\u001b[1m ag\u001b[0m ⋯\n",
       "\u001b[1m     \u001b[0m│\u001b[90m Float64 \u001b[0m\u001b[90m Float64 \u001b[0m\u001b[90m Float64 \u001b[0m\u001b[90m Float64 \u001b[0m\u001b[90m Cat… \u001b[0m\u001b[90m Cat… \u001b[0m\u001b[90m Cat…    \u001b[0m\u001b[90m Cat… \u001b[0m\u001b[90m Cat… \u001b[0m\u001b[90m Fl\u001b[0m ⋯\n",
       "─────┼──────────────────────────────────────────────────────────────────────────\n",
       "   1 │    43.0  47094.0      4.0     14.0  1.0   2.0   1.0      1.0   2.0      ⋯\n",
       "   2 │    31.0  30315.0      4.0     13.0  1.0   2.0   1.0      1.0   2.0   93\n",
       "   3 │    27.0  38640.0      2.0     16.0  2.0   2.0   2.0      1.0   1.0\n",
       "\u001b[36m                                                              76 columns omitted\u001b[0m"
      ]
     },
     "metadata": {},
     "output_type": "display_data"
    }
   ],
   "source": [
    "\"\"\" Nonlinear transformations of data - take interactions and add higher-order terms \"\"\"\n",
    "function nl_transform(df)\n",
    "    # Take interaction terms of all variables\n",
    "    cols = names(df)\n",
    "    cat_cols = [:db, :marr, :twoearn, :pira, :hown]\n",
    "\n",
    "    # Add a second and third exponent of all numerical columns\n",
    "    num_cols = [:age, :inc, :fsize, :educ]\n",
    "    sq(x) = x.^2\n",
    "    cub(x) = x.^3\n",
    "    for p in [sq, cub]\n",
    "        transform!(df, num_cols .=> p)\n",
    "    end\n",
    "\n",
    "    # Take interaction terms between everything\n",
    "    df[!, cat_cols] = coerce(df[!, cat_cols], Multiclass => Continuous)  # Transform Categorical to Continuous\n",
    "    for col1 in cols\n",
    "        for col2 in cols\n",
    "            c1 = split(col1, \"_\")[1]\n",
    "            c2 = split(col2, \"_\")[1]\n",
    "            if c1 != c2\n",
    "                df[!, col1*\"_\"*col2] = df[!, col1] .* df[!, col2]\n",
    "            end\n",
    "        end\n",
    "    end\n",
    "    \n",
    "    df[!, cat_cols] = coerce(df[!, cat_cols], Continuous => Multiclass)  # Convert back to Categorical type\n",
    "    \n",
    "    return df\n",
    "end\n",
    "   \n",
    "X_flex = copy(X)\n",
    "nl_transform(X_flex)\n",
    "\n",
    "first(X_flex, 3)"
   ]
  },
  {
   "cell_type": "code",
   "execution_count": 12,
   "id": "ac2c9ad9-1498-4265-aece-79a38ce79149",
   "metadata": {},
   "outputs": [
    {
     "data": {
      "text/html": [
       "<div class=\"data-frame\"><p>3 rows × 90 columns (omitted printing of 82 columns)</p><table class=\"data-frame\"><thead><tr><th></th><th>age</th><th>inc</th><th>fsize</th><th>educ</th><th>db__1.0</th><th>db__2.0</th><th>marr__1.0</th><th>marr__2.0</th></tr><tr><th></th><th title=\"Float64\">Float64</th><th title=\"Float64\">Float64</th><th title=\"Float64\">Float64</th><th title=\"Float64\">Float64</th><th title=\"Float64\">Float64</th><th title=\"Float64\">Float64</th><th title=\"Float64\">Float64</th><th title=\"Float64\">Float64</th></tr></thead><tbody><tr><th>1</th><td>0.18438</td><td>0.408248</td><td>0.73133</td><td>0.280414</td><td>1.0</td><td>0.0</td><td>0.0</td><td>1.0</td></tr><tr><th>2</th><td>-0.973723</td><td>-0.267984</td><td>0.73133</td><td>-0.0701765</td><td>1.0</td><td>0.0</td><td>0.0</td><td>1.0</td></tr><tr><th>3</th><td>-1.35976</td><td>0.0675325</td><td>-0.557925</td><td>0.981595</td><td>0.0</td><td>1.0</td><td>0.0</td><td>1.0</td></tr></tbody></table></div>"
      ],
      "text/latex": [
       "\\begin{tabular}{r|ccccccccc}\n",
       "\t& age & inc & fsize & educ & db\\_\\_1.0 & db\\_\\_2.0 & marr\\_\\_1.0 & marr\\_\\_2.0 & \\\\\n",
       "\t\\hline\n",
       "\t& Float64 & Float64 & Float64 & Float64 & Float64 & Float64 & Float64 & Float64 & \\\\\n",
       "\t\\hline\n",
       "\t1 & 0.18438 & 0.408248 & 0.73133 & 0.280414 & 1.0 & 0.0 & 0.0 & 1.0 & $\\dots$ \\\\\n",
       "\t2 & -0.973723 & -0.267984 & 0.73133 & -0.0701765 & 1.0 & 0.0 & 0.0 & 1.0 & $\\dots$ \\\\\n",
       "\t3 & -1.35976 & 0.0675325 & -0.557925 & 0.981595 & 0.0 & 1.0 & 0.0 & 1.0 & $\\dots$ \\\\\n",
       "\\end{tabular}\n"
      ],
      "text/plain": [
       "\u001b[1m3×90 DataFrame\u001b[0m\n",
       "\u001b[1m Row \u001b[0m│\u001b[1m age       \u001b[0m\u001b[1m inc        \u001b[0m\u001b[1m fsize     \u001b[0m\u001b[1m educ       \u001b[0m\u001b[1m db__1.0 \u001b[0m\u001b[1m db__2.0 \u001b[0m\u001b[1m marr__1\u001b[0m ⋯\n",
       "\u001b[1m     \u001b[0m│\u001b[90m Float64   \u001b[0m\u001b[90m Float64    \u001b[0m\u001b[90m Float64   \u001b[0m\u001b[90m Float64    \u001b[0m\u001b[90m Float64 \u001b[0m\u001b[90m Float64 \u001b[0m\u001b[90m Float64\u001b[0m ⋯\n",
       "─────┼──────────────────────────────────────────────────────────────────────────\n",
       "   1 │  0.18438    0.408248    0.73133    0.280414       1.0      0.0        0 ⋯\n",
       "   2 │ -0.973723  -0.267984    0.73133   -0.0701765      1.0      0.0        0\n",
       "   3 │ -1.35976    0.0675325  -0.557925   0.981595       0.0      1.0        0\n",
       "\u001b[36m                                                              84 columns omitted\u001b[0m"
      ]
     },
     "metadata": {},
     "output_type": "display_data"
    }
   ],
   "source": [
    "# Standardize numerical variables then onehot encode categorical variables\n",
    "transformer = Standardizer() |> OneHotEncoder()\n",
    "transformer = fit!(machine(transformer, X_flex))\n",
    "X_flex = MLJ.transform(transformer, X_flex);\n",
    "first(X_flex, 3)"
   ]
  },
  {
   "cell_type": "code",
   "execution_count": 13,
   "id": "23393450-842e-4975-9907-7dbb679dde7b",
   "metadata": {},
   "outputs": [
    {
     "name": "stderr",
     "output_type": "stream",
     "text": [
      "\r\u001b[33mEvaluating over 50 metamodels:   0%[>                        ]  ETA: N/A\u001b[39m\u001b[K"
     ]
    },
    {
     "name": "stderr",
     "output_type": "stream",
     "text": [
      "\r\u001b[33mEvaluating over 50 metamodels:   2%[>                        ]  ETA: 0:04:31\u001b[39m\u001b[K"
     ]
    },
    {
     "name": "stderr",
     "output_type": "stream",
     "text": [
      "\r\u001b[33mEvaluating over 50 metamodels:   4%[=>                       ]  ETA: 0:02:54\u001b[39m\u001b[K"
     ]
    },
    {
     "name": "stderr",
     "output_type": "stream",
     "text": [
      "\r\u001b[33mEvaluating over 50 metamodels:   6%[=>                       ]  ETA: 0:02:12\u001b[39m\u001b[K"
     ]
    },
    {
     "name": "stderr",
     "output_type": "stream",
     "text": [
      "\r\u001b[33mEvaluating over 50 metamodels:   8%[==>                      ]  ETA: 0:01:51\u001b[39m\u001b[K"
     ]
    },
    {
     "name": "stderr",
     "output_type": "stream",
     "text": [
      "\r\u001b[33mEvaluating over 50 metamodels:  10%[==>                      ]  ETA: 0:01:49\u001b[39m\u001b[K"
     ]
    },
    {
     "name": "stderr",
     "output_type": "stream",
     "text": [
      "┌ Warning: Proximal GD did not converge in 1000 iterations.\n",
      "└ @ MLJLinearModels /Users/cst.ficbs.dk/.julia/packages/MLJLinearModels/eRCwo/src/fit/proxgrad.jl:64\n",
      "┌ Warning: Proximal GD did not converge in 1000 iterations.\n",
      "└ @ MLJLinearModels /Users/cst.ficbs.dk/.julia/packages/MLJLinearModels/eRCwo/src/fit/proxgrad.jl:64\n",
      "┌ Warning: Proximal GD did not converge in 1000 iterations.\n",
      "└ @ MLJLinearModels /Users/cst.ficbs.dk/.julia/packages/MLJLinearModels/eRCwo/src/fit/proxgrad.jl:64\n",
      "┌ Warning: Proximal GD did not converge in 1000 iterations.\n",
      "└ @ MLJLinearModels /Users/cst.ficbs.dk/.julia/packages/MLJLinearModels/eRCwo/src/fit/proxgrad.jl:64\n",
      "┌ Warning: Proximal GD did not converge in 1000 iterations.\n",
      "└ @ MLJLinearModels /Users/cst.ficbs.dk/.julia/packages/MLJLinearModels/eRCwo/src/fit/proxgrad.jl:64\n",
      "\r\u001b[33mEvaluating over 50 metamodels:  12%[===>                     ]  ETA: 0:01:43\u001b[39m\u001b[K"
     ]
    },
    {
     "name": "stderr",
     "output_type": "stream",
     "text": [
      "\r\u001b[33mEvaluating over 50 metamodels:  14%[===>                     ]  ETA: 0:01:34\u001b[39m\u001b[K"
     ]
    },
    {
     "name": "stderr",
     "output_type": "stream",
     "text": [
      "\r\u001b[33mEvaluating over 50 metamodels:  16%[====>                    ]  ETA: 0:01:26\u001b[39m\u001b[K"
     ]
    },
    {
     "name": "stderr",
     "output_type": "stream",
     "text": [
      "\r\u001b[33mEvaluating over 50 metamodels:  18%[====>                    ]  ETA: 0:01:18\u001b[39m\u001b[K"
     ]
    },
    {
     "name": "stderr",
     "output_type": "stream",
     "text": [
      "\r\u001b[33mEvaluating over 50 metamodels:  20%[=====>                   ]  ETA: 0:01:14\u001b[39m\u001b[K"
     ]
    },
    {
     "name": "stderr",
     "output_type": "stream",
     "text": [
      "\r\u001b[33mEvaluating over 50 metamodels:  22%[=====>                   ]  ETA: 0:01:18\u001b[39m\u001b[K"
     ]
    },
    {
     "name": "stderr",
     "output_type": "stream",
     "text": [
      "┌ Warning: Proximal GD did not converge in 1000 iterations.\n",
      "└ @ MLJLinearModels /Users/cst.ficbs.dk/.julia/packages/MLJLinearModels/eRCwo/src/fit/proxgrad.jl:64\n",
      "┌ Warning: Proximal GD did not converge in 1000 iterations.\n",
      "└ @ MLJLinearModels /Users/cst.ficbs.dk/.julia/packages/MLJLinearModels/eRCwo/src/fit/proxgrad.jl:64\n",
      "┌ Warning: Proximal GD did not converge in 1000 iterations.\n",
      "└ @ MLJLinearModels /Users/cst.ficbs.dk/.julia/packages/MLJLinearModels/eRCwo/src/fit/proxgrad.jl:64\n",
      "┌ Warning: Proximal GD did not converge in 1000 iterations.\n",
      "└ @ MLJLinearModels /Users/cst.ficbs.dk/.julia/packages/MLJLinearModels/eRCwo/src/fit/proxgrad.jl:64\n",
      "┌ Warning: Proximal GD did not converge in 1000 iterations.\n",
      "└ @ MLJLinearModels /Users/cst.ficbs.dk/.julia/packages/MLJLinearModels/eRCwo/src/fit/proxgrad.jl:64\n",
      "\r\u001b[33mEvaluating over 50 metamodels:  24%[======>                  ]  ETA: 0:01:20\u001b[39m\u001b[K"
     ]
    },
    {
     "name": "stderr",
     "output_type": "stream",
     "text": [
      "\r\u001b[33mEvaluating over 50 metamodels:  26%[======>                  ]  ETA: 0:01:20\u001b[39m\u001b[K"
     ]
    },
    {
     "name": "stderr",
     "output_type": "stream",
     "text": [
      "\r\u001b[33mEvaluating over 50 metamodels:  28%[=======>                 ]  ETA: 0:01:16\u001b[39m\u001b[K"
     ]
    },
    {
     "name": "stderr",
     "output_type": "stream",
     "text": [
      "┌ Warning: Proximal GD did not converge in 1000 iterations.\n",
      "└ @ MLJLinearModels /Users/cst.ficbs.dk/.julia/packages/MLJLinearModels/eRCwo/src/fit/proxgrad.jl:64\n",
      "┌ Warning: Proximal GD did not converge in 1000 iterations.\n",
      "└ @ MLJLinearModels /Users/cst.ficbs.dk/.julia/packages/MLJLinearModels/eRCwo/src/fit/proxgrad.jl:64\n",
      "┌ Warning: Proximal GD did not converge in 1000 iterations.\n",
      "└ @ MLJLinearModels /Users/cst.ficbs.dk/.julia/packages/MLJLinearModels/eRCwo/src/fit/proxgrad.jl:64\n",
      "\r\u001b[33mEvaluating over 50 metamodels:  30%[=======>                 ]  ETA: 0:01:16\u001b[39m\u001b[K"
     ]
    },
    {
     "name": "stderr",
     "output_type": "stream",
     "text": [
      "\r\u001b[33mEvaluating over 50 metamodels:  32%[========>                ]  ETA: 0:01:16\u001b[39m\u001b[K"
     ]
    },
    {
     "name": "stderr",
     "output_type": "stream",
     "text": [
      "\r\u001b[33mEvaluating over 50 metamodels:  34%[========>                ]  ETA: 0:01:15\u001b[39m\u001b[K"
     ]
    },
    {
     "name": "stderr",
     "output_type": "stream",
     "text": [
      "\r\u001b[33mEvaluating over 50 metamodels:  36%[=========>               ]  ETA: 0:01:12\u001b[39m\u001b[K"
     ]
    },
    {
     "name": "stderr",
     "output_type": "stream",
     "text": [
      "\r\u001b[33mEvaluating over 50 metamodels:  38%[=========>               ]  ETA: 0:01:09\u001b[39m\u001b[K"
     ]
    },
    {
     "name": "stderr",
     "output_type": "stream",
     "text": [
      "┌ Warning: Proximal GD did not converge in 1000 iterations.\n",
      "└ @ MLJLinearModels /Users/cst.ficbs.dk/.julia/packages/MLJLinearModels/eRCwo/src/fit/proxgrad.jl:64\n",
      "┌ Warning: Proximal GD did not converge in 1000 iterations.\n",
      "└ @ MLJLinearModels /Users/cst.ficbs.dk/.julia/packages/MLJLinearModels/eRCwo/src/fit/proxgrad.jl:64\n",
      "┌ Warning: Proximal GD did not converge in 1000 iterations.\n",
      "└ @ MLJLinearModels /Users/cst.ficbs.dk/.julia/packages/MLJLinearModels/eRCwo/src/fit/proxgrad.jl:64\n",
      "┌ Warning: Proximal GD did not converge in 1000 iterations.\n",
      "└ @ MLJLinearModels /Users/cst.ficbs.dk/.julia/packages/MLJLinearModels/eRCwo/src/fit/proxgrad.jl:64\n",
      "┌ Warning: Proximal GD did not converge in 1000 iterations.\n",
      "└ @ MLJLinearModels /Users/cst.ficbs.dk/.julia/packages/MLJLinearModels/eRCwo/src/fit/proxgrad.jl:64\n",
      "\r\u001b[33mEvaluating over 50 metamodels:  40%[==========>              ]  ETA: 0:01:06\u001b[39m\u001b[K"
     ]
    },
    {
     "name": "stderr",
     "output_type": "stream",
     "text": [
      "\r\u001b[33mEvaluating over 50 metamodels:  42%[==========>              ]  ETA: 0:01:03\u001b[39m\u001b[K"
     ]
    },
    {
     "name": "stderr",
     "output_type": "stream",
     "text": [
      "\r\u001b[33mEvaluating over 50 metamodels:  44%[===========>             ]  ETA: 0:01:00\u001b[39m\u001b[K"
     ]
    },
    {
     "name": "stderr",
     "output_type": "stream",
     "text": [
      "\r\u001b[33mEvaluating over 50 metamodels:  46%[===========>             ]  ETA: 0:00:58\u001b[39m\u001b[K"
     ]
    },
    {
     "name": "stderr",
     "output_type": "stream",
     "text": [
      "\r\u001b[33mEvaluating over 50 metamodels:  48%[============>            ]  ETA: 0:00:55\u001b[39m\u001b[K"
     ]
    },
    {
     "name": "stderr",
     "output_type": "stream",
     "text": [
      "\r\u001b[33mEvaluating over 50 metamodels:  50%[============>            ]  ETA: 0:00:52\u001b[39m\u001b[K"
     ]
    },
    {
     "name": "stderr",
     "output_type": "stream",
     "text": [
      "\r\u001b[33mEvaluating over 50 metamodels:  52%[=============>           ]  ETA: 0:00:49\u001b[39m\u001b[K"
     ]
    },
    {
     "name": "stderr",
     "output_type": "stream",
     "text": [
      "┌ Warning: Proximal GD did not converge in 1000 iterations.\n",
      "└ @ MLJLinearModels /Users/cst.ficbs.dk/.julia/packages/MLJLinearModels/eRCwo/src/fit/proxgrad.jl:64\n",
      "\r\u001b[33mEvaluating over 50 metamodels:  54%[=============>           ]  ETA: 0:00:47\u001b[39m\u001b[K"
     ]
    },
    {
     "name": "stderr",
     "output_type": "stream",
     "text": [
      "\r\u001b[33mEvaluating over 50 metamodels:  56%[==============>          ]  ETA: 0:00:45\u001b[39m\u001b[K"
     ]
    },
    {
     "name": "stderr",
     "output_type": "stream",
     "text": [
      "\r\u001b[33mEvaluating over 50 metamodels:  58%[==============>          ]  ETA: 0:00:42\u001b[39m\u001b[K"
     ]
    },
    {
     "name": "stderr",
     "output_type": "stream",
     "text": [
      "\r\u001b[33mEvaluating over 50 metamodels:  60%[===============>         ]  ETA: 0:00:39\u001b[39m\u001b[K"
     ]
    },
    {
     "name": "stderr",
     "output_type": "stream",
     "text": [
      "\r\u001b[33mEvaluating over 50 metamodels:  62%[===============>         ]  ETA: 0:00:37\u001b[39m\u001b[K"
     ]
    },
    {
     "name": "stderr",
     "output_type": "stream",
     "text": [
      "\r\u001b[33mEvaluating over 50 metamodels:  64%[================>        ]  ETA: 0:00:34\u001b[39m\u001b[K"
     ]
    },
    {
     "name": "stderr",
     "output_type": "stream",
     "text": [
      "\r\u001b[33mEvaluating over 50 metamodels:  66%[================>        ]  ETA: 0:00:32\u001b[39m\u001b[K"
     ]
    },
    {
     "name": "stderr",
     "output_type": "stream",
     "text": [
      "┌ Warning: Proximal GD did not converge in 1000 iterations.\n",
      "└ @ MLJLinearModels /Users/cst.ficbs.dk/.julia/packages/MLJLinearModels/eRCwo/src/fit/proxgrad.jl:64\n",
      "┌ Warning: Proximal GD did not converge in 1000 iterations.\n",
      "└ @ MLJLinearModels /Users/cst.ficbs.dk/.julia/packages/MLJLinearModels/eRCwo/src/fit/proxgrad.jl:64\n",
      "┌ Warning: Proximal GD did not converge in 1000 iterations.\n",
      "└ @ MLJLinearModels /Users/cst.ficbs.dk/.julia/packages/MLJLinearModels/eRCwo/src/fit/proxgrad.jl:64\n",
      "┌ Warning: Proximal GD did not converge in 1000 iterations.\n",
      "└ @ MLJLinearModels /Users/cst.ficbs.dk/.julia/packages/MLJLinearModels/eRCwo/src/fit/proxgrad.jl:64\n",
      "┌ Warning: Proximal GD did not converge in 1000 iterations.\n",
      "└ @ MLJLinearModels /Users/cst.ficbs.dk/.julia/packages/MLJLinearModels/eRCwo/src/fit/proxgrad.jl:64\n",
      "\r\u001b[33mEvaluating over 50 metamodels:  68%[=================>       ]  ETA: 0:00:30\u001b[39m\u001b[K"
     ]
    },
    {
     "name": "stderr",
     "output_type": "stream",
     "text": [
      "\r\u001b[33mEvaluating over 50 metamodels:  70%[=================>       ]  ETA: 0:00:28\u001b[39m\u001b[K"
     ]
    },
    {
     "name": "stderr",
     "output_type": "stream",
     "text": [
      "\r\u001b[33mEvaluating over 50 metamodels:  72%[==================>      ]  ETA: 0:00:26\u001b[39m\u001b[K"
     ]
    },
    {
     "name": "stderr",
     "output_type": "stream",
     "text": [
      "\r\u001b[33mEvaluating over 50 metamodels:  74%[==================>      ]  ETA: 0:00:23\u001b[39m\u001b[K"
     ]
    },
    {
     "name": "stderr",
     "output_type": "stream",
     "text": [
      "\r\u001b[33mEvaluating over 50 metamodels:  76%[===================>     ]  ETA: 0:00:21\u001b[39m\u001b[K"
     ]
    },
    {
     "name": "stderr",
     "output_type": "stream",
     "text": [
      "\r\u001b[33mEvaluating over 50 metamodels:  78%[===================>     ]  ETA: 0:00:20\u001b[39m\u001b[K"
     ]
    },
    {
     "name": "stderr",
     "output_type": "stream",
     "text": [
      "\r\u001b[33mEvaluating over 50 metamodels:  80%[====================>    ]  ETA: 0:00:18\u001b[39m\u001b[K"
     ]
    },
    {
     "name": "stderr",
     "output_type": "stream",
     "text": [
      "\r\u001b[33mEvaluating over 50 metamodels:  82%[====================>    ]  ETA: 0:00:16\u001b[39m\u001b[K"
     ]
    },
    {
     "name": "stderr",
     "output_type": "stream",
     "text": [
      "\r\u001b[33mEvaluating over 50 metamodels:  84%[=====================>   ]  ETA: 0:00:14\u001b[39m\u001b[K"
     ]
    },
    {
     "name": "stderr",
     "output_type": "stream",
     "text": [
      "\r\u001b[33mEvaluating over 50 metamodels:  86%[=====================>   ]  ETA: 0:00:12\u001b[39m\u001b[K"
     ]
    },
    {
     "name": "stderr",
     "output_type": "stream",
     "text": [
      "\r\u001b[33mEvaluating over 50 metamodels:  88%[======================>  ]  ETA: 0:00:10\u001b[39m\u001b[K"
     ]
    },
    {
     "name": "stderr",
     "output_type": "stream",
     "text": [
      "\r\u001b[33mEvaluating over 50 metamodels:  90%[======================>  ]  ETA: 0:00:09\u001b[39m\u001b[K"
     ]
    },
    {
     "name": "stderr",
     "output_type": "stream",
     "text": [
      "\r\u001b[33mEvaluating over 50 metamodels:  92%[=======================> ]  ETA: 0:00:07\u001b[39m\u001b[K"
     ]
    },
    {
     "name": "stderr",
     "output_type": "stream",
     "text": [
      "┌ Warning: Proximal GD did not converge in 1000 iterations.\n",
      "└ @ MLJLinearModels /Users/cst.ficbs.dk/.julia/packages/MLJLinearModels/eRCwo/src/fit/proxgrad.jl:64\n",
      "┌ Warning: Proximal GD did not converge in 1000 iterations.\n",
      "└ @ MLJLinearModels /Users/cst.ficbs.dk/.julia/packages/MLJLinearModels/eRCwo/src/fit/proxgrad.jl:64\n",
      "\r\u001b[33mEvaluating over 50 metamodels:  94%[=======================> ]  ETA: 0:00:05\u001b[39m\u001b[K"
     ]
    },
    {
     "name": "stderr",
     "output_type": "stream",
     "text": [
      "\r\u001b[33mEvaluating over 50 metamodels:  96%[========================>]  ETA: 0:00:04\u001b[39m\u001b[K"
     ]
    },
    {
     "name": "stderr",
     "output_type": "stream",
     "text": [
      "\r\u001b[33mEvaluating over 50 metamodels:  98%[========================>]  ETA: 0:00:02\u001b[39m\u001b[K"
     ]
    },
    {
     "name": "stderr",
     "output_type": "stream",
     "text": [
      "\r\u001b[33mEvaluating over 50 metamodels: 100%[=========================] Time: 0:01:27\u001b[39m\u001b[K\n"
     ]
    },
    {
     "name": "stdout",
     "output_type": "stream",
     "text": [
      "Opimtal penalty: 166.3\n",
      "Pct. variables set to zero: 0.6444444444444445\n",
      "intercept = 18367.0775975277\n"
     ]
    },
    {
     "data": {
      "text/plain": [
       "32-element Vector{Pair{Symbol, Float64}}:\n",
       "          :age => -4715.13341760039\n",
       "      :age_inc => 13465.489628538928\n",
       "    :age_fsize => -582.0123080401257\n",
       "       :age_db => -319.22073355164315\n",
       "     :age_marr => -2670.7094108157703\n",
       "     :age_pira => 7621.417379531911\n",
       "      :inc_age => 13465.489628538928\n",
       "     :inc_educ => -646.141215299786\n",
       "       :inc_db => -93.04040127521098\n",
       "  :inc_twoearn => -21256.43211814171\n",
       "               ⋮\n",
       " :twoearn_educ => 1535.0736060177737\n",
       "   :twoearn_db => 1251.6870439797135\n",
       " :twoearn_marr => 4792.9502176273645\n",
       "     :pira_age => 7621.417379531911\n",
       "     :pira_inc => 3276.515562947317\n",
       "   :pira_fsize => -486.16618832854385\n",
       "      :pira_db => -1261.0432773911764\n",
       "     :hown_inc => 5082.946143835215\n",
       " :inc_function => 21615.404196535506"
      ]
     },
     "metadata": {},
     "output_type": "display_data"
    }
   ],
   "source": [
    "r  = range(LassoRegressor(), :(lambda), lower=50, upper=1000)\n",
    "tm = TunedModel(model=LassoRegressor(), ranges=r, tuning=Grid(resolution=50),\n",
    "                resampling=CV(nfolds=5, rng=42), measure=rms)\n",
    "\n",
    "lasso_tm = machine(tm, X_flex, y) |> fit!\n",
    "best_mdl = fitted_params(lasso_tm).best_model\n",
    "\n",
    "# Print results\n",
    "coefs, intercept = fitted_params(lasso_tm).best_fitted_params\n",
    "\n",
    "# Get non-zero coefs\n",
    "coef_vals = [c[2] for c in coefs]\n",
    "\n",
    "println(\"Opimtal penalty: \", round(best_mdl.lambda, sigdigits=4))\n",
    "println(\"Pct. variables set to zero: \", sum(coef_vals .≈ 0) / length(coefs) )\n",
    "@show intercept\n",
    "coefs[.~(coef_vals .≈ 0)]"
   ]
  },
  {
   "cell_type": "markdown",
   "id": "d6e8ea8f-cfb8-42d4-adb0-eb6c62296cfe",
   "metadata": {
    "tags": []
   },
   "source": [
    "### Ridge"
   ]
  },
  {
   "cell_type": "code",
   "execution_count": 14,
   "id": "f357c8bb-9202-445c-b503-316c5aa65da3",
   "metadata": {},
   "outputs": [
    {
     "name": "stdout",
     "output_type": "stream",
     "text": [
      "import MLJLinearModels ✔\n"
     ]
    }
   ],
   "source": [
    "RidgeRegressor = @load RidgeRegressor pkg=MLJLinearModels;"
   ]
  },
  {
   "cell_type": "code",
   "execution_count": 15,
   "id": "47743d18-db77-46e9-ab22-74642b9db065",
   "metadata": {},
   "outputs": [
    {
     "name": "stderr",
     "output_type": "stream",
     "text": [
      "\r\u001b[33mEvaluating over 50 metamodels:   0%[>                        ]  ETA: N/A\u001b[39m\u001b[K"
     ]
    },
    {
     "name": "stderr",
     "output_type": "stream",
     "text": [
      "\r\u001b[33mEvaluating over 50 metamodels:   2%[>                        ]  ETA: 0:01:08\u001b[39m\u001b[K"
     ]
    },
    {
     "name": "stderr",
     "output_type": "stream",
     "text": [
      "\r\u001b[33mEvaluating over 50 metamodels:   4%[=>                       ]  ETA: 0:00:36\u001b[39m\u001b[K"
     ]
    },
    {
     "name": "stderr",
     "output_type": "stream",
     "text": [
      "\r\u001b[33mEvaluating over 50 metamodels:   6%[=>                       ]  ETA: 0:00:25\u001b[39m\u001b[K"
     ]
    },
    {
     "name": "stderr",
     "output_type": "stream",
     "text": [
      "\r\u001b[33mEvaluating over 50 metamodels:   8%[==>                      ]  ETA: 0:00:19\u001b[39m\u001b[K"
     ]
    },
    {
     "name": "stderr",
     "output_type": "stream",
     "text": [
      "\r\u001b[33mEvaluating over 50 metamodels:  10%[==>                      ]  ETA: 0:00:15\u001b[39m\u001b[K"
     ]
    },
    {
     "name": "stderr",
     "output_type": "stream",
     "text": [
      "\r\u001b[33mEvaluating over 50 metamodels:  12%[===>                     ]  ETA: 0:00:13\u001b[39m\u001b[K"
     ]
    },
    {
     "name": "stderr",
     "output_type": "stream",
     "text": [
      "\r\u001b[33mEvaluating over 50 metamodels:  14%[===>                     ]  ETA: 0:00:11\u001b[39m\u001b[K"
     ]
    },
    {
     "name": "stderr",
     "output_type": "stream",
     "text": [
      "\r\u001b[33mEvaluating over 50 metamodels:  16%[====>                    ]  ETA: 0:00:10\u001b[39m\u001b[K"
     ]
    },
    {
     "name": "stderr",
     "output_type": "stream",
     "text": [
      "\r\u001b[33mEvaluating over 50 metamodels:  18%[====>                    ]  ETA: 0:00:09\u001b[39m\u001b[K"
     ]
    },
    {
     "name": "stderr",
     "output_type": "stream",
     "text": [
      "\r\u001b[33mEvaluating over 50 metamodels:  20%[=====>                   ]  ETA: 0:00:08\u001b[39m\u001b[K"
     ]
    },
    {
     "name": "stderr",
     "output_type": "stream",
     "text": [
      "\r\u001b[33mEvaluating over 50 metamodels:  22%[=====>                   ]  ETA: 0:00:07\u001b[39m\u001b[K"
     ]
    },
    {
     "name": "stderr",
     "output_type": "stream",
     "text": [
      "\r\u001b[33mEvaluating over 50 metamodels:  24%[======>                  ]  ETA: 0:00:07\u001b[39m\u001b[K"
     ]
    },
    {
     "name": "stderr",
     "output_type": "stream",
     "text": [
      "\r\u001b[33mEvaluating over 50 metamodels:  26%[======>                  ]  ETA: 0:00:06\u001b[39m\u001b[K"
     ]
    },
    {
     "name": "stderr",
     "output_type": "stream",
     "text": [
      "\r\u001b[33mEvaluating over 50 metamodels:  28%[=======>                 ]  ETA: 0:00:06\u001b[39m\u001b[K"
     ]
    },
    {
     "name": "stderr",
     "output_type": "stream",
     "text": [
      "\r\u001b[33mEvaluating over 50 metamodels:  30%[=======>                 ]  ETA: 0:00:05\u001b[39m\u001b[K"
     ]
    },
    {
     "name": "stderr",
     "output_type": "stream",
     "text": [
      "\r\u001b[33mEvaluating over 50 metamodels:  32%[========>                ]  ETA: 0:00:05\u001b[39m\u001b[K"
     ]
    },
    {
     "name": "stderr",
     "output_type": "stream",
     "text": [
      "\r\u001b[33mEvaluating over 50 metamodels:  34%[========>                ]  ETA: 0:00:05\u001b[39m\u001b[K"
     ]
    },
    {
     "name": "stderr",
     "output_type": "stream",
     "text": [
      "\r\u001b[33mEvaluating over 50 metamodels:  36%[=========>               ]  ETA: 0:00:04\u001b[39m\u001b[K"
     ]
    },
    {
     "name": "stderr",
     "output_type": "stream",
     "text": [
      "\r\u001b[33mEvaluating over 50 metamodels:  38%[=========>               ]  ETA: 0:00:04\u001b[39m\u001b[K"
     ]
    },
    {
     "name": "stderr",
     "output_type": "stream",
     "text": [
      "\r\u001b[33mEvaluating over 50 metamodels:  40%[==========>              ]  ETA: 0:00:04\u001b[39m\u001b[K"
     ]
    },
    {
     "name": "stderr",
     "output_type": "stream",
     "text": [
      "\r\u001b[33mEvaluating over 50 metamodels:  42%[==========>              ]  ETA: 0:00:04\u001b[39m\u001b[K"
     ]
    },
    {
     "name": "stderr",
     "output_type": "stream",
     "text": [
      "\r\u001b[33mEvaluating over 50 metamodels:  44%[===========>             ]  ETA: 0:00:03\u001b[39m\u001b[K"
     ]
    },
    {
     "name": "stderr",
     "output_type": "stream",
     "text": [
      "\r\u001b[33mEvaluating over 50 metamodels:  46%[===========>             ]  ETA: 0:00:03\u001b[39m\u001b[K"
     ]
    },
    {
     "name": "stderr",
     "output_type": "stream",
     "text": [
      "\r\u001b[33mEvaluating over 50 metamodels:  48%[============>            ]  ETA: 0:00:03\u001b[39m\u001b[K"
     ]
    },
    {
     "name": "stderr",
     "output_type": "stream",
     "text": [
      "\r\u001b[33mEvaluating over 50 metamodels:  50%[============>            ]  ETA: 0:00:03\u001b[39m\u001b[K"
     ]
    },
    {
     "name": "stderr",
     "output_type": "stream",
     "text": [
      "\r\u001b[33mEvaluating over 50 metamodels:  52%[=============>           ]  ETA: 0:00:03\u001b[39m\u001b[K"
     ]
    },
    {
     "name": "stderr",
     "output_type": "stream",
     "text": [
      "\r\u001b[33mEvaluating over 50 metamodels:  54%[=============>           ]  ETA: 0:00:03\u001b[39m\u001b[K"
     ]
    },
    {
     "name": "stderr",
     "output_type": "stream",
     "text": [
      "\r\u001b[33mEvaluating over 50 metamodels:  56%[==============>          ]  ETA: 0:00:02\u001b[39m\u001b[K"
     ]
    },
    {
     "name": "stderr",
     "output_type": "stream",
     "text": [
      "\r\u001b[33mEvaluating over 50 metamodels:  58%[==============>          ]  ETA: 0:00:02\u001b[39m\u001b[K"
     ]
    },
    {
     "name": "stderr",
     "output_type": "stream",
     "text": [
      "\r\u001b[33mEvaluating over 50 metamodels:  60%[===============>         ]  ETA: 0:00:02\u001b[39m\u001b[K"
     ]
    },
    {
     "name": "stderr",
     "output_type": "stream",
     "text": [
      "\r\u001b[33mEvaluating over 50 metamodels:  62%[===============>         ]  ETA: 0:00:02\u001b[39m\u001b[K"
     ]
    },
    {
     "name": "stderr",
     "output_type": "stream",
     "text": [
      "\r\u001b[33mEvaluating over 50 metamodels:  64%[================>        ]  ETA: 0:00:02\u001b[39m\u001b[K"
     ]
    },
    {
     "name": "stderr",
     "output_type": "stream",
     "text": [
      "\r\u001b[33mEvaluating over 50 metamodels:  66%[================>        ]  ETA: 0:00:02\u001b[39m\u001b[K"
     ]
    },
    {
     "name": "stderr",
     "output_type": "stream",
     "text": [
      "\r\u001b[33mEvaluating over 50 metamodels:  68%[=================>       ]  ETA: 0:00:02\u001b[39m\u001b[K"
     ]
    },
    {
     "name": "stderr",
     "output_type": "stream",
     "text": [
      "\r\u001b[33mEvaluating over 50 metamodels:  70%[=================>       ]  ETA: 0:00:01\u001b[39m\u001b[K"
     ]
    },
    {
     "name": "stderr",
     "output_type": "stream",
     "text": [
      "\r\u001b[33mEvaluating over 50 metamodels:  72%[==================>      ]  ETA: 0:00:01\u001b[39m\u001b[K"
     ]
    },
    {
     "name": "stderr",
     "output_type": "stream",
     "text": [
      "\r\u001b[33mEvaluating over 50 metamodels:  74%[==================>      ]  ETA: 0:00:01\u001b[39m\u001b[K"
     ]
    },
    {
     "name": "stderr",
     "output_type": "stream",
     "text": [
      "\r\u001b[33mEvaluating over 50 metamodels:  76%[===================>     ]  ETA: 0:00:01\u001b[39m\u001b[K"
     ]
    },
    {
     "name": "stderr",
     "output_type": "stream",
     "text": [
      "\r\u001b[33mEvaluating over 50 metamodels:  78%[===================>     ]  ETA: 0:00:01\u001b[39m\u001b[K"
     ]
    },
    {
     "name": "stderr",
     "output_type": "stream",
     "text": [
      "\r\u001b[33mEvaluating over 50 metamodels:  80%[====================>    ]  ETA: 0:00:01\u001b[39m\u001b[K"
     ]
    },
    {
     "name": "stderr",
     "output_type": "stream",
     "text": [
      "\r\u001b[33mEvaluating over 50 metamodels:  82%[====================>    ]  ETA: 0:00:01\u001b[39m\u001b[K"
     ]
    },
    {
     "name": "stderr",
     "output_type": "stream",
     "text": [
      "\r\u001b[33mEvaluating over 50 metamodels:  84%[=====================>   ]  ETA: 0:00:01\u001b[39m\u001b[K"
     ]
    },
    {
     "name": "stderr",
     "output_type": "stream",
     "text": [
      "\r\u001b[33mEvaluating over 50 metamodels:  86%[=====================>   ]  ETA: 0:00:01\u001b[39m\u001b[K"
     ]
    },
    {
     "name": "stderr",
     "output_type": "stream",
     "text": [
      "\r\u001b[33mEvaluating over 50 metamodels:  88%[======================>  ]  ETA: 0:00:01\u001b[39m\u001b[K"
     ]
    },
    {
     "name": "stderr",
     "output_type": "stream",
     "text": [
      "\r\u001b[33mEvaluating over 50 metamodels:  90%[======================>  ]  ETA: 0:00:00\u001b[39m\u001b[K"
     ]
    },
    {
     "name": "stderr",
     "output_type": "stream",
     "text": [
      "\r\u001b[33mEvaluating over 50 metamodels:  92%[=======================> ]  ETA: 0:00:00\u001b[39m\u001b[K"
     ]
    },
    {
     "name": "stderr",
     "output_type": "stream",
     "text": [
      "\r\u001b[33mEvaluating over 50 metamodels:  94%[=======================> ]  ETA: 0:00:00\u001b[39m\u001b[K"
     ]
    },
    {
     "name": "stderr",
     "output_type": "stream",
     "text": [
      "\r\u001b[33mEvaluating over 50 metamodels:  96%[========================>]  ETA: 0:00:00\u001b[39m\u001b[K"
     ]
    },
    {
     "name": "stderr",
     "output_type": "stream",
     "text": [
      "\r\u001b[33mEvaluating over 50 metamodels:  98%[========================>]  ETA: 0:00:00\u001b[39m\u001b[K"
     ]
    },
    {
     "name": "stderr",
     "output_type": "stream",
     "text": [
      "\r\u001b[33mEvaluating over 50 metamodels: 100%[=========================] Time: 0:00:04\u001b[39m\u001b[K\n"
     ]
    },
    {
     "name": "stdout",
     "output_type": "stream",
     "text": [
      "Opimtal penalty: 0.016\n",
      "intercept = 20181.181137777075\n"
     ]
    },
    {
     "data": {
      "text/plain": [
       "90-element Vector{Pair{Symbol, Float64}}:\n",
       "                   :age => -5773.360700886404\n",
       "                   :inc => -4050.4141027977093\n",
       "                 :fsize => 4825.476461388463\n",
       "                  :educ => -3351.9749235394675\n",
       "      Symbol(\"db__1.0\") => -3433.4536972976907\n",
       "      Symbol(\"db__2.0\") => 3433.4536972978026\n",
       "    Symbol(\"marr__1.0\") => -691.5340694592377\n",
       "    Symbol(\"marr__2.0\") => 691.5340694587849\n",
       " Symbol(\"twoearn__1.0\") => -2844.896419821987\n",
       " Symbol(\"twoearn__2.0\") => 2844.8964198217304\n",
       "                        ⋮\n",
       "             :hown_educ => 1577.9442814976662\n",
       "               :hown_db => 131.62317012586033\n",
       "             :hown_marr => -630.3233015039707\n",
       "          :hown_twoearn => 74.2557458460717\n",
       "             :hown_pira => 1089.3600651248287\n",
       "          :age_function => 2528.2035189024764\n",
       "          :inc_function => 20510.33124092094\n",
       "        :fsize_function => -428.08189568616007\n",
       "         :educ_function => 937.7237018396268"
      ]
     },
     "metadata": {},
     "output_type": "display_data"
    }
   ],
   "source": [
    "r  = range(RidgeRegressor(), :(lambda), lower=0.0001, upper=100_000, scale=:log10)\n",
    "tm = TunedModel(model=RidgeRegressor(), ranges=r, tuning=Grid(resolution=50),\n",
    "                resampling=CV(nfolds=5, rng=42), measure=rms)\n",
    "\n",
    "ridge_tm = machine(tm, X_flex, y) |> fit!\n",
    "best_mdl = fitted_params(ridge_tm).best_model\n",
    "\n",
    "# Print results\n",
    "println(\"Opimtal penalty: \", round(best_mdl.lambda, sigdigits=4))\n",
    "coefs, intercept = fitted_params(ridge_tm).best_fitted_params\n",
    "@show intercept\n",
    "coefs"
   ]
  },
  {
   "cell_type": "markdown",
   "id": "c75e255b-0bd9-4d64-9685-98913f8581f7",
   "metadata": {},
   "source": [
    "### Decision tree"
   ]
  },
  {
   "cell_type": "code",
   "execution_count": 16,
   "id": "fe4916cc-8d7d-4eb7-9ba3-d7d61a959718",
   "metadata": {},
   "outputs": [],
   "source": [
    "X = machine(ContinuousEncoder(), X) |> fit! |> MLJ.transform;  # Onehot-encode categorical variables"
   ]
  },
  {
   "cell_type": "code",
   "execution_count": 17,
   "id": "f378721a-01d1-45e7-95a9-8076e72df4e5",
   "metadata": {},
   "outputs": [
    {
     "name": "stdout",
     "output_type": "stream",
     "text": [
      "import MLJDecisionTreeInterface ✔\n"
     ]
    },
    {
     "data": {
      "text/plain": [
       "MLJDecisionTreeInterface.DecisionTreeRegressor"
      ]
     },
     "metadata": {},
     "output_type": "display_data"
    }
   ],
   "source": [
    "DecisionTreeRegressor = @load DecisionTreeRegressor pkg=DecisionTree"
   ]
  },
  {
   "cell_type": "code",
   "execution_count": 18,
   "id": "4c5561d4-bedf-46b3-858d-a6d3f851379c",
   "metadata": {},
   "outputs": [
    {
     "name": "stderr",
     "output_type": "stream",
     "text": [
      "\r\u001b[33mEvaluating over 250 metamodels:   0%[>                        ]  ETA: N/A\u001b[39m\u001b[K"
     ]
    },
    {
     "name": "stderr",
     "output_type": "stream",
     "text": [
      "\r\u001b[33mEvaluating over 250 metamodels:   0%[>                        ]  ETA: 0:07:57\u001b[39m\u001b[K"
     ]
    },
    {
     "name": "stderr",
     "output_type": "stream",
     "text": [
      "\r\u001b[33mEvaluating over 250 metamodels:   1%[>                        ]  ETA: 0:04:31\u001b[39m\u001b[K"
     ]
    },
    {
     "name": "stderr",
     "output_type": "stream",
     "text": [
      "\r\u001b[33mEvaluating over 250 metamodels:   1%[>                        ]  ETA: 0:03:02\u001b[39m\u001b[K"
     ]
    },
    {
     "name": "stderr",
     "output_type": "stream",
     "text": [
      "\r\u001b[33mEvaluating over 250 metamodels:   2%[>                        ]  ETA: 0:02:17\u001b[39m\u001b[K"
     ]
    },
    {
     "name": "stderr",
     "output_type": "stream",
     "text": [
      "\r\u001b[33mEvaluating over 250 metamodels:   2%[>                        ]  ETA: 0:01:50\u001b[39m\u001b[K"
     ]
    },
    {
     "name": "stderr",
     "output_type": "stream",
     "text": [
      "\r\u001b[33mEvaluating over 250 metamodels:   2%[>                        ]  ETA: 0:01:32\u001b[39m\u001b[K"
     ]
    },
    {
     "name": "stderr",
     "output_type": "stream",
     "text": [
      "\r\u001b[33mEvaluating over 250 metamodels:   3%[>                        ]  ETA: 0:01:19\u001b[39m\u001b[K"
     ]
    },
    {
     "name": "stderr",
     "output_type": "stream",
     "text": [
      "\r\u001b[33mEvaluating over 250 metamodels:   3%[>                        ]  ETA: 0:01:09\u001b[39m\u001b[K"
     ]
    },
    {
     "name": "stderr",
     "output_type": "stream",
     "text": [
      "\r\u001b[33mEvaluating over 250 metamodels:   4%[>                        ]  ETA: 0:01:03\u001b[39m\u001b[K"
     ]
    },
    {
     "name": "stderr",
     "output_type": "stream",
     "text": [
      "\r\u001b[33mEvaluating over 250 metamodels:   4%[=>                       ]  ETA: 0:00:56\u001b[39m\u001b[K"
     ]
    },
    {
     "name": "stderr",
     "output_type": "stream",
     "text": [
      "\r\u001b[33mEvaluating over 250 metamodels:   4%[=>                       ]  ETA: 0:00:51\u001b[39m\u001b[K"
     ]
    },
    {
     "name": "stderr",
     "output_type": "stream",
     "text": [
      "\r\u001b[33mEvaluating over 250 metamodels:   5%[=>                       ]  ETA: 0:00:47\u001b[39m\u001b[K"
     ]
    },
    {
     "name": "stderr",
     "output_type": "stream",
     "text": [
      "\r\u001b[33mEvaluating over 250 metamodels:   5%[=>                       ]  ETA: 0:00:44\u001b[39m\u001b[K"
     ]
    },
    {
     "name": "stderr",
     "output_type": "stream",
     "text": [
      "\r\u001b[33mEvaluating over 250 metamodels:   6%[=>                       ]  ETA: 0:00:40\u001b[39m\u001b[K"
     ]
    },
    {
     "name": "stderr",
     "output_type": "stream",
     "text": [
      "\r\u001b[33mEvaluating over 250 metamodels:   6%[=>                       ]  ETA: 0:00:38\u001b[39m\u001b[K"
     ]
    },
    {
     "name": "stderr",
     "output_type": "stream",
     "text": [
      "\r\u001b[33mEvaluating over 250 metamodels:   6%[=>                       ]  ETA: 0:00:36\u001b[39m\u001b[K"
     ]
    },
    {
     "name": "stderr",
     "output_type": "stream",
     "text": [
      "\r\u001b[33mEvaluating over 250 metamodels:   7%[=>                       ]  ETA: 0:00:34\u001b[39m\u001b[K"
     ]
    },
    {
     "name": "stderr",
     "output_type": "stream",
     "text": [
      "\r\u001b[33mEvaluating over 250 metamodels:   7%[=>                       ]  ETA: 0:00:32\u001b[39m\u001b[K"
     ]
    },
    {
     "name": "stderr",
     "output_type": "stream",
     "text": [
      "\r\u001b[33mEvaluating over 250 metamodels:   8%[=>                       ]  ETA: 0:00:30\u001b[39m\u001b[K"
     ]
    },
    {
     "name": "stderr",
     "output_type": "stream",
     "text": [
      "\r\u001b[33mEvaluating over 250 metamodels:   8%[==>                      ]  ETA: 0:00:29\u001b[39m\u001b[K"
     ]
    },
    {
     "name": "stderr",
     "output_type": "stream",
     "text": [
      "\r\u001b[33mEvaluating over 250 metamodels:   8%[==>                      ]  ETA: 0:00:28\u001b[39m\u001b[K"
     ]
    },
    {
     "name": "stderr",
     "output_type": "stream",
     "text": [
      "\r\u001b[33mEvaluating over 250 metamodels:   9%[==>                      ]  ETA: 0:00:27\u001b[39m\u001b[K"
     ]
    },
    {
     "name": "stderr",
     "output_type": "stream",
     "text": [
      "\r\u001b[33mEvaluating over 250 metamodels:   9%[==>                      ]  ETA: 0:00:26\u001b[39m\u001b[K"
     ]
    },
    {
     "name": "stderr",
     "output_type": "stream",
     "text": [
      "\r\u001b[33mEvaluating over 250 metamodels:  10%[==>                      ]  ETA: 0:00:25\u001b[39m\u001b[K"
     ]
    },
    {
     "name": "stderr",
     "output_type": "stream",
     "text": [
      "\r\u001b[33mEvaluating over 250 metamodels:  10%[==>                      ]  ETA: 0:00:24\u001b[39m\u001b[K"
     ]
    },
    {
     "name": "stderr",
     "output_type": "stream",
     "text": [
      "\r\u001b[33mEvaluating over 250 metamodels:  10%[==>                      ]  ETA: 0:00:23\u001b[39m\u001b[K"
     ]
    },
    {
     "name": "stderr",
     "output_type": "stream",
     "text": [
      "\r\u001b[33mEvaluating over 250 metamodels:  11%[==>                      ]  ETA: 0:00:22\u001b[39m\u001b[K"
     ]
    },
    {
     "name": "stderr",
     "output_type": "stream",
     "text": [
      "\r\u001b[33mEvaluating over 250 metamodels:  11%[==>                      ]  ETA: 0:00:21\u001b[39m\u001b[K"
     ]
    },
    {
     "name": "stderr",
     "output_type": "stream",
     "text": [
      "\r\u001b[33mEvaluating over 250 metamodels:  12%[==>                      ]  ETA: 0:00:21\u001b[39m\u001b[K"
     ]
    },
    {
     "name": "stderr",
     "output_type": "stream",
     "text": [
      "\r\u001b[33mEvaluating over 250 metamodels:  12%[===>                     ]  ETA: 0:00:20\u001b[39m\u001b[K"
     ]
    },
    {
     "name": "stderr",
     "output_type": "stream",
     "text": [
      "\r\u001b[33mEvaluating over 250 metamodels:  12%[===>                     ]  ETA: 0:00:20\u001b[39m\u001b[K"
     ]
    },
    {
     "name": "stderr",
     "output_type": "stream",
     "text": [
      "\r\u001b[33mEvaluating over 250 metamodels:  13%[===>                     ]  ETA: 0:00:19\u001b[39m\u001b[K"
     ]
    },
    {
     "name": "stderr",
     "output_type": "stream",
     "text": [
      "\r\u001b[33mEvaluating over 250 metamodels:  13%[===>                     ]  ETA: 0:00:18\u001b[39m\u001b[K"
     ]
    },
    {
     "name": "stderr",
     "output_type": "stream",
     "text": [
      "\r\u001b[33mEvaluating over 250 metamodels:  14%[===>                     ]  ETA: 0:00:18\u001b[39m\u001b[K"
     ]
    },
    {
     "name": "stderr",
     "output_type": "stream",
     "text": [
      "\r\u001b[33mEvaluating over 250 metamodels:  14%[===>                     ]  ETA: 0:00:17\u001b[39m\u001b[K"
     ]
    },
    {
     "name": "stderr",
     "output_type": "stream",
     "text": [
      "\r\u001b[33mEvaluating over 250 metamodels:  14%[===>                     ]  ETA: 0:00:17\u001b[39m\u001b[K"
     ]
    },
    {
     "name": "stderr",
     "output_type": "stream",
     "text": [
      "\r\u001b[33mEvaluating over 250 metamodels:  15%[===>                     ]  ETA: 0:00:17\u001b[39m\u001b[K"
     ]
    },
    {
     "name": "stderr",
     "output_type": "stream",
     "text": [
      "\r\u001b[33mEvaluating over 250 metamodels:  15%[===>                     ]  ETA: 0:00:16\u001b[39m\u001b[K"
     ]
    },
    {
     "name": "stderr",
     "output_type": "stream",
     "text": [
      "\r\u001b[33mEvaluating over 250 metamodels:  16%[===>                     ]  ETA: 0:00:16\u001b[39m\u001b[K"
     ]
    },
    {
     "name": "stderr",
     "output_type": "stream",
     "text": [
      "\r\u001b[33mEvaluating over 250 metamodels:  16%[====>                    ]  ETA: 0:00:16\u001b[39m\u001b[K"
     ]
    },
    {
     "name": "stderr",
     "output_type": "stream",
     "text": [
      "\r\u001b[33mEvaluating over 250 metamodels:  16%[====>                    ]  ETA: 0:00:15\u001b[39m\u001b[K"
     ]
    },
    {
     "name": "stderr",
     "output_type": "stream",
     "text": [
      "\r\u001b[33mEvaluating over 250 metamodels:  17%[====>                    ]  ETA: 0:00:15\u001b[39m\u001b[K"
     ]
    },
    {
     "name": "stderr",
     "output_type": "stream",
     "text": [
      "\r\u001b[33mEvaluating over 250 metamodels:  17%[====>                    ]  ETA: 0:00:15\u001b[39m\u001b[K"
     ]
    },
    {
     "name": "stderr",
     "output_type": "stream",
     "text": [
      "\r\u001b[33mEvaluating over 250 metamodels:  18%[====>                    ]  ETA: 0:00:14\u001b[39m\u001b[K"
     ]
    },
    {
     "name": "stderr",
     "output_type": "stream",
     "text": [
      "\r\u001b[33mEvaluating over 250 metamodels:  18%[====>                    ]  ETA: 0:00:14\u001b[39m\u001b[K"
     ]
    },
    {
     "name": "stderr",
     "output_type": "stream",
     "text": [
      "\r\u001b[33mEvaluating over 250 metamodels:  18%[====>                    ]  ETA: 0:00:14\u001b[39m\u001b[K"
     ]
    },
    {
     "name": "stderr",
     "output_type": "stream",
     "text": [
      "\r\u001b[33mEvaluating over 250 metamodels:  19%[====>                    ]  ETA: 0:00:13\u001b[39m\u001b[K"
     ]
    },
    {
     "name": "stderr",
     "output_type": "stream",
     "text": [
      "\r\u001b[33mEvaluating over 250 metamodels:  19%[====>                    ]  ETA: 0:00:13\u001b[39m\u001b[K"
     ]
    },
    {
     "name": "stderr",
     "output_type": "stream",
     "text": [
      "\r\u001b[33mEvaluating over 250 metamodels:  20%[====>                    ]  ETA: 0:00:13\u001b[39m\u001b[K"
     ]
    },
    {
     "name": "stderr",
     "output_type": "stream",
     "text": [
      "\r\u001b[33mEvaluating over 250 metamodels:  20%[=====>                   ]  ETA: 0:00:13\u001b[39m\u001b[K"
     ]
    },
    {
     "name": "stderr",
     "output_type": "stream",
     "text": [
      "\r\u001b[33mEvaluating over 250 metamodels:  20%[=====>                   ]  ETA: 0:00:12\u001b[39m\u001b[K"
     ]
    },
    {
     "name": "stderr",
     "output_type": "stream",
     "text": [
      "\r\u001b[33mEvaluating over 250 metamodels:  21%[=====>                   ]  ETA: 0:00:12\u001b[39m\u001b[K"
     ]
    },
    {
     "name": "stderr",
     "output_type": "stream",
     "text": [
      "\r\u001b[33mEvaluating over 250 metamodels:  21%[=====>                   ]  ETA: 0:00:12\u001b[39m\u001b[K"
     ]
    },
    {
     "name": "stderr",
     "output_type": "stream",
     "text": [
      "\r\u001b[33mEvaluating over 250 metamodels:  22%[=====>                   ]  ETA: 0:00:12\u001b[39m\u001b[K"
     ]
    },
    {
     "name": "stderr",
     "output_type": "stream",
     "text": [
      "\r\u001b[33mEvaluating over 250 metamodels:  22%[=====>                   ]  ETA: 0:00:11\u001b[39m\u001b[K"
     ]
    },
    {
     "name": "stderr",
     "output_type": "stream",
     "text": [
      "\r\u001b[33mEvaluating over 250 metamodels:  22%[=====>                   ]  ETA: 0:00:11\u001b[39m\u001b[K"
     ]
    },
    {
     "name": "stderr",
     "output_type": "stream",
     "text": [
      "\r\u001b[33mEvaluating over 250 metamodels:  23%[=====>                   ]  ETA: 0:00:11\u001b[39m\u001b[K"
     ]
    },
    {
     "name": "stderr",
     "output_type": "stream",
     "text": [
      "\r\u001b[33mEvaluating over 250 metamodels:  23%[=====>                   ]  ETA: 0:00:11\u001b[39m\u001b[K"
     ]
    },
    {
     "name": "stderr",
     "output_type": "stream",
     "text": [
      "\r\u001b[33mEvaluating over 250 metamodels:  24%[=====>                   ]  ETA: 0:00:11\u001b[39m\u001b[K"
     ]
    },
    {
     "name": "stderr",
     "output_type": "stream",
     "text": [
      "\r\u001b[33mEvaluating over 250 metamodels:  24%[======>                  ]  ETA: 0:00:11\u001b[39m\u001b[K"
     ]
    },
    {
     "name": "stderr",
     "output_type": "stream",
     "text": [
      "\r\u001b[33mEvaluating over 250 metamodels:  24%[======>                  ]  ETA: 0:00:10\u001b[39m\u001b[K"
     ]
    },
    {
     "name": "stderr",
     "output_type": "stream",
     "text": [
      "\r\u001b[33mEvaluating over 250 metamodels:  25%[======>                  ]  ETA: 0:00:10\u001b[39m\u001b[K"
     ]
    },
    {
     "name": "stderr",
     "output_type": "stream",
     "text": [
      "\r\u001b[33mEvaluating over 250 metamodels:  25%[======>                  ]  ETA: 0:00:10\u001b[39m\u001b[K"
     ]
    },
    {
     "name": "stderr",
     "output_type": "stream",
     "text": [
      "\r\u001b[33mEvaluating over 250 metamodels:  26%[======>                  ]  ETA: 0:00:10\u001b[39m\u001b[K"
     ]
    },
    {
     "name": "stderr",
     "output_type": "stream",
     "text": [
      "\r\u001b[33mEvaluating over 250 metamodels:  26%[======>                  ]  ETA: 0:00:10\u001b[39m\u001b[K"
     ]
    },
    {
     "name": "stderr",
     "output_type": "stream",
     "text": [
      "\r\u001b[33mEvaluating over 250 metamodels:  26%[======>                  ]  ETA: 0:00:10\u001b[39m\u001b[K"
     ]
    },
    {
     "name": "stderr",
     "output_type": "stream",
     "text": [
      "\r\u001b[33mEvaluating over 250 metamodels:  27%[======>                  ]  ETA: 0:00:09\u001b[39m\u001b[K"
     ]
    },
    {
     "name": "stderr",
     "output_type": "stream",
     "text": [
      "\r\u001b[33mEvaluating over 250 metamodels:  27%[======>                  ]  ETA: 0:00:09\u001b[39m\u001b[K"
     ]
    },
    {
     "name": "stderr",
     "output_type": "stream",
     "text": [
      "\r\u001b[33mEvaluating over 250 metamodels:  28%[======>                  ]  ETA: 0:00:09\u001b[39m\u001b[K"
     ]
    },
    {
     "name": "stderr",
     "output_type": "stream",
     "text": [
      "\r\u001b[33mEvaluating over 250 metamodels:  28%[=======>                 ]  ETA: 0:00:09\u001b[39m\u001b[K"
     ]
    },
    {
     "name": "stderr",
     "output_type": "stream",
     "text": [
      "\r\u001b[33mEvaluating over 250 metamodels:  28%[=======>                 ]  ETA: 0:00:09\u001b[39m\u001b[K"
     ]
    },
    {
     "name": "stderr",
     "output_type": "stream",
     "text": [
      "\r\u001b[33mEvaluating over 250 metamodels:  29%[=======>                 ]  ETA: 0:00:09\u001b[39m\u001b[K"
     ]
    },
    {
     "name": "stderr",
     "output_type": "stream",
     "text": [
      "\r\u001b[33mEvaluating over 250 metamodels:  29%[=======>                 ]  ETA: 0:00:09\u001b[39m\u001b[K"
     ]
    },
    {
     "name": "stderr",
     "output_type": "stream",
     "text": [
      "\r\u001b[33mEvaluating over 250 metamodels:  30%[=======>                 ]  ETA: 0:00:09\u001b[39m\u001b[K"
     ]
    },
    {
     "name": "stderr",
     "output_type": "stream",
     "text": [
      "\r\u001b[33mEvaluating over 250 metamodels:  30%[=======>                 ]  ETA: 0:00:08\u001b[39m\u001b[K"
     ]
    },
    {
     "name": "stderr",
     "output_type": "stream",
     "text": [
      "\r\u001b[33mEvaluating over 250 metamodels:  30%[=======>                 ]  ETA: 0:00:08\u001b[39m\u001b[K"
     ]
    },
    {
     "name": "stderr",
     "output_type": "stream",
     "text": [
      "\r\u001b[33mEvaluating over 250 metamodels:  31%[=======>                 ]  ETA: 0:00:08\u001b[39m\u001b[K"
     ]
    },
    {
     "name": "stderr",
     "output_type": "stream",
     "text": [
      "\r\u001b[33mEvaluating over 250 metamodels:  31%[=======>                 ]  ETA: 0:00:08\u001b[39m\u001b[K"
     ]
    },
    {
     "name": "stderr",
     "output_type": "stream",
     "text": [
      "\r\u001b[33mEvaluating over 250 metamodels:  32%[=======>                 ]  ETA: 0:00:08\u001b[39m\u001b[K"
     ]
    },
    {
     "name": "stderr",
     "output_type": "stream",
     "text": [
      "\r\u001b[33mEvaluating over 250 metamodels:  32%[========>                ]  ETA: 0:00:08\u001b[39m\u001b[K"
     ]
    },
    {
     "name": "stderr",
     "output_type": "stream",
     "text": [
      "\r\u001b[33mEvaluating over 250 metamodels:  32%[========>                ]  ETA: 0:00:08\u001b[39m\u001b[K"
     ]
    },
    {
     "name": "stderr",
     "output_type": "stream",
     "text": [
      "\r\u001b[33mEvaluating over 250 metamodels:  33%[========>                ]  ETA: 0:00:08\u001b[39m\u001b[K"
     ]
    },
    {
     "name": "stderr",
     "output_type": "stream",
     "text": [
      "\r\u001b[33mEvaluating over 250 metamodels:  33%[========>                ]  ETA: 0:00:08\u001b[39m\u001b[K"
     ]
    },
    {
     "name": "stderr",
     "output_type": "stream",
     "text": [
      "\r\u001b[33mEvaluating over 250 metamodels:  34%[========>                ]  ETA: 0:00:07\u001b[39m\u001b[K"
     ]
    },
    {
     "name": "stderr",
     "output_type": "stream",
     "text": [
      "\r\u001b[33mEvaluating over 250 metamodels:  34%[========>                ]  ETA: 0:00:07\u001b[39m\u001b[K"
     ]
    },
    {
     "name": "stderr",
     "output_type": "stream",
     "text": [
      "\r\u001b[33mEvaluating over 250 metamodels:  34%[========>                ]  ETA: 0:00:07\u001b[39m\u001b[K"
     ]
    },
    {
     "name": "stderr",
     "output_type": "stream",
     "text": [
      "\r\u001b[33mEvaluating over 250 metamodels:  35%[========>                ]  ETA: 0:00:07\u001b[39m\u001b[K"
     ]
    },
    {
     "name": "stderr",
     "output_type": "stream",
     "text": [
      "\r\u001b[33mEvaluating over 250 metamodels:  35%[========>                ]  ETA: 0:00:07\u001b[39m\u001b[K"
     ]
    },
    {
     "name": "stderr",
     "output_type": "stream",
     "text": [
      "\r\u001b[33mEvaluating over 250 metamodels:  36%[========>                ]  ETA: 0:00:07\u001b[39m\u001b[K"
     ]
    },
    {
     "name": "stderr",
     "output_type": "stream",
     "text": [
      "\r\u001b[33mEvaluating over 250 metamodels:  36%[=========>               ]  ETA: 0:00:07\u001b[39m\u001b[K"
     ]
    },
    {
     "name": "stderr",
     "output_type": "stream",
     "text": [
      "\r\u001b[33mEvaluating over 250 metamodels:  36%[=========>               ]  ETA: 0:00:07\u001b[39m\u001b[K"
     ]
    },
    {
     "name": "stderr",
     "output_type": "stream",
     "text": [
      "\r\u001b[33mEvaluating over 250 metamodels:  37%[=========>               ]  ETA: 0:00:07\u001b[39m\u001b[K"
     ]
    },
    {
     "name": "stderr",
     "output_type": "stream",
     "text": [
      "\r\u001b[33mEvaluating over 250 metamodels:  37%[=========>               ]  ETA: 0:00:07\u001b[39m\u001b[K"
     ]
    },
    {
     "name": "stderr",
     "output_type": "stream",
     "text": [
      "\r\u001b[33mEvaluating over 250 metamodels:  38%[=========>               ]  ETA: 0:00:07\u001b[39m\u001b[K"
     ]
    },
    {
     "name": "stderr",
     "output_type": "stream",
     "text": [
      "\r\u001b[33mEvaluating over 250 metamodels:  38%[=========>               ]  ETA: 0:00:07\u001b[39m\u001b[K"
     ]
    },
    {
     "name": "stderr",
     "output_type": "stream",
     "text": [
      "\r\u001b[33mEvaluating over 250 metamodels:  38%[=========>               ]  ETA: 0:00:06\u001b[39m\u001b[K"
     ]
    },
    {
     "name": "stderr",
     "output_type": "stream",
     "text": [
      "\r\u001b[33mEvaluating over 250 metamodels:  39%[=========>               ]  ETA: 0:00:06\u001b[39m\u001b[K"
     ]
    },
    {
     "name": "stderr",
     "output_type": "stream",
     "text": [
      "\r\u001b[33mEvaluating over 250 metamodels:  39%[=========>               ]  ETA: 0:00:06\u001b[39m\u001b[K"
     ]
    },
    {
     "name": "stderr",
     "output_type": "stream",
     "text": [
      "\r\u001b[33mEvaluating over 250 metamodels:  40%[=========>               ]  ETA: 0:00:06\u001b[39m\u001b[K"
     ]
    },
    {
     "name": "stderr",
     "output_type": "stream",
     "text": [
      "\r\u001b[33mEvaluating over 250 metamodels:  40%[==========>              ]  ETA: 0:00:06\u001b[39m\u001b[K"
     ]
    },
    {
     "name": "stderr",
     "output_type": "stream",
     "text": [
      "\r\u001b[33mEvaluating over 250 metamodels:  40%[==========>              ]  ETA: 0:00:06\u001b[39m\u001b[K"
     ]
    },
    {
     "name": "stderr",
     "output_type": "stream",
     "text": [
      "\r\u001b[33mEvaluating over 250 metamodels:  41%[==========>              ]  ETA: 0:00:06\u001b[39m\u001b[K"
     ]
    },
    {
     "name": "stderr",
     "output_type": "stream",
     "text": [
      "\r\u001b[33mEvaluating over 250 metamodels:  41%[==========>              ]  ETA: 0:00:06\u001b[39m\u001b[K"
     ]
    },
    {
     "name": "stderr",
     "output_type": "stream",
     "text": [
      "\r\u001b[33mEvaluating over 250 metamodels:  42%[==========>              ]  ETA: 0:00:06\u001b[39m\u001b[K"
     ]
    },
    {
     "name": "stderr",
     "output_type": "stream",
     "text": [
      "\r\u001b[33mEvaluating over 250 metamodels:  42%[==========>              ]  ETA: 0:00:06\u001b[39m\u001b[K"
     ]
    },
    {
     "name": "stderr",
     "output_type": "stream",
     "text": [
      "\r\u001b[33mEvaluating over 250 metamodels:  42%[==========>              ]  ETA: 0:00:06\u001b[39m\u001b[K"
     ]
    },
    {
     "name": "stderr",
     "output_type": "stream",
     "text": [
      "\r\u001b[33mEvaluating over 250 metamodels:  43%[==========>              ]  ETA: 0:00:06\u001b[39m\u001b[K"
     ]
    },
    {
     "name": "stderr",
     "output_type": "stream",
     "text": [
      "\r\u001b[33mEvaluating over 250 metamodels:  43%[==========>              ]  ETA: 0:00:06\u001b[39m\u001b[K"
     ]
    },
    {
     "name": "stderr",
     "output_type": "stream",
     "text": [
      "\r\u001b[33mEvaluating over 250 metamodels:  44%[==========>              ]  ETA: 0:00:05\u001b[39m\u001b[K"
     ]
    },
    {
     "name": "stderr",
     "output_type": "stream",
     "text": [
      "\r\u001b[33mEvaluating over 250 metamodels:  44%[===========>             ]  ETA: 0:00:05\u001b[39m\u001b[K"
     ]
    },
    {
     "name": "stderr",
     "output_type": "stream",
     "text": [
      "\r\u001b[33mEvaluating over 250 metamodels:  44%[===========>             ]  ETA: 0:00:05\u001b[39m\u001b[K"
     ]
    },
    {
     "name": "stderr",
     "output_type": "stream",
     "text": [
      "\r\u001b[33mEvaluating over 250 metamodels:  45%[===========>             ]  ETA: 0:00:05\u001b[39m\u001b[K"
     ]
    },
    {
     "name": "stderr",
     "output_type": "stream",
     "text": [
      "\r\u001b[33mEvaluating over 250 metamodels:  45%[===========>             ]  ETA: 0:00:05\u001b[39m\u001b[K"
     ]
    },
    {
     "name": "stderr",
     "output_type": "stream",
     "text": [
      "\r\u001b[33mEvaluating over 250 metamodels:  46%[===========>             ]  ETA: 0:00:05\u001b[39m\u001b[K"
     ]
    },
    {
     "name": "stderr",
     "output_type": "stream",
     "text": [
      "\r\u001b[33mEvaluating over 250 metamodels:  46%[===========>             ]  ETA: 0:00:05\u001b[39m\u001b[K"
     ]
    },
    {
     "name": "stderr",
     "output_type": "stream",
     "text": [
      "\r\u001b[33mEvaluating over 250 metamodels:  46%[===========>             ]  ETA: 0:00:05\u001b[39m\u001b[K"
     ]
    },
    {
     "name": "stderr",
     "output_type": "stream",
     "text": [
      "\r\u001b[33mEvaluating over 250 metamodels:  47%[===========>             ]  ETA: 0:00:05\u001b[39m\u001b[K"
     ]
    },
    {
     "name": "stderr",
     "output_type": "stream",
     "text": [
      "\r\u001b[33mEvaluating over 250 metamodels:  47%[===========>             ]  ETA: 0:00:05\u001b[39m\u001b[K"
     ]
    },
    {
     "name": "stderr",
     "output_type": "stream",
     "text": [
      "\r\u001b[33mEvaluating over 250 metamodels:  48%[===========>             ]  ETA: 0:00:05\u001b[39m\u001b[K"
     ]
    },
    {
     "name": "stderr",
     "output_type": "stream",
     "text": [
      "\r\u001b[33mEvaluating over 250 metamodels:  48%[============>            ]  ETA: 0:00:05\u001b[39m\u001b[K"
     ]
    },
    {
     "name": "stderr",
     "output_type": "stream",
     "text": [
      "\r\u001b[33mEvaluating over 250 metamodels:  48%[============>            ]  ETA: 0:00:05\u001b[39m\u001b[K"
     ]
    },
    {
     "name": "stderr",
     "output_type": "stream",
     "text": [
      "\r\u001b[33mEvaluating over 250 metamodels:  49%[============>            ]  ETA: 0:00:05\u001b[39m\u001b[K"
     ]
    },
    {
     "name": "stderr",
     "output_type": "stream",
     "text": [
      "\r\u001b[33mEvaluating over 250 metamodels:  49%[============>            ]  ETA: 0:00:05\u001b[39m\u001b[K"
     ]
    },
    {
     "name": "stderr",
     "output_type": "stream",
     "text": [
      "\r\u001b[33mEvaluating over 250 metamodels:  50%[============>            ]  ETA: 0:00:05\u001b[39m\u001b[K"
     ]
    },
    {
     "name": "stderr",
     "output_type": "stream",
     "text": [
      "\r\u001b[33mEvaluating over 250 metamodels:  50%[============>            ]  ETA: 0:00:04\u001b[39m\u001b[K"
     ]
    },
    {
     "name": "stderr",
     "output_type": "stream",
     "text": [
      "\r\u001b[33mEvaluating over 250 metamodels:  50%[============>            ]  ETA: 0:00:04\u001b[39m\u001b[K"
     ]
    },
    {
     "name": "stderr",
     "output_type": "stream",
     "text": [
      "\r\u001b[33mEvaluating over 250 metamodels:  51%[============>            ]  ETA: 0:00:04\u001b[39m\u001b[K"
     ]
    },
    {
     "name": "stderr",
     "output_type": "stream",
     "text": [
      "\r\u001b[33mEvaluating over 250 metamodels:  51%[============>            ]  ETA: 0:00:04\u001b[39m\u001b[K"
     ]
    },
    {
     "name": "stderr",
     "output_type": "stream",
     "text": [
      "\r\u001b[33mEvaluating over 250 metamodels:  52%[============>            ]  ETA: 0:00:04\u001b[39m\u001b[K"
     ]
    },
    {
     "name": "stderr",
     "output_type": "stream",
     "text": [
      "\r\u001b[33mEvaluating over 250 metamodels:  52%[=============>           ]  ETA: 0:00:04\u001b[39m\u001b[K"
     ]
    },
    {
     "name": "stderr",
     "output_type": "stream",
     "text": [
      "\r\u001b[33mEvaluating over 250 metamodels:  52%[=============>           ]  ETA: 0:00:04\u001b[39m\u001b[K"
     ]
    },
    {
     "name": "stderr",
     "output_type": "stream",
     "text": [
      "\r\u001b[33mEvaluating over 250 metamodels:  53%[=============>           ]  ETA: 0:00:04\u001b[39m\u001b[K"
     ]
    },
    {
     "name": "stderr",
     "output_type": "stream",
     "text": [
      "\r\u001b[33mEvaluating over 250 metamodels:  53%[=============>           ]  ETA: 0:00:04\u001b[39m\u001b[K"
     ]
    },
    {
     "name": "stderr",
     "output_type": "stream",
     "text": [
      "\r\u001b[33mEvaluating over 250 metamodels:  54%[=============>           ]  ETA: 0:00:04\u001b[39m\u001b[K"
     ]
    },
    {
     "name": "stderr",
     "output_type": "stream",
     "text": [
      "\r\u001b[33mEvaluating over 250 metamodels:  54%[=============>           ]  ETA: 0:00:04\u001b[39m\u001b[K"
     ]
    },
    {
     "name": "stderr",
     "output_type": "stream",
     "text": [
      "\r\u001b[33mEvaluating over 250 metamodels:  54%[=============>           ]  ETA: 0:00:04\u001b[39m\u001b[K"
     ]
    },
    {
     "name": "stderr",
     "output_type": "stream",
     "text": [
      "\r\u001b[33mEvaluating over 250 metamodels:  55%[=============>           ]  ETA: 0:00:04\u001b[39m\u001b[K"
     ]
    },
    {
     "name": "stderr",
     "output_type": "stream",
     "text": [
      "\r\u001b[33mEvaluating over 250 metamodels:  55%[=============>           ]  ETA: 0:00:04\u001b[39m\u001b[K"
     ]
    },
    {
     "name": "stderr",
     "output_type": "stream",
     "text": [
      "\r\u001b[33mEvaluating over 250 metamodels:  56%[=============>           ]  ETA: 0:00:04\u001b[39m\u001b[K"
     ]
    },
    {
     "name": "stderr",
     "output_type": "stream",
     "text": [
      "\r\u001b[33mEvaluating over 250 metamodels:  56%[==============>          ]  ETA: 0:00:04\u001b[39m\u001b[K"
     ]
    },
    {
     "name": "stderr",
     "output_type": "stream",
     "text": [
      "\r\u001b[33mEvaluating over 250 metamodels:  56%[==============>          ]  ETA: 0:00:04\u001b[39m\u001b[K"
     ]
    },
    {
     "name": "stderr",
     "output_type": "stream",
     "text": [
      "\r\u001b[33mEvaluating over 250 metamodels:  57%[==============>          ]  ETA: 0:00:04\u001b[39m\u001b[K"
     ]
    },
    {
     "name": "stderr",
     "output_type": "stream",
     "text": [
      "\r\u001b[33mEvaluating over 250 metamodels:  57%[==============>          ]  ETA: 0:00:04\u001b[39m\u001b[K"
     ]
    },
    {
     "name": "stderr",
     "output_type": "stream",
     "text": [
      "\r\u001b[33mEvaluating over 250 metamodels:  58%[==============>          ]  ETA: 0:00:04\u001b[39m\u001b[K"
     ]
    },
    {
     "name": "stderr",
     "output_type": "stream",
     "text": [
      "\r\u001b[33mEvaluating over 250 metamodels:  58%[==============>          ]  ETA: 0:00:04\u001b[39m\u001b[K"
     ]
    },
    {
     "name": "stderr",
     "output_type": "stream",
     "text": [
      "\r\u001b[33mEvaluating over 250 metamodels:  58%[==============>          ]  ETA: 0:00:03\u001b[39m\u001b[K"
     ]
    },
    {
     "name": "stderr",
     "output_type": "stream",
     "text": [
      "\r\u001b[33mEvaluating over 250 metamodels:  59%[==============>          ]  ETA: 0:00:03\u001b[39m\u001b[K"
     ]
    },
    {
     "name": "stderr",
     "output_type": "stream",
     "text": [
      "\r\u001b[33mEvaluating over 250 metamodels:  59%[==============>          ]  ETA: 0:00:03\u001b[39m\u001b[K"
     ]
    },
    {
     "name": "stderr",
     "output_type": "stream",
     "text": [
      "\r\u001b[33mEvaluating over 250 metamodels:  60%[==============>          ]  ETA: 0:00:03\u001b[39m\u001b[K"
     ]
    },
    {
     "name": "stderr",
     "output_type": "stream",
     "text": [
      "\r\u001b[33mEvaluating over 250 metamodels:  60%[===============>         ]  ETA: 0:00:03\u001b[39m\u001b[K"
     ]
    },
    {
     "name": "stderr",
     "output_type": "stream",
     "text": [
      "\r\u001b[33mEvaluating over 250 metamodels:  60%[===============>         ]  ETA: 0:00:03\u001b[39m\u001b[K"
     ]
    },
    {
     "name": "stderr",
     "output_type": "stream",
     "text": [
      "\r\u001b[33mEvaluating over 250 metamodels:  61%[===============>         ]  ETA: 0:00:03\u001b[39m\u001b[K"
     ]
    },
    {
     "name": "stderr",
     "output_type": "stream",
     "text": [
      "\r\u001b[33mEvaluating over 250 metamodels:  61%[===============>         ]  ETA: 0:00:03\u001b[39m\u001b[K"
     ]
    },
    {
     "name": "stderr",
     "output_type": "stream",
     "text": [
      "\r\u001b[33mEvaluating over 250 metamodels:  62%[===============>         ]  ETA: 0:00:03\u001b[39m\u001b[K"
     ]
    },
    {
     "name": "stderr",
     "output_type": "stream",
     "text": [
      "\r\u001b[33mEvaluating over 250 metamodels:  62%[===============>         ]  ETA: 0:00:03\u001b[39m\u001b[K"
     ]
    },
    {
     "name": "stderr",
     "output_type": "stream",
     "text": [
      "\r\u001b[33mEvaluating over 250 metamodels:  62%[===============>         ]  ETA: 0:00:03\u001b[39m\u001b[K"
     ]
    },
    {
     "name": "stderr",
     "output_type": "stream",
     "text": [
      "\r\u001b[33mEvaluating over 250 metamodels:  63%[===============>         ]  ETA: 0:00:03\u001b[39m\u001b[K"
     ]
    },
    {
     "name": "stderr",
     "output_type": "stream",
     "text": [
      "\r\u001b[33mEvaluating over 250 metamodels:  63%[===============>         ]  ETA: 0:00:03\u001b[39m\u001b[K"
     ]
    },
    {
     "name": "stderr",
     "output_type": "stream",
     "text": [
      "\r\u001b[33mEvaluating over 250 metamodels:  64%[===============>         ]  ETA: 0:00:03\u001b[39m\u001b[K"
     ]
    },
    {
     "name": "stderr",
     "output_type": "stream",
     "text": [
      "\r\u001b[33mEvaluating over 250 metamodels:  64%[================>        ]  ETA: 0:00:03\u001b[39m\u001b[K"
     ]
    },
    {
     "name": "stderr",
     "output_type": "stream",
     "text": [
      "\r\u001b[33mEvaluating over 250 metamodels:  64%[================>        ]  ETA: 0:00:03\u001b[39m\u001b[K"
     ]
    },
    {
     "name": "stderr",
     "output_type": "stream",
     "text": [
      "\r\u001b[33mEvaluating over 250 metamodels:  65%[================>        ]  ETA: 0:00:03\u001b[39m\u001b[K"
     ]
    },
    {
     "name": "stderr",
     "output_type": "stream",
     "text": [
      "\r\u001b[33mEvaluating over 250 metamodels:  65%[================>        ]  ETA: 0:00:03\u001b[39m\u001b[K"
     ]
    },
    {
     "name": "stderr",
     "output_type": "stream",
     "text": [
      "\r\u001b[33mEvaluating over 250 metamodels:  66%[================>        ]  ETA: 0:00:03\u001b[39m\u001b[K"
     ]
    },
    {
     "name": "stderr",
     "output_type": "stream",
     "text": [
      "\r\u001b[33mEvaluating over 250 metamodels:  66%[================>        ]  ETA: 0:00:03\u001b[39m\u001b[K"
     ]
    },
    {
     "name": "stderr",
     "output_type": "stream",
     "text": [
      "\r\u001b[33mEvaluating over 250 metamodels:  66%[================>        ]  ETA: 0:00:03\u001b[39m\u001b[K"
     ]
    },
    {
     "name": "stderr",
     "output_type": "stream",
     "text": [
      "\r\u001b[33mEvaluating over 250 metamodels:  67%[================>        ]  ETA: 0:00:03\u001b[39m\u001b[K"
     ]
    },
    {
     "name": "stderr",
     "output_type": "stream",
     "text": [
      "\r\u001b[33mEvaluating over 250 metamodels:  67%[================>        ]  ETA: 0:00:03\u001b[39m\u001b[K"
     ]
    },
    {
     "name": "stderr",
     "output_type": "stream",
     "text": [
      "\r\u001b[33mEvaluating over 250 metamodels:  68%[================>        ]  ETA: 0:00:03\u001b[39m\u001b[K"
     ]
    },
    {
     "name": "stderr",
     "output_type": "stream",
     "text": [
      "\r\u001b[33mEvaluating over 250 metamodels:  68%[=================>       ]  ETA: 0:00:02\u001b[39m\u001b[K"
     ]
    },
    {
     "name": "stderr",
     "output_type": "stream",
     "text": [
      "\r\u001b[33mEvaluating over 250 metamodels:  68%[=================>       ]  ETA: 0:00:02\u001b[39m\u001b[K"
     ]
    },
    {
     "name": "stderr",
     "output_type": "stream",
     "text": [
      "\r\u001b[33mEvaluating over 250 metamodels:  69%[=================>       ]  ETA: 0:00:02\u001b[39m\u001b[K"
     ]
    },
    {
     "name": "stderr",
     "output_type": "stream",
     "text": [
      "\r\u001b[33mEvaluating over 250 metamodels:  69%[=================>       ]  ETA: 0:00:02\u001b[39m\u001b[K"
     ]
    },
    {
     "name": "stderr",
     "output_type": "stream",
     "text": [
      "\r\u001b[33mEvaluating over 250 metamodels:  70%[=================>       ]  ETA: 0:00:02\u001b[39m\u001b[K"
     ]
    },
    {
     "name": "stderr",
     "output_type": "stream",
     "text": [
      "\r\u001b[33mEvaluating over 250 metamodels:  70%[=================>       ]  ETA: 0:00:02\u001b[39m\u001b[K"
     ]
    },
    {
     "name": "stderr",
     "output_type": "stream",
     "text": [
      "\r\u001b[33mEvaluating over 250 metamodels:  70%[=================>       ]  ETA: 0:00:02\u001b[39m\u001b[K"
     ]
    },
    {
     "name": "stderr",
     "output_type": "stream",
     "text": [
      "\r\u001b[33mEvaluating over 250 metamodels:  71%[=================>       ]  ETA: 0:00:02\u001b[39m\u001b[K"
     ]
    },
    {
     "name": "stderr",
     "output_type": "stream",
     "text": [
      "\r\u001b[33mEvaluating over 250 metamodels:  71%[=================>       ]  ETA: 0:00:02\u001b[39m\u001b[K"
     ]
    },
    {
     "name": "stderr",
     "output_type": "stream",
     "text": [
      "\r\u001b[33mEvaluating over 250 metamodels:  72%[=================>       ]  ETA: 0:00:02\u001b[39m\u001b[K"
     ]
    },
    {
     "name": "stderr",
     "output_type": "stream",
     "text": [
      "\r\u001b[33mEvaluating over 250 metamodels:  72%[==================>      ]  ETA: 0:00:02\u001b[39m\u001b[K"
     ]
    },
    {
     "name": "stderr",
     "output_type": "stream",
     "text": [
      "\r\u001b[33mEvaluating over 250 metamodels:  72%[==================>      ]  ETA: 0:00:02\u001b[39m\u001b[K"
     ]
    },
    {
     "name": "stderr",
     "output_type": "stream",
     "text": [
      "\r\u001b[33mEvaluating over 250 metamodels:  73%[==================>      ]  ETA: 0:00:02\u001b[39m\u001b[K"
     ]
    },
    {
     "name": "stderr",
     "output_type": "stream",
     "text": [
      "\r\u001b[33mEvaluating over 250 metamodels:  73%[==================>      ]  ETA: 0:00:02\u001b[39m\u001b[K"
     ]
    },
    {
     "name": "stderr",
     "output_type": "stream",
     "text": [
      "\r\u001b[33mEvaluating over 250 metamodels:  74%[==================>      ]  ETA: 0:00:02\u001b[39m\u001b[K"
     ]
    },
    {
     "name": "stderr",
     "output_type": "stream",
     "text": [
      "\r\u001b[33mEvaluating over 250 metamodels:  74%[==================>      ]  ETA: 0:00:02\u001b[39m\u001b[K"
     ]
    },
    {
     "name": "stderr",
     "output_type": "stream",
     "text": [
      "\r\u001b[33mEvaluating over 250 metamodels:  74%[==================>      ]  ETA: 0:00:02\u001b[39m\u001b[K"
     ]
    },
    {
     "name": "stderr",
     "output_type": "stream",
     "text": [
      "\r\u001b[33mEvaluating over 250 metamodels:  75%[==================>      ]  ETA: 0:00:02\u001b[39m\u001b[K"
     ]
    },
    {
     "name": "stderr",
     "output_type": "stream",
     "text": [
      "\r\u001b[33mEvaluating over 250 metamodels:  75%[==================>      ]  ETA: 0:00:02\u001b[39m\u001b[K"
     ]
    },
    {
     "name": "stderr",
     "output_type": "stream",
     "text": [
      "\r\u001b[33mEvaluating over 250 metamodels:  76%[==================>      ]  ETA: 0:00:02\u001b[39m\u001b[K"
     ]
    },
    {
     "name": "stderr",
     "output_type": "stream",
     "text": [
      "\r\u001b[33mEvaluating over 250 metamodels:  76%[===================>     ]  ETA: 0:00:02\u001b[39m\u001b[K"
     ]
    },
    {
     "name": "stderr",
     "output_type": "stream",
     "text": [
      "\r\u001b[33mEvaluating over 250 metamodels:  76%[===================>     ]  ETA: 0:00:02\u001b[39m\u001b[K"
     ]
    },
    {
     "name": "stderr",
     "output_type": "stream",
     "text": [
      "\r\u001b[33mEvaluating over 250 metamodels:  77%[===================>     ]  ETA: 0:00:02\u001b[39m\u001b[K"
     ]
    },
    {
     "name": "stderr",
     "output_type": "stream",
     "text": [
      "\r\u001b[33mEvaluating over 250 metamodels:  77%[===================>     ]  ETA: 0:00:02\u001b[39m\u001b[K"
     ]
    },
    {
     "name": "stderr",
     "output_type": "stream",
     "text": [
      "\r\u001b[33mEvaluating over 250 metamodels:  78%[===================>     ]  ETA: 0:00:02\u001b[39m\u001b[K"
     ]
    },
    {
     "name": "stderr",
     "output_type": "stream",
     "text": [
      "\r\u001b[33mEvaluating over 250 metamodels:  78%[===================>     ]  ETA: 0:00:02\u001b[39m\u001b[K"
     ]
    },
    {
     "name": "stderr",
     "output_type": "stream",
     "text": [
      "\r\u001b[33mEvaluating over 250 metamodels:  78%[===================>     ]  ETA: 0:00:02\u001b[39m\u001b[K"
     ]
    },
    {
     "name": "stderr",
     "output_type": "stream",
     "text": [
      "\r\u001b[33mEvaluating over 250 metamodels:  79%[===================>     ]  ETA: 0:00:02\u001b[39m\u001b[K"
     ]
    },
    {
     "name": "stderr",
     "output_type": "stream",
     "text": [
      "\r\u001b[33mEvaluating over 250 metamodels:  79%[===================>     ]  ETA: 0:00:02\u001b[39m\u001b[K"
     ]
    },
    {
     "name": "stderr",
     "output_type": "stream",
     "text": [
      "\r\u001b[33mEvaluating over 250 metamodels:  80%[===================>     ]  ETA: 0:00:01\u001b[39m\u001b[K"
     ]
    },
    {
     "name": "stderr",
     "output_type": "stream",
     "text": [
      "\r\u001b[33mEvaluating over 250 metamodels:  80%[====================>    ]  ETA: 0:00:01\u001b[39m\u001b[K"
     ]
    },
    {
     "name": "stderr",
     "output_type": "stream",
     "text": [
      "\r\u001b[33mEvaluating over 250 metamodels:  80%[====================>    ]  ETA: 0:00:01\u001b[39m\u001b[K"
     ]
    },
    {
     "name": "stderr",
     "output_type": "stream",
     "text": [
      "\r\u001b[33mEvaluating over 250 metamodels:  81%[====================>    ]  ETA: 0:00:01\u001b[39m\u001b[K"
     ]
    },
    {
     "name": "stderr",
     "output_type": "stream",
     "text": [
      "\r\u001b[33mEvaluating over 250 metamodels:  81%[====================>    ]  ETA: 0:00:01\u001b[39m\u001b[K"
     ]
    },
    {
     "name": "stderr",
     "output_type": "stream",
     "text": [
      "\r\u001b[33mEvaluating over 250 metamodels:  82%[====================>    ]  ETA: 0:00:01\u001b[39m\u001b[K"
     ]
    },
    {
     "name": "stderr",
     "output_type": "stream",
     "text": [
      "\r\u001b[33mEvaluating over 250 metamodels:  82%[====================>    ]  ETA: 0:00:01\u001b[39m\u001b[K"
     ]
    },
    {
     "name": "stderr",
     "output_type": "stream",
     "text": [
      "\r\u001b[33mEvaluating over 250 metamodels:  82%[====================>    ]  ETA: 0:00:01\u001b[39m\u001b[K"
     ]
    },
    {
     "name": "stderr",
     "output_type": "stream",
     "text": [
      "\r\u001b[33mEvaluating over 250 metamodels:  83%[====================>    ]  ETA: 0:00:01\u001b[39m\u001b[K"
     ]
    },
    {
     "name": "stderr",
     "output_type": "stream",
     "text": [
      "\r\u001b[33mEvaluating over 250 metamodels:  83%[====================>    ]  ETA: 0:00:01\u001b[39m\u001b[K"
     ]
    },
    {
     "name": "stderr",
     "output_type": "stream",
     "text": [
      "\r\u001b[33mEvaluating over 250 metamodels:  84%[====================>    ]  ETA: 0:00:01\u001b[39m\u001b[K"
     ]
    },
    {
     "name": "stderr",
     "output_type": "stream",
     "text": [
      "\r\u001b[33mEvaluating over 250 metamodels:  84%[=====================>   ]  ETA: 0:00:01\u001b[39m\u001b[K"
     ]
    },
    {
     "name": "stderr",
     "output_type": "stream",
     "text": [
      "\r\u001b[33mEvaluating over 250 metamodels:  84%[=====================>   ]  ETA: 0:00:01\u001b[39m\u001b[K"
     ]
    },
    {
     "name": "stderr",
     "output_type": "stream",
     "text": [
      "\r\u001b[33mEvaluating over 250 metamodels:  85%[=====================>   ]  ETA: 0:00:01\u001b[39m\u001b[K"
     ]
    },
    {
     "name": "stderr",
     "output_type": "stream",
     "text": [
      "\r\u001b[33mEvaluating over 250 metamodels:  85%[=====================>   ]  ETA: 0:00:01\u001b[39m\u001b[K"
     ]
    },
    {
     "name": "stderr",
     "output_type": "stream",
     "text": [
      "\r\u001b[33mEvaluating over 250 metamodels:  86%[=====================>   ]  ETA: 0:00:01\u001b[39m\u001b[K"
     ]
    },
    {
     "name": "stderr",
     "output_type": "stream",
     "text": [
      "\r\u001b[33mEvaluating over 250 metamodels:  86%[=====================>   ]  ETA: 0:00:01\u001b[39m\u001b[K"
     ]
    },
    {
     "name": "stderr",
     "output_type": "stream",
     "text": [
      "\r\u001b[33mEvaluating over 250 metamodels:  86%[=====================>   ]  ETA: 0:00:01\u001b[39m\u001b[K"
     ]
    },
    {
     "name": "stderr",
     "output_type": "stream",
     "text": [
      "\r\u001b[33mEvaluating over 250 metamodels:  87%[=====================>   ]  ETA: 0:00:01\u001b[39m\u001b[K"
     ]
    },
    {
     "name": "stderr",
     "output_type": "stream",
     "text": [
      "\r\u001b[33mEvaluating over 250 metamodels:  87%[=====================>   ]  ETA: 0:00:01\u001b[39m\u001b[K"
     ]
    },
    {
     "name": "stderr",
     "output_type": "stream",
     "text": [
      "\r\u001b[33mEvaluating over 250 metamodels:  88%[=====================>   ]  ETA: 0:00:01\u001b[39m\u001b[K"
     ]
    },
    {
     "name": "stderr",
     "output_type": "stream",
     "text": [
      "\r\u001b[33mEvaluating over 250 metamodels:  88%[======================>  ]  ETA: 0:00:01\u001b[39m\u001b[K"
     ]
    },
    {
     "name": "stderr",
     "output_type": "stream",
     "text": [
      "\r\u001b[33mEvaluating over 250 metamodels:  88%[======================>  ]  ETA: 0:00:01\u001b[39m\u001b[K"
     ]
    },
    {
     "name": "stderr",
     "output_type": "stream",
     "text": [
      "\r\u001b[33mEvaluating over 250 metamodels:  89%[======================>  ]  ETA: 0:00:01\u001b[39m\u001b[K"
     ]
    },
    {
     "name": "stderr",
     "output_type": "stream",
     "text": [
      "\r\u001b[33mEvaluating over 250 metamodels:  89%[======================>  ]  ETA: 0:00:01\u001b[39m\u001b[K"
     ]
    },
    {
     "name": "stderr",
     "output_type": "stream",
     "text": [
      "\r\u001b[33mEvaluating over 250 metamodels:  90%[======================>  ]  ETA: 0:00:01\u001b[39m\u001b[K"
     ]
    },
    {
     "name": "stderr",
     "output_type": "stream",
     "text": [
      "\r\u001b[33mEvaluating over 250 metamodels:  90%[======================>  ]  ETA: 0:00:01\u001b[39m\u001b[K"
     ]
    },
    {
     "name": "stderr",
     "output_type": "stream",
     "text": [
      "\r\u001b[33mEvaluating over 250 metamodels:  90%[======================>  ]  ETA: 0:00:01\u001b[39m\u001b[K"
     ]
    },
    {
     "name": "stderr",
     "output_type": "stream",
     "text": [
      "\r\u001b[33mEvaluating over 250 metamodels:  91%[======================>  ]  ETA: 0:00:01\u001b[39m\u001b[K"
     ]
    },
    {
     "name": "stderr",
     "output_type": "stream",
     "text": [
      "\r\u001b[33mEvaluating over 250 metamodels:  91%[======================>  ]  ETA: 0:00:01\u001b[39m\u001b[K"
     ]
    },
    {
     "name": "stderr",
     "output_type": "stream",
     "text": [
      "\r\u001b[33mEvaluating over 250 metamodels:  92%[======================>  ]  ETA: 0:00:01\u001b[39m\u001b[K"
     ]
    },
    {
     "name": "stderr",
     "output_type": "stream",
     "text": [
      "\r\u001b[33mEvaluating over 250 metamodels:  92%[=======================> ]  ETA: 0:00:01\u001b[39m\u001b[K"
     ]
    },
    {
     "name": "stderr",
     "output_type": "stream",
     "text": [
      "\r\u001b[33mEvaluating over 250 metamodels:  92%[=======================> ]  ETA: 0:00:01\u001b[39m\u001b[K"
     ]
    },
    {
     "name": "stderr",
     "output_type": "stream",
     "text": [
      "\r\u001b[33mEvaluating over 250 metamodels:  93%[=======================> ]  ETA: 0:00:01\u001b[39m\u001b[K"
     ]
    },
    {
     "name": "stderr",
     "output_type": "stream",
     "text": [
      "\r\u001b[33mEvaluating over 250 metamodels:  93%[=======================> ]  ETA: 0:00:00\u001b[39m\u001b[K"
     ]
    },
    {
     "name": "stderr",
     "output_type": "stream",
     "text": [
      "\r\u001b[33mEvaluating over 250 metamodels:  94%[=======================> ]  ETA: 0:00:00\u001b[39m\u001b[K"
     ]
    },
    {
     "name": "stderr",
     "output_type": "stream",
     "text": [
      "\r\u001b[33mEvaluating over 250 metamodels:  94%[=======================> ]  ETA: 0:00:00\u001b[39m\u001b[K"
     ]
    },
    {
     "name": "stderr",
     "output_type": "stream",
     "text": [
      "\r\u001b[33mEvaluating over 250 metamodels:  94%[=======================> ]  ETA: 0:00:00\u001b[39m\u001b[K"
     ]
    },
    {
     "name": "stderr",
     "output_type": "stream",
     "text": [
      "\r\u001b[33mEvaluating over 250 metamodels:  95%[=======================> ]  ETA: 0:00:00\u001b[39m\u001b[K"
     ]
    },
    {
     "name": "stderr",
     "output_type": "stream",
     "text": [
      "\r\u001b[33mEvaluating over 250 metamodels:  95%[=======================> ]  ETA: 0:00:00\u001b[39m\u001b[K"
     ]
    },
    {
     "name": "stderr",
     "output_type": "stream",
     "text": [
      "\r\u001b[33mEvaluating over 250 metamodels:  96%[=======================> ]  ETA: 0:00:00\u001b[39m\u001b[K"
     ]
    },
    {
     "name": "stderr",
     "output_type": "stream",
     "text": [
      "\r\u001b[33mEvaluating over 250 metamodels:  96%[========================>]  ETA: 0:00:00\u001b[39m\u001b[K"
     ]
    },
    {
     "name": "stderr",
     "output_type": "stream",
     "text": [
      "\r\u001b[33mEvaluating over 250 metamodels:  96%[========================>]  ETA: 0:00:00\u001b[39m\u001b[K"
     ]
    },
    {
     "name": "stderr",
     "output_type": "stream",
     "text": [
      "\r\u001b[33mEvaluating over 250 metamodels:  97%[========================>]  ETA: 0:00:00\u001b[39m\u001b[K"
     ]
    },
    {
     "name": "stderr",
     "output_type": "stream",
     "text": [
      "\r\u001b[33mEvaluating over 250 metamodels:  97%[========================>]  ETA: 0:00:00\u001b[39m\u001b[K"
     ]
    },
    {
     "name": "stderr",
     "output_type": "stream",
     "text": [
      "\r\u001b[33mEvaluating over 250 metamodels:  98%[========================>]  ETA: 0:00:00\u001b[39m\u001b[K"
     ]
    },
    {
     "name": "stderr",
     "output_type": "stream",
     "text": [
      "\r\u001b[33mEvaluating over 250 metamodels:  98%[========================>]  ETA: 0:00:00\u001b[39m\u001b[K"
     ]
    },
    {
     "name": "stderr",
     "output_type": "stream",
     "text": [
      "\r\u001b[33mEvaluating over 250 metamodels:  98%[========================>]  ETA: 0:00:00\u001b[39m\u001b[K"
     ]
    },
    {
     "name": "stderr",
     "output_type": "stream",
     "text": [
      "\r\u001b[33mEvaluating over 250 metamodels:  99%[========================>]  ETA: 0:00:00\u001b[39m\u001b[K"
     ]
    },
    {
     "name": "stderr",
     "output_type": "stream",
     "text": [
      "\r\u001b[33mEvaluating over 250 metamodels:  99%[========================>]  ETA: 0:00:00\u001b[39m\u001b[K"
     ]
    },
    {
     "name": "stderr",
     "output_type": "stream",
     "text": [
      "\r\u001b[33mEvaluating over 250 metamodels: 100%[========================>]  ETA: 0:00:00\u001b[39m\u001b[K"
     ]
    },
    {
     "name": "stderr",
     "output_type": "stream",
     "text": [
      "\r\u001b[33mEvaluating over 250 metamodels: 100%[=========================] Time: 0:00:06\u001b[39m\u001b[K\n"
     ]
    },
    {
     "data": {
      "text/plain": [
       "DecisionTreeRegressor(\n",
       "  max_depth = 3, \n",
       "  min_samples_leaf = 7, \n",
       "  min_samples_split = 2, \n",
       "  min_purity_increase = 0.0, \n",
       "  n_subfeatures = 0, \n",
       "  post_prune = false, \n",
       "  merge_purity_threshold = 1.0, \n",
       "  rng = Random._GLOBAL_RNG())"
      ]
     },
     "metadata": {},
     "output_type": "display_data"
    }
   ],
   "source": [
    "r1 = range(DecisionTreeRegressor(), :max_depth, lower=1, upper=5)\n",
    "r2 = range(DecisionTreeRegressor(), :min_samples_leaf, lower=5, upper=100,)\n",
    "\n",
    "tm = TunedModel(model=DecisionTreeRegressor(), ranges=[r1, r2], tuning=Grid(resolution=50),\n",
    "                resampling=CV(nfolds=5, rng=42), measure=rms)\n",
    "\n",
    "tree = machine(tm, X, y) |> fit!\n",
    "\n",
    "fp = fitted_params(tree).best_model"
   ]
  },
  {
   "cell_type": "code",
   "execution_count": 19,
   "id": "5c09c1b0-f919-4f15-87ea-f2932738fdb2",
   "metadata": {},
   "outputs": [
    {
     "name": "stdout",
     "output_type": "stream",
     "text": [
      "Feature 2 < 162800.0 ?\n",
      "├─ Feature 12 < 0.5 ?\n",
      "    ├─ Feature 2 < 65620.0 ?\n",
      "        ├─ 3674.0157498824638 : 0/4254\n",
      "        └─ 37326.37455830388 : 0/283\n",
      "    └─ Feature 2 < 63690.0 ?\n",
      "        ├─ 38363.41998060136 : 0/1031\n",
      "        └─ 91199.4893111639 : 0/421\n",
      "└─ 551118.3636363636 : 0/11\n"
     ]
    }
   ],
   "source": [
    "import DecisionTree\n",
    "DecisionTree.print_tree(tree.fitresult.fitresult, 5)"
   ]
  },
  {
   "cell_type": "markdown",
   "id": "60c5ec97-843e-4286-93bc-3fef04681e1c",
   "metadata": {},
   "source": [
    "### Random Forest"
   ]
  },
  {
   "cell_type": "code",
   "execution_count": 20,
   "id": "abf7dd6c-22d6-4539-9cee-bbcd73cf2584",
   "metadata": {},
   "outputs": [
    {
     "data": {
      "text/plain": [
       "DeterministicEnsembleModel(\n",
       "  model = DecisionTreeRegressor(\n",
       "        max_depth = -1, \n",
       "        min_samples_leaf = 5, \n",
       "        min_samples_split = 2, \n",
       "        min_purity_increase = 0.0, \n",
       "        n_subfeatures = 0, \n",
       "        post_prune = false, \n",
       "        merge_purity_threshold = 1.0, \n",
       "        rng = Random._GLOBAL_RNG()), \n",
       "  atomic_weights = Float64[], \n",
       "  bagging_fraction = 0.8, \n",
       "  rng = Random._GLOBAL_RNG(), \n",
       "  n = 100, \n",
       "  acceleration = CPU1{Nothing}(nothing), \n",
       "  out_of_bag_measure = Any[])"
      ]
     },
     "metadata": {},
     "output_type": "display_data"
    }
   ],
   "source": [
    "forest = EnsembleModel(model=DecisionTreeRegressor())"
   ]
  },
  {
   "cell_type": "code",
   "execution_count": 21,
   "id": "792b388c-577d-48be-a913-07a5cad3dcca",
   "metadata": {},
   "outputs": [
    {
     "name": "stderr",
     "output_type": "stream",
     "text": [
      "\r\u001b[33mEvaluating over 60 metamodels:   0%[>                        ]  ETA: N/A\u001b[39m\u001b[K"
     ]
    },
    {
     "name": "stderr",
     "output_type": "stream",
     "text": [
      "\r\u001b[33mEvaluating over 60 metamodels:   2%[>                        ]  ETA: 0:02:43\u001b[39m\u001b[K"
     ]
    },
    {
     "name": "stderr",
     "output_type": "stream",
     "text": [
      "\r\u001b[33mEvaluating over 60 metamodels:   3%[>                        ]  ETA: 0:02:03\u001b[39m\u001b[K"
     ]
    },
    {
     "name": "stderr",
     "output_type": "stream",
     "text": [
      "\r\u001b[33mEvaluating over 60 metamodels:   5%[=>                       ]  ETA: 0:01:52\u001b[39m\u001b[K"
     ]
    },
    {
     "name": "stderr",
     "output_type": "stream",
     "text": [
      "\r\u001b[33mEvaluating over 60 metamodels:   7%[=>                       ]  ETA: 0:01:31\u001b[39m\u001b[K"
     ]
    },
    {
     "name": "stderr",
     "output_type": "stream",
     "text": [
      "\r\u001b[33mEvaluating over 60 metamodels:   8%[==>                      ]  ETA: 0:01:34\u001b[39m\u001b[K"
     ]
    },
    {
     "name": "stderr",
     "output_type": "stream",
     "text": [
      "\r\u001b[33mEvaluating over 60 metamodels:  10%[==>                      ]  ETA: 0:01:26\u001b[39m\u001b[K"
     ]
    },
    {
     "name": "stderr",
     "output_type": "stream",
     "text": [
      "\r\u001b[33mEvaluating over 60 metamodels:  12%[==>                      ]  ETA: 0:01:21\u001b[39m\u001b[K"
     ]
    },
    {
     "name": "stderr",
     "output_type": "stream",
     "text": [
      "\r\u001b[33mEvaluating over 60 metamodels:  13%[===>                     ]  ETA: 0:01:15\u001b[39m\u001b[K"
     ]
    },
    {
     "name": "stderr",
     "output_type": "stream",
     "text": [
      "\r\u001b[33mEvaluating over 60 metamodels:  15%[===>                     ]  ETA: 0:01:18\u001b[39m\u001b[K"
     ]
    },
    {
     "name": "stderr",
     "output_type": "stream",
     "text": [
      "\r\u001b[33mEvaluating over 60 metamodels:  17%[====>                    ]  ETA: 0:01:15\u001b[39m\u001b[K"
     ]
    },
    {
     "name": "stderr",
     "output_type": "stream",
     "text": [
      "\r\u001b[33mEvaluating over 60 metamodels:  18%[====>                    ]  ETA: 0:01:09\u001b[39m\u001b[K"
     ]
    },
    {
     "name": "stderr",
     "output_type": "stream",
     "text": [
      "\r\u001b[33mEvaluating over 60 metamodels:  20%[=====>                   ]  ETA: 0:01:07\u001b[39m\u001b[K"
     ]
    },
    {
     "name": "stderr",
     "output_type": "stream",
     "text": [
      "\r\u001b[33mEvaluating over 60 metamodels:  22%[=====>                   ]  ETA: 0:01:07\u001b[39m\u001b[K"
     ]
    },
    {
     "name": "stderr",
     "output_type": "stream",
     "text": [
      "\r\u001b[33mEvaluating over 60 metamodels:  23%[=====>                   ]  ETA: 0:01:05\u001b[39m\u001b[K"
     ]
    },
    {
     "name": "stderr",
     "output_type": "stream",
     "text": [
      "\r\u001b[33mEvaluating over 60 metamodels:  25%[======>                  ]  ETA: 0:01:05\u001b[39m\u001b[K"
     ]
    },
    {
     "name": "stderr",
     "output_type": "stream",
     "text": [
      "\r\u001b[33mEvaluating over 60 metamodels:  27%[======>                  ]  ETA: 0:01:04\u001b[39m\u001b[K"
     ]
    },
    {
     "name": "stderr",
     "output_type": "stream",
     "text": [
      "\r\u001b[33mEvaluating over 60 metamodels:  28%[=======>                 ]  ETA: 0:01:01\u001b[39m\u001b[K"
     ]
    },
    {
     "name": "stderr",
     "output_type": "stream",
     "text": [
      "\r\u001b[33mEvaluating over 60 metamodels:  30%[=======>                 ]  ETA: 0:00:59\u001b[39m\u001b[K"
     ]
    },
    {
     "name": "stderr",
     "output_type": "stream",
     "text": [
      "\r\u001b[33mEvaluating over 60 metamodels:  32%[=======>                 ]  ETA: 0:00:58\u001b[39m\u001b[K"
     ]
    },
    {
     "name": "stderr",
     "output_type": "stream",
     "text": [
      "\r\u001b[33mEvaluating over 60 metamodels:  33%[========>                ]  ETA: 0:00:56\u001b[39m\u001b[K"
     ]
    },
    {
     "name": "stderr",
     "output_type": "stream",
     "text": [
      "\r\u001b[33mEvaluating over 60 metamodels:  35%[========>                ]  ETA: 0:00:55\u001b[39m\u001b[K"
     ]
    },
    {
     "name": "stderr",
     "output_type": "stream",
     "text": [
      "\r\u001b[33mEvaluating over 60 metamodels:  37%[=========>               ]  ETA: 0:00:52\u001b[39m\u001b[K"
     ]
    },
    {
     "name": "stderr",
     "output_type": "stream",
     "text": [
      "\r\u001b[33mEvaluating over 60 metamodels:  38%[=========>               ]  ETA: 0:00:52\u001b[39m\u001b[K"
     ]
    },
    {
     "name": "stderr",
     "output_type": "stream",
     "text": [
      "\r\u001b[33mEvaluating over 60 metamodels:  40%[==========>              ]  ETA: 0:00:50\u001b[39m\u001b[K"
     ]
    },
    {
     "name": "stderr",
     "output_type": "stream",
     "text": [
      "\r\u001b[33mEvaluating over 60 metamodels:  42%[==========>              ]  ETA: 0:00:49\u001b[39m\u001b[K"
     ]
    },
    {
     "name": "stderr",
     "output_type": "stream",
     "text": [
      "\r\u001b[33mEvaluating over 60 metamodels:  43%[==========>              ]  ETA: 0:00:47\u001b[39m\u001b[K"
     ]
    },
    {
     "name": "stderr",
     "output_type": "stream",
     "text": [
      "\r\u001b[33mEvaluating over 60 metamodels:  45%[===========>             ]  ETA: 0:00:45\u001b[39m\u001b[K"
     ]
    },
    {
     "name": "stderr",
     "output_type": "stream",
     "text": [
      "\r\u001b[33mEvaluating over 60 metamodels:  47%[===========>             ]  ETA: 0:00:44\u001b[39m\u001b[K"
     ]
    },
    {
     "name": "stderr",
     "output_type": "stream",
     "text": [
      "\r\u001b[33mEvaluating over 60 metamodels:  48%[============>            ]  ETA: 0:00:44\u001b[39m\u001b[K"
     ]
    },
    {
     "name": "stderr",
     "output_type": "stream",
     "text": [
      "\r\u001b[33mEvaluating over 60 metamodels:  50%[============>            ]  ETA: 0:00:43\u001b[39m\u001b[K"
     ]
    },
    {
     "name": "stderr",
     "output_type": "stream",
     "text": [
      "\r\u001b[33mEvaluating over 60 metamodels:  52%[============>            ]  ETA: 0:00:42\u001b[39m\u001b[K"
     ]
    },
    {
     "name": "stderr",
     "output_type": "stream",
     "text": [
      "\r\u001b[33mEvaluating over 60 metamodels:  53%[=============>           ]  ETA: 0:00:41\u001b[39m\u001b[K"
     ]
    },
    {
     "name": "stderr",
     "output_type": "stream",
     "text": [
      "\r\u001b[33mEvaluating over 60 metamodels:  55%[=============>           ]  ETA: 0:00:39\u001b[39m\u001b[K"
     ]
    },
    {
     "name": "stderr",
     "output_type": "stream",
     "text": [
      "\r\u001b[33mEvaluating over 60 metamodels:  57%[==============>          ]  ETA: 0:00:38\u001b[39m\u001b[K"
     ]
    },
    {
     "name": "stderr",
     "output_type": "stream",
     "text": [
      "\r\u001b[33mEvaluating over 60 metamodels:  58%[==============>          ]  ETA: 0:00:36\u001b[39m\u001b[K"
     ]
    },
    {
     "name": "stderr",
     "output_type": "stream",
     "text": [
      "\r\u001b[33mEvaluating over 60 metamodels:  60%[===============>         ]  ETA: 0:00:35\u001b[39m\u001b[K"
     ]
    },
    {
     "name": "stderr",
     "output_type": "stream",
     "text": [
      "\r\u001b[33mEvaluating over 60 metamodels:  62%[===============>         ]  ETA: 0:00:34\u001b[39m\u001b[K"
     ]
    },
    {
     "name": "stderr",
     "output_type": "stream",
     "text": [
      "\r\u001b[33mEvaluating over 60 metamodels:  63%[===============>         ]  ETA: 0:00:33\u001b[39m\u001b[K"
     ]
    },
    {
     "name": "stderr",
     "output_type": "stream",
     "text": [
      "\r\u001b[33mEvaluating over 60 metamodels:  65%[================>        ]  ETA: 0:00:31\u001b[39m\u001b[K"
     ]
    },
    {
     "name": "stderr",
     "output_type": "stream",
     "text": [
      "\r\u001b[33mEvaluating over 60 metamodels:  67%[================>        ]  ETA: 0:00:30\u001b[39m\u001b[K"
     ]
    },
    {
     "name": "stderr",
     "output_type": "stream",
     "text": [
      "\r\u001b[33mEvaluating over 60 metamodels:  68%[=================>       ]  ETA: 0:00:29\u001b[39m\u001b[K"
     ]
    },
    {
     "name": "stderr",
     "output_type": "stream",
     "text": [
      "\r\u001b[33mEvaluating over 60 metamodels:  70%[=================>       ]  ETA: 0:00:28\u001b[39m\u001b[K"
     ]
    },
    {
     "name": "stderr",
     "output_type": "stream",
     "text": [
      "\r\u001b[33mEvaluating over 60 metamodels:  72%[=================>       ]  ETA: 0:00:26\u001b[39m\u001b[K"
     ]
    },
    {
     "name": "stderr",
     "output_type": "stream",
     "text": [
      "\r\u001b[33mEvaluating over 60 metamodels:  73%[==================>      ]  ETA: 0:00:24\u001b[39m\u001b[K"
     ]
    },
    {
     "name": "stderr",
     "output_type": "stream",
     "text": [
      "\r\u001b[33mEvaluating over 60 metamodels:  75%[==================>      ]  ETA: 0:00:23\u001b[39m\u001b[K"
     ]
    },
    {
     "name": "stderr",
     "output_type": "stream",
     "text": [
      "\r\u001b[33mEvaluating over 60 metamodels:  77%[===================>     ]  ETA: 0:00:21\u001b[39m\u001b[K"
     ]
    },
    {
     "name": "stderr",
     "output_type": "stream",
     "text": [
      "\r\u001b[33mEvaluating over 60 metamodels:  78%[===================>     ]  ETA: 0:00:19\u001b[39m\u001b[K"
     ]
    },
    {
     "name": "stderr",
     "output_type": "stream",
     "text": [
      "\r\u001b[33mEvaluating over 60 metamodels:  80%[====================>    ]  ETA: 0:00:18\u001b[39m\u001b[K"
     ]
    },
    {
     "name": "stderr",
     "output_type": "stream",
     "text": [
      "\r\u001b[33mEvaluating over 60 metamodels:  82%[====================>    ]  ETA: 0:00:17\u001b[39m\u001b[K"
     ]
    },
    {
     "name": "stderr",
     "output_type": "stream",
     "text": [
      "\r\u001b[33mEvaluating over 60 metamodels:  83%[====================>    ]  ETA: 0:00:15\u001b[39m\u001b[K"
     ]
    },
    {
     "name": "stderr",
     "output_type": "stream",
     "text": [
      "\r\u001b[33mEvaluating over 60 metamodels:  85%[=====================>   ]  ETA: 0:00:13\u001b[39m\u001b[K"
     ]
    },
    {
     "name": "stderr",
     "output_type": "stream",
     "text": [
      "\r\u001b[33mEvaluating over 60 metamodels:  87%[=====================>   ]  ETA: 0:00:12\u001b[39m\u001b[K"
     ]
    },
    {
     "name": "stderr",
     "output_type": "stream",
     "text": [
      "\r\u001b[33mEvaluating over 60 metamodels:  88%[======================>  ]  ETA: 0:00:11\u001b[39m\u001b[K"
     ]
    },
    {
     "name": "stderr",
     "output_type": "stream",
     "text": [
      "\r\u001b[33mEvaluating over 60 metamodels:  90%[======================>  ]  ETA: 0:00:09\u001b[39m\u001b[K"
     ]
    },
    {
     "name": "stderr",
     "output_type": "stream",
     "text": [
      "\r\u001b[33mEvaluating over 60 metamodels:  92%[======================>  ]  ETA: 0:00:07\u001b[39m\u001b[K"
     ]
    },
    {
     "name": "stderr",
     "output_type": "stream",
     "text": [
      "\r\u001b[33mEvaluating over 60 metamodels:  93%[=======================> ]  ETA: 0:00:06\u001b[39m\u001b[K"
     ]
    },
    {
     "name": "stderr",
     "output_type": "stream",
     "text": [
      "\r\u001b[33mEvaluating over 60 metamodels:  95%[=======================> ]  ETA: 0:00:04\u001b[39m\u001b[K"
     ]
    },
    {
     "name": "stderr",
     "output_type": "stream",
     "text": [
      "\r\u001b[33mEvaluating over 60 metamodels:  97%[========================>]  ETA: 0:00:03\u001b[39m\u001b[K"
     ]
    },
    {
     "name": "stderr",
     "output_type": "stream",
     "text": [
      "\r\u001b[33mEvaluating over 60 metamodels:  98%[========================>]  ETA: 0:00:01\u001b[39m\u001b[K"
     ]
    },
    {
     "name": "stderr",
     "output_type": "stream",
     "text": [
      "\r\u001b[33mEvaluating over 60 metamodels: 100%[=========================] Time: 0:01:28\u001b[39m\u001b[K\n"
     ]
    },
    {
     "name": "stdout",
     "output_type": "stream",
     "text": [
      "n_bootstraps = best_mdl.n = 100\n",
      "n_subfeatures = best_mdl.model.n_subfeatures = 5\n",
      "bagging_fraction = best_mdl.bagging_fraction = 0.6727272727272727\n"
     ]
    }
   ],
   "source": [
    "r1 = range(forest, :(model.n_subfeatures), lower=1, upper=5)\n",
    "r2 = range(forest, :bagging_fraction, lower=0.4, upper=1.0)\n",
    "tm = TunedModel(model=forest, tuning=Grid(resolution=12),\n",
    "                resampling=CV(nfolds=6), ranges=[r1, r2],\n",
    "                measure=rms)\n",
    "\n",
    "forest_tm = machine(tm, X, y) |> fit!\n",
    "\n",
    "best_mdl = fitted_params(forest_tm).best_model\n",
    "@show n_bootstraps = best_mdl.n\n",
    "@show n_subfeatures = best_mdl.model.n_subfeatures\n",
    "@show bagging_fraction = best_mdl.bagging_fraction;"
   ]
  },
  {
   "cell_type": "markdown",
   "id": "2458f801-04a6-4a63-9bf7-e001bea04af8",
   "metadata": {
    "tags": []
   },
   "source": [
    "using ShapML\n",
    "\n",
    "function predict_function(model, data)\n",
    "  data_pred = DataFrame(y_pred = predict(model, data))\n",
    "  return data_pred\n",
    "end\n",
    "\n",
    "explain = copy(X)\n",
    "reference = copy(X)\n",
    "\n",
    "@time data_shap = ShapML.shap(explain = explain,\n",
    "                        model = forest_tm,\n",
    "                        predict_function = predict_function,\n",
    "                        sample_size = 60,\n",
    "                        seed = 42\n",
    "                        );\n",
    "first(data_shap, 2)"
   ]
  },
  {
   "cell_type": "markdown",
   "id": "b2f6cead-cab5-4828-8093-7e6679783910",
   "metadata": {
    "tags": []
   },
   "source": [
    "using Gadfly\n",
    "\n",
    "function plot_shap(data_shap)\n",
    "    data_plot = combine(groupby(data_shap, :feature_name), :shap_effect => (x -> mean(abs.(x)) ) => :mean_effect )\n",
    "    data_plot = sort(data_plot, order(:mean_effect, rev = true))\n",
    "\n",
    "    baseline = round(data_shap.intercept[1], digits = 1)\n",
    "\n",
    "    p = plot(data_plot, y = :feature_name, x = :mean_effect, Coord.cartesian(yflip = true),\n",
    "             Scale.y_discrete, Geom.bar(position = :dodge, orientation = :horizontal),\n",
    "             Theme(bar_spacing = 1mm),\n",
    "             Guide.xlabel(\"|Shapley effect| (baseline = $baseline)\"), Guide.ylabel(nothing),\n",
    "             Guide.title(\"Feature Importance - Mean Absolute Shapley Value\"))\n",
    "end\n",
    "\n",
    "\n",
    "p = plot_shap(data_shap)"
   ]
  },
  {
   "cell_type": "markdown",
   "id": "e42cb845-f9d6-43d0-b2ee-72837f680251",
   "metadata": {},
   "source": [
    "### Boosted trees"
   ]
  },
  {
   "cell_type": "code",
   "execution_count": 22,
   "id": "1a6722a9-a317-4bf3-b416-b0782416d5ac",
   "metadata": {},
   "outputs": [
    {
     "name": "stdout",
     "output_type": "stream",
     "text": [
      "import MLJXGBoostInterface ✔\n"
     ]
    }
   ],
   "source": [
    "XGBR = @load XGBoostRegressor;"
   ]
  },
  {
   "cell_type": "code",
   "execution_count": 23,
   "id": "cf7af4b1-e535-42c7-a681-aabc8688a3c8",
   "metadata": {},
   "outputs": [
    {
     "name": "stderr",
     "output_type": "stream",
     "text": [
      "\r\u001b[33mEvaluating over 100 metamodels:   0%[>                        ]  ETA: N/A\u001b[39m\u001b[K"
     ]
    },
    {
     "name": "stderr",
     "output_type": "stream",
     "text": [
      "\r\u001b[33mEvaluating over 100 metamodels:   1%[>                        ]  ETA: 0:02:45\u001b[39m\u001b[K"
     ]
    },
    {
     "name": "stderr",
     "output_type": "stream",
     "text": [
      "\r\u001b[33mEvaluating over 100 metamodels:   2%[>                        ]  ETA: 0:01:24\u001b[39m\u001b[K"
     ]
    },
    {
     "name": "stderr",
     "output_type": "stream",
     "text": [
      "\r\u001b[33mEvaluating over 100 metamodels:   3%[>                        ]  ETA: 0:00:57\u001b[39m\u001b[K"
     ]
    },
    {
     "name": "stderr",
     "output_type": "stream",
     "text": [
      "\r\u001b[33mEvaluating over 100 metamodels:   4%[=>                       ]  ETA: 0:00:43\u001b[39m\u001b[K"
     ]
    },
    {
     "name": "stderr",
     "output_type": "stream",
     "text": [
      "\r\u001b[33mEvaluating over 100 metamodels:   5%[=>                       ]  ETA: 0:00:35\u001b[39m\u001b[K"
     ]
    },
    {
     "name": "stderr",
     "output_type": "stream",
     "text": [
      "\r\u001b[33mEvaluating over 100 metamodels:   6%[=>                       ]  ETA: 0:00:30\u001b[39m\u001b[K"
     ]
    },
    {
     "name": "stderr",
     "output_type": "stream",
     "text": [
      "\r\u001b[33mEvaluating over 100 metamodels:   7%[=>                       ]  ETA: 0:00:26\u001b[39m\u001b[K"
     ]
    },
    {
     "name": "stderr",
     "output_type": "stream",
     "text": [
      "\r\u001b[33mEvaluating over 100 metamodels:   8%[==>                      ]  ETA: 0:00:25\u001b[39m\u001b[K"
     ]
    },
    {
     "name": "stderr",
     "output_type": "stream",
     "text": [
      "\r\u001b[33mEvaluating over 100 metamodels:   9%[==>                      ]  ETA: 0:00:22\u001b[39m\u001b[K"
     ]
    },
    {
     "name": "stderr",
     "output_type": "stream",
     "text": [
      "\r\u001b[33mEvaluating over 100 metamodels:  10%[==>                      ]  ETA: 0:00:21\u001b[39m\u001b[K"
     ]
    },
    {
     "name": "stderr",
     "output_type": "stream",
     "text": [
      "\r\u001b[33mEvaluating over 100 metamodels:  11%[==>                      ]  ETA: 0:00:19\u001b[39m\u001b[K"
     ]
    },
    {
     "name": "stderr",
     "output_type": "stream",
     "text": [
      "\r\u001b[33mEvaluating over 100 metamodels:  12%[===>                     ]  ETA: 0:00:19\u001b[39m\u001b[K"
     ]
    },
    {
     "name": "stderr",
     "output_type": "stream",
     "text": [
      "\r\u001b[33mEvaluating over 100 metamodels:  13%[===>                     ]  ETA: 0:00:18\u001b[39m\u001b[K"
     ]
    },
    {
     "name": "stderr",
     "output_type": "stream",
     "text": [
      "\r\u001b[33mEvaluating over 100 metamodels:  14%[===>                     ]  ETA: 0:00:17\u001b[39m\u001b[K"
     ]
    },
    {
     "name": "stderr",
     "output_type": "stream",
     "text": [
      "\r\u001b[33mEvaluating over 100 metamodels:  15%[===>                     ]  ETA: 0:00:16\u001b[39m\u001b[K"
     ]
    },
    {
     "name": "stderr",
     "output_type": "stream",
     "text": [
      "\r\u001b[33mEvaluating over 100 metamodels:  16%[====>                    ]  ETA: 0:00:15\u001b[39m\u001b[K"
     ]
    },
    {
     "name": "stderr",
     "output_type": "stream",
     "text": [
      "\r\u001b[33mEvaluating over 100 metamodels:  17%[====>                    ]  ETA: 0:00:15\u001b[39m\u001b[K"
     ]
    },
    {
     "name": "stderr",
     "output_type": "stream",
     "text": [
      "\r\u001b[33mEvaluating over 100 metamodels:  18%[====>                    ]  ETA: 0:00:15\u001b[39m\u001b[K"
     ]
    },
    {
     "name": "stderr",
     "output_type": "stream",
     "text": [
      "\r\u001b[33mEvaluating over 100 metamodels:  19%[====>                    ]  ETA: 0:00:14\u001b[39m\u001b[K"
     ]
    },
    {
     "name": "stderr",
     "output_type": "stream",
     "text": [
      "\r\u001b[33mEvaluating over 100 metamodels:  20%[=====>                   ]  ETA: 0:00:14\u001b[39m\u001b[K"
     ]
    },
    {
     "name": "stderr",
     "output_type": "stream",
     "text": [
      "\r\u001b[33mEvaluating over 100 metamodels:  21%[=====>                   ]  ETA: 0:00:14\u001b[39m\u001b[K"
     ]
    },
    {
     "name": "stderr",
     "output_type": "stream",
     "text": [
      "\r\u001b[33mEvaluating over 100 metamodels:  22%[=====>                   ]  ETA: 0:00:13\u001b[39m\u001b[K"
     ]
    },
    {
     "name": "stderr",
     "output_type": "stream",
     "text": [
      "\r\u001b[33mEvaluating over 100 metamodels:  23%[=====>                   ]  ETA: 0:00:13\u001b[39m\u001b[K"
     ]
    },
    {
     "name": "stderr",
     "output_type": "stream",
     "text": [
      "\r\u001b[33mEvaluating over 100 metamodels:  24%[======>                  ]  ETA: 0:00:12\u001b[39m\u001b[K"
     ]
    },
    {
     "name": "stderr",
     "output_type": "stream",
     "text": [
      "\r\u001b[33mEvaluating over 100 metamodels:  25%[======>                  ]  ETA: 0:00:12\u001b[39m\u001b[K"
     ]
    },
    {
     "name": "stderr",
     "output_type": "stream",
     "text": [
      "\r\u001b[33mEvaluating over 100 metamodels:  26%[======>                  ]  ETA: 0:00:11\u001b[39m\u001b[K"
     ]
    },
    {
     "name": "stderr",
     "output_type": "stream",
     "text": [
      "\r\u001b[33mEvaluating over 100 metamodels:  27%[======>                  ]  ETA: 0:00:11\u001b[39m\u001b[K"
     ]
    },
    {
     "name": "stderr",
     "output_type": "stream",
     "text": [
      "\r\u001b[33mEvaluating over 100 metamodels:  28%[=======>                 ]  ETA: 0:00:11\u001b[39m\u001b[K"
     ]
    },
    {
     "name": "stderr",
     "output_type": "stream",
     "text": [
      "\r\u001b[33mEvaluating over 100 metamodels:  29%[=======>                 ]  ETA: 0:00:10\u001b[39m\u001b[K"
     ]
    },
    {
     "name": "stderr",
     "output_type": "stream",
     "text": [
      "\r\u001b[33mEvaluating over 100 metamodels:  30%[=======>                 ]  ETA: 0:00:10\u001b[39m\u001b[K"
     ]
    },
    {
     "name": "stderr",
     "output_type": "stream",
     "text": [
      "\r\u001b[33mEvaluating over 100 metamodels:  31%[=======>                 ]  ETA: 0:00:10\u001b[39m\u001b[K"
     ]
    },
    {
     "name": "stderr",
     "output_type": "stream",
     "text": [
      "\r\u001b[33mEvaluating over 100 metamodels:  32%[========>                ]  ETA: 0:00:10\u001b[39m\u001b[K"
     ]
    },
    {
     "name": "stderr",
     "output_type": "stream",
     "text": [
      "\r\u001b[33mEvaluating over 100 metamodels:  33%[========>                ]  ETA: 0:00:09\u001b[39m\u001b[K"
     ]
    },
    {
     "name": "stderr",
     "output_type": "stream",
     "text": [
      "\r\u001b[33mEvaluating over 100 metamodels:  34%[========>                ]  ETA: 0:00:09\u001b[39m\u001b[K"
     ]
    },
    {
     "name": "stderr",
     "output_type": "stream",
     "text": [
      "\r\u001b[33mEvaluating over 100 metamodels:  35%[========>                ]  ETA: 0:00:09\u001b[39m\u001b[K"
     ]
    },
    {
     "name": "stderr",
     "output_type": "stream",
     "text": [
      "\r\u001b[33mEvaluating over 100 metamodels:  36%[=========>               ]  ETA: 0:00:09\u001b[39m\u001b[K"
     ]
    },
    {
     "name": "stderr",
     "output_type": "stream",
     "text": [
      "\r\u001b[33mEvaluating over 100 metamodels:  37%[=========>               ]  ETA: 0:00:09\u001b[39m\u001b[K"
     ]
    },
    {
     "name": "stderr",
     "output_type": "stream",
     "text": [
      "\r\u001b[33mEvaluating over 100 metamodels:  38%[=========>               ]  ETA: 0:00:08\u001b[39m\u001b[K"
     ]
    },
    {
     "name": "stderr",
     "output_type": "stream",
     "text": [
      "\r\u001b[33mEvaluating over 100 metamodels:  39%[=========>               ]  ETA: 0:00:08\u001b[39m\u001b[K"
     ]
    },
    {
     "name": "stderr",
     "output_type": "stream",
     "text": [
      "\r\u001b[33mEvaluating over 100 metamodels:  40%[==========>              ]  ETA: 0:00:08\u001b[39m\u001b[K"
     ]
    },
    {
     "name": "stderr",
     "output_type": "stream",
     "text": [
      "\r\u001b[33mEvaluating over 100 metamodels:  41%[==========>              ]  ETA: 0:00:08\u001b[39m\u001b[K"
     ]
    },
    {
     "name": "stderr",
     "output_type": "stream",
     "text": [
      "\r\u001b[33mEvaluating over 100 metamodels:  42%[==========>              ]  ETA: 0:00:08\u001b[39m\u001b[K"
     ]
    },
    {
     "name": "stderr",
     "output_type": "stream",
     "text": [
      "\r\u001b[33mEvaluating over 100 metamodels:  43%[==========>              ]  ETA: 0:00:07\u001b[39m\u001b[K"
     ]
    },
    {
     "name": "stderr",
     "output_type": "stream",
     "text": [
      "\r\u001b[33mEvaluating over 100 metamodels:  44%[===========>             ]  ETA: 0:00:07\u001b[39m\u001b[K"
     ]
    },
    {
     "name": "stderr",
     "output_type": "stream",
     "text": [
      "\r\u001b[33mEvaluating over 100 metamodels:  45%[===========>             ]  ETA: 0:00:07\u001b[39m\u001b[K"
     ]
    },
    {
     "name": "stderr",
     "output_type": "stream",
     "text": [
      "\r\u001b[33mEvaluating over 100 metamodels:  46%[===========>             ]  ETA: 0:00:07\u001b[39m\u001b[K"
     ]
    },
    {
     "name": "stderr",
     "output_type": "stream",
     "text": [
      "\r\u001b[33mEvaluating over 100 metamodels:  47%[===========>             ]  ETA: 0:00:07\u001b[39m\u001b[K"
     ]
    },
    {
     "name": "stderr",
     "output_type": "stream",
     "text": [
      "\r\u001b[33mEvaluating over 100 metamodels:  48%[============>            ]  ETA: 0:00:06\u001b[39m\u001b[K"
     ]
    },
    {
     "name": "stderr",
     "output_type": "stream",
     "text": [
      "\r\u001b[33mEvaluating over 100 metamodels:  49%[============>            ]  ETA: 0:00:06\u001b[39m\u001b[K"
     ]
    },
    {
     "name": "stderr",
     "output_type": "stream",
     "text": [
      "\r\u001b[33mEvaluating over 100 metamodels:  50%[============>            ]  ETA: 0:00:06\u001b[39m\u001b[K"
     ]
    },
    {
     "name": "stderr",
     "output_type": "stream",
     "text": [
      "\r\u001b[33mEvaluating over 100 metamodels:  51%[============>            ]  ETA: 0:00:06\u001b[39m\u001b[K"
     ]
    },
    {
     "name": "stderr",
     "output_type": "stream",
     "text": [
      "\r\u001b[33mEvaluating over 100 metamodels:  52%[=============>           ]  ETA: 0:00:06\u001b[39m\u001b[K"
     ]
    },
    {
     "name": "stderr",
     "output_type": "stream",
     "text": [
      "\r\u001b[33mEvaluating over 100 metamodels:  53%[=============>           ]  ETA: 0:00:06\u001b[39m\u001b[K"
     ]
    },
    {
     "name": "stderr",
     "output_type": "stream",
     "text": [
      "\r\u001b[33mEvaluating over 100 metamodels:  54%[=============>           ]  ETA: 0:00:05\u001b[39m\u001b[K"
     ]
    },
    {
     "name": "stderr",
     "output_type": "stream",
     "text": [
      "\r\u001b[33mEvaluating over 100 metamodels:  55%[=============>           ]  ETA: 0:00:05\u001b[39m\u001b[K"
     ]
    },
    {
     "name": "stderr",
     "output_type": "stream",
     "text": [
      "\r\u001b[33mEvaluating over 100 metamodels:  56%[==============>          ]  ETA: 0:00:05\u001b[39m\u001b[K"
     ]
    },
    {
     "name": "stderr",
     "output_type": "stream",
     "text": [
      "\r\u001b[33mEvaluating over 100 metamodels:  57%[==============>          ]  ETA: 0:00:05\u001b[39m\u001b[K"
     ]
    },
    {
     "name": "stderr",
     "output_type": "stream",
     "text": [
      "\r\u001b[33mEvaluating over 100 metamodels:  58%[==============>          ]  ETA: 0:00:05\u001b[39m\u001b[K"
     ]
    },
    {
     "name": "stderr",
     "output_type": "stream",
     "text": [
      "\r\u001b[33mEvaluating over 100 metamodels:  59%[==============>          ]  ETA: 0:00:05\u001b[39m\u001b[K"
     ]
    },
    {
     "name": "stderr",
     "output_type": "stream",
     "text": [
      "\r\u001b[33mEvaluating over 100 metamodels:  60%[===============>         ]  ETA: 0:00:04\u001b[39m\u001b[K"
     ]
    },
    {
     "name": "stderr",
     "output_type": "stream",
     "text": [
      "\r\u001b[33mEvaluating over 100 metamodels:  61%[===============>         ]  ETA: 0:00:04\u001b[39m\u001b[K"
     ]
    },
    {
     "name": "stderr",
     "output_type": "stream",
     "text": [
      "\r\u001b[33mEvaluating over 100 metamodels:  62%[===============>         ]  ETA: 0:00:04\u001b[39m\u001b[K"
     ]
    },
    {
     "name": "stderr",
     "output_type": "stream",
     "text": [
      "\r\u001b[33mEvaluating over 100 metamodels:  63%[===============>         ]  ETA: 0:00:04\u001b[39m\u001b[K"
     ]
    },
    {
     "name": "stderr",
     "output_type": "stream",
     "text": [
      "\r\u001b[33mEvaluating over 100 metamodels:  64%[================>        ]  ETA: 0:00:04\u001b[39m\u001b[K"
     ]
    },
    {
     "name": "stderr",
     "output_type": "stream",
     "text": [
      "\r\u001b[33mEvaluating over 100 metamodels:  65%[================>        ]  ETA: 0:00:04\u001b[39m\u001b[K"
     ]
    },
    {
     "name": "stderr",
     "output_type": "stream",
     "text": [
      "\r\u001b[33mEvaluating over 100 metamodels:  66%[================>        ]  ETA: 0:00:04\u001b[39m\u001b[K"
     ]
    },
    {
     "name": "stderr",
     "output_type": "stream",
     "text": [
      "\r\u001b[33mEvaluating over 100 metamodels:  67%[================>        ]  ETA: 0:00:04\u001b[39m\u001b[K"
     ]
    },
    {
     "name": "stderr",
     "output_type": "stream",
     "text": [
      "\r\u001b[33mEvaluating over 100 metamodels:  68%[=================>       ]  ETA: 0:00:03\u001b[39m\u001b[K"
     ]
    },
    {
     "name": "stderr",
     "output_type": "stream",
     "text": [
      "\r\u001b[33mEvaluating over 100 metamodels:  69%[=================>       ]  ETA: 0:00:03\u001b[39m\u001b[K"
     ]
    },
    {
     "name": "stderr",
     "output_type": "stream",
     "text": [
      "\r\u001b[33mEvaluating over 100 metamodels:  70%[=================>       ]  ETA: 0:00:03\u001b[39m\u001b[K"
     ]
    },
    {
     "name": "stderr",
     "output_type": "stream",
     "text": [
      "\r\u001b[33mEvaluating over 100 metamodels:  71%[=================>       ]  ETA: 0:00:03\u001b[39m\u001b[K"
     ]
    },
    {
     "name": "stderr",
     "output_type": "stream",
     "text": [
      "\r\u001b[33mEvaluating over 100 metamodels:  72%[==================>      ]  ETA: 0:00:03\u001b[39m\u001b[K"
     ]
    },
    {
     "name": "stderr",
     "output_type": "stream",
     "text": [
      "\r\u001b[33mEvaluating over 100 metamodels:  73%[==================>      ]  ETA: 0:00:03\u001b[39m\u001b[K"
     ]
    },
    {
     "name": "stderr",
     "output_type": "stream",
     "text": [
      "\r\u001b[33mEvaluating over 100 metamodels:  74%[==================>      ]  ETA: 0:00:03\u001b[39m\u001b[K"
     ]
    },
    {
     "name": "stderr",
     "output_type": "stream",
     "text": [
      "\r\u001b[33mEvaluating over 100 metamodels:  75%[==================>      ]  ETA: 0:00:03\u001b[39m\u001b[K"
     ]
    },
    {
     "name": "stderr",
     "output_type": "stream",
     "text": [
      "\r\u001b[33mEvaluating over 100 metamodels:  76%[===================>     ]  ETA: 0:00:03\u001b[39m\u001b[K"
     ]
    },
    {
     "name": "stderr",
     "output_type": "stream",
     "text": [
      "\r\u001b[33mEvaluating over 100 metamodels:  77%[===================>     ]  ETA: 0:00:02\u001b[39m\u001b[K"
     ]
    },
    {
     "name": "stderr",
     "output_type": "stream",
     "text": [
      "\r\u001b[33mEvaluating over 100 metamodels:  78%[===================>     ]  ETA: 0:00:02\u001b[39m\u001b[K"
     ]
    },
    {
     "name": "stderr",
     "output_type": "stream",
     "text": [
      "\r\u001b[33mEvaluating over 100 metamodels:  79%[===================>     ]  ETA: 0:00:02\u001b[39m\u001b[K"
     ]
    },
    {
     "name": "stderr",
     "output_type": "stream",
     "text": [
      "\r\u001b[33mEvaluating over 100 metamodels:  80%[====================>    ]  ETA: 0:00:02\u001b[39m\u001b[K"
     ]
    },
    {
     "name": "stderr",
     "output_type": "stream",
     "text": [
      "\r\u001b[33mEvaluating over 100 metamodels:  81%[====================>    ]  ETA: 0:00:02\u001b[39m\u001b[K"
     ]
    },
    {
     "name": "stderr",
     "output_type": "stream",
     "text": [
      "\r\u001b[33mEvaluating over 100 metamodels:  82%[====================>    ]  ETA: 0:00:02\u001b[39m\u001b[K"
     ]
    },
    {
     "name": "stderr",
     "output_type": "stream",
     "text": [
      "\r\u001b[33mEvaluating over 100 metamodels:  83%[====================>    ]  ETA: 0:00:02\u001b[39m\u001b[K"
     ]
    },
    {
     "name": "stderr",
     "output_type": "stream",
     "text": [
      "\r\u001b[33mEvaluating over 100 metamodels:  84%[=====================>   ]  ETA: 0:00:02\u001b[39m\u001b[K"
     ]
    },
    {
     "name": "stderr",
     "output_type": "stream",
     "text": [
      "\r\u001b[33mEvaluating over 100 metamodels:  85%[=====================>   ]  ETA: 0:00:02\u001b[39m\u001b[K"
     ]
    },
    {
     "name": "stderr",
     "output_type": "stream",
     "text": [
      "\r\u001b[33mEvaluating over 100 metamodels:  86%[=====================>   ]  ETA: 0:00:01\u001b[39m\u001b[K"
     ]
    },
    {
     "name": "stderr",
     "output_type": "stream",
     "text": [
      "\r\u001b[33mEvaluating over 100 metamodels:  87%[=====================>   ]  ETA: 0:00:01\u001b[39m\u001b[K"
     ]
    },
    {
     "name": "stderr",
     "output_type": "stream",
     "text": [
      "\r\u001b[33mEvaluating over 100 metamodels:  88%[======================>  ]  ETA: 0:00:01\u001b[39m\u001b[K"
     ]
    },
    {
     "name": "stderr",
     "output_type": "stream",
     "text": [
      "\r\u001b[33mEvaluating over 100 metamodels:  89%[======================>  ]  ETA: 0:00:01\u001b[39m\u001b[K"
     ]
    },
    {
     "name": "stderr",
     "output_type": "stream",
     "text": [
      "\r\u001b[33mEvaluating over 100 metamodels:  90%[======================>  ]  ETA: 0:00:01\u001b[39m\u001b[K"
     ]
    },
    {
     "name": "stderr",
     "output_type": "stream",
     "text": [
      "\r\u001b[33mEvaluating over 100 metamodels:  91%[======================>  ]  ETA: 0:00:01\u001b[39m\u001b[K"
     ]
    },
    {
     "name": "stderr",
     "output_type": "stream",
     "text": [
      "\r\u001b[33mEvaluating over 100 metamodels:  92%[=======================> ]  ETA: 0:00:01\u001b[39m\u001b[K"
     ]
    },
    {
     "name": "stderr",
     "output_type": "stream",
     "text": [
      "\r\u001b[33mEvaluating over 100 metamodels:  93%[=======================> ]  ETA: 0:00:01\u001b[39m\u001b[K"
     ]
    },
    {
     "name": "stderr",
     "output_type": "stream",
     "text": [
      "\r\u001b[33mEvaluating over 100 metamodels:  94%[=======================> ]  ETA: 0:00:01\u001b[39m\u001b[K"
     ]
    },
    {
     "name": "stderr",
     "output_type": "stream",
     "text": [
      "\r\u001b[33mEvaluating over 100 metamodels:  95%[=======================> ]  ETA: 0:00:01\u001b[39m\u001b[K"
     ]
    },
    {
     "name": "stderr",
     "output_type": "stream",
     "text": [
      "\r\u001b[33mEvaluating over 100 metamodels:  96%[========================>]  ETA: 0:00:00\u001b[39m\u001b[K"
     ]
    },
    {
     "name": "stderr",
     "output_type": "stream",
     "text": [
      "\r\u001b[33mEvaluating over 100 metamodels:  97%[========================>]  ETA: 0:00:00\u001b[39m\u001b[K"
     ]
    },
    {
     "name": "stderr",
     "output_type": "stream",
     "text": [
      "\r\u001b[33mEvaluating over 100 metamodels:  98%[========================>]  ETA: 0:00:00\u001b[39m\u001b[K"
     ]
    },
    {
     "name": "stderr",
     "output_type": "stream",
     "text": [
      "\r\u001b[33mEvaluating over 100 metamodels:  99%[========================>]  ETA: 0:00:00\u001b[39m\u001b[K"
     ]
    },
    {
     "name": "stderr",
     "output_type": "stream",
     "text": [
      "\r\u001b[33mEvaluating over 100 metamodels: 100%[=========================] Time: 0:00:09\u001b[39m\u001b[K\n"
     ]
    },
    {
     "name": "stdout",
     "output_type": "stream",
     "text": [
      "num_round = best_mdl.num_round = 17\n",
      "max_depth = best_mdl.max_depth = 2\n"
     ]
    }
   ],
   "source": [
    "r1 = range(XGBR(), :num_round, lower=1, upper=20)\n",
    "r2 = range(XGBR(), :max_depth, lower=1, upper=5)\n",
    "\n",
    "tm = TunedModel(model=XGBR(), tuning=Grid(resolution=50),\n",
    "                resampling=CV(nfolds=5 ,rng=42), ranges=[r1, r2],\n",
    "                measure=rms)\n",
    "\n",
    "xgb = machine(tm, X, y) |> fit!\n",
    "best_mdl = fitted_params(xgb).best_model\n",
    "@show num_round = best_mdl.num_round\n",
    "@show max_depth = best_mdl.max_depth;"
   ]
  },
  {
   "cell_type": "markdown",
   "id": "383b18b8-b8bf-45e8-a850-30fad3972733",
   "metadata": {},
   "source": [
    "@time data_shap = ShapML.shap(explain = explain,\n",
    "                        model = xgb,\n",
    "                        predict_function = predict_function,\n",
    "                        sample_size = 60,\n",
    "                        seed = 42\n",
    "                        );\n",
    "\n",
    "plot_shap(data_shap)"
   ]
  },
  {
   "cell_type": "markdown",
   "id": "6cfcac1d-0d23-4c7b-b6a0-427f085a9817",
   "metadata": {},
   "source": [
    "### Neural net"
   ]
  },
  {
   "cell_type": "code",
   "execution_count": 24,
   "id": "2bc9201f-94c8-4f95-8370-29def41212d4",
   "metadata": {},
   "outputs": [
    {
     "name": "stdout",
     "output_type": "stream",
     "text": [
      "import MLJFlux ✔\n"
     ]
    }
   ],
   "source": [
    "import MLJFlux\n",
    "import Flux\n",
    "NeuralNetworkRegressor = @load NeuralNetworkRegressor;"
   ]
  },
  {
   "cell_type": "code",
   "execution_count": 25,
   "id": "dabcdfc7-9df7-4177-a12c-eb07b378dea3",
   "metadata": {},
   "outputs": [
    {
     "data": {
      "text/plain": [
       "NeuralNetworkRegressor(\n",
       "  builder = MyNetworkBuilder(\n",
       "        n1 = 16, \n",
       "        n2 = 8, \n",
       "        dropout = 0.5, \n",
       "        σ = NNlib.relu), \n",
       "  optimiser = Flux.Optimise.Adam(0.001, (0.9, 0.999), 1.0e-8, IdDict{Any, Any}()), \n",
       "  loss = Flux.Losses.mse, \n",
       "  epochs = 10, \n",
       "  batch_size = 1, \n",
       "  lambda = 0.0, \n",
       "  alpha = 0.0, \n",
       "  rng = Random._GLOBAL_RNG(), \n",
       "  optimiser_changes_trigger_retraining = false, \n",
       "  acceleration = CPU1{Nothing}(nothing))"
      ]
     },
     "metadata": {},
     "output_type": "display_data"
    }
   ],
   "source": [
    "mutable struct MyNetworkBuilder <: MLJFlux.Builder\n",
    "    n1::Int #Number of cells in the first hidden layer\n",
    "    n2::Int #Number of cells in the second hidden layer\n",
    "    dropout::Float64\n",
    "    σ\n",
    "end\n",
    "\n",
    "MyNetworkBuilder(; n1=16, n2=8, dropout=0.5, σ=Flux.relu) = MyNetworkBuilder(n1, n2, dropout, σ)\n",
    "\n",
    "function MLJFlux.build(model::MyNetworkBuilder, rng, n_in, n_out)\n",
    "    n1, n2 = model.n1, model.n2\n",
    "    dropout, σ = model.dropout, model.σ\n",
    "    \n",
    "    init = Flux.glorot_uniform(rng)\n",
    "    layer1 = Flux.Dense(n_in, n1, σ, init=init)\n",
    "    layer1_drop = Flux.Dropout(dropout)\n",
    "    layer2 = Flux.Dense(n1, n2, σ, init=init)\n",
    "    layer2_drop = Flux.Dropout(dropout)\n",
    "    layer3 = Flux.Dense(model.n2, n_out, init=init)\n",
    "    return Flux.Chain(layer1, layer1_drop, layer2, layer2_drop, layer3)\n",
    "end\n",
    "\n",
    "nnregressor = NeuralNetworkRegressor(builder=MyNetworkBuilder(), epochs=10)"
   ]
  },
  {
   "cell_type": "code",
   "execution_count": 26,
   "id": "594f970b-54f3-481f-960e-ee0ab0effdf3",
   "metadata": {},
   "outputs": [
    {
     "name": "stderr",
     "output_type": "stream",
     "text": [
      "\r\u001b[33mOptimising neural net:  18%[====>                    ]  ETA: 0:00:40\u001b[39m\u001b[K"
     ]
    },
    {
     "name": "stderr",
     "output_type": "stream",
     "text": [
      "\r\u001b[33mOptimising neural net:  27%[======>                  ]  ETA: 0:00:41\u001b[39m\u001b[K"
     ]
    },
    {
     "name": "stderr",
     "output_type": "stream",
     "text": [
      "\r\u001b[33mOptimising neural net:  36%[=========>               ]  ETA: 0:00:38\u001b[39m\u001b[K"
     ]
    },
    {
     "name": "stderr",
     "output_type": "stream",
     "text": [
      "\r\u001b[33mOptimising neural net:  45%[===========>             ]  ETA: 0:00:34\u001b[39m\u001b[K"
     ]
    },
    {
     "name": "stderr",
     "output_type": "stream",
     "text": [
      "\r\u001b[33mOptimising neural net:  55%[=============>           ]  ETA: 0:00:29\u001b[39m\u001b[K"
     ]
    },
    {
     "name": "stderr",
     "output_type": "stream",
     "text": [
      "\r\u001b[33mOptimising neural net:  64%[===============>         ]  ETA: 0:00:24\u001b[39m\u001b[K"
     ]
    },
    {
     "name": "stderr",
     "output_type": "stream",
     "text": [
      "\r\u001b[33mOptimising neural net:  73%[==================>      ]  ETA: 0:00:18\u001b[39m\u001b[K"
     ]
    },
    {
     "name": "stderr",
     "output_type": "stream",
     "text": [
      "\r\u001b[33mOptimising neural net:  82%[====================>    ]  ETA: 0:00:12\u001b[39m\u001b[K"
     ]
    },
    {
     "name": "stderr",
     "output_type": "stream",
     "text": [
      "\r\u001b[33mOptimising neural net:  91%[======================>  ]  ETA: 0:00:06\u001b[39m\u001b[K"
     ]
    },
    {
     "name": "stderr",
     "output_type": "stream",
     "text": [
      "\r\u001b[33mOptimising neural net: 100%[=========================] Time: 0:01:07\u001b[39m\u001b[K\n"
     ]
    },
    {
     "data": {
      "text/plain": [
       "Machine trained 1 time; caches data\n",
       "  model: NeuralNetworkRegressor(builder = MyNetworkBuilder(n1 = 16, …), …)\n",
       "  args: \n",
       "    1:\tSource @496 ⏎ `Table{AbstractVector{Continuous}}`\n",
       "    2:\tSource @606 ⏎ `AbstractVector{Continuous}`\n"
      ]
     },
     "metadata": {},
     "output_type": "display_data"
    }
   ],
   "source": [
    "nn = machine(nnregressor, X, y) |> fit!"
   ]
  },
  {
   "cell_type": "markdown",
   "id": "abec56a9-35ed-4351-8415-d0dac4e2f882",
   "metadata": {},
   "source": [
    "### Ensemble"
   ]
  },
  {
   "cell_type": "code",
   "execution_count": 27,
   "id": "bae60596-648e-4c2c-ad25-007e1140c519",
   "metadata": {},
   "outputs": [
    {
     "data": {
      "text/plain": [
       "7-element Vector{Float64}:\n",
       " 30111.51965365291\n",
       " 23977.178121897876\n",
       " 22678.180822025963\n",
       "  3674.0157498824638\n",
       " 18423.78071031746\n",
       " 11684.2265625\n",
       " 13513.435143461189"
      ]
     },
     "metadata": {},
     "output_type": "display_data"
    }
   ],
   "source": [
    "# Compute predictions of all models, then stack them\n",
    "MLmodels = [tree, forest_tm, xgb, nn]\n",
    "M = zeros(length(y), 7)\n",
    "\n",
    "M[:, 1] = predict(lm , df[!, X_cols])\n",
    "M[:, 2] = predict(lasso_tm , X_flex)\n",
    "M[:, 3] = predict(ridge_tm , X_flex)\n",
    "\n",
    "for i in 1:length(MLmodels)\n",
    "    M[:, i+3] = predict(MLmodels[i], X)\n",
    "end\n",
    "M[1, :]"
   ]
  },
  {
   "cell_type": "code",
   "execution_count": 28,
   "id": "666a0109",
   "metadata": {},
   "outputs": [
    {
     "name": "stdout",
     "output_type": "stream",
     "text": [
      "Collecting package metadata (current_repodata.json): ...working... done\n",
      "Solving environment: ...working... done\n",
      "\n",
      "# All requested packages already installed.\n",
      "\n"
     ]
    }
   ],
   "source": [
    "using IJulia, Conda\n",
    "Conda.add(\"scipy\");"
   ]
  },
  {
   "cell_type": "code",
   "execution_count": 35,
   "id": "74c08eb6-d0b0-4387-9770-1a7015dde656",
   "metadata": {},
   "outputs": [
    {
     "data": {
      "text/plain": [
       "Dict{Any, Any} with 9 entries:\n",
       "  \"fun\"     => 1.17902e13\n",
       "  \"nit\"     => 88\n",
       "  \"nfev\"    => 950\n",
       "  \"status\"  => 0\n",
       "  \"message\" => \"Optimization terminated successfully\"\n",
       "  \"x\"       => [2.57149e-8, 1.94315e-7, 2.53382e-8, 9.43755e-7, 0.999999, 1.166…\n",
       "  \"jac\"     => [-5.129e11, -1.59061e12, -1.58479e12, -1.78138e12, -4.70491e12, …\n",
       "  \"success\" => true\n",
       "  \"njev\"    => 88"
      ]
     },
     "metadata": {},
     "output_type": "display_data"
    }
   ],
   "source": [
    "# Compute stacking weights with Python's Scipy library\n",
    "using PyCall\n",
    "\n",
    "f(w) = (y .- M*w)' * (y .- M*w)\n",
    "\n",
    "n_models = size(M)[2]\n",
    "x0 = ones(n_models) * (1/n_models)\n",
    "\n",
    "py\"\"\"\n",
    "import numpy as np\n",
    "import scipy.optimize as opt\n",
    "cons = {'type':'eq', 'fun': lambda w: np.sum(np.abs(w))-1}\n",
    "cons1 = ({'type':'eq', 'fun': lambda w: np.sum(np.abs(w))-1},\n",
    "        {'type':'ineq', 'fun': lambda w: np.array(w)})\n",
    "\n",
    "\n",
    "res = opt.minimize($f, $x0, constraints=cons)\n",
    "\"\"\"\n",
    "py\"res\""
   ]
  },
  {
   "cell_type": "code",
   "execution_count": 36,
   "id": "c5cf71ef",
   "metadata": {},
   "outputs": [
    {
     "data": {
      "text/plain": [
       "7-element Vector{Float64}:\n",
       "  2.571489836518568e-8\n",
       "  1.9431493328132598e-7\n",
       "  2.5338206435892112e-8\n",
       "  9.437551277377716e-7\n",
       "  0.9999987959331621\n",
       "  1.1662625245493315e-7\n",
       " -5.0252783621024546e-8"
      ]
     },
     "metadata": {},
     "output_type": "display_data"
    }
   ],
   "source": [
    "w = py\"res.x\""
   ]
  },
  {
   "cell_type": "markdown",
   "id": "2d5a2466-54a2-44b4-a18e-286614565617",
   "metadata": {},
   "source": [
    "## Mean-square forecast error of all models"
   ]
  },
  {
   "cell_type": "code",
   "execution_count": 37,
   "id": "1d49d782",
   "metadata": {},
   "outputs": [],
   "source": [
    "X_test, y_test = df_test[!, X_cols], df_test[!, :net_tfa]\n",
    "\n",
    "# Do data transformations on test set\n",
    "X_test_f = copy(X_test)\n",
    "nl_transform(X_test_f)\n",
    "X_test_f = MLJ.transform(transformer, X_test_f)\n",
    "\n",
    "X_test = machine(ContinuousEncoder(), X_test) |> fit! |> MLJ.transform;  # Onehot-encode categorical variables"
   ]
  },
  {
   "cell_type": "code",
   "execution_count": 38,
   "id": "08b2a8b5-3e5f-481b-8387-0fdd7d1eb692",
   "metadata": {},
   "outputs": [
    {
     "data": {
      "text/plain": [
       "8-element Vector{Float64}:\n",
       " -10875.710018469425\n",
       "  -3893.503831663231\n",
       "  -4606.913913835611\n",
       "   3674.0157498824638\n",
       "  -3164.0013174603173\n",
       "  -2028.54833984375\n",
       "   3623.919507091737\n",
       "  -3163.995612078737"
      ]
     },
     "metadata": {},
     "output_type": "display_data"
    }
   ],
   "source": [
    "# Compute predictions of all models, then stack them\n",
    "MLmodels = [tree, forest_tm, xgb, nn]\n",
    "G = zeros(length(y_test), 8)\n",
    "\n",
    "G[:, 1] = predict(lm , df_test[!, X_cols])\n",
    "G[:, 2] = predict(lasso_tm , X_test_f)\n",
    "G[:, 3] = predict(ridge_tm , X_test_f)\n",
    "\n",
    "for i in 1:length(MLmodels)\n",
    "    G[:, i+3] = predict(MLmodels[i], X_test)\n",
    "end\n",
    "\n",
    "\n",
    "G[:, end] = w' .* G[:, 1:end-1] |> x -> sum(x, dims=2)  # Ensemble predictions\n",
    "\n",
    "G[1, :]"
   ]
  },
  {
   "cell_type": "code",
   "execution_count": 39,
   "id": "111c4fff",
   "metadata": {},
   "outputs": [
    {
     "data": {
      "text/html": [
       "<div class=\"data-frame\"><p>8 rows × 3 columns</p><table class=\"data-frame\"><thead><tr><th></th><th>model</th><th>error</th><th>std</th></tr><tr><th></th><th title=\"String\">String</th><th title=\"Float64\">Float64</th><th title=\"Float64\">Float64</th></tr></thead><tbody><tr><th>1</th><td>Ridge</td><td>2.85926e9</td><td>7.41807e8</td></tr><tr><th>2</th><td>Lasso</td><td>2.8771e9</td><td>7.45527e8</td></tr><tr><th>3</th><td>Ensemble</td><td>3.02558e9</td><td>7.79253e8</td></tr><tr><th>4</th><td>RF</td><td>3.02558e9</td><td>7.79253e8</td></tr><tr><th>5</th><td>XGB</td><td>3.1137e9</td><td>7.87585e8</td></tr><tr><th>6</th><td>LR</td><td>3.22963e9</td><td>8.07457e8</td></tr><tr><th>7</th><td>Tree</td><td>3.23919e9</td><td>7.91188e8</td></tr><tr><th>8</th><td>NN</td><td>3.86803e9</td><td>9.36655e8</td></tr></tbody></table></div>"
      ],
      "text/latex": [
       "\\begin{tabular}{r|ccc}\n",
       "\t& model & error & std\\\\\n",
       "\t\\hline\n",
       "\t& String & Float64 & Float64\\\\\n",
       "\t\\hline\n",
       "\t1 & Ridge & 2.85926e9 & 7.41807e8 \\\\\n",
       "\t2 & Lasso & 2.8771e9 & 7.45527e8 \\\\\n",
       "\t3 & Ensemble & 3.02558e9 & 7.79253e8 \\\\\n",
       "\t4 & RF & 3.02558e9 & 7.79253e8 \\\\\n",
       "\t5 & XGB & 3.1137e9 & 7.87585e8 \\\\\n",
       "\t6 & LR & 3.22963e9 & 8.07457e8 \\\\\n",
       "\t7 & Tree & 3.23919e9 & 7.91188e8 \\\\\n",
       "\t8 & NN & 3.86803e9 & 9.36655e8 \\\\\n",
       "\\end{tabular}\n"
      ],
      "text/plain": [
       "\u001b[1m8×3 DataFrame\u001b[0m\n",
       "\u001b[1m Row \u001b[0m│\u001b[1m model    \u001b[0m\u001b[1m error     \u001b[0m\u001b[1m std       \u001b[0m\n",
       "\u001b[1m     \u001b[0m│\u001b[90m String   \u001b[0m\u001b[90m Float64   \u001b[0m\u001b[90m Float64   \u001b[0m\n",
       "─────┼────────────────────────────────\n",
       "   1 │ Ridge     2.85926e9  7.41807e8\n",
       "   2 │ Lasso     2.8771e9   7.45527e8\n",
       "   3 │ Ensemble  3.02558e9  7.79253e8\n",
       "   4 │ RF        3.02558e9  7.79253e8\n",
       "   5 │ XGB       3.1137e9   7.87585e8\n",
       "   6 │ LR        3.22963e9  8.07457e8\n",
       "   7 │ Tree      3.23919e9  7.91188e8\n",
       "   8 │ NN        3.86803e9  9.36655e8"
      ]
     },
     "metadata": {},
     "output_type": "display_data"
    }
   ],
   "source": [
    "msfe = (G .- y_test).^2  # mean square forecast error\n",
    "msfe_mean = mean(msfe, dims=1)\n",
    "msfe_std = std(msfe, dims=1) / sqrt(length(y_test))\n",
    "\n",
    "res = DataFrame(model=[\"LR\", \"Lasso\", \"Ridge\", \"Tree\", \"RF\", \"XGB\", \"NN\", \"Ensemble\"],\n",
    "          error=msfe_mean[:],\n",
    "          std=msfe_std[:])\n",
    "          \n",
    "sort!(res, :error)"
   ]
  },
  {
   "cell_type": "code",
   "execution_count": 40,
   "id": "5fb77fcc",
   "metadata": {},
   "outputs": [],
   "source": []
  },
  {
   "cell_type": "code",
   "execution_count": null,
   "id": "9988f80b",
   "metadata": {},
   "outputs": [],
   "source": []
  }
 ],
 "metadata": {
  "kernelspec": {
   "display_name": "Julia 1.7.2",
   "language": "julia",
   "name": "julia-1.7"
  },
  "language_info": {
   "file_extension": ".jl",
   "mimetype": "application/julia",
   "name": "julia",
   "version": "1.7.2"
  }
 },
 "nbformat": 4,
 "nbformat_minor": 5
}
