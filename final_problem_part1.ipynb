{
 "cells": [
  {
   "cell_type": "markdown",
   "id": "4232fd8f-1eae-4be4-8e41-65f858996177",
   "metadata": {},
   "source": [
    "# Econometrics of Big Data Final Problem\n",
    "*by Christian Stolborg*\n",
    "\n",
    "*15-07-2022*"
   ]
  },
  {
   "cell_type": "markdown",
   "id": "9ee6f468-aeb4-4168-b39c-3c9bd550c4ca",
   "metadata": {},
   "source": [
    "## Part A\n",
    "### Data Transformations\n",
    "\n",
    "Before beginning the problem set, I do some preliminary data transformations to align the data with the Julia ML ecosystem. I also split the data in train/test sets and create a \"flexible\" data set consisting of polynomial transformations of order two and three of all continous variables and interaction terms between all variables. This \"flexible\" data structure will be used later in estimating Lasso and Ridge regressions."
   ]
  },
  {
   "cell_type": "code",
   "execution_count": 1,
   "id": "69b2d0ba-ec76-447c-b0c3-2e1225959fb5",
   "metadata": {},
   "outputs": [],
   "source": [
    "using MLJ, DataFrames, CSV\n",
    "import Logging\n",
    "\n",
    "Logging.disable_logging(Logging.LogLevel(999));  # Disable info logs, but keep warnings"
   ]
  },
  {
   "cell_type": "code",
   "execution_count": 2,
   "id": "21b99994-54cf-4a1d-8a0a-9dfe53bbc302",
   "metadata": {},
   "outputs": [
    {
     "data": {
      "text/html": [
       "<div class=\"data-frame\"><p>5 rows × 12 columns (omitted printing of 1 columns)</p><table class=\"data-frame\"><thead><tr><th></th><th>net_tfa</th><th>age</th><th>inc</th><th>fsize</th><th>educ</th><th>db</th><th>marr</th><th>twoearn</th><th>e401</th><th>p401</th><th>pira</th></tr><tr><th></th><th title=\"Int64\">Int64</th><th title=\"Int64\">Int64</th><th title=\"Int64\">Int64</th><th title=\"Int64\">Int64</th><th title=\"Int64\">Int64</th><th title=\"Int64\">Int64</th><th title=\"Int64\">Int64</th><th title=\"Int64\">Int64</th><th title=\"Int64\">Int64</th><th title=\"Int64\">Int64</th><th title=\"Int64\">Int64</th></tr></thead><tbody><tr><th>1</th><td>0</td><td>47</td><td>6765</td><td>2</td><td>8</td><td>0</td><td>0</td><td>0</td><td>0</td><td>0</td><td>0</td></tr><tr><th>2</th><td>1015</td><td>36</td><td>28452</td><td>1</td><td>16</td><td>0</td><td>0</td><td>0</td><td>0</td><td>0</td><td>0</td></tr><tr><th>3</th><td>-2000</td><td>37</td><td>3300</td><td>6</td><td>12</td><td>1</td><td>0</td><td>0</td><td>0</td><td>0</td><td>0</td></tr><tr><th>4</th><td>15000</td><td>58</td><td>52590</td><td>2</td><td>16</td><td>0</td><td>1</td><td>1</td><td>0</td><td>0</td><td>0</td></tr><tr><th>5</th><td>0</td><td>32</td><td>21804</td><td>1</td><td>11</td><td>0</td><td>0</td><td>0</td><td>0</td><td>0</td><td>0</td></tr></tbody></table></div>"
      ],
      "text/latex": [
       "\\begin{tabular}{r|cccccccccccc}\n",
       "\t& net\\_tfa & age & inc & fsize & educ & db & marr & twoearn & e401 & p401 & pira & \\\\\n",
       "\t\\hline\n",
       "\t& Int64 & Int64 & Int64 & Int64 & Int64 & Int64 & Int64 & Int64 & Int64 & Int64 & Int64 & \\\\\n",
       "\t\\hline\n",
       "\t1 & 0 & 47 & 6765 & 2 & 8 & 0 & 0 & 0 & 0 & 0 & 0 & $\\dots$ \\\\\n",
       "\t2 & 1015 & 36 & 28452 & 1 & 16 & 0 & 0 & 0 & 0 & 0 & 0 & $\\dots$ \\\\\n",
       "\t3 & -2000 & 37 & 3300 & 6 & 12 & 1 & 0 & 0 & 0 & 0 & 0 & $\\dots$ \\\\\n",
       "\t4 & 15000 & 58 & 52590 & 2 & 16 & 0 & 1 & 1 & 0 & 0 & 0 & $\\dots$ \\\\\n",
       "\t5 & 0 & 32 & 21804 & 1 & 11 & 0 & 0 & 0 & 0 & 0 & 0 & $\\dots$ \\\\\n",
       "\\end{tabular}\n"
      ],
      "text/plain": [
       "\u001b[1m5×12 DataFrame\u001b[0m\n",
       "\u001b[1m Row \u001b[0m│\u001b[1m net_tfa \u001b[0m\u001b[1m age   \u001b[0m\u001b[1m inc   \u001b[0m\u001b[1m fsize \u001b[0m\u001b[1m educ  \u001b[0m\u001b[1m db    \u001b[0m\u001b[1m marr  \u001b[0m\u001b[1m twoearn \u001b[0m\u001b[1m e401  \u001b[0m\u001b[1m p401\u001b[0m ⋯\n",
       "\u001b[1m     \u001b[0m│\u001b[90m Int64   \u001b[0m\u001b[90m Int64 \u001b[0m\u001b[90m Int64 \u001b[0m\u001b[90m Int64 \u001b[0m\u001b[90m Int64 \u001b[0m\u001b[90m Int64 \u001b[0m\u001b[90m Int64 \u001b[0m\u001b[90m Int64   \u001b[0m\u001b[90m Int64 \u001b[0m\u001b[90m Int6\u001b[0m ⋯\n",
       "─────┼──────────────────────────────────────────────────────────────────────────\n",
       "   1 │       0     47   6765      2      8      0      0        0      0       ⋯\n",
       "   2 │    1015     36  28452      1     16      0      0        0      0\n",
       "   3 │   -2000     37   3300      6     12      1      0        0      0\n",
       "   4 │   15000     58  52590      2     16      0      1        1      0\n",
       "   5 │       0     32  21804      1     11      0      0        0      0       ⋯\n",
       "\u001b[36m                                                               3 columns omitted\u001b[0m"
      ]
     },
     "execution_count": 2,
     "metadata": {},
     "output_type": "execute_result"
    }
   ],
   "source": [
    "df = CSV.read(\"./data/401ksubs.csv\", DataFrame)\n",
    "first(df, 5)"
   ]
  },
  {
   "cell_type": "code",
   "execution_count": 3,
   "id": "8627a995-7138-4f03-b74c-ab4217aa4d49",
   "metadata": {},
   "outputs": [
    {
     "data": {
      "text/html": [
       "<div class=\"data-frame\"><p>12 rows × 7 columns</p><table class=\"data-frame\"><thead><tr><th></th><th>variable</th><th>mean</th><th>min</th><th>median</th><th>max</th><th>nmissing</th><th>eltype</th></tr><tr><th></th><th title=\"Symbol\">Symbol</th><th title=\"Float64\">Float64</th><th title=\"Int64\">Int64</th><th title=\"Float64\">Float64</th><th title=\"Int64\">Int64</th><th title=\"Int64\">Int64</th><th title=\"DataType\">DataType</th></tr></thead><tbody><tr><th>1</th><td>net_tfa</td><td>18051.5</td><td>-502302</td><td>1499.0</td><td>1536798</td><td>0</td><td>Int64</td></tr><tr><th>2</th><td>age</td><td>41.0602</td><td>25</td><td>40.0</td><td>64</td><td>0</td><td>Int64</td></tr><tr><th>3</th><td>inc</td><td>37200.6</td><td>-2652</td><td>31476.0</td><td>242124</td><td>0</td><td>Int64</td></tr><tr><th>4</th><td>fsize</td><td>2.86586</td><td>1</td><td>3.0</td><td>13</td><td>0</td><td>Int64</td></tr><tr><th>5</th><td>educ</td><td>13.2063</td><td>1</td><td>12.0</td><td>18</td><td>0</td><td>Int64</td></tr><tr><th>6</th><td>db</td><td>0.271004</td><td>0</td><td>0.0</td><td>1</td><td>0</td><td>Int64</td></tr><tr><th>7</th><td>marr</td><td>0.604841</td><td>0</td><td>1.0</td><td>1</td><td>0</td><td>Int64</td></tr><tr><th>8</th><td>twoearn</td><td>0.380837</td><td>0</td><td>0.0</td><td>1</td><td>0</td><td>Int64</td></tr><tr><th>9</th><td>e401</td><td>0.371357</td><td>0</td><td>0.0</td><td>1</td><td>0</td><td>Int64</td></tr><tr><th>10</th><td>p401</td><td>0.261624</td><td>0</td><td>0.0</td><td>1</td><td>0</td><td>Int64</td></tr><tr><th>11</th><td>pira</td><td>0.242158</td><td>0</td><td>0.0</td><td>1</td><td>0</td><td>Int64</td></tr><tr><th>12</th><td>hown</td><td>0.635199</td><td>0</td><td>1.0</td><td>1</td><td>0</td><td>Int64</td></tr></tbody></table></div>"
      ],
      "text/latex": [
       "\\begin{tabular}{r|ccccccc}\n",
       "\t& variable & mean & min & median & max & nmissing & eltype\\\\\n",
       "\t\\hline\n",
       "\t& Symbol & Float64 & Int64 & Float64 & Int64 & Int64 & DataType\\\\\n",
       "\t\\hline\n",
       "\t1 & net\\_tfa & 18051.5 & -502302 & 1499.0 & 1536798 & 0 & Int64 \\\\\n",
       "\t2 & age & 41.0602 & 25 & 40.0 & 64 & 0 & Int64 \\\\\n",
       "\t3 & inc & 37200.6 & -2652 & 31476.0 & 242124 & 0 & Int64 \\\\\n",
       "\t4 & fsize & 2.86586 & 1 & 3.0 & 13 & 0 & Int64 \\\\\n",
       "\t5 & educ & 13.2063 & 1 & 12.0 & 18 & 0 & Int64 \\\\\n",
       "\t6 & db & 0.271004 & 0 & 0.0 & 1 & 0 & Int64 \\\\\n",
       "\t7 & marr & 0.604841 & 0 & 1.0 & 1 & 0 & Int64 \\\\\n",
       "\t8 & twoearn & 0.380837 & 0 & 0.0 & 1 & 0 & Int64 \\\\\n",
       "\t9 & e401 & 0.371357 & 0 & 0.0 & 1 & 0 & Int64 \\\\\n",
       "\t10 & p401 & 0.261624 & 0 & 0.0 & 1 & 0 & Int64 \\\\\n",
       "\t11 & pira & 0.242158 & 0 & 0.0 & 1 & 0 & Int64 \\\\\n",
       "\t12 & hown & 0.635199 & 0 & 1.0 & 1 & 0 & Int64 \\\\\n",
       "\\end{tabular}\n"
      ],
      "text/plain": [
       "\u001b[1m12×7 DataFrame\u001b[0m\n",
       "\u001b[1m Row \u001b[0m│\u001b[1m variable \u001b[0m\u001b[1m mean         \u001b[0m\u001b[1m min     \u001b[0m\u001b[1m median  \u001b[0m\u001b[1m max     \u001b[0m\u001b[1m nmissing \u001b[0m\u001b[1m eltype   \u001b[0m\n",
       "\u001b[1m     \u001b[0m│\u001b[90m Symbol   \u001b[0m\u001b[90m Float64      \u001b[0m\u001b[90m Int64   \u001b[0m\u001b[90m Float64 \u001b[0m\u001b[90m Int64   \u001b[0m\u001b[90m Int64    \u001b[0m\u001b[90m DataType \u001b[0m\n",
       "─────┼───────────────────────────────────────────────────────────────────────\n",
       "   1 │ net_tfa   18051.5       -502302   1499.0  1536798         0  Int64\n",
       "   2 │ age          41.0602         25     40.0       64         0  Int64\n",
       "   3 │ inc       37200.6         -2652  31476.0   242124         0  Int64\n",
       "   4 │ fsize         2.86586         1      3.0       13         0  Int64\n",
       "   5 │ educ         13.2063          1     12.0       18         0  Int64\n",
       "   6 │ db            0.271004        0      0.0        1         0  Int64\n",
       "   7 │ marr          0.604841        0      1.0        1         0  Int64\n",
       "   8 │ twoearn       0.380837        0      0.0        1         0  Int64\n",
       "   9 │ e401          0.371357        0      0.0        1         0  Int64\n",
       "  10 │ p401          0.261624        0      0.0        1         0  Int64\n",
       "  11 │ pira          0.242158        0      0.0        1         0  Int64\n",
       "  12 │ hown          0.635199        0      1.0        1         0  Int64"
      ]
     },
     "execution_count": 3,
     "metadata": {},
     "output_type": "execute_result"
    }
   ],
   "source": [
    "describe(df)"
   ]
  },
  {
   "cell_type": "code",
   "execution_count": 4,
   "id": "ce41b18c-88ad-4572-a1ca-68c1d9c6d91b",
   "metadata": {},
   "outputs": [
    {
     "name": "stdout",
     "output_type": "stream",
     "text": [
      "┌─────────┬───────────────┬─────────────────────────────────┐\n",
      "│\u001b[1m names   \u001b[0m│\u001b[1m scitypes      \u001b[0m│\u001b[1m types                           \u001b[0m│\n",
      "│\u001b[90m Symbol  \u001b[0m│\u001b[90m Type          \u001b[0m│\u001b[90m Type                            \u001b[0m│\n",
      "│\u001b[90m Unknown \u001b[0m│\u001b[90m Unknown       \u001b[0m│\u001b[90m Unknown                         \u001b[0m│\n",
      "├─────────┼───────────────┼─────────────────────────────────┤\n",
      "│ net_tfa │ Continuous    │ Float64                         │\n",
      "│ age     │ Continuous    │ Float64                         │\n",
      "│ inc     │ Continuous    │ Float64                         │\n",
      "│ fsize   │ Continuous    │ Float64                         │\n",
      "│ educ    │ Continuous    │ Float64                         │\n",
      "│ db      │ Multiclass{2} │ CategoricalValue{Int64, UInt32} │\n",
      "│ marr    │ Multiclass{2} │ CategoricalValue{Int64, UInt32} │\n",
      "│ twoearn │ Multiclass{2} │ CategoricalValue{Int64, UInt32} │\n",
      "│ e401    │ Multiclass{2} │ CategoricalValue{Int64, UInt32} │\n",
      "│ p401    │ Multiclass{2} │ CategoricalValue{Int64, UInt32} │\n",
      "│ pira    │ Multiclass{2} │ CategoricalValue{Int64, UInt32} │\n",
      "│ hown    │ Multiclass{2} │ CategoricalValue{Int64, UInt32} │\n",
      "└─────────┴───────────────┴─────────────────────────────────┘\n"
     ]
    }
   ],
   "source": [
    "# Get correct types\n",
    "df[!, 1:5] = coerce(df[!, 1:5], Count => Continuous)\n",
    "df[!, 6:end] = coerce(df[!, 6:end], Count => Multiclass)\n",
    "schema(df) |> pretty"
   ]
  },
  {
   "cell_type": "code",
   "execution_count": 5,
   "id": "3c79e60d-9980-4280-b3cd-f85138135551",
   "metadata": {},
   "outputs": [
    {
     "name": "stdout",
     "output_type": "stream",
     "text": [
      "Size of X = (6000, 9)\n"
     ]
    },
    {
     "data": {
      "text/html": [
       "<div class=\"data-frame\"><p>4 rows × 9 columns</p><table class=\"data-frame\"><thead><tr><th></th><th>age</th><th>inc</th><th>fsize</th><th>educ</th><th>db</th><th>marr</th><th>twoearn</th><th>pira</th><th>hown</th></tr><tr><th></th><th title=\"Float64\">Float64</th><th title=\"Float64\">Float64</th><th title=\"Float64\">Float64</th><th title=\"Float64\">Float64</th><th title=\"CategoricalArrays.CategoricalValue{Int64, UInt32}\">Cat…</th><th title=\"CategoricalArrays.CategoricalValue{Int64, UInt32}\">Cat…</th><th title=\"CategoricalArrays.CategoricalValue{Int64, UInt32}\">Cat…</th><th title=\"CategoricalArrays.CategoricalValue{Int64, UInt32}\">Cat…</th><th title=\"CategoricalArrays.CategoricalValue{Int64, UInt32}\">Cat…</th></tr></thead><tbody><tr><th>1</th><td>43.0</td><td>47094.0</td><td>4.0</td><td>14.0</td><td>0</td><td>1</td><td>0</td><td>0</td><td>1</td></tr><tr><th>2</th><td>31.0</td><td>30315.0</td><td>4.0</td><td>13.0</td><td>0</td><td>1</td><td>0</td><td>0</td><td>1</td></tr><tr><th>3</th><td>27.0</td><td>38640.0</td><td>2.0</td><td>16.0</td><td>1</td><td>1</td><td>1</td><td>0</td><td>0</td></tr><tr><th>4</th><td>62.0</td><td>13317.0</td><td>1.0</td><td>11.0</td><td>0</td><td>0</td><td>0</td><td>0</td><td>1</td></tr></tbody></table></div>"
      ],
      "text/latex": [
       "\\begin{tabular}{r|ccccccccc}\n",
       "\t& age & inc & fsize & educ & db & marr & twoearn & pira & hown\\\\\n",
       "\t\\hline\n",
       "\t& Float64 & Float64 & Float64 & Float64 & Cat… & Cat… & Cat… & Cat… & Cat…\\\\\n",
       "\t\\hline\n",
       "\t1 & 43.0 & 47094.0 & 4.0 & 14.0 & 0 & 1 & 0 & 0 & 1 \\\\\n",
       "\t2 & 31.0 & 30315.0 & 4.0 & 13.0 & 0 & 1 & 0 & 0 & 1 \\\\\n",
       "\t3 & 27.0 & 38640.0 & 2.0 & 16.0 & 1 & 1 & 1 & 0 & 0 \\\\\n",
       "\t4 & 62.0 & 13317.0 & 1.0 & 11.0 & 0 & 0 & 0 & 0 & 1 \\\\\n",
       "\\end{tabular}\n"
      ],
      "text/plain": [
       "\u001b[1m4×9 DataFrame\u001b[0m\n",
       "\u001b[1m Row \u001b[0m│\u001b[1m age     \u001b[0m\u001b[1m inc     \u001b[0m\u001b[1m fsize   \u001b[0m\u001b[1m educ    \u001b[0m\u001b[1m db   \u001b[0m\u001b[1m marr \u001b[0m\u001b[1m twoearn \u001b[0m\u001b[1m pira \u001b[0m\u001b[1m hown \u001b[0m\n",
       "\u001b[1m     \u001b[0m│\u001b[90m Float64 \u001b[0m\u001b[90m Float64 \u001b[0m\u001b[90m Float64 \u001b[0m\u001b[90m Float64 \u001b[0m\u001b[90m Cat… \u001b[0m\u001b[90m Cat… \u001b[0m\u001b[90m Cat…    \u001b[0m\u001b[90m Cat… \u001b[0m\u001b[90m Cat… \u001b[0m\n",
       "─────┼─────────────────────────────────────────────────────────────────────\n",
       "   1 │    43.0  47094.0      4.0     14.0  0     1     0        0     1\n",
       "   2 │    31.0  30315.0      4.0     13.0  0     1     0        0     1\n",
       "   3 │    27.0  38640.0      2.0     16.0  1     1     1        0     0\n",
       "   4 │    62.0  13317.0      1.0     11.0  0     0     0        0     1"
      ]
     },
     "execution_count": 5,
     "metadata": {},
     "output_type": "execute_result"
    }
   ],
   "source": [
    "frac = 6000 / size(df)[1]  # Fraction of data that equals 6000 obs\n",
    "df, df_test = partition(df, frac, rng=42)\n",
    "\n",
    "X_cols = split(\"age,inc,fsize,educ,db,marr,twoearn,pira,hown\", \",\")\n",
    "X, y = df[!, X_cols], df[!, :net_tfa]\n",
    "println(\"Size of X = \",size(X))\n",
    "first(X, 4)"
   ]
  },
  {
   "cell_type": "code",
   "execution_count": 6,
   "id": "44eee14a",
   "metadata": {},
   "outputs": [
    {
     "data": {
      "text/html": [
       "<div class=\"data-frame\"><p>3 rows × 270 columns (omitted printing of 262 columns)</p><table class=\"data-frame\"><thead><tr><th></th><th>age</th><th>inc</th><th>fsize</th><th>educ</th><th>db__1.0</th><th>db__2.0</th><th>marr__1.0</th><th>marr__2.0</th></tr><tr><th></th><th title=\"Float64\">Float64</th><th title=\"Float64\">Float64</th><th title=\"Float64\">Float64</th><th title=\"Float64\">Float64</th><th title=\"Float64\">Float64</th><th title=\"Float64\">Float64</th><th title=\"Float64\">Float64</th><th title=\"Float64\">Float64</th></tr></thead><tbody><tr><th>1</th><td>0.18438</td><td>0.408248</td><td>0.73133</td><td>0.280414</td><td>1.0</td><td>0.0</td><td>0.0</td><td>1.0</td></tr><tr><th>2</th><td>-0.973723</td><td>-0.267984</td><td>0.73133</td><td>-0.0701765</td><td>1.0</td><td>0.0</td><td>0.0</td><td>1.0</td></tr><tr><th>3</th><td>-1.35976</td><td>0.0675325</td><td>-0.557925</td><td>0.981595</td><td>0.0</td><td>1.0</td><td>0.0</td><td>1.0</td></tr></tbody></table></div>"
      ],
      "text/latex": [
       "\\begin{tabular}{r|ccccccccc}\n",
       "\t& age & inc & fsize & educ & db\\_\\_1.0 & db\\_\\_2.0 & marr\\_\\_1.0 & marr\\_\\_2.0 & \\\\\n",
       "\t\\hline\n",
       "\t& Float64 & Float64 & Float64 & Float64 & Float64 & Float64 & Float64 & Float64 & \\\\\n",
       "\t\\hline\n",
       "\t1 & 0.18438 & 0.408248 & 0.73133 & 0.280414 & 1.0 & 0.0 & 0.0 & 1.0 & $\\dots$ \\\\\n",
       "\t2 & -0.973723 & -0.267984 & 0.73133 & -0.0701765 & 1.0 & 0.0 & 0.0 & 1.0 & $\\dots$ \\\\\n",
       "\t3 & -1.35976 & 0.0675325 & -0.557925 & 0.981595 & 0.0 & 1.0 & 0.0 & 1.0 & $\\dots$ \\\\\n",
       "\\end{tabular}\n"
      ],
      "text/plain": [
       "\u001b[1m3×270 DataFrame\u001b[0m\n",
       "\u001b[1m Row \u001b[0m│\u001b[1m age       \u001b[0m\u001b[1m inc        \u001b[0m\u001b[1m fsize     \u001b[0m\u001b[1m educ       \u001b[0m\u001b[1m db__1.0 \u001b[0m\u001b[1m db__2.0 \u001b[0m\u001b[1m marr__1\u001b[0m ⋯\n",
       "\u001b[1m     \u001b[0m│\u001b[90m Float64   \u001b[0m\u001b[90m Float64    \u001b[0m\u001b[90m Float64   \u001b[0m\u001b[90m Float64    \u001b[0m\u001b[90m Float64 \u001b[0m\u001b[90m Float64 \u001b[0m\u001b[90m Float64\u001b[0m ⋯\n",
       "─────┼──────────────────────────────────────────────────────────────────────────\n",
       "   1 │  0.18438    0.408248    0.73133    0.280414       1.0      0.0        0 ⋯\n",
       "   2 │ -0.973723  -0.267984    0.73133   -0.0701765      1.0      0.0        0\n",
       "   3 │ -1.35976    0.0675325  -0.557925   0.981595       0.0      1.0        0\n",
       "\u001b[36m                                                             264 columns omitted\u001b[0m"
      ]
     },
     "execution_count": 6,
     "metadata": {},
     "output_type": "execute_result"
    }
   ],
   "source": [
    "\"\"\" Nonlinear transformations of data - take interactions and add higher-order terms \"\"\"\n",
    "function nl_transform(df)\n",
    "    # Add a second and third exponent of all numerical columns\n",
    "    num_cols = [:age, :inc, :fsize, :educ]\n",
    "    sq(x) = x.^2\n",
    "    cub(x) = x.^3\n",
    "    for p in [sq, cub]\n",
    "        transform!(df, num_cols .=> p)\n",
    "    end\n",
    "    \n",
    "\n",
    "    # Take interaction terms between everything\n",
    "    cat_cols = [:db, :marr, :twoearn, :pira, :hown]\n",
    "    df[!, cat_cols] = coerce(df[!, cat_cols], Multiclass => Continuous)  # Transform Categorical to Continuous\n",
    "    cols = names(df)\n",
    "    for col1 in cols\n",
    "        for col2 in cols\n",
    "            c1 = split(col1, \"_\")[1]\n",
    "            c2 = split(col2, \"_\")[1]\n",
    "            if c1 != c2\n",
    "                df[!, col1*\"_\"*col2] = df[!, col1] .* df[!, col2]\n",
    "            end\n",
    "        end\n",
    "    end\n",
    "    \n",
    "    df[!, cat_cols] = coerce(df[!, cat_cols], Continuous => Multiclass)  # Convert back to Categorical type\n",
    "    \n",
    "    return df\n",
    "end\n",
    "   \n",
    "X_flex = copy(X)\n",
    "nl_transform(X_flex)\n",
    "\n",
    "# Standardize numerical variables then onehot encode categorical variables\n",
    "transformer = Standardizer() |> OneHotEncoder()\n",
    "transformer = fit!(machine(transformer, X_flex))\n",
    "X_flex = MLJ.transform(transformer, X_flex)\n",
    "\n",
    "X_basic = copy(X)\n",
    "X = machine(ContinuousEncoder(), X) |> fit! |> MLJ.transform;  # Used for non-linear ML models\n",
    "\n",
    "first(X_flex, 3)"
   ]
  },
  {
   "cell_type": "markdown",
   "id": "3172bac6-ab3c-49f7-b585-d42b2480d7bf",
   "metadata": {},
   "source": [
    "### (i) Estimate $E[net\\_tfa]$"
   ]
  },
  {
   "cell_type": "code",
   "execution_count": 7,
   "id": "372a7853-1ece-489f-b0a7-04538030b2df",
   "metadata": {},
   "outputs": [
    {
     "data": {
      "text/plain": [
       "18367.1"
      ]
     },
     "execution_count": 7,
     "metadata": {},
     "output_type": "execute_result"
    }
   ],
   "source": [
    "mean(y)"
   ]
  },
  {
   "cell_type": "markdown",
   "id": "638d2f34-61b2-46d5-9667-4027b7c23903",
   "metadata": {},
   "source": [
    "### (ii) Using linear regression estimate $E[net\\_tfa|X = \\{age, inc, fsize, educ, db, marr, twoearn, pira, hown\\}]$"
   ]
  },
  {
   "cell_type": "code",
   "execution_count": 8,
   "id": "1bedc9d3-d074-4c65-bc77-8a5acb18e9f1",
   "metadata": {},
   "outputs": [],
   "source": [
    "LinearRegressor = (@load LinearRegressor pkg=MLJLinearModels verbosity=0)()\n",
    "lm_pipe = ContinuousEncoder(drop_last=true) |> LinearRegressor\n",
    "lm = machine(lm_pipe, X_basic, y) |> fit!;"
   ]
  },
  {
   "cell_type": "code",
   "execution_count": 9,
   "id": "542a7ebf-a14c-41d0-ac87-064973e975de",
   "metadata": {},
   "outputs": [
    {
     "name": "stdout",
     "output_type": "stream",
     "text": [
      "Intercept: -30800.0\n",
      "age     :  657.0\n",
      "inc     :  0.991\n",
      "fsize   :  -855.0\n",
      "educ    :  -364.0\n",
      "db__0   :  3540.0\n",
      "marr__0 :  624.0\n",
      "twoearn__0:  18700.0\n",
      "pira__0 :  -27700.0\n",
      "hown__0 :  -1910.0\n"
     ]
    }
   ],
   "source": [
    "# Display model results\n",
    "fp = fitted_params(lm).linear_regressor\n",
    "coefs = fp.coefs\n",
    "intercept = fp.intercept\n",
    "println(\"Intercept: $(round(intercept, sigdigits=3))\")\n",
    "for (name, val) in coefs\n",
    "    println(\"$(rpad(name, 8)):  $(round(val, sigdigits=3))\")\n",
    "end"
   ]
  },
  {
   "cell_type": "markdown",
   "id": "c7928ce2-815d-4a55-8b22-42a9c14867c3",
   "metadata": {},
   "source": [
    "### (iii) Lasso\n",
    "\n",
    "In this section I take higher order transformations of $X$ and estimate a Lasso model. Concretely, I take powers of two and three and compute interaction terms between all variables. I make these interactions because it provides quite a lot of flexibility for the lasso model to choose only the most important parameters, while also keeping the computing resources required somewhat reasonable and fast (my setup results in 270 variables)."
   ]
  },
  {
   "cell_type": "code",
   "execution_count": 10,
   "id": "32be89d9-531f-466c-81d8-d32de0f9e797",
   "metadata": {},
   "outputs": [
    {
     "name": "stdout",
     "output_type": "stream",
     "text": [
      "import MLJLinearModels ✔\n"
     ]
    },
    {
     "data": {
      "text/plain": [
       "MLJLinearModels.LassoRegressor"
      ]
     },
     "execution_count": 10,
     "metadata": {},
     "output_type": "execute_result"
    }
   ],
   "source": [
    "LassoRegressor = @load LassoRegressor pkg=MLJLinearModels"
   ]
  },
  {
   "cell_type": "code",
   "execution_count": 11,
   "id": "23393450-842e-4975-9907-7dbb679dde7b",
   "metadata": {},
   "outputs": [
    {
     "name": "stdout",
     "output_type": "stream",
     "text": [
      "Opimtal penalty: 592.9\n",
      "Pct. variables set to zero: 86.0%\n",
      "intercept = 18367.17287771169\n"
     ]
    },
    {
     "data": {
      "text/plain": [
       "18367.17287771169"
      ]
     },
     "execution_count": 11,
     "metadata": {},
     "output_type": "execute_result"
    }
   ],
   "source": [
    "r  = range(LassoRegressor(), :(lambda), lower=50, upper=1000)\n",
    "tm = TunedModel(model=LassoRegressor(), ranges=r, tuning=Grid(resolution=50),\n",
    "                resampling=CV(nfolds=5, rng=42), measure=rms)\n",
    "\n",
    "#lasso_tm = machine(tm, X_flex, y) |> fit!\n",
    "#MLJ.save(\"MLmodels/lasso.jls\", lasso_tm)\n",
    "lasso_tm = machine(\"MLmodels/lasso.jls\")\n",
    "\n",
    "\n",
    "# Print results\n",
    "best_mdl = fitted_params(lasso_tm).best_model\n",
    "coefs, intercept = fitted_params(lasso_tm).best_fitted_params\n",
    "\n",
    "# Get non-zero coefs\n",
    "coef_vals = [c[2] for c in coefs]\n",
    "\n",
    "println(\"Opimtal penalty: \", round(best_mdl.lambda, sigdigits=4))\n",
    "println(\"Pct. variables set to zero: \", round(sum(coef_vals .≈ 0) / length(coefs)*100, sigdigits=2),\"%\" )\n",
    "@show intercept"
   ]
  },
  {
   "cell_type": "code",
   "execution_count": 12,
   "id": "f54a1d54-fef3-4120-b686-58e86ee48613",
   "metadata": {},
   "outputs": [
    {
     "data": {
      "image/svg+xml": [
       "<?xml version=\"1.0\" encoding=\"utf-8\"?>\n",
       "<svg xmlns=\"http://www.w3.org/2000/svg\" xmlns:xlink=\"http://www.w3.org/1999/xlink\" width=\"600\" height=\"400\" viewBox=\"0 0 2400 1600\">\n",
       "<defs>\n",
       "  <clipPath id=\"clip170\">\n",
       "    <rect x=\"0\" y=\"0\" width=\"2400\" height=\"1600\"/>\n",
       "  </clipPath>\n",
       "</defs>\n",
       "<path clip-path=\"url(#clip170)\" d=\"\n",
       "M0 1600 L2400 1600 L2400 0 L0 0  Z\n",
       "  \" fill=\"#ffffff\" fill-rule=\"evenodd\" fill-opacity=\"1\"/>\n",
       "<defs>\n",
       "  <clipPath id=\"clip171\">\n",
       "    <rect x=\"480\" y=\"0\" width=\"1681\" height=\"1600\"/>\n",
       "  </clipPath>\n",
       "</defs>\n",
       "<path clip-path=\"url(#clip170)\" d=\"\n",
       "M294.264 1423.18 L2352.76 1423.18 L2352.76 47.2441 L294.264 47.2441  Z\n",
       "  \" fill=\"#ffffff\" fill-rule=\"evenodd\" fill-opacity=\"1\"/>\n",
       "<defs>\n",
       "  <clipPath id=\"clip172\">\n",
       "    <rect x=\"294\" y=\"47\" width=\"2059\" height=\"1377\"/>\n",
       "  </clipPath>\n",
       "</defs>\n",
       "<polyline clip-path=\"url(#clip172)\" style=\"stroke:#000000; stroke-linecap:butt; stroke-linejoin:round; stroke-width:2; stroke-opacity:0.1; fill:none\" points=\"\n",
       "  659.151,1423.18 659.151,47.2441 \n",
       "  \"/>\n",
       "<polyline clip-path=\"url(#clip172)\" style=\"stroke:#000000; stroke-linecap:butt; stroke-linejoin:round; stroke-width:2; stroke-opacity:0.1; fill:none\" points=\"\n",
       "  1067.99,1423.18 1067.99,47.2441 \n",
       "  \"/>\n",
       "<polyline clip-path=\"url(#clip172)\" style=\"stroke:#000000; stroke-linecap:butt; stroke-linejoin:round; stroke-width:2; stroke-opacity:0.1; fill:none\" points=\"\n",
       "  1476.82,1423.18 1476.82,47.2441 \n",
       "  \"/>\n",
       "<polyline clip-path=\"url(#clip172)\" style=\"stroke:#000000; stroke-linecap:butt; stroke-linejoin:round; stroke-width:2; stroke-opacity:0.1; fill:none\" points=\"\n",
       "  1885.66,1423.18 1885.66,47.2441 \n",
       "  \"/>\n",
       "<polyline clip-path=\"url(#clip172)\" style=\"stroke:#000000; stroke-linecap:butt; stroke-linejoin:round; stroke-width:2; stroke-opacity:0.1; fill:none\" points=\"\n",
       "  2294.5,1423.18 2294.5,47.2441 \n",
       "  \"/>\n",
       "<polyline clip-path=\"url(#clip170)\" style=\"stroke:#000000; stroke-linecap:butt; stroke-linejoin:round; stroke-width:4; stroke-opacity:1; fill:none\" points=\"\n",
       "  294.264,1423.18 2352.76,1423.18 \n",
       "  \"/>\n",
       "<polyline clip-path=\"url(#clip170)\" style=\"stroke:#000000; stroke-linecap:butt; stroke-linejoin:round; stroke-width:4; stroke-opacity:1; fill:none\" points=\"\n",
       "  294.264,47.2441 2352.76,47.2441 \n",
       "  \"/>\n",
       "<polyline clip-path=\"url(#clip170)\" style=\"stroke:#000000; stroke-linecap:butt; stroke-linejoin:round; stroke-width:4; stroke-opacity:1; fill:none\" points=\"\n",
       "  659.151,1423.18 659.151,1404.28 \n",
       "  \"/>\n",
       "<polyline clip-path=\"url(#clip170)\" style=\"stroke:#000000; stroke-linecap:butt; stroke-linejoin:round; stroke-width:4; stroke-opacity:1; fill:none\" points=\"\n",
       "  1067.99,1423.18 1067.99,1404.28 \n",
       "  \"/>\n",
       "<polyline clip-path=\"url(#clip170)\" style=\"stroke:#000000; stroke-linecap:butt; stroke-linejoin:round; stroke-width:4; stroke-opacity:1; fill:none\" points=\"\n",
       "  1476.82,1423.18 1476.82,1404.28 \n",
       "  \"/>\n",
       "<polyline clip-path=\"url(#clip170)\" style=\"stroke:#000000; stroke-linecap:butt; stroke-linejoin:round; stroke-width:4; stroke-opacity:1; fill:none\" points=\"\n",
       "  1885.66,1423.18 1885.66,1404.28 \n",
       "  \"/>\n",
       "<polyline clip-path=\"url(#clip170)\" style=\"stroke:#000000; stroke-linecap:butt; stroke-linejoin:round; stroke-width:4; stroke-opacity:1; fill:none\" points=\"\n",
       "  2294.5,1423.18 2294.5,1404.28 \n",
       "  \"/>\n",
       "<path clip-path=\"url(#clip170)\" d=\"M622.843 1481.64 L639.162 1481.64 L639.162 1485.58 L617.218 1485.58 L617.218 1481.64 Q619.88 1478.89 624.463 1474.26 Q629.07 1469.61 630.25 1468.27 Q632.496 1465.74 633.375 1464.01 Q634.278 1462.25 634.278 1460.56 Q634.278 1457.8 632.334 1456.07 Q630.412 1454.33 627.311 1454.33 Q625.111 1454.33 622.658 1455.09 Q620.227 1455.86 617.449 1457.41 L617.449 1452.69 Q620.274 1451.55 622.727 1450.97 Q625.181 1450.39 627.218 1450.39 Q632.588 1450.39 635.783 1453.08 Q638.977 1455.77 638.977 1460.26 Q638.977 1462.39 638.167 1464.31 Q637.38 1466.2 635.273 1468.8 Q634.695 1469.47 631.593 1472.69 Q628.491 1475.88 622.843 1481.64 Z\" fill=\"#000000\" fill-rule=\"evenodd\" fill-opacity=\"1\" /><path clip-path=\"url(#clip170)\" d=\"M658.977 1454.1 Q655.366 1454.1 653.537 1457.66 Q651.732 1461.2 651.732 1468.33 Q651.732 1475.44 653.537 1479.01 Q655.366 1482.55 658.977 1482.55 Q662.611 1482.55 664.417 1479.01 Q666.245 1475.44 666.245 1468.33 Q666.245 1461.2 664.417 1457.66 Q662.611 1454.1 658.977 1454.1 M658.977 1450.39 Q664.787 1450.39 667.843 1455 Q670.921 1459.58 670.921 1468.33 Q670.921 1477.06 667.843 1481.67 Q664.787 1486.25 658.977 1486.25 Q653.167 1486.25 650.088 1481.67 Q647.033 1477.06 647.033 1468.33 Q647.033 1459.58 650.088 1455 Q653.167 1450.39 658.977 1450.39 Z\" fill=\"#000000\" fill-rule=\"evenodd\" fill-opacity=\"1\" /><path clip-path=\"url(#clip170)\" d=\"M689.139 1454.1 Q685.528 1454.1 683.699 1457.66 Q681.894 1461.2 681.894 1468.33 Q681.894 1475.44 683.699 1479.01 Q685.528 1482.55 689.139 1482.55 Q692.773 1482.55 694.579 1479.01 Q696.407 1475.44 696.407 1468.33 Q696.407 1461.2 694.579 1457.66 Q692.773 1454.1 689.139 1454.1 M689.139 1450.39 Q694.949 1450.39 698.005 1455 Q701.083 1459.58 701.083 1468.33 Q701.083 1477.06 698.005 1481.67 Q694.949 1486.25 689.139 1486.25 Q683.329 1486.25 680.25 1481.67 Q677.194 1477.06 677.194 1468.33 Q677.194 1459.58 680.25 1455 Q683.329 1450.39 689.139 1450.39 Z\" fill=\"#000000\" fill-rule=\"evenodd\" fill-opacity=\"1\" /><path clip-path=\"url(#clip170)\" d=\"M1041.08 1455.09 L1029.27 1473.54 L1041.08 1473.54 L1041.08 1455.09 M1039.85 1451.02 L1045.73 1451.02 L1045.73 1473.54 L1050.66 1473.54 L1050.66 1477.43 L1045.73 1477.43 L1045.73 1485.58 L1041.08 1485.58 L1041.08 1477.43 L1025.48 1477.43 L1025.48 1472.92 L1039.85 1451.02 Z\" fill=\"#000000\" fill-rule=\"evenodd\" fill-opacity=\"1\" /><path clip-path=\"url(#clip170)\" d=\"M1068.39 1454.1 Q1064.78 1454.1 1062.95 1457.66 Q1061.15 1461.2 1061.15 1468.33 Q1061.15 1475.44 1062.95 1479.01 Q1064.78 1482.55 1068.39 1482.55 Q1072.03 1482.55 1073.83 1479.01 Q1075.66 1475.44 1075.66 1468.33 Q1075.66 1461.2 1073.83 1457.66 Q1072.03 1454.1 1068.39 1454.1 M1068.39 1450.39 Q1074.2 1450.39 1077.26 1455 Q1080.34 1459.58 1080.34 1468.33 Q1080.34 1477.06 1077.26 1481.67 Q1074.2 1486.25 1068.39 1486.25 Q1062.58 1486.25 1059.5 1481.67 Q1056.45 1477.06 1056.45 1468.33 Q1056.45 1459.58 1059.5 1455 Q1062.58 1450.39 1068.39 1450.39 Z\" fill=\"#000000\" fill-rule=\"evenodd\" fill-opacity=\"1\" /><path clip-path=\"url(#clip170)\" d=\"M1098.55 1454.1 Q1094.94 1454.1 1093.11 1457.66 Q1091.31 1461.2 1091.31 1468.33 Q1091.31 1475.44 1093.11 1479.01 Q1094.94 1482.55 1098.55 1482.55 Q1102.19 1482.55 1103.99 1479.01 Q1105.82 1475.44 1105.82 1468.33 Q1105.82 1461.2 1103.99 1457.66 Q1102.19 1454.1 1098.55 1454.1 M1098.55 1450.39 Q1104.36 1450.39 1107.42 1455 Q1110.5 1459.58 1110.5 1468.33 Q1110.5 1477.06 1107.42 1481.67 Q1104.36 1486.25 1098.55 1486.25 Q1092.74 1486.25 1089.67 1481.67 Q1086.61 1477.06 1086.61 1468.33 Q1086.61 1459.58 1089.67 1455 Q1092.74 1450.39 1098.55 1450.39 Z\" fill=\"#000000\" fill-rule=\"evenodd\" fill-opacity=\"1\" /><path clip-path=\"url(#clip170)\" d=\"M1447.15 1466.44 Q1444 1466.44 1442.15 1468.59 Q1440.32 1470.74 1440.32 1474.49 Q1440.32 1478.22 1442.15 1480.39 Q1444 1482.55 1447.15 1482.55 Q1450.3 1482.55 1452.12 1480.39 Q1453.98 1478.22 1453.98 1474.49 Q1453.98 1470.74 1452.12 1468.59 Q1450.3 1466.44 1447.15 1466.44 M1456.43 1451.78 L1456.43 1456.04 Q1454.67 1455.21 1452.87 1454.77 Q1451.08 1454.33 1449.32 1454.33 Q1444.69 1454.33 1442.24 1457.45 Q1439.81 1460.58 1439.46 1466.9 Q1440.83 1464.89 1442.89 1463.82 Q1444.95 1462.73 1447.43 1462.73 Q1452.63 1462.73 1455.64 1465.9 Q1458.68 1469.05 1458.68 1474.49 Q1458.68 1479.82 1455.53 1483.03 Q1452.38 1486.25 1447.15 1486.25 Q1441.15 1486.25 1437.98 1481.67 Q1434.81 1477.06 1434.81 1468.33 Q1434.81 1460.14 1438.7 1455.28 Q1442.59 1450.39 1449.14 1450.39 Q1450.9 1450.39 1452.68 1450.74 Q1454.49 1451.09 1456.43 1451.78 Z\" fill=\"#000000\" fill-rule=\"evenodd\" fill-opacity=\"1\" /><path clip-path=\"url(#clip170)\" d=\"M1476.73 1454.1 Q1473.12 1454.1 1471.29 1457.66 Q1469.49 1461.2 1469.49 1468.33 Q1469.49 1475.44 1471.29 1479.01 Q1473.12 1482.55 1476.73 1482.55 Q1480.37 1482.55 1482.17 1479.01 Q1484 1475.44 1484 1468.33 Q1484 1461.2 1482.17 1457.66 Q1480.37 1454.1 1476.73 1454.1 M1476.73 1450.39 Q1482.54 1450.39 1485.6 1455 Q1488.68 1459.58 1488.68 1468.33 Q1488.68 1477.06 1485.6 1481.67 Q1482.54 1486.25 1476.73 1486.25 Q1470.92 1486.25 1467.84 1481.67 Q1464.79 1477.06 1464.79 1468.33 Q1464.79 1459.58 1467.84 1455 Q1470.92 1450.39 1476.73 1450.39 Z\" fill=\"#000000\" fill-rule=\"evenodd\" fill-opacity=\"1\" /><path clip-path=\"url(#clip170)\" d=\"M1506.89 1454.1 Q1503.28 1454.1 1501.45 1457.66 Q1499.65 1461.2 1499.65 1468.33 Q1499.65 1475.44 1501.45 1479.01 Q1503.28 1482.55 1506.89 1482.55 Q1510.53 1482.55 1512.33 1479.01 Q1514.16 1475.44 1514.16 1468.33 Q1514.16 1461.2 1512.33 1457.66 Q1510.53 1454.1 1506.89 1454.1 M1506.89 1450.39 Q1512.7 1450.39 1515.76 1455 Q1518.84 1459.58 1518.84 1468.33 Q1518.84 1477.06 1515.76 1481.67 Q1512.7 1486.25 1506.89 1486.25 Q1501.08 1486.25 1498 1481.67 Q1494.95 1477.06 1494.95 1468.33 Q1494.95 1459.58 1498 1455 Q1501.08 1450.39 1506.89 1450.39 Z\" fill=\"#000000\" fill-rule=\"evenodd\" fill-opacity=\"1\" /><path clip-path=\"url(#clip170)\" d=\"M1855.45 1469.17 Q1852.12 1469.17 1850.2 1470.95 Q1848.3 1472.73 1848.3 1475.86 Q1848.3 1478.98 1850.2 1480.77 Q1852.12 1482.55 1855.45 1482.55 Q1858.79 1482.55 1860.71 1480.77 Q1862.63 1478.96 1862.63 1475.86 Q1862.63 1472.73 1860.71 1470.95 Q1858.81 1469.17 1855.45 1469.17 M1850.78 1467.18 Q1847.77 1466.44 1846.08 1464.38 Q1844.41 1462.32 1844.41 1459.35 Q1844.41 1455.21 1847.35 1452.8 Q1850.31 1450.39 1855.45 1450.39 Q1860.61 1450.39 1863.55 1452.8 Q1866.49 1455.21 1866.49 1459.35 Q1866.49 1462.32 1864.8 1464.38 Q1863.14 1466.44 1860.15 1467.18 Q1863.53 1467.96 1865.41 1470.26 Q1867.3 1472.55 1867.3 1475.86 Q1867.3 1480.88 1864.23 1483.57 Q1861.17 1486.25 1855.45 1486.25 Q1849.73 1486.25 1846.66 1483.57 Q1843.6 1480.88 1843.6 1475.86 Q1843.6 1472.55 1845.5 1470.26 Q1847.4 1467.96 1850.78 1467.18 M1849.06 1459.79 Q1849.06 1462.48 1850.73 1463.98 Q1852.42 1465.49 1855.45 1465.49 Q1858.46 1465.49 1860.15 1463.98 Q1861.86 1462.48 1861.86 1459.79 Q1861.86 1457.11 1860.15 1455.6 Q1858.46 1454.1 1855.45 1454.1 Q1852.42 1454.1 1850.73 1455.6 Q1849.06 1457.11 1849.06 1459.79 Z\" fill=\"#000000\" fill-rule=\"evenodd\" fill-opacity=\"1\" /><path clip-path=\"url(#clip170)\" d=\"M1885.61 1454.1 Q1882 1454.1 1880.17 1457.66 Q1878.37 1461.2 1878.37 1468.33 Q1878.37 1475.44 1880.17 1479.01 Q1882 1482.55 1885.61 1482.55 Q1889.25 1482.55 1891.05 1479.01 Q1892.88 1475.44 1892.88 1468.33 Q1892.88 1461.2 1891.05 1457.66 Q1889.25 1454.1 1885.61 1454.1 M1885.61 1450.39 Q1891.42 1450.39 1894.48 1455 Q1897.56 1459.58 1897.56 1468.33 Q1897.56 1477.06 1894.48 1481.67 Q1891.42 1486.25 1885.61 1486.25 Q1879.8 1486.25 1876.73 1481.67 Q1873.67 1477.06 1873.67 1468.33 Q1873.67 1459.58 1876.73 1455 Q1879.8 1450.39 1885.61 1450.39 Z\" fill=\"#000000\" fill-rule=\"evenodd\" fill-opacity=\"1\" /><path clip-path=\"url(#clip170)\" d=\"M1915.78 1454.1 Q1912.16 1454.1 1910.34 1457.66 Q1908.53 1461.2 1908.53 1468.33 Q1908.53 1475.44 1910.34 1479.01 Q1912.16 1482.55 1915.78 1482.55 Q1919.41 1482.55 1921.22 1479.01 Q1923.04 1475.44 1923.04 1468.33 Q1923.04 1461.2 1921.22 1457.66 Q1919.41 1454.1 1915.78 1454.1 M1915.78 1450.39 Q1921.59 1450.39 1924.64 1455 Q1927.72 1459.58 1927.72 1468.33 Q1927.72 1477.06 1924.64 1481.67 Q1921.59 1486.25 1915.78 1486.25 Q1909.97 1486.25 1906.89 1481.67 Q1903.83 1477.06 1903.83 1468.33 Q1903.83 1459.58 1906.89 1455 Q1909.97 1450.39 1915.78 1450.39 Z\" fill=\"#000000\" fill-rule=\"evenodd\" fill-opacity=\"1\" /><path clip-path=\"url(#clip170)\" d=\"M2239.02 1481.64 L2246.66 1481.64 L2246.66 1455.28 L2238.35 1456.95 L2238.35 1452.69 L2246.62 1451.02 L2251.29 1451.02 L2251.29 1481.64 L2258.93 1481.64 L2258.93 1485.58 L2239.02 1485.58 L2239.02 1481.64 Z\" fill=\"#000000\" fill-rule=\"evenodd\" fill-opacity=\"1\" /><path clip-path=\"url(#clip170)\" d=\"M2278.37 1454.1 Q2274.76 1454.1 2272.93 1457.66 Q2271.13 1461.2 2271.13 1468.33 Q2271.13 1475.44 2272.93 1479.01 Q2274.76 1482.55 2278.37 1482.55 Q2282.01 1482.55 2283.81 1479.01 Q2285.64 1475.44 2285.64 1468.33 Q2285.64 1461.2 2283.81 1457.66 Q2282.01 1454.1 2278.37 1454.1 M2278.37 1450.39 Q2284.18 1450.39 2287.24 1455 Q2290.32 1459.58 2290.32 1468.33 Q2290.32 1477.06 2287.24 1481.67 Q2284.18 1486.25 2278.37 1486.25 Q2272.56 1486.25 2269.49 1481.67 Q2266.43 1477.06 2266.43 1468.33 Q2266.43 1459.58 2269.49 1455 Q2272.56 1450.39 2278.37 1450.39 Z\" fill=\"#000000\" fill-rule=\"evenodd\" fill-opacity=\"1\" /><path clip-path=\"url(#clip170)\" d=\"M2308.54 1454.1 Q2304.92 1454.1 2303.1 1457.66 Q2301.29 1461.2 2301.29 1468.33 Q2301.29 1475.44 2303.1 1479.01 Q2304.92 1482.55 2308.54 1482.55 Q2312.17 1482.55 2313.98 1479.01 Q2315.8 1475.44 2315.8 1468.33 Q2315.8 1461.2 2313.98 1457.66 Q2312.17 1454.1 2308.54 1454.1 M2308.54 1450.39 Q2314.35 1450.39 2317.4 1455 Q2320.48 1459.58 2320.48 1468.33 Q2320.48 1477.06 2317.4 1481.67 Q2314.35 1486.25 2308.54 1486.25 Q2302.73 1486.25 2299.65 1481.67 Q2296.59 1477.06 2296.59 1468.33 Q2296.59 1459.58 2299.65 1455 Q2302.73 1450.39 2308.54 1450.39 Z\" fill=\"#000000\" fill-rule=\"evenodd\" fill-opacity=\"1\" /><path clip-path=\"url(#clip170)\" d=\"M2338.7 1454.1 Q2335.09 1454.1 2333.26 1457.66 Q2331.45 1461.2 2331.45 1468.33 Q2331.45 1475.44 2333.26 1479.01 Q2335.09 1482.55 2338.7 1482.55 Q2342.33 1482.55 2344.14 1479.01 Q2345.97 1475.44 2345.97 1468.33 Q2345.97 1461.2 2344.14 1457.66 Q2342.33 1454.1 2338.7 1454.1 M2338.7 1450.39 Q2344.51 1450.39 2347.56 1455 Q2350.64 1459.58 2350.64 1468.33 Q2350.64 1477.06 2347.56 1481.67 Q2344.51 1486.25 2338.7 1486.25 Q2332.89 1486.25 2329.81 1481.67 Q2326.75 1477.06 2326.75 1468.33 Q2326.75 1459.58 2329.81 1455 Q2332.89 1450.39 2338.7 1450.39 Z\" fill=\"#000000\" fill-rule=\"evenodd\" fill-opacity=\"1\" /><path clip-path=\"url(#clip170)\" d=\"M1207.42 1518.52 L1213.27 1518.52 L1213.27 1568.04 L1207.42 1568.04 L1207.42 1518.52 Z\" fill=\"#000000\" fill-rule=\"evenodd\" fill-opacity=\"1\" /><path clip-path=\"url(#clip170)\" d=\"M1241.73 1550.12 Q1234.63 1550.12 1231.89 1551.75 Q1229.15 1553.37 1229.15 1557.29 Q1229.15 1560.4 1231.19 1562.25 Q1233.26 1564.07 1236.79 1564.07 Q1241.66 1564.07 1244.59 1560.63 Q1247.55 1557.16 1247.55 1551.43 L1247.55 1550.12 L1241.73 1550.12 M1253.41 1547.71 L1253.41 1568.04 L1247.55 1568.04 L1247.55 1562.63 Q1245.55 1565.88 1242.55 1567.44 Q1239.56 1568.97 1235.23 1568.97 Q1229.76 1568.97 1226.51 1565.91 Q1223.3 1562.82 1223.3 1557.67 Q1223.3 1551.65 1227.31 1548.6 Q1231.35 1545.54 1239.34 1545.54 L1247.55 1545.54 L1247.55 1544.97 Q1247.55 1540.93 1244.88 1538.73 Q1242.24 1536.5 1237.43 1536.5 Q1234.37 1536.5 1231.48 1537.23 Q1228.58 1537.97 1225.91 1539.43 L1225.91 1534.02 Q1229.12 1532.78 1232.15 1532.17 Q1235.17 1531.54 1238.03 1531.54 Q1245.77 1531.54 1249.59 1535.55 Q1253.41 1539.56 1253.41 1547.71 Z\" fill=\"#000000\" fill-rule=\"evenodd\" fill-opacity=\"1\" /><path clip-path=\"url(#clip170)\" d=\"M1293.23 1539.24 Q1295.42 1535.29 1298.48 1533.41 Q1301.53 1531.54 1305.67 1531.54 Q1311.24 1531.54 1314.26 1535.45 Q1317.29 1539.33 1317.29 1546.53 L1317.29 1568.04 L1311.4 1568.04 L1311.4 1546.72 Q1311.4 1541.59 1309.58 1539.11 Q1307.77 1536.63 1304.05 1536.63 Q1299.5 1536.63 1296.85 1539.65 Q1294.21 1542.68 1294.21 1547.9 L1294.21 1568.04 L1288.32 1568.04 L1288.32 1546.72 Q1288.32 1541.56 1286.51 1539.11 Q1284.7 1536.63 1280.91 1536.63 Q1276.42 1536.63 1273.78 1539.68 Q1271.14 1542.71 1271.14 1547.9 L1271.14 1568.04 L1265.25 1568.04 L1265.25 1532.4 L1271.14 1532.4 L1271.14 1537.93 Q1273.14 1534.66 1275.94 1533.1 Q1278.74 1531.54 1282.59 1531.54 Q1286.48 1531.54 1289.18 1533.51 Q1291.92 1535.48 1293.23 1539.24 Z\" fill=\"#000000\" fill-rule=\"evenodd\" fill-opacity=\"1\" /><path clip-path=\"url(#clip170)\" d=\"M1354.56 1550.25 Q1354.56 1543.79 1351.89 1540.13 Q1349.24 1536.44 1344.6 1536.44 Q1339.95 1536.44 1337.28 1540.13 Q1334.63 1543.79 1334.63 1550.25 Q1334.63 1556.71 1337.28 1560.4 Q1339.95 1564.07 1344.6 1564.07 Q1349.24 1564.07 1351.89 1560.4 Q1354.56 1556.71 1354.56 1550.25 M1334.63 1537.81 Q1336.48 1534.62 1339.28 1533.1 Q1342.11 1531.54 1346.03 1531.54 Q1352.52 1531.54 1356.56 1536.69 Q1360.64 1541.85 1360.64 1550.25 Q1360.64 1558.65 1356.56 1563.81 Q1352.52 1568.97 1346.03 1568.97 Q1342.11 1568.97 1339.28 1567.44 Q1336.48 1565.88 1334.63 1562.7 L1334.63 1568.04 L1328.75 1568.04 L1328.75 1518.52 L1334.63 1518.52 L1334.63 1537.81 Z\" fill=\"#000000\" fill-rule=\"evenodd\" fill-opacity=\"1\" /><path clip-path=\"url(#clip170)\" d=\"M1393.8 1537.81 L1393.8 1518.52 L1399.66 1518.52 L1399.66 1568.04 L1393.8 1568.04 L1393.8 1562.7 Q1391.96 1565.88 1389.12 1567.44 Q1386.32 1568.97 1382.38 1568.97 Q1375.92 1568.97 1371.84 1563.81 Q1367.8 1558.65 1367.8 1550.25 Q1367.8 1541.85 1371.84 1536.69 Q1375.92 1531.54 1382.38 1531.54 Q1386.32 1531.54 1389.12 1533.1 Q1391.96 1534.62 1393.8 1537.81 M1373.85 1550.25 Q1373.85 1556.71 1376.49 1560.4 Q1379.16 1564.07 1383.81 1564.07 Q1388.46 1564.07 1391.13 1560.4 Q1393.8 1556.71 1393.8 1550.25 Q1393.8 1543.79 1391.13 1540.13 Q1388.46 1536.44 1383.81 1536.44 Q1379.16 1536.44 1376.49 1540.13 Q1373.85 1543.79 1373.85 1550.25 Z\" fill=\"#000000\" fill-rule=\"evenodd\" fill-opacity=\"1\" /><path clip-path=\"url(#clip170)\" d=\"M1427.92 1550.12 Q1420.83 1550.12 1418.09 1551.75 Q1415.35 1553.37 1415.35 1557.29 Q1415.35 1560.4 1417.39 1562.25 Q1419.46 1564.07 1422.99 1564.07 Q1427.86 1564.07 1430.79 1560.63 Q1433.75 1557.16 1433.75 1551.43 L1433.75 1550.12 L1427.92 1550.12 M1439.6 1547.71 L1439.6 1568.04 L1433.75 1568.04 L1433.75 1562.63 Q1431.74 1565.88 1428.75 1567.44 Q1425.76 1568.97 1421.43 1568.97 Q1415.96 1568.97 1412.71 1565.91 Q1409.49 1562.82 1409.49 1557.67 Q1409.49 1551.65 1413.51 1548.6 Q1417.55 1545.54 1425.54 1545.54 L1433.75 1545.54 L1433.75 1544.97 Q1433.75 1540.93 1431.07 1538.73 Q1428.43 1536.5 1423.63 1536.5 Q1420.57 1536.5 1417.67 1537.23 Q1414.78 1537.97 1412.1 1539.43 L1412.1 1534.02 Q1415.32 1532.78 1418.34 1532.17 Q1421.37 1531.54 1424.23 1531.54 Q1431.97 1531.54 1435.79 1535.55 Q1439.6 1539.56 1439.6 1547.71 Z\" fill=\"#000000\" fill-rule=\"evenodd\" fill-opacity=\"1\" /><polyline clip-path=\"url(#clip172)\" style=\"stroke:#000000; stroke-linecap:butt; stroke-linejoin:round; stroke-width:2; stroke-opacity:0.1; fill:none\" points=\"\n",
       "  294.264,1248.66 2352.76,1248.66 \n",
       "  \"/>\n",
       "<polyline clip-path=\"url(#clip172)\" style=\"stroke:#000000; stroke-linecap:butt; stroke-linejoin:round; stroke-width:2; stroke-opacity:0.1; fill:none\" points=\"\n",
       "  294.264,1045.73 2352.76,1045.73 \n",
       "  \"/>\n",
       "<polyline clip-path=\"url(#clip172)\" style=\"stroke:#000000; stroke-linecap:butt; stroke-linejoin:round; stroke-width:2; stroke-opacity:0.1; fill:none\" points=\"\n",
       "  294.264,842.808 2352.76,842.808 \n",
       "  \"/>\n",
       "<polyline clip-path=\"url(#clip172)\" style=\"stroke:#000000; stroke-linecap:butt; stroke-linejoin:round; stroke-width:2; stroke-opacity:0.1; fill:none\" points=\"\n",
       "  294.264,639.882 2352.76,639.882 \n",
       "  \"/>\n",
       "<polyline clip-path=\"url(#clip172)\" style=\"stroke:#000000; stroke-linecap:butt; stroke-linejoin:round; stroke-width:2; stroke-opacity:0.1; fill:none\" points=\"\n",
       "  294.264,436.956 2352.76,436.956 \n",
       "  \"/>\n",
       "<polyline clip-path=\"url(#clip172)\" style=\"stroke:#000000; stroke-linecap:butt; stroke-linejoin:round; stroke-width:2; stroke-opacity:0.1; fill:none\" points=\"\n",
       "  294.264,234.029 2352.76,234.029 \n",
       "  \"/>\n",
       "<polyline clip-path=\"url(#clip170)\" style=\"stroke:#000000; stroke-linecap:butt; stroke-linejoin:round; stroke-width:4; stroke-opacity:1; fill:none\" points=\"\n",
       "  294.264,1423.18 294.264,47.2441 \n",
       "  \"/>\n",
       "<polyline clip-path=\"url(#clip170)\" style=\"stroke:#000000; stroke-linecap:butt; stroke-linejoin:round; stroke-width:4; stroke-opacity:1; fill:none\" points=\"\n",
       "  2352.76,1423.18 2352.76,47.2441 \n",
       "  \"/>\n",
       "<polyline clip-path=\"url(#clip170)\" style=\"stroke:#000000; stroke-linecap:butt; stroke-linejoin:round; stroke-width:4; stroke-opacity:1; fill:none\" points=\"\n",
       "  294.264,1248.66 313.162,1248.66 \n",
       "  \"/>\n",
       "<polyline clip-path=\"url(#clip170)\" style=\"stroke:#000000; stroke-linecap:butt; stroke-linejoin:round; stroke-width:4; stroke-opacity:1; fill:none\" points=\"\n",
       "  294.264,1045.73 313.162,1045.73 \n",
       "  \"/>\n",
       "<polyline clip-path=\"url(#clip170)\" style=\"stroke:#000000; stroke-linecap:butt; stroke-linejoin:round; stroke-width:4; stroke-opacity:1; fill:none\" points=\"\n",
       "  294.264,842.808 313.162,842.808 \n",
       "  \"/>\n",
       "<polyline clip-path=\"url(#clip170)\" style=\"stroke:#000000; stroke-linecap:butt; stroke-linejoin:round; stroke-width:4; stroke-opacity:1; fill:none\" points=\"\n",
       "  294.264,639.882 313.162,639.882 \n",
       "  \"/>\n",
       "<polyline clip-path=\"url(#clip170)\" style=\"stroke:#000000; stroke-linecap:butt; stroke-linejoin:round; stroke-width:4; stroke-opacity:1; fill:none\" points=\"\n",
       "  294.264,436.956 313.162,436.956 \n",
       "  \"/>\n",
       "<polyline clip-path=\"url(#clip170)\" style=\"stroke:#000000; stroke-linecap:butt; stroke-linejoin:round; stroke-width:4; stroke-opacity:1; fill:none\" points=\"\n",
       "  294.264,234.029 313.162,234.029 \n",
       "  \"/>\n",
       "<path clip-path=\"url(#clip170)\" d=\"M115.718 1231.38 L134.075 1231.38 L134.075 1235.32 L120.001 1235.32 L120.001 1243.79 Q121.019 1243.44 122.038 1243.28 Q123.056 1243.09 124.075 1243.09 Q129.862 1243.09 133.242 1246.26 Q136.621 1249.44 136.621 1254.85 Q136.621 1260.43 133.149 1263.53 Q129.677 1266.61 123.357 1266.61 Q121.181 1266.61 118.913 1266.24 Q116.668 1265.87 114.26 1265.13 L114.26 1260.43 Q116.343 1261.57 118.566 1262.12 Q120.788 1262.68 123.265 1262.68 Q127.269 1262.68 129.607 1260.57 Q131.945 1258.46 131.945 1254.85 Q131.945 1251.24 129.607 1249.14 Q127.269 1247.03 123.265 1247.03 Q121.39 1247.03 119.515 1247.45 Q117.663 1247.86 115.718 1248.74 L115.718 1231.38 Z\" fill=\"#000000\" fill-rule=\"evenodd\" fill-opacity=\"1\" /><path clip-path=\"url(#clip170)\" d=\"M160.001 1247.31 Q163.357 1248.02 165.232 1250.29 Q167.13 1252.56 167.13 1255.89 Q167.13 1261.01 163.612 1263.81 Q160.093 1266.61 153.612 1266.61 Q151.436 1266.61 149.121 1266.17 Q146.829 1265.76 144.376 1264.9 L144.376 1260.39 Q146.32 1261.52 148.635 1262.1 Q150.95 1262.68 153.473 1262.68 Q157.871 1262.68 160.163 1260.94 Q162.477 1259.2 162.477 1255.89 Q162.477 1252.84 160.325 1251.13 Q158.195 1249.39 154.376 1249.39 L150.348 1249.39 L150.348 1245.55 L154.561 1245.55 Q158.01 1245.55 159.839 1244.18 Q161.667 1242.79 161.667 1240.2 Q161.667 1237.54 159.769 1236.13 Q157.894 1234.69 154.376 1234.69 Q152.454 1234.69 150.255 1235.11 Q148.056 1235.52 145.417 1236.4 L145.417 1232.24 Q148.079 1231.5 150.394 1231.13 Q152.732 1230.76 154.792 1230.76 Q160.116 1230.76 163.218 1233.19 Q166.32 1235.59 166.32 1239.71 Q166.32 1242.58 164.677 1244.57 Q163.033 1246.54 160.001 1247.31 Z\" fill=\"#000000\" fill-rule=\"evenodd\" fill-opacity=\"1\" /><path clip-path=\"url(#clip170)\" d=\"M185.996 1234.46 Q182.385 1234.46 180.556 1238.02 Q178.751 1241.57 178.751 1248.7 Q178.751 1255.8 180.556 1259.37 Q182.385 1262.91 185.996 1262.91 Q189.63 1262.91 191.436 1259.37 Q193.264 1255.8 193.264 1248.7 Q193.264 1241.57 191.436 1238.02 Q189.63 1234.46 185.996 1234.46 M185.996 1230.76 Q191.806 1230.76 194.862 1235.36 Q197.94 1239.95 197.94 1248.7 Q197.94 1257.42 194.862 1262.03 Q191.806 1266.61 185.996 1266.61 Q180.186 1266.61 177.107 1262.03 Q174.052 1257.42 174.052 1248.7 Q174.052 1239.95 177.107 1235.36 Q180.186 1230.76 185.996 1230.76 Z\" fill=\"#000000\" fill-rule=\"evenodd\" fill-opacity=\"1\" /><path clip-path=\"url(#clip170)\" d=\"M216.158 1234.46 Q212.547 1234.46 210.718 1238.02 Q208.912 1241.57 208.912 1248.7 Q208.912 1255.8 210.718 1259.37 Q212.547 1262.91 216.158 1262.91 Q219.792 1262.91 221.598 1259.37 Q223.426 1255.8 223.426 1248.7 Q223.426 1241.57 221.598 1238.02 Q219.792 1234.46 216.158 1234.46 M216.158 1230.76 Q221.968 1230.76 225.023 1235.36 Q228.102 1239.95 228.102 1248.7 Q228.102 1257.42 225.023 1262.03 Q221.968 1266.61 216.158 1266.61 Q210.348 1266.61 207.269 1262.03 Q204.213 1257.42 204.213 1248.7 Q204.213 1239.95 207.269 1235.36 Q210.348 1230.76 216.158 1230.76 Z\" fill=\"#000000\" fill-rule=\"evenodd\" fill-opacity=\"1\" /><path clip-path=\"url(#clip170)\" d=\"M246.32 1234.46 Q242.709 1234.46 240.88 1238.02 Q239.074 1241.57 239.074 1248.7 Q239.074 1255.8 240.88 1259.37 Q242.709 1262.91 246.32 1262.91 Q249.954 1262.91 251.759 1259.37 Q253.588 1255.8 253.588 1248.7 Q253.588 1241.57 251.759 1238.02 Q249.954 1234.46 246.32 1234.46 M246.32 1230.76 Q252.13 1230.76 255.185 1235.36 Q258.264 1239.95 258.264 1248.7 Q258.264 1257.42 255.185 1262.03 Q252.13 1266.61 246.32 1266.61 Q240.509 1266.61 237.431 1262.03 Q234.375 1257.42 234.375 1248.7 Q234.375 1239.95 237.431 1235.36 Q240.509 1230.76 246.32 1230.76 Z\" fill=\"#000000\" fill-rule=\"evenodd\" fill-opacity=\"1\" /><path clip-path=\"url(#clip170)\" d=\"M115.718 1028.45 L134.075 1028.45 L134.075 1032.39 L120.001 1032.39 L120.001 1040.86 Q121.019 1040.51 122.038 1040.35 Q123.056 1040.17 124.075 1040.17 Q129.862 1040.17 133.242 1043.34 Q136.621 1046.51 136.621 1051.93 Q136.621 1057.51 133.149 1060.61 Q129.677 1063.69 123.357 1063.69 Q121.181 1063.69 118.913 1063.32 Q116.668 1062.94 114.26 1062.2 L114.26 1057.51 Q116.343 1058.64 118.566 1059.19 Q120.788 1059.75 123.265 1059.75 Q127.269 1059.75 129.607 1057.64 Q131.945 1055.54 131.945 1051.93 Q131.945 1048.32 129.607 1046.21 Q127.269 1044.1 123.265 1044.1 Q121.39 1044.1 119.515 1044.52 Q117.663 1044.94 115.718 1045.82 L115.718 1028.45 Z\" fill=\"#000000\" fill-rule=\"evenodd\" fill-opacity=\"1\" /><path clip-path=\"url(#clip170)\" d=\"M160.001 1044.38 Q163.357 1045.1 165.232 1047.37 Q167.13 1049.63 167.13 1052.97 Q167.13 1058.08 163.612 1060.88 Q160.093 1063.69 153.612 1063.69 Q151.436 1063.69 149.121 1063.25 Q146.829 1062.83 144.376 1061.97 L144.376 1057.46 Q146.32 1058.59 148.635 1059.17 Q150.95 1059.75 153.473 1059.75 Q157.871 1059.75 160.163 1058.01 Q162.477 1056.28 162.477 1052.97 Q162.477 1049.91 160.325 1048.2 Q158.195 1046.46 154.376 1046.46 L150.348 1046.46 L150.348 1042.62 L154.561 1042.62 Q158.01 1042.62 159.839 1041.26 Q161.667 1039.87 161.667 1037.27 Q161.667 1034.61 159.769 1033.2 Q157.894 1031.76 154.376 1031.76 Q152.454 1031.76 150.255 1032.18 Q148.056 1032.6 145.417 1033.48 L145.417 1029.31 Q148.079 1028.57 150.394 1028.2 Q152.732 1027.83 154.792 1027.83 Q160.116 1027.83 163.218 1030.26 Q166.32 1032.67 166.32 1036.79 Q166.32 1039.66 164.677 1041.65 Q163.033 1043.62 160.001 1044.38 Z\" fill=\"#000000\" fill-rule=\"evenodd\" fill-opacity=\"1\" /><path clip-path=\"url(#clip170)\" d=\"M176.806 1059.08 L184.445 1059.08 L184.445 1032.71 L176.135 1034.38 L176.135 1030.12 L184.399 1028.45 L189.075 1028.45 L189.075 1059.08 L196.713 1059.08 L196.713 1063.01 L176.806 1063.01 L176.806 1059.08 Z\" fill=\"#000000\" fill-rule=\"evenodd\" fill-opacity=\"1\" /><path clip-path=\"url(#clip170)\" d=\"M216.158 1031.53 Q212.547 1031.53 210.718 1035.1 Q208.912 1038.64 208.912 1045.77 Q208.912 1052.88 210.718 1056.44 Q212.547 1059.98 216.158 1059.98 Q219.792 1059.98 221.598 1056.44 Q223.426 1052.88 223.426 1045.77 Q223.426 1038.64 221.598 1035.1 Q219.792 1031.53 216.158 1031.53 M216.158 1027.83 Q221.968 1027.83 225.023 1032.44 Q228.102 1037.02 228.102 1045.77 Q228.102 1054.5 225.023 1059.1 Q221.968 1063.69 216.158 1063.69 Q210.348 1063.69 207.269 1059.1 Q204.213 1054.5 204.213 1045.77 Q204.213 1037.02 207.269 1032.44 Q210.348 1027.83 216.158 1027.83 Z\" fill=\"#000000\" fill-rule=\"evenodd\" fill-opacity=\"1\" /><path clip-path=\"url(#clip170)\" d=\"M246.32 1031.53 Q242.709 1031.53 240.88 1035.1 Q239.074 1038.64 239.074 1045.77 Q239.074 1052.88 240.88 1056.44 Q242.709 1059.98 246.32 1059.98 Q249.954 1059.98 251.759 1056.44 Q253.588 1052.88 253.588 1045.77 Q253.588 1038.64 251.759 1035.1 Q249.954 1031.53 246.32 1031.53 M246.32 1027.83 Q252.13 1027.83 255.185 1032.44 Q258.264 1037.02 258.264 1045.77 Q258.264 1054.5 255.185 1059.1 Q252.13 1063.69 246.32 1063.69 Q240.509 1063.69 237.431 1059.1 Q234.375 1054.5 234.375 1045.77 Q234.375 1037.02 237.431 1032.44 Q240.509 1027.83 246.32 1027.83 Z\" fill=\"#000000\" fill-rule=\"evenodd\" fill-opacity=\"1\" /><path clip-path=\"url(#clip170)\" d=\"M115.718 825.528 L134.075 825.528 L134.075 829.463 L120.001 829.463 L120.001 837.935 Q121.019 837.588 122.038 837.426 Q123.056 837.241 124.075 837.241 Q129.862 837.241 133.242 840.412 Q136.621 843.584 136.621 849 Q136.621 854.579 133.149 857.681 Q129.677 860.759 123.357 860.759 Q121.181 860.759 118.913 860.389 Q116.668 860.019 114.26 859.278 L114.26 854.579 Q116.343 855.713 118.566 856.269 Q120.788 856.824 123.265 856.824 Q127.269 856.824 129.607 854.718 Q131.945 852.611 131.945 849 Q131.945 845.389 129.607 843.283 Q127.269 841.176 123.265 841.176 Q121.39 841.176 119.515 841.593 Q117.663 842.009 115.718 842.889 L115.718 825.528 Z\" fill=\"#000000\" fill-rule=\"evenodd\" fill-opacity=\"1\" /><path clip-path=\"url(#clip170)\" d=\"M160.001 841.454 Q163.357 842.172 165.232 844.44 Q167.13 846.709 167.13 850.042 Q167.13 855.158 163.612 857.958 Q160.093 860.759 153.612 860.759 Q151.436 860.759 149.121 860.32 Q146.829 859.903 144.376 859.046 L144.376 854.533 Q146.32 855.667 148.635 856.246 Q150.95 856.824 153.473 856.824 Q157.871 856.824 160.163 855.088 Q162.477 853.352 162.477 850.042 Q162.477 846.986 160.325 845.273 Q158.195 843.537 154.376 843.537 L150.348 843.537 L150.348 839.695 L154.561 839.695 Q158.01 839.695 159.839 838.329 Q161.667 836.94 161.667 834.347 Q161.667 831.685 159.769 830.273 Q157.894 828.838 154.376 828.838 Q152.454 828.838 150.255 829.255 Q148.056 829.672 145.417 830.551 L145.417 826.385 Q148.079 825.644 150.394 825.273 Q152.732 824.903 154.792 824.903 Q160.116 824.903 163.218 827.334 Q166.32 829.741 166.32 833.861 Q166.32 836.732 164.677 838.722 Q163.033 840.69 160.001 841.454 Z\" fill=\"#000000\" fill-rule=\"evenodd\" fill-opacity=\"1\" /><path clip-path=\"url(#clip170)\" d=\"M180.024 856.153 L196.343 856.153 L196.343 860.088 L174.399 860.088 L174.399 856.153 Q177.061 853.398 181.644 848.769 Q186.251 844.116 187.431 842.773 Q189.676 840.25 190.556 838.514 Q191.459 836.755 191.459 835.065 Q191.459 832.31 189.514 830.574 Q187.593 828.838 184.491 828.838 Q182.292 828.838 179.839 829.602 Q177.408 830.366 174.63 831.917 L174.63 827.195 Q177.454 826.06 179.908 825.482 Q182.362 824.903 184.399 824.903 Q189.769 824.903 192.963 827.588 Q196.158 830.273 196.158 834.764 Q196.158 836.894 195.348 838.815 Q194.561 840.713 192.454 843.306 Q191.875 843.977 188.774 847.195 Q185.672 850.389 180.024 856.153 Z\" fill=\"#000000\" fill-rule=\"evenodd\" fill-opacity=\"1\" /><path clip-path=\"url(#clip170)\" d=\"M216.158 828.607 Q212.547 828.607 210.718 832.172 Q208.912 835.713 208.912 842.843 Q208.912 849.949 210.718 853.514 Q212.547 857.056 216.158 857.056 Q219.792 857.056 221.598 853.514 Q223.426 849.949 223.426 842.843 Q223.426 835.713 221.598 832.172 Q219.792 828.607 216.158 828.607 M216.158 824.903 Q221.968 824.903 225.023 829.51 Q228.102 834.093 228.102 842.843 Q228.102 851.57 225.023 856.176 Q221.968 860.759 216.158 860.759 Q210.348 860.759 207.269 856.176 Q204.213 851.57 204.213 842.843 Q204.213 834.093 207.269 829.51 Q210.348 824.903 216.158 824.903 Z\" fill=\"#000000\" fill-rule=\"evenodd\" fill-opacity=\"1\" /><path clip-path=\"url(#clip170)\" d=\"M246.32 828.607 Q242.709 828.607 240.88 832.172 Q239.074 835.713 239.074 842.843 Q239.074 849.949 240.88 853.514 Q242.709 857.056 246.32 857.056 Q249.954 857.056 251.759 853.514 Q253.588 849.949 253.588 842.843 Q253.588 835.713 251.759 832.172 Q249.954 828.607 246.32 828.607 M246.32 824.903 Q252.13 824.903 255.185 829.51 Q258.264 834.093 258.264 842.843 Q258.264 851.57 255.185 856.176 Q252.13 860.759 246.32 860.759 Q240.509 860.759 237.431 856.176 Q234.375 851.57 234.375 842.843 Q234.375 834.093 237.431 829.51 Q240.509 824.903 246.32 824.903 Z\" fill=\"#000000\" fill-rule=\"evenodd\" fill-opacity=\"1\" /><path clip-path=\"url(#clip170)\" d=\"M115.718 622.602 L134.075 622.602 L134.075 626.537 L120.001 626.537 L120.001 635.009 Q121.019 634.662 122.038 634.5 Q123.056 634.315 124.075 634.315 Q129.862 634.315 133.242 637.486 Q136.621 640.657 136.621 646.074 Q136.621 651.653 133.149 654.754 Q129.677 657.833 123.357 657.833 Q121.181 657.833 118.913 657.463 Q116.668 657.092 114.26 656.352 L114.26 651.653 Q116.343 652.787 118.566 653.342 Q120.788 653.898 123.265 653.898 Q127.269 653.898 129.607 651.791 Q131.945 649.685 131.945 646.074 Q131.945 642.463 129.607 640.356 Q127.269 638.25 123.265 638.25 Q121.39 638.25 119.515 638.667 Q117.663 639.083 115.718 639.963 L115.718 622.602 Z\" fill=\"#000000\" fill-rule=\"evenodd\" fill-opacity=\"1\" /><path clip-path=\"url(#clip170)\" d=\"M160.001 638.528 Q163.357 639.245 165.232 641.514 Q167.13 643.782 167.13 647.116 Q167.13 652.231 163.612 655.032 Q160.093 657.833 153.612 657.833 Q151.436 657.833 149.121 657.393 Q146.829 656.977 144.376 656.12 L144.376 651.606 Q146.32 652.741 148.635 653.319 Q150.95 653.898 153.473 653.898 Q157.871 653.898 160.163 652.162 Q162.477 650.426 162.477 647.116 Q162.477 644.06 160.325 642.347 Q158.195 640.611 154.376 640.611 L150.348 640.611 L150.348 636.768 L154.561 636.768 Q158.01 636.768 159.839 635.403 Q161.667 634.014 161.667 631.421 Q161.667 628.759 159.769 627.347 Q157.894 625.912 154.376 625.912 Q152.454 625.912 150.255 626.329 Q148.056 626.745 145.417 627.625 L145.417 623.458 Q148.079 622.718 150.394 622.347 Q152.732 621.977 154.792 621.977 Q160.116 621.977 163.218 624.407 Q166.32 626.815 166.32 630.935 Q166.32 633.805 164.677 635.796 Q163.033 637.764 160.001 638.528 Z\" fill=\"#000000\" fill-rule=\"evenodd\" fill-opacity=\"1\" /><path clip-path=\"url(#clip170)\" d=\"M190.163 638.528 Q193.519 639.245 195.394 641.514 Q197.292 643.782 197.292 647.116 Q197.292 652.231 193.774 655.032 Q190.255 657.833 183.774 657.833 Q181.598 657.833 179.283 657.393 Q176.991 656.977 174.538 656.12 L174.538 651.606 Q176.482 652.741 178.797 653.319 Q181.112 653.898 183.635 653.898 Q188.033 653.898 190.325 652.162 Q192.639 650.426 192.639 647.116 Q192.639 644.06 190.487 642.347 Q188.357 640.611 184.538 640.611 L180.51 640.611 L180.51 636.768 L184.723 636.768 Q188.172 636.768 190 635.403 Q191.829 634.014 191.829 631.421 Q191.829 628.759 189.931 627.347 Q188.056 625.912 184.538 625.912 Q182.616 625.912 180.417 626.329 Q178.218 626.745 175.579 627.625 L175.579 623.458 Q178.241 622.718 180.556 622.347 Q182.894 621.977 184.954 621.977 Q190.278 621.977 193.38 624.407 Q196.482 626.815 196.482 630.935 Q196.482 633.805 194.838 635.796 Q193.195 637.764 190.163 638.528 Z\" fill=\"#000000\" fill-rule=\"evenodd\" fill-opacity=\"1\" /><path clip-path=\"url(#clip170)\" d=\"M216.158 625.681 Q212.547 625.681 210.718 629.245 Q208.912 632.787 208.912 639.917 Q208.912 647.023 210.718 650.588 Q212.547 654.129 216.158 654.129 Q219.792 654.129 221.598 650.588 Q223.426 647.023 223.426 639.917 Q223.426 632.787 221.598 629.245 Q219.792 625.681 216.158 625.681 M216.158 621.977 Q221.968 621.977 225.023 626.583 Q228.102 631.167 228.102 639.917 Q228.102 648.643 225.023 653.25 Q221.968 657.833 216.158 657.833 Q210.348 657.833 207.269 653.25 Q204.213 648.643 204.213 639.917 Q204.213 631.167 207.269 626.583 Q210.348 621.977 216.158 621.977 Z\" fill=\"#000000\" fill-rule=\"evenodd\" fill-opacity=\"1\" /><path clip-path=\"url(#clip170)\" d=\"M246.32 625.681 Q242.709 625.681 240.88 629.245 Q239.074 632.787 239.074 639.917 Q239.074 647.023 240.88 650.588 Q242.709 654.129 246.32 654.129 Q249.954 654.129 251.759 650.588 Q253.588 647.023 253.588 639.917 Q253.588 632.787 251.759 629.245 Q249.954 625.681 246.32 625.681 M246.32 621.977 Q252.13 621.977 255.185 626.583 Q258.264 631.167 258.264 639.917 Q258.264 648.643 255.185 653.25 Q252.13 657.833 246.32 657.833 Q240.509 657.833 237.431 653.25 Q234.375 648.643 234.375 639.917 Q234.375 631.167 237.431 626.583 Q240.509 621.977 246.32 621.977 Z\" fill=\"#000000\" fill-rule=\"evenodd\" fill-opacity=\"1\" /><path clip-path=\"url(#clip170)\" d=\"M115.718 419.676 L134.075 419.676 L134.075 423.611 L120.001 423.611 L120.001 432.083 Q121.019 431.736 122.038 431.574 Q123.056 431.389 124.075 431.389 Q129.862 431.389 133.242 434.56 Q136.621 437.731 136.621 443.148 Q136.621 448.726 133.149 451.828 Q129.677 454.907 123.357 454.907 Q121.181 454.907 118.913 454.537 Q116.668 454.166 114.26 453.425 L114.26 448.726 Q116.343 449.861 118.566 450.416 Q120.788 450.972 123.265 450.972 Q127.269 450.972 129.607 448.865 Q131.945 446.759 131.945 443.148 Q131.945 439.537 129.607 437.43 Q127.269 435.324 123.265 435.324 Q121.39 435.324 119.515 435.74 Q117.663 436.157 115.718 437.037 L115.718 419.676 Z\" fill=\"#000000\" fill-rule=\"evenodd\" fill-opacity=\"1\" /><path clip-path=\"url(#clip170)\" d=\"M160.001 435.601 Q163.357 436.319 165.232 438.588 Q167.13 440.856 167.13 444.189 Q167.13 449.305 163.612 452.106 Q160.093 454.907 153.612 454.907 Q151.436 454.907 149.121 454.467 Q146.829 454.05 144.376 453.194 L144.376 448.68 Q146.32 449.814 148.635 450.393 Q150.95 450.972 153.473 450.972 Q157.871 450.972 160.163 449.236 Q162.477 447.5 162.477 444.189 Q162.477 441.134 160.325 439.421 Q158.195 437.685 154.376 437.685 L150.348 437.685 L150.348 433.842 L154.561 433.842 Q158.01 433.842 159.839 432.476 Q161.667 431.088 161.667 428.495 Q161.667 425.833 159.769 424.421 Q157.894 422.986 154.376 422.986 Q152.454 422.986 150.255 423.402 Q148.056 423.819 145.417 424.699 L145.417 420.532 Q148.079 419.791 150.394 419.421 Q152.732 419.051 154.792 419.051 Q160.116 419.051 163.218 421.481 Q166.32 423.889 166.32 428.009 Q166.32 430.879 164.677 432.87 Q163.033 434.838 160.001 435.601 Z\" fill=\"#000000\" fill-rule=\"evenodd\" fill-opacity=\"1\" /><path clip-path=\"url(#clip170)\" d=\"M188.843 423.75 L177.038 442.199 L188.843 442.199 L188.843 423.75 M187.616 419.676 L193.496 419.676 L193.496 442.199 L198.426 442.199 L198.426 446.088 L193.496 446.088 L193.496 454.236 L188.843 454.236 L188.843 446.088 L173.241 446.088 L173.241 441.574 L187.616 419.676 Z\" fill=\"#000000\" fill-rule=\"evenodd\" fill-opacity=\"1\" /><path clip-path=\"url(#clip170)\" d=\"M216.158 422.754 Q212.547 422.754 210.718 426.319 Q208.912 429.861 208.912 436.99 Q208.912 444.097 210.718 447.662 Q212.547 451.203 216.158 451.203 Q219.792 451.203 221.598 447.662 Q223.426 444.097 223.426 436.99 Q223.426 429.861 221.598 426.319 Q219.792 422.754 216.158 422.754 M216.158 419.051 Q221.968 419.051 225.023 423.657 Q228.102 428.24 228.102 436.99 Q228.102 445.717 225.023 450.324 Q221.968 454.907 216.158 454.907 Q210.348 454.907 207.269 450.324 Q204.213 445.717 204.213 436.99 Q204.213 428.24 207.269 423.657 Q210.348 419.051 216.158 419.051 Z\" fill=\"#000000\" fill-rule=\"evenodd\" fill-opacity=\"1\" /><path clip-path=\"url(#clip170)\" d=\"M246.32 422.754 Q242.709 422.754 240.88 426.319 Q239.074 429.861 239.074 436.99 Q239.074 444.097 240.88 447.662 Q242.709 451.203 246.32 451.203 Q249.954 451.203 251.759 447.662 Q253.588 444.097 253.588 436.99 Q253.588 429.861 251.759 426.319 Q249.954 422.754 246.32 422.754 M246.32 419.051 Q252.13 419.051 255.185 423.657 Q258.264 428.24 258.264 436.99 Q258.264 445.717 255.185 450.324 Q252.13 454.907 246.32 454.907 Q240.509 454.907 237.431 450.324 Q234.375 445.717 234.375 436.99 Q234.375 428.24 237.431 423.657 Q240.509 419.051 246.32 419.051 Z\" fill=\"#000000\" fill-rule=\"evenodd\" fill-opacity=\"1\" /><path clip-path=\"url(#clip170)\" d=\"M115.718 216.749 L134.075 216.749 L134.075 220.685 L120.001 220.685 L120.001 229.157 Q121.019 228.809 122.038 228.647 Q123.056 228.462 124.075 228.462 Q129.862 228.462 133.242 231.634 Q136.621 234.805 136.621 240.221 Q136.621 245.8 133.149 248.902 Q129.677 251.981 123.357 251.981 Q121.181 251.981 118.913 251.61 Q116.668 251.24 114.26 250.499 L114.26 245.8 Q116.343 246.934 118.566 247.49 Q120.788 248.045 123.265 248.045 Q127.269 248.045 129.607 245.939 Q131.945 243.833 131.945 240.221 Q131.945 236.61 129.607 234.504 Q127.269 232.397 123.265 232.397 Q121.39 232.397 119.515 232.814 Q117.663 233.231 115.718 234.11 L115.718 216.749 Z\" fill=\"#000000\" fill-rule=\"evenodd\" fill-opacity=\"1\" /><path clip-path=\"url(#clip170)\" d=\"M160.001 232.675 Q163.357 233.393 165.232 235.661 Q167.13 237.93 167.13 241.263 Q167.13 246.379 163.612 249.18 Q160.093 251.981 153.612 251.981 Q151.436 251.981 149.121 251.541 Q146.829 251.124 144.376 250.268 L144.376 245.754 Q146.32 246.888 148.635 247.467 Q150.95 248.045 153.473 248.045 Q157.871 248.045 160.163 246.309 Q162.477 244.573 162.477 241.263 Q162.477 238.208 160.325 236.495 Q158.195 234.759 154.376 234.759 L150.348 234.759 L150.348 230.916 L154.561 230.916 Q158.01 230.916 159.839 229.55 Q161.667 228.161 161.667 225.569 Q161.667 222.907 159.769 221.495 Q157.894 220.06 154.376 220.06 Q152.454 220.06 150.255 220.476 Q148.056 220.893 145.417 221.772 L145.417 217.606 Q148.079 216.865 150.394 216.495 Q152.732 216.124 154.792 216.124 Q160.116 216.124 163.218 218.555 Q166.32 220.962 166.32 225.083 Q166.32 227.953 164.677 229.944 Q163.033 231.911 160.001 232.675 Z\" fill=\"#000000\" fill-rule=\"evenodd\" fill-opacity=\"1\" /><path clip-path=\"url(#clip170)\" d=\"M176.042 216.749 L194.399 216.749 L194.399 220.685 L180.325 220.685 L180.325 229.157 Q181.343 228.809 182.362 228.647 Q183.38 228.462 184.399 228.462 Q190.186 228.462 193.565 231.634 Q196.945 234.805 196.945 240.221 Q196.945 245.8 193.473 248.902 Q190 251.981 183.681 251.981 Q181.505 251.981 179.237 251.61 Q176.991 251.24 174.584 250.499 L174.584 245.8 Q176.667 246.934 178.889 247.49 Q181.112 248.045 183.588 248.045 Q187.593 248.045 189.931 245.939 Q192.269 243.833 192.269 240.221 Q192.269 236.61 189.931 234.504 Q187.593 232.397 183.588 232.397 Q181.713 232.397 179.839 232.814 Q177.987 233.231 176.042 234.11 L176.042 216.749 Z\" fill=\"#000000\" fill-rule=\"evenodd\" fill-opacity=\"1\" /><path clip-path=\"url(#clip170)\" d=\"M216.158 219.828 Q212.547 219.828 210.718 223.393 Q208.912 226.935 208.912 234.064 Q208.912 241.171 210.718 244.735 Q212.547 248.277 216.158 248.277 Q219.792 248.277 221.598 244.735 Q223.426 241.171 223.426 234.064 Q223.426 226.935 221.598 223.393 Q219.792 219.828 216.158 219.828 M216.158 216.124 Q221.968 216.124 225.023 220.731 Q228.102 225.314 228.102 234.064 Q228.102 242.791 225.023 247.397 Q221.968 251.981 216.158 251.981 Q210.348 251.981 207.269 247.397 Q204.213 242.791 204.213 234.064 Q204.213 225.314 207.269 220.731 Q210.348 216.124 216.158 216.124 Z\" fill=\"#000000\" fill-rule=\"evenodd\" fill-opacity=\"1\" /><path clip-path=\"url(#clip170)\" d=\"M246.32 219.828 Q242.709 219.828 240.88 223.393 Q239.074 226.935 239.074 234.064 Q239.074 241.171 240.88 244.735 Q242.709 248.277 246.32 248.277 Q249.954 248.277 251.759 244.735 Q253.588 241.171 253.588 234.064 Q253.588 226.935 251.759 223.393 Q249.954 219.828 246.32 219.828 M246.32 216.124 Q252.13 216.124 255.185 220.731 Q258.264 225.314 258.264 234.064 Q258.264 242.791 255.185 247.397 Q252.13 251.981 246.32 251.981 Q240.509 251.981 237.431 247.397 Q234.375 242.791 234.375 234.064 Q234.375 225.314 237.431 220.731 Q240.509 216.124 246.32 216.124 Z\" fill=\"#000000\" fill-rule=\"evenodd\" fill-opacity=\"1\" /><path clip-path=\"url(#clip170)\" d=\"M41.7242 1087 Q42.4244 1084.93 44.7161 1082.99 Q47.0077 1081.01 51.0181 1079.04 L64.0042 1072.51 L64.0042 1079.42 L51.8138 1085.5 Q47.0395 1087.86 45.48 1090.08 Q43.9204 1092.28 43.9204 1096.1 L43.9204 1103.1 L64.0042 1103.1 L64.0042 1109.53 L16.4842 1109.53 L16.4842 1095.02 Q16.4842 1086.87 19.8898 1082.86 Q23.2955 1078.85 30.1704 1078.85 Q34.6582 1078.85 37.6183 1080.95 Q40.5784 1083.02 41.7242 1087 M21.7677 1103.1 L38.6368 1103.1 L38.6368 1095.02 Q38.6368 1090.37 36.5043 1088.02 Q34.34 1085.63 30.1704 1085.63 Q26.0009 1085.63 23.9002 1088.02 Q21.7677 1090.37 21.7677 1095.02 L21.7677 1103.1 Z\" fill=\"#000000\" fill-rule=\"evenodd\" fill-opacity=\"1\" /><path clip-path=\"url(#clip170)\" d=\"M32.4621 1053.61 Q32.4621 1058.32 36.1542 1061.06 Q39.8145 1063.79 46.212 1063.79 Q52.6095 1063.79 56.3017 1061.09 Q59.9619 1058.35 59.9619 1053.61 Q59.9619 1048.93 56.2698 1046.19 Q52.5777 1043.46 46.212 1043.46 Q39.8781 1043.46 36.186 1046.19 Q32.4621 1048.93 32.4621 1053.61 M27.4968 1053.61 Q27.4968 1045.97 32.4621 1041.61 Q37.4273 1037.25 46.212 1037.25 Q54.9649 1037.25 59.9619 1041.61 Q64.9272 1045.97 64.9272 1053.61 Q64.9272 1061.28 59.9619 1065.64 Q54.9649 1069.97 46.212 1069.97 Q37.4273 1069.97 32.4621 1065.64 Q27.4968 1061.28 27.4968 1053.61 Z\" fill=\"#000000\" fill-rule=\"evenodd\" fill-opacity=\"1\" /><path clip-path=\"url(#clip170)\" d=\"M32.4621 1013.73 Q32.4621 1018.44 36.1542 1021.18 Q39.8145 1023.91 46.212 1023.91 Q52.6095 1023.91 56.3017 1021.21 Q59.9619 1018.47 59.9619 1013.73 Q59.9619 1009.05 56.2698 1006.31 Q52.5777 1003.57 46.212 1003.57 Q39.8781 1003.57 36.186 1006.31 Q32.4621 1009.05 32.4621 1013.73 M27.4968 1013.73 Q27.4968 1006.09 32.4621 1001.73 Q37.4273 997.368 46.212 997.368 Q54.9649 997.368 59.9619 1001.73 Q64.9272 1006.09 64.9272 1013.73 Q64.9272 1021.4 59.9619 1025.76 Q54.9649 1030.09 46.212 1030.09 Q37.4273 1030.09 32.4621 1025.76 Q27.4968 1021.4 27.4968 1013.73 Z\" fill=\"#000000\" fill-rule=\"evenodd\" fill-opacity=\"1\" /><path clip-path=\"url(#clip170)\" d=\"M18.2347 981.867 L28.3562 981.867 L28.3562 969.804 L32.9077 969.804 L32.9077 981.867 L52.2594 981.867 Q56.6199 981.867 57.8613 980.69 Q59.1026 979.48 59.1026 975.82 L59.1026 969.804 L64.0042 969.804 L64.0042 975.82 Q64.0042 982.599 61.4897 985.177 Q58.9434 987.755 52.2594 987.755 L32.9077 987.755 L32.9077 992.052 L28.3562 992.052 L28.3562 987.755 L18.2347 987.755 L18.2347 981.867 Z\" fill=\"#000000\" fill-rule=\"evenodd\" fill-opacity=\"1\" /><path clip-path=\"url(#clip170)\" d=\"M16.4842 961.847 L16.4842 952.267 L48.8219 940.14 L16.4842 927.95 L16.4842 918.369 L64.0042 918.369 L64.0042 924.639 L22.277 924.639 L54.8694 936.893 L54.8694 943.355 L22.277 955.609 L64.0042 955.609 L64.0042 961.847 L16.4842 961.847 Z\" fill=\"#000000\" fill-rule=\"evenodd\" fill-opacity=\"1\" /><path clip-path=\"url(#clip170)\" d=\"M44.7161 875.369 L47.5806 875.369 L47.5806 902.296 Q53.6281 901.914 56.8109 898.667 Q59.9619 895.389 59.9619 889.564 Q59.9619 886.191 59.1344 883.04 Q58.3069 879.857 56.6518 876.738 L62.1899 876.738 Q63.5267 879.889 64.227 883.199 Q64.9272 886.509 64.9272 889.915 Q64.9272 898.445 59.9619 903.442 Q54.9967 908.407 46.5303 908.407 Q37.7774 908.407 32.6531 903.696 Q27.4968 898.954 27.4968 890.933 Q27.4968 883.74 32.1438 879.57 Q36.7589 875.369 44.7161 875.369 M42.9973 881.225 Q38.1912 881.289 35.3266 883.931 Q32.4621 886.541 32.4621 890.869 Q32.4621 895.771 35.2312 898.731 Q38.0002 901.659 43.0292 902.105 L42.9973 881.225 Z\" fill=\"#000000\" fill-rule=\"evenodd\" fill-opacity=\"1\" /><path clip-path=\"url(#clip170)\" d=\"M46.0847 849.556 Q46.0847 856.654 47.7079 859.391 Q49.3312 862.128 53.2461 862.128 Q56.3653 862.128 58.2114 860.091 Q60.0256 858.022 60.0256 854.489 Q60.0256 849.62 56.5881 846.691 Q53.1188 843.731 47.3897 843.731 L46.0847 843.731 L46.0847 849.556 M43.6657 837.875 L64.0042 837.875 L64.0042 843.731 L58.5933 843.731 Q61.8398 845.737 63.3994 848.728 Q64.9272 851.72 64.9272 856.049 Q64.9272 861.524 61.8716 864.77 Q58.7843 867.985 53.6281 867.985 Q47.6125 867.985 44.5569 863.974 Q41.5014 859.932 41.5014 851.943 L41.5014 843.731 L40.9285 843.731 Q36.8862 843.731 34.6901 846.405 Q32.4621 849.047 32.4621 853.853 Q32.4621 856.908 33.1941 859.805 Q33.9262 862.701 35.3903 865.375 L29.9795 865.375 Q28.7381 862.16 28.1334 859.136 Q27.4968 856.113 27.4968 853.248 Q27.4968 845.514 31.5072 841.694 Q35.5176 837.875 43.6657 837.875 Z\" fill=\"#000000\" fill-rule=\"evenodd\" fill-opacity=\"1\" /><path clip-path=\"url(#clip170)\" d=\"M42.4881 796.18 L64.0042 796.18 L64.0042 802.036 L42.679 802.036 Q37.6183 802.036 35.1038 804.009 Q32.5894 805.983 32.5894 809.929 Q32.5894 814.672 35.6131 817.409 Q38.6368 820.146 43.8567 820.146 L64.0042 820.146 L64.0042 826.035 L28.3562 826.035 L28.3562 820.146 L33.8944 820.146 Q30.6797 818.046 29.0883 815.213 Q27.4968 812.348 27.4968 808.624 Q27.4968 802.482 31.3163 799.331 Q35.1038 796.18 42.4881 796.18 Z\" fill=\"#000000\" fill-rule=\"evenodd\" fill-opacity=\"1\" /><path clip-path=\"url(#clip170)\" d=\"M18.0438 755.757 L24.314 755.757 Q22.5634 759.418 21.704 762.664 Q20.8447 765.911 20.8447 768.934 Q20.8447 774.186 22.8817 777.051 Q24.9187 779.883 28.6745 779.883 Q31.8255 779.883 33.4488 778.005 Q35.0402 776.096 36.0269 770.812 L36.8226 766.929 Q38.1912 759.736 41.6605 756.33 Q45.098 752.893 50.8908 752.893 Q57.7976 752.893 61.3624 757.54 Q64.9272 762.155 64.9272 771.099 Q64.9272 774.472 64.1633 778.292 Q63.3994 782.079 61.9035 786.154 L55.2831 786.154 Q57.4793 782.239 58.5933 778.483 Q59.7073 774.727 59.7073 771.099 Q59.7073 765.592 57.543 762.6 Q55.3786 759.609 51.3682 759.609 Q47.8671 759.609 45.8937 761.773 Q43.9204 763.905 42.9337 768.807 L42.1698 772.722 Q40.7375 779.915 37.682 783.13 Q34.6264 786.345 29.1837 786.345 Q22.8817 786.345 19.2532 781.92 Q15.6248 777.464 15.6248 769.666 Q15.6248 766.324 16.2295 762.855 Q16.8343 759.386 18.0438 755.757 Z\" fill=\"#000000\" fill-rule=\"evenodd\" fill-opacity=\"1\" /><path clip-path=\"url(#clip170)\" d=\"M46.212 739.62 Q52.6732 739.62 56.3653 736.978 Q60.0256 734.305 60.0256 729.658 Q60.0256 725.011 56.3653 722.337 Q52.6732 719.664 46.212 719.664 Q39.7508 719.664 36.0905 722.337 Q32.3984 725.011 32.3984 729.658 Q32.3984 734.305 36.0905 736.978 Q39.7508 739.62 46.212 739.62 M58.657 719.664 Q61.8398 721.51 63.3994 724.343 Q64.9272 727.143 64.9272 731.09 Q64.9272 737.551 59.771 741.625 Q54.6147 745.668 46.212 745.668 Q37.8093 745.668 32.6531 741.625 Q27.4968 737.551 27.4968 731.09 Q27.4968 727.143 29.0564 724.343 Q30.5842 721.51 33.7671 719.664 L28.3562 719.664 L28.3562 713.807 L77.5631 713.807 L77.5631 719.664 L58.657 719.664 Z\" fill=\"#000000\" fill-rule=\"evenodd\" fill-opacity=\"1\" /><path clip-path=\"url(#clip170)\" d=\"M49.9359 702.349 L28.3562 702.349 L28.3562 696.493 L49.7131 696.493 Q54.7739 696.493 57.3202 694.519 Q59.8346 692.546 59.8346 688.599 Q59.8346 683.857 56.8109 681.119 Q53.7872 678.35 48.5673 678.35 L28.3562 678.35 L28.3562 672.494 L64.0042 672.494 L64.0042 678.35 L58.5296 678.35 Q61.7762 680.483 63.3676 683.316 Q64.9272 686.116 64.9272 689.84 Q64.9272 695.983 61.1078 699.166 Q57.2883 702.349 49.9359 702.349 M27.4968 687.612 L27.4968 687.612 Z\" fill=\"#000000\" fill-rule=\"evenodd\" fill-opacity=\"1\" /><path clip-path=\"url(#clip170)\" d=\"M46.0847 644.23 Q46.0847 651.328 47.7079 654.065 Q49.3312 656.802 53.2461 656.802 Q56.3653 656.802 58.2114 654.765 Q60.0256 652.696 60.0256 649.164 Q60.0256 644.294 56.5881 641.366 Q53.1188 638.405 47.3897 638.405 L46.0847 638.405 L46.0847 644.23 M43.6657 632.549 L64.0042 632.549 L64.0042 638.405 L58.5933 638.405 Q61.8398 640.411 63.3994 643.403 Q64.9272 646.394 64.9272 650.723 Q64.9272 656.198 61.8716 659.444 Q58.7843 662.659 53.6281 662.659 Q47.6125 662.659 44.5569 658.648 Q41.5014 654.606 41.5014 646.617 L41.5014 638.405 L40.9285 638.405 Q36.8862 638.405 34.6901 641.079 Q32.4621 643.721 32.4621 648.527 Q32.4621 651.582 33.1941 654.479 Q33.9262 657.375 35.3903 660.049 L29.9795 660.049 Q28.7381 656.834 28.1334 653.81 Q27.4968 650.787 27.4968 647.922 Q27.4968 640.188 31.5072 636.368 Q35.5176 632.549 43.6657 632.549 Z\" fill=\"#000000\" fill-rule=\"evenodd\" fill-opacity=\"1\" /><path clip-path=\"url(#clip170)\" d=\"M33.8307 599.829 Q33.2578 600.816 33.0032 601.994 Q32.7167 603.139 32.7167 604.54 Q32.7167 609.505 35.9632 612.179 Q39.1779 614.821 45.2253 614.821 L64.0042 614.821 L64.0042 620.709 L28.3562 620.709 L28.3562 614.821 L33.8944 614.821 Q30.6479 612.974 29.0883 610.014 Q27.4968 607.054 27.4968 602.821 Q27.4968 602.216 27.5923 601.484 Q27.656 600.752 27.8151 599.861 L33.8307 599.829 Z\" fill=\"#000000\" fill-rule=\"evenodd\" fill-opacity=\"1\" /><path clip-path=\"url(#clip170)\" d=\"M44.7161 564.627 L47.5806 564.627 L47.5806 591.554 Q53.6281 591.172 56.8109 587.925 Q59.9619 584.647 59.9619 578.822 Q59.9619 575.449 59.1344 572.298 Q58.3069 569.115 56.6518 565.996 L62.1899 565.996 Q63.5267 569.147 64.227 572.457 Q64.9272 575.767 64.9272 579.173 Q64.9272 587.703 59.9619 592.7 Q54.9967 597.665 46.5303 597.665 Q37.7774 597.665 32.6531 592.954 Q27.4968 588.212 27.4968 580.191 Q27.4968 572.998 32.1438 568.828 Q36.7589 564.627 44.7161 564.627 M42.9973 570.483 Q38.1912 570.547 35.3266 573.189 Q32.4621 575.799 32.4621 580.127 Q32.4621 585.029 35.2312 587.989 Q38.0002 590.917 43.0292 591.363 L42.9973 570.483 Z\" fill=\"#000000\" fill-rule=\"evenodd\" fill-opacity=\"1\" /><path clip-path=\"url(#clip170)\" d=\"M33.7671 531.557 L14.479 531.557 L14.479 525.701 L64.0042 525.701 L64.0042 531.557 L58.657 531.557 Q61.8398 533.403 63.3994 536.236 Q64.9272 539.037 64.9272 542.984 Q64.9272 549.445 59.771 553.519 Q54.6147 557.561 46.212 557.561 Q37.8093 557.561 32.6531 553.519 Q27.4968 549.445 27.4968 542.984 Q27.4968 539.037 29.0564 536.236 Q30.5842 533.403 33.7671 531.557 M46.212 551.514 Q52.6732 551.514 56.3653 548.872 Q60.0256 546.198 60.0256 541.551 Q60.0256 536.904 56.3653 534.231 Q52.6732 531.557 46.212 531.557 Q39.7508 531.557 36.0905 534.231 Q32.3984 536.904 32.3984 541.551 Q32.3984 546.198 36.0905 548.872 Q39.7508 551.514 46.212 551.514 Z\" fill=\"#000000\" fill-rule=\"evenodd\" fill-opacity=\"1\" /><path clip-path=\"url(#clip170)\" d=\"M16.4842 513.383 L16.4842 483.337 L21.895 483.337 L21.895 506.954 L35.9632 506.954 L35.9632 484.324 L41.3741 484.324 L41.3741 506.954 L58.5933 506.954 L58.5933 482.764 L64.0042 482.764 L64.0042 513.383 L16.4842 513.383 Z\" fill=\"#000000\" fill-rule=\"evenodd\" fill-opacity=\"1\" /><path clip-path=\"url(#clip170)\" d=\"M33.8307 451.795 Q33.2578 452.781 33.0032 453.959 Q32.7167 455.105 32.7167 456.505 Q32.7167 461.471 35.9632 464.144 Q39.1779 466.786 45.2253 466.786 L64.0042 466.786 L64.0042 472.674 L28.3562 472.674 L28.3562 466.786 L33.8944 466.786 Q30.6479 464.94 29.0883 461.98 Q27.4968 459.02 27.4968 454.787 Q27.4968 454.182 27.5923 453.45 Q27.656 452.718 27.8151 451.827 L33.8307 451.795 Z\" fill=\"#000000\" fill-rule=\"evenodd\" fill-opacity=\"1\" /><path clip-path=\"url(#clip170)\" d=\"M33.8307 426.141 Q33.2578 427.128 33.0032 428.305 Q32.7167 429.451 32.7167 430.852 Q32.7167 435.817 35.9632 438.49 Q39.1779 441.132 45.2253 441.132 L64.0042 441.132 L64.0042 447.021 L28.3562 447.021 L28.3562 441.132 L33.8944 441.132 Q30.6479 439.286 29.0883 436.326 Q27.4968 433.366 27.4968 429.133 Q27.4968 428.528 27.5923 427.796 Q27.656 427.064 27.8151 426.173 L33.8307 426.141 Z\" fill=\"#000000\" fill-rule=\"evenodd\" fill-opacity=\"1\" /><path clip-path=\"url(#clip170)\" d=\"M32.4621 407.617 Q32.4621 412.327 36.1542 415.065 Q39.8145 417.802 46.212 417.802 Q52.6095 417.802 56.3017 415.096 Q59.9619 412.359 59.9619 407.617 Q59.9619 402.938 56.2698 400.201 Q52.5777 397.463 46.212 397.463 Q39.8781 397.463 36.186 400.201 Q32.4621 402.938 32.4621 407.617 M27.4968 407.617 Q27.4968 399.978 32.4621 395.617 Q37.4273 391.257 46.212 391.257 Q54.9649 391.257 59.9619 395.617 Q64.9272 399.978 64.9272 407.617 Q64.9272 415.287 59.9619 419.648 Q54.9649 423.977 46.212 423.977 Q37.4273 423.977 32.4621 419.648 Q27.4968 415.287 27.4968 407.617 Z\" fill=\"#000000\" fill-rule=\"evenodd\" fill-opacity=\"1\" /><path clip-path=\"url(#clip170)\" d=\"M33.8307 360.893 Q33.2578 361.879 33.0032 363.057 Q32.7167 364.203 32.7167 365.603 Q32.7167 370.568 35.9632 373.242 Q39.1779 375.884 45.2253 375.884 L64.0042 375.884 L64.0042 381.772 L28.3562 381.772 L28.3562 375.884 L33.8944 375.884 Q30.6479 374.038 29.0883 371.078 Q27.4968 368.118 27.4968 363.884 Q27.4968 363.28 27.5923 362.548 Q27.656 361.816 27.8151 360.924 L33.8307 360.893 Z\" fill=\"#000000\" fill-rule=\"evenodd\" fill-opacity=\"1\" /><circle clip-path=\"url(#clip172)\" cx=\"2175.6\" cy=\"869.336\" r=\"14\" fill=\"#009af9\" fill-rule=\"evenodd\" fill-opacity=\"1\" stroke=\"#000000\" stroke-opacity=\"1\" stroke-width=\"3.2\"/>\n",
       "<circle clip-path=\"url(#clip172)\" cx=\"1264.06\" cy=\"1355.66\" r=\"14\" fill=\"#009af9\" fill-rule=\"evenodd\" fill-opacity=\"1\" stroke=\"#000000\" stroke-opacity=\"1\" stroke-width=\"3.2\"/>\n",
       "<circle clip-path=\"url(#clip172)\" cx=\"1937.81\" cy=\"1055.7\" r=\"14\" fill=\"#009af9\" fill-rule=\"evenodd\" fill-opacity=\"1\" stroke=\"#000000\" stroke-opacity=\"1\" stroke-width=\"3.2\"/>\n",
       "<circle clip-path=\"url(#clip172)\" cx=\"1422.59\" cy=\"1381.96\" r=\"14\" fill=\"#009af9\" fill-rule=\"evenodd\" fill-opacity=\"1\" stroke=\"#000000\" stroke-opacity=\"1\" stroke-width=\"3.2\"/>\n",
       "<circle clip-path=\"url(#clip172)\" cx=\"431.787\" cy=\"323.524\" r=\"14\" fill=\"#009af9\" fill-rule=\"evenodd\" fill-opacity=\"1\" stroke=\"#000000\" stroke-opacity=\"1\" stroke-width=\"3.2\"/>\n",
       "<circle clip-path=\"url(#clip172)\" cx=\"748.844\" cy=\"850.563\" r=\"14\" fill=\"#009af9\" fill-rule=\"evenodd\" fill-opacity=\"1\" stroke=\"#000000\" stroke-opacity=\"1\" stroke-width=\"3.2\"/>\n",
       "<circle clip-path=\"url(#clip172)\" cx=\"1541.49\" cy=\"1363.25\" r=\"14\" fill=\"#009af9\" fill-rule=\"evenodd\" fill-opacity=\"1\" stroke=\"#000000\" stroke-opacity=\"1\" stroke-width=\"3.2\"/>\n",
       "<circle clip-path=\"url(#clip172)\" cx=\"907.373\" cy=\"1131.8\" r=\"14\" fill=\"#009af9\" fill-rule=\"evenodd\" fill-opacity=\"1\" stroke=\"#000000\" stroke-opacity=\"1\" stroke-width=\"3.2\"/>\n",
       "<circle clip-path=\"url(#clip172)\" cx=\"669.58\" cy=\"722.345\" r=\"14\" fill=\"#009af9\" fill-rule=\"evenodd\" fill-opacity=\"1\" stroke=\"#000000\" stroke-opacity=\"1\" stroke-width=\"3.2\"/>\n",
       "<circle clip-path=\"url(#clip172)\" cx=\"1382.96\" cy=\"1379.65\" r=\"14\" fill=\"#009af9\" fill-rule=\"evenodd\" fill-opacity=\"1\" stroke=\"#000000\" stroke-opacity=\"1\" stroke-width=\"3.2\"/>\n",
       "<circle clip-path=\"url(#clip172)\" cx=\"590.316\" cy=\"566.318\" r=\"14\" fill=\"#009af9\" fill-rule=\"evenodd\" fill-opacity=\"1\" stroke=\"#000000\" stroke-opacity=\"1\" stroke-width=\"3.2\"/>\n",
       "<circle clip-path=\"url(#clip172)\" cx=\"352.523\" cy=\"86.1857\" r=\"14\" fill=\"#009af9\" fill-rule=\"evenodd\" fill-opacity=\"1\" stroke=\"#000000\" stroke-opacity=\"1\" stroke-width=\"3.2\"/>\n",
       "<circle clip-path=\"url(#clip172)\" cx=\"1620.75\" cy=\"1318.31\" r=\"14\" fill=\"#009af9\" fill-rule=\"evenodd\" fill-opacity=\"1\" stroke=\"#000000\" stroke-opacity=\"1\" stroke-width=\"3.2\"/>\n",
       "<circle clip-path=\"url(#clip172)\" cx=\"511.052\" cy=\"299.962\" r=\"14\" fill=\"#009af9\" fill-rule=\"evenodd\" fill-opacity=\"1\" stroke=\"#000000\" stroke-opacity=\"1\" stroke-width=\"3.2\"/>\n",
       "<circle clip-path=\"url(#clip172)\" cx=\"1858.54\" cy=\"1114.73\" r=\"14\" fill=\"#009af9\" fill-rule=\"evenodd\" fill-opacity=\"1\" stroke=\"#000000\" stroke-opacity=\"1\" stroke-width=\"3.2\"/>\n",
       "<circle clip-path=\"url(#clip172)\" cx=\"1462.22\" cy=\"1384.24\" r=\"14\" fill=\"#009af9\" fill-rule=\"evenodd\" fill-opacity=\"1\" stroke=\"#000000\" stroke-opacity=\"1\" stroke-width=\"3.2\"/>\n",
       "<circle clip-path=\"url(#clip172)\" cx=\"1501.85\" cy=\"1378.62\" r=\"14\" fill=\"#009af9\" fill-rule=\"evenodd\" fill-opacity=\"1\" stroke=\"#000000\" stroke-opacity=\"1\" stroke-width=\"3.2\"/>\n",
       "<circle clip-path=\"url(#clip172)\" cx=\"867.741\" cy=\"1059.99\" r=\"14\" fill=\"#009af9\" fill-rule=\"evenodd\" fill-opacity=\"1\" stroke=\"#000000\" stroke-opacity=\"1\" stroke-width=\"3.2\"/>\n",
       "<circle clip-path=\"url(#clip172)\" cx=\"2215.23\" cy=\"861.843\" r=\"14\" fill=\"#009af9\" fill-rule=\"evenodd\" fill-opacity=\"1\" stroke=\"#000000\" stroke-opacity=\"1\" stroke-width=\"3.2\"/>\n",
       "<circle clip-path=\"url(#clip172)\" cx=\"2135.97\" cy=\"896.216\" r=\"14\" fill=\"#009af9\" fill-rule=\"evenodd\" fill-opacity=\"1\" stroke=\"#000000\" stroke-opacity=\"1\" stroke-width=\"3.2\"/>\n",
       "<circle clip-path=\"url(#clip172)\" cx=\"1660.38\" cy=\"1289.56\" r=\"14\" fill=\"#009af9\" fill-rule=\"evenodd\" fill-opacity=\"1\" stroke=\"#000000\" stroke-opacity=\"1\" stroke-width=\"3.2\"/>\n",
       "<circle clip-path=\"url(#clip172)\" cx=\"1977.44\" cy=\"1024.9\" r=\"14\" fill=\"#009af9\" fill-rule=\"evenodd\" fill-opacity=\"1\" stroke=\"#000000\" stroke-opacity=\"1\" stroke-width=\"3.2\"/>\n",
       "<circle clip-path=\"url(#clip172)\" cx=\"2096.34\" cy=\"930.759\" r=\"14\" fill=\"#009af9\" fill-rule=\"evenodd\" fill-opacity=\"1\" stroke=\"#000000\" stroke-opacity=\"1\" stroke-width=\"3.2\"/>\n",
       "<circle clip-path=\"url(#clip172)\" cx=\"392.155\" cy=\"246.636\" r=\"14\" fill=\"#009af9\" fill-rule=\"evenodd\" fill-opacity=\"1\" stroke=\"#000000\" stroke-opacity=\"1\" stroke-width=\"3.2\"/>\n",
       "<circle clip-path=\"url(#clip172)\" cx=\"2254.86\" cy=\"833.572\" r=\"14\" fill=\"#009af9\" fill-rule=\"evenodd\" fill-opacity=\"1\" stroke=\"#000000\" stroke-opacity=\"1\" stroke-width=\"3.2\"/>\n",
       "<circle clip-path=\"url(#clip172)\" cx=\"1818.91\" cy=\"1149.21\" r=\"14\" fill=\"#009af9\" fill-rule=\"evenodd\" fill-opacity=\"1\" stroke=\"#000000\" stroke-opacity=\"1\" stroke-width=\"3.2\"/>\n",
       "<circle clip-path=\"url(#clip172)\" cx=\"828.109\" cy=\"996.184\" r=\"14\" fill=\"#009af9\" fill-rule=\"evenodd\" fill-opacity=\"1\" stroke=\"#000000\" stroke-opacity=\"1\" stroke-width=\"3.2\"/>\n",
       "<circle clip-path=\"url(#clip172)\" cx=\"1184.8\" cy=\"1329.2\" r=\"14\" fill=\"#009af9\" fill-rule=\"evenodd\" fill-opacity=\"1\" stroke=\"#000000\" stroke-opacity=\"1\" stroke-width=\"3.2\"/>\n",
       "<circle clip-path=\"url(#clip172)\" cx=\"1303.69\" cy=\"1364.52\" r=\"14\" fill=\"#009af9\" fill-rule=\"evenodd\" fill-opacity=\"1\" stroke=\"#000000\" stroke-opacity=\"1\" stroke-width=\"3.2\"/>\n",
       "<circle clip-path=\"url(#clip172)\" cx=\"788.476\" cy=\"924.84\" r=\"14\" fill=\"#009af9\" fill-rule=\"evenodd\" fill-opacity=\"1\" stroke=\"#000000\" stroke-opacity=\"1\" stroke-width=\"3.2\"/>\n",
       "<circle clip-path=\"url(#clip172)\" cx=\"709.212\" cy=\"796.019\" r=\"14\" fill=\"#009af9\" fill-rule=\"evenodd\" fill-opacity=\"1\" stroke=\"#000000\" stroke-opacity=\"1\" stroke-width=\"3.2\"/>\n",
       "<circle clip-path=\"url(#clip172)\" cx=\"1779.28\" cy=\"1177.77\" r=\"14\" fill=\"#009af9\" fill-rule=\"evenodd\" fill-opacity=\"1\" stroke=\"#000000\" stroke-opacity=\"1\" stroke-width=\"3.2\"/>\n",
       "<circle clip-path=\"url(#clip172)\" cx=\"1343.33\" cy=\"1374.71\" r=\"14\" fill=\"#009af9\" fill-rule=\"evenodd\" fill-opacity=\"1\" stroke=\"#000000\" stroke-opacity=\"1\" stroke-width=\"3.2\"/>\n",
       "<circle clip-path=\"url(#clip172)\" cx=\"1026.27\" cy=\"1237.35\" r=\"14\" fill=\"#009af9\" fill-rule=\"evenodd\" fill-opacity=\"1\" stroke=\"#000000\" stroke-opacity=\"1\" stroke-width=\"3.2\"/>\n",
       "<circle clip-path=\"url(#clip172)\" cx=\"2294.5\" cy=\"806.276\" r=\"14\" fill=\"#009af9\" fill-rule=\"evenodd\" fill-opacity=\"1\" stroke=\"#000000\" stroke-opacity=\"1\" stroke-width=\"3.2\"/>\n",
       "<circle clip-path=\"url(#clip172)\" cx=\"1700.02\" cy=\"1257.62\" r=\"14\" fill=\"#009af9\" fill-rule=\"evenodd\" fill-opacity=\"1\" stroke=\"#000000\" stroke-opacity=\"1\" stroke-width=\"3.2\"/>\n",
       "<circle clip-path=\"url(#clip172)\" cx=\"986.637\" cy=\"1207.4\" r=\"14\" fill=\"#009af9\" fill-rule=\"evenodd\" fill-opacity=\"1\" stroke=\"#000000\" stroke-opacity=\"1\" stroke-width=\"3.2\"/>\n",
       "<circle clip-path=\"url(#clip172)\" cx=\"2017.07\" cy=\"993.602\" r=\"14\" fill=\"#009af9\" fill-rule=\"evenodd\" fill-opacity=\"1\" stroke=\"#000000\" stroke-opacity=\"1\" stroke-width=\"3.2\"/>\n",
       "<circle clip-path=\"url(#clip172)\" cx=\"1065.9\" cy=\"1256.91\" r=\"14\" fill=\"#009af9\" fill-rule=\"evenodd\" fill-opacity=\"1\" stroke=\"#000000\" stroke-opacity=\"1\" stroke-width=\"3.2\"/>\n",
       "<circle clip-path=\"url(#clip172)\" cx=\"1739.65\" cy=\"1219.91\" r=\"14\" fill=\"#009af9\" fill-rule=\"evenodd\" fill-opacity=\"1\" stroke=\"#000000\" stroke-opacity=\"1\" stroke-width=\"3.2\"/>\n",
       "<circle clip-path=\"url(#clip172)\" cx=\"947.005\" cy=\"1165.7\" r=\"14\" fill=\"#009af9\" fill-rule=\"evenodd\" fill-opacity=\"1\" stroke=\"#000000\" stroke-opacity=\"1\" stroke-width=\"3.2\"/>\n",
       "<circle clip-path=\"url(#clip172)\" cx=\"629.948\" cy=\"637.494\" r=\"14\" fill=\"#009af9\" fill-rule=\"evenodd\" fill-opacity=\"1\" stroke=\"#000000\" stroke-opacity=\"1\" stroke-width=\"3.2\"/>\n",
       "<circle clip-path=\"url(#clip172)\" cx=\"1581.12\" cy=\"1347.96\" r=\"14\" fill=\"#009af9\" fill-rule=\"evenodd\" fill-opacity=\"1\" stroke=\"#000000\" stroke-opacity=\"1\" stroke-width=\"3.2\"/>\n",
       "<circle clip-path=\"url(#clip172)\" cx=\"2056.7\" cy=\"965.426\" r=\"14\" fill=\"#009af9\" fill-rule=\"evenodd\" fill-opacity=\"1\" stroke=\"#000000\" stroke-opacity=\"1\" stroke-width=\"3.2\"/>\n",
       "<circle clip-path=\"url(#clip172)\" cx=\"1145.17\" cy=\"1304.94\" r=\"14\" fill=\"#009af9\" fill-rule=\"evenodd\" fill-opacity=\"1\" stroke=\"#000000\" stroke-opacity=\"1\" stroke-width=\"3.2\"/>\n",
       "<circle clip-path=\"url(#clip172)\" cx=\"550.684\" cy=\"439.12\" r=\"14\" fill=\"#009af9\" fill-rule=\"evenodd\" fill-opacity=\"1\" stroke=\"#000000\" stroke-opacity=\"1\" stroke-width=\"3.2\"/>\n",
       "<circle clip-path=\"url(#clip172)\" cx=\"1898.18\" cy=\"1082.25\" r=\"14\" fill=\"#009af9\" fill-rule=\"evenodd\" fill-opacity=\"1\" stroke=\"#000000\" stroke-opacity=\"1\" stroke-width=\"3.2\"/>\n",
       "<circle clip-path=\"url(#clip172)\" cx=\"471.42\" cy=\"245.197\" r=\"14\" fill=\"#009af9\" fill-rule=\"evenodd\" fill-opacity=\"1\" stroke=\"#000000\" stroke-opacity=\"1\" stroke-width=\"3.2\"/>\n",
       "<circle clip-path=\"url(#clip172)\" cx=\"1224.43\" cy=\"1347.31\" r=\"14\" fill=\"#009af9\" fill-rule=\"evenodd\" fill-opacity=\"1\" stroke=\"#000000\" stroke-opacity=\"1\" stroke-width=\"3.2\"/>\n",
       "<circle clip-path=\"url(#clip172)\" cx=\"1105.53\" cy=\"1288.34\" r=\"14\" fill=\"#009af9\" fill-rule=\"evenodd\" fill-opacity=\"1\" stroke=\"#000000\" stroke-opacity=\"1\" stroke-width=\"3.2\"/>\n",
       "</svg>\n"
      ]
     },
     "execution_count": 12,
     "metadata": {},
     "output_type": "execute_result"
    }
   ],
   "source": [
    "using Plots\n",
    "plot(lasso_tm, size=(600, 400))"
   ]
  },
  {
   "cell_type": "code",
   "execution_count": 13,
   "id": "37413dee-89dd-415c-bd54-2291796ecd2d",
   "metadata": {},
   "outputs": [
    {
     "data": {
      "image/svg+xml": [
       "<?xml version=\"1.0\" encoding=\"utf-8\"?>\n",
       "<svg xmlns=\"http://www.w3.org/2000/svg\" xmlns:xlink=\"http://www.w3.org/1999/xlink\" width=\"600\" height=\"400\" viewBox=\"0 0 2400 1600\">\n",
       "<defs>\n",
       "  <clipPath id=\"clip210\">\n",
       "    <rect x=\"0\" y=\"0\" width=\"2400\" height=\"1600\"/>\n",
       "  </clipPath>\n",
       "</defs>\n",
       "<path clip-path=\"url(#clip210)\" d=\"\n",
       "M0 1600 L2400 1600 L2400 0 L0 0  Z\n",
       "  \" fill=\"#ffffff\" fill-rule=\"evenodd\" fill-opacity=\"1\"/>\n",
       "<defs>\n",
       "  <clipPath id=\"clip211\">\n",
       "    <rect x=\"480\" y=\"0\" width=\"1681\" height=\"1600\"/>\n",
       "  </clipPath>\n",
       "</defs>\n",
       "<path clip-path=\"url(#clip210)\" d=\"\n",
       "M265.445 1311.63 L2352.76 1311.63 L2352.76 123.472 L265.445 123.472  Z\n",
       "  \" fill=\"#ffffff\" fill-rule=\"evenodd\" fill-opacity=\"1\"/>\n",
       "<defs>\n",
       "  <clipPath id=\"clip212\">\n",
       "    <rect x=\"265\" y=\"123\" width=\"2088\" height=\"1189\"/>\n",
       "  </clipPath>\n",
       "</defs>\n",
       "<polyline clip-path=\"url(#clip212)\" style=\"stroke:#000000; stroke-linecap:butt; stroke-linejoin:round; stroke-width:2; stroke-opacity:0.1; fill:none\" points=\"\n",
       "  430.459,1311.63 430.459,123.472 \n",
       "  \"/>\n",
       "<polyline clip-path=\"url(#clip212)\" style=\"stroke:#000000; stroke-linecap:butt; stroke-linejoin:round; stroke-width:2; stroke-opacity:0.1; fill:none\" points=\"\n",
       "  555.979,1311.63 555.979,123.472 \n",
       "  \"/>\n",
       "<polyline clip-path=\"url(#clip212)\" style=\"stroke:#000000; stroke-linecap:butt; stroke-linejoin:round; stroke-width:2; stroke-opacity:0.1; fill:none\" points=\"\n",
       "  681.499,1311.63 681.499,123.472 \n",
       "  \"/>\n",
       "<polyline clip-path=\"url(#clip212)\" style=\"stroke:#000000; stroke-linecap:butt; stroke-linejoin:round; stroke-width:2; stroke-opacity:0.1; fill:none\" points=\"\n",
       "  807.019,1311.63 807.019,123.472 \n",
       "  \"/>\n",
       "<polyline clip-path=\"url(#clip212)\" style=\"stroke:#000000; stroke-linecap:butt; stroke-linejoin:round; stroke-width:2; stroke-opacity:0.1; fill:none\" points=\"\n",
       "  932.54,1311.63 932.54,123.472 \n",
       "  \"/>\n",
       "<polyline clip-path=\"url(#clip212)\" style=\"stroke:#000000; stroke-linecap:butt; stroke-linejoin:round; stroke-width:2; stroke-opacity:0.1; fill:none\" points=\"\n",
       "  1058.06,1311.63 1058.06,123.472 \n",
       "  \"/>\n",
       "<polyline clip-path=\"url(#clip212)\" style=\"stroke:#000000; stroke-linecap:butt; stroke-linejoin:round; stroke-width:2; stroke-opacity:0.1; fill:none\" points=\"\n",
       "  1183.58,1311.63 1183.58,123.472 \n",
       "  \"/>\n",
       "<polyline clip-path=\"url(#clip212)\" style=\"stroke:#000000; stroke-linecap:butt; stroke-linejoin:round; stroke-width:2; stroke-opacity:0.1; fill:none\" points=\"\n",
       "  1309.1,1311.63 1309.1,123.472 \n",
       "  \"/>\n",
       "<polyline clip-path=\"url(#clip212)\" style=\"stroke:#000000; stroke-linecap:butt; stroke-linejoin:round; stroke-width:2; stroke-opacity:0.1; fill:none\" points=\"\n",
       "  1434.62,1311.63 1434.62,123.472 \n",
       "  \"/>\n",
       "<polyline clip-path=\"url(#clip212)\" style=\"stroke:#000000; stroke-linecap:butt; stroke-linejoin:round; stroke-width:2; stroke-opacity:0.1; fill:none\" points=\"\n",
       "  1560.14,1311.63 1560.14,123.472 \n",
       "  \"/>\n",
       "<polyline clip-path=\"url(#clip212)\" style=\"stroke:#000000; stroke-linecap:butt; stroke-linejoin:round; stroke-width:2; stroke-opacity:0.1; fill:none\" points=\"\n",
       "  1685.66,1311.63 1685.66,123.472 \n",
       "  \"/>\n",
       "<polyline clip-path=\"url(#clip212)\" style=\"stroke:#000000; stroke-linecap:butt; stroke-linejoin:round; stroke-width:2; stroke-opacity:0.1; fill:none\" points=\"\n",
       "  1811.18,1311.63 1811.18,123.472 \n",
       "  \"/>\n",
       "<polyline clip-path=\"url(#clip212)\" style=\"stroke:#000000; stroke-linecap:butt; stroke-linejoin:round; stroke-width:2; stroke-opacity:0.1; fill:none\" points=\"\n",
       "  1936.7,1311.63 1936.7,123.472 \n",
       "  \"/>\n",
       "<polyline clip-path=\"url(#clip212)\" style=\"stroke:#000000; stroke-linecap:butt; stroke-linejoin:round; stroke-width:2; stroke-opacity:0.1; fill:none\" points=\"\n",
       "  2062.22,1311.63 2062.22,123.472 \n",
       "  \"/>\n",
       "<polyline clip-path=\"url(#clip212)\" style=\"stroke:#000000; stroke-linecap:butt; stroke-linejoin:round; stroke-width:2; stroke-opacity:0.1; fill:none\" points=\"\n",
       "  2187.74,1311.63 2187.74,123.472 \n",
       "  \"/>\n",
       "<polyline clip-path=\"url(#clip210)\" style=\"stroke:#000000; stroke-linecap:butt; stroke-linejoin:round; stroke-width:4; stroke-opacity:1; fill:none\" points=\"\n",
       "  265.445,1311.63 2352.76,1311.63 \n",
       "  \"/>\n",
       "<polyline clip-path=\"url(#clip210)\" style=\"stroke:#000000; stroke-linecap:butt; stroke-linejoin:round; stroke-width:4; stroke-opacity:1; fill:none\" points=\"\n",
       "  430.459,1311.63 430.459,1292.73 \n",
       "  \"/>\n",
       "<polyline clip-path=\"url(#clip210)\" style=\"stroke:#000000; stroke-linecap:butt; stroke-linejoin:round; stroke-width:4; stroke-opacity:1; fill:none\" points=\"\n",
       "  555.979,1311.63 555.979,1292.73 \n",
       "  \"/>\n",
       "<polyline clip-path=\"url(#clip210)\" style=\"stroke:#000000; stroke-linecap:butt; stroke-linejoin:round; stroke-width:4; stroke-opacity:1; fill:none\" points=\"\n",
       "  681.499,1311.63 681.499,1292.73 \n",
       "  \"/>\n",
       "<polyline clip-path=\"url(#clip210)\" style=\"stroke:#000000; stroke-linecap:butt; stroke-linejoin:round; stroke-width:4; stroke-opacity:1; fill:none\" points=\"\n",
       "  807.019,1311.63 807.019,1292.73 \n",
       "  \"/>\n",
       "<polyline clip-path=\"url(#clip210)\" style=\"stroke:#000000; stroke-linecap:butt; stroke-linejoin:round; stroke-width:4; stroke-opacity:1; fill:none\" points=\"\n",
       "  932.54,1311.63 932.54,1292.73 \n",
       "  \"/>\n",
       "<polyline clip-path=\"url(#clip210)\" style=\"stroke:#000000; stroke-linecap:butt; stroke-linejoin:round; stroke-width:4; stroke-opacity:1; fill:none\" points=\"\n",
       "  1058.06,1311.63 1058.06,1292.73 \n",
       "  \"/>\n",
       "<polyline clip-path=\"url(#clip210)\" style=\"stroke:#000000; stroke-linecap:butt; stroke-linejoin:round; stroke-width:4; stroke-opacity:1; fill:none\" points=\"\n",
       "  1183.58,1311.63 1183.58,1292.73 \n",
       "  \"/>\n",
       "<polyline clip-path=\"url(#clip210)\" style=\"stroke:#000000; stroke-linecap:butt; stroke-linejoin:round; stroke-width:4; stroke-opacity:1; fill:none\" points=\"\n",
       "  1309.1,1311.63 1309.1,1292.73 \n",
       "  \"/>\n",
       "<polyline clip-path=\"url(#clip210)\" style=\"stroke:#000000; stroke-linecap:butt; stroke-linejoin:round; stroke-width:4; stroke-opacity:1; fill:none\" points=\"\n",
       "  1434.62,1311.63 1434.62,1292.73 \n",
       "  \"/>\n",
       "<polyline clip-path=\"url(#clip210)\" style=\"stroke:#000000; stroke-linecap:butt; stroke-linejoin:round; stroke-width:4; stroke-opacity:1; fill:none\" points=\"\n",
       "  1560.14,1311.63 1560.14,1292.73 \n",
       "  \"/>\n",
       "<polyline clip-path=\"url(#clip210)\" style=\"stroke:#000000; stroke-linecap:butt; stroke-linejoin:round; stroke-width:4; stroke-opacity:1; fill:none\" points=\"\n",
       "  1685.66,1311.63 1685.66,1292.73 \n",
       "  \"/>\n",
       "<polyline clip-path=\"url(#clip210)\" style=\"stroke:#000000; stroke-linecap:butt; stroke-linejoin:round; stroke-width:4; stroke-opacity:1; fill:none\" points=\"\n",
       "  1811.18,1311.63 1811.18,1292.73 \n",
       "  \"/>\n",
       "<polyline clip-path=\"url(#clip210)\" style=\"stroke:#000000; stroke-linecap:butt; stroke-linejoin:round; stroke-width:4; stroke-opacity:1; fill:none\" points=\"\n",
       "  1936.7,1311.63 1936.7,1292.73 \n",
       "  \"/>\n",
       "<polyline clip-path=\"url(#clip210)\" style=\"stroke:#000000; stroke-linecap:butt; stroke-linejoin:round; stroke-width:4; stroke-opacity:1; fill:none\" points=\"\n",
       "  2062.22,1311.63 2062.22,1292.73 \n",
       "  \"/>\n",
       "<polyline clip-path=\"url(#clip210)\" style=\"stroke:#000000; stroke-linecap:butt; stroke-linejoin:round; stroke-width:4; stroke-opacity:1; fill:none\" points=\"\n",
       "  2187.74,1311.63 2187.74,1292.73 \n",
       "  \"/>\n",
       "<path clip-path=\"url(#clip210)\" d=\"M217.959 1563.97 L229.024 1575.03 L226.013 1578.04 L215.046 1567.08 Q212.443 1564.47 210.136 1564.2 Q207.828 1563.92 205.798 1565.95 Q203.359 1568.39 203.506 1571.35 Q203.654 1574.31 206.338 1577 L216.699 1587.36 L213.671 1590.39 L188.202 1564.92 L191.23 1561.89 L201.215 1571.87 Q200.642 1569.14 201.28 1566.86 Q201.935 1564.57 203.85 1562.66 Q207.009 1559.5 210.594 1559.84 Q214.162 1560.17 217.959 1563.97 Z\" fill=\"#000000\" fill-rule=\"evenodd\" fill-opacity=\"1\" /><path clip-path=\"url(#clip210)\" d=\"M225.914 1545.7 Q223.492 1548.12 223.983 1551.43 Q224.458 1554.72 227.748 1558.01 Q231.038 1561.3 234.328 1561.81 Q237.618 1562.28 240.056 1559.84 Q242.463 1557.44 241.972 1554.13 Q241.48 1550.82 238.207 1547.55 Q234.95 1544.29 231.643 1543.8 Q228.32 1543.29 225.914 1545.7 M223.361 1543.15 Q227.289 1539.22 232.085 1539.53 Q236.881 1539.84 241.399 1544.36 Q245.9 1548.86 246.227 1553.67 Q246.538 1558.47 242.61 1562.4 Q238.665 1566.34 233.869 1566.03 Q229.073 1565.69 224.572 1561.18 Q220.055 1556.67 219.727 1551.89 Q219.416 1547.09 223.361 1543.15 Z\" fill=\"#000000\" fill-rule=\"evenodd\" fill-opacity=\"1\" /><path clip-path=\"url(#clip210)\" d=\"M235.457 1531.94 L238.469 1528.92 L256.539 1539.46 L245.982 1521.41 L249.534 1517.86 L267.604 1528.4 L257.047 1510.35 L260.058 1507.33 L273.595 1530.46 L270.043 1534.01 L251.072 1522.93 L262.137 1541.92 L258.585 1545.47 L235.457 1531.94 Z\" fill=\"#000000\" fill-rule=\"evenodd\" fill-opacity=\"1\" /><path clip-path=\"url(#clip210)\" d=\"M287.131 1494.8 L298.196 1505.86 L295.184 1508.87 L284.218 1497.91 Q281.615 1495.3 279.307 1495.03 Q276.999 1494.75 274.97 1496.78 Q272.531 1499.22 272.678 1502.18 Q272.825 1505.14 275.51 1507.82 L285.871 1518.19 L282.843 1521.21 L264.51 1502.88 L267.539 1499.85 L270.387 1502.7 Q269.814 1499.97 270.452 1497.69 Q271.107 1495.4 273.022 1493.49 Q276.181 1490.33 279.766 1490.67 Q283.334 1491 287.131 1494.8 Z\" fill=\"#000000\" fill-rule=\"evenodd\" fill-opacity=\"1\" /><path clip-path=\"url(#clip210)\" d=\"M323.698 1491.49 L326.038 1493.83 L308.623 1511.25 L306.282 1508.91 L323.698 1491.49 Z\" fill=\"#000000\" fill-rule=\"evenodd\" fill-opacity=\"1\" /><path clip-path=\"url(#clip210)\" d=\"M302.632 1464.76 L305.644 1461.75 L323.976 1480.08 L320.964 1483.09 L302.632 1464.76 M295.495 1457.62 L298.507 1454.61 L302.321 1458.43 L299.309 1461.44 L295.495 1457.62 Z\" fill=\"#000000\" fill-rule=\"evenodd\" fill-opacity=\"1\" /><path clip-path=\"url(#clip210)\" d=\"M334.451 1447.48 L345.516 1458.54 L342.505 1461.55 L331.538 1450.59 Q328.935 1447.98 326.627 1447.7 Q324.32 1447.43 322.29 1449.46 Q319.851 1451.9 319.998 1454.86 Q320.146 1457.82 322.83 1460.5 L333.191 1470.87 L330.163 1473.89 L311.831 1455.56 L314.859 1452.53 L317.707 1455.38 Q317.134 1452.65 317.772 1450.37 Q318.427 1448.08 320.342 1446.17 Q323.501 1443.01 327.086 1443.35 Q330.654 1443.68 334.451 1447.48 Z\" fill=\"#000000\" fill-rule=\"evenodd\" fill-opacity=\"1\" /><path clip-path=\"url(#clip210)\" d=\"M347.088 1421.71 L349.903 1424.53 Q347.922 1425.1 346.286 1426.05 Q344.649 1426.97 343.339 1428.28 Q340.409 1431.21 340.655 1434.69 Q340.884 1438.16 344.24 1441.52 Q347.595 1444.87 351.081 1445.12 Q354.551 1445.35 357.481 1442.42 Q358.791 1441.11 359.724 1439.49 Q360.657 1437.83 361.23 1435.85 L364.012 1438.64 Q363.341 1440.49 362.277 1442.14 Q361.23 1443.78 359.707 1445.3 Q355.566 1449.44 350.525 1449.28 Q345.484 1449.11 341.064 1444.69 Q336.579 1440.21 336.465 1435.18 Q336.366 1430.14 340.655 1425.85 Q342.046 1424.46 343.667 1423.43 Q345.271 1422.38 347.088 1421.71 Z\" fill=\"#000000\" fill-rule=\"evenodd\" fill-opacity=\"1\" /><path clip-path=\"url(#clip210)\" d=\"M389.448 1425.74 L391.789 1428.08 L374.373 1445.5 L372.033 1443.15 L389.448 1425.74 Z\" fill=\"#000000\" fill-rule=\"evenodd\" fill-opacity=\"1\" /><path clip-path=\"url(#clip210)\" d=\"M382.279 1386.52 L385.094 1389.34 Q383.114 1389.91 381.477 1390.86 Q379.84 1391.77 378.531 1393.08 Q375.601 1396.01 375.846 1399.5 Q376.076 1402.97 379.431 1406.33 Q382.786 1409.68 386.273 1409.93 Q389.743 1410.16 392.673 1407.23 Q393.982 1405.92 394.915 1404.3 Q395.848 1402.64 396.421 1400.66 L399.204 1403.45 Q398.533 1405.29 397.469 1406.95 Q396.421 1408.58 394.899 1410.11 Q390.758 1414.25 385.716 1414.08 Q380.675 1413.92 376.256 1409.5 Q371.771 1405.02 371.656 1399.99 Q371.558 1394.95 375.846 1390.66 Q377.238 1389.27 378.858 1388.24 Q380.462 1387.19 382.279 1386.52 Z\" fill=\"#000000\" fill-rule=\"evenodd\" fill-opacity=\"1\" /><path clip-path=\"url(#clip210)\" d=\"M397.6 1391.99 L386.502 1380.89 L389.514 1377.88 L400.497 1388.86 Q403.099 1391.46 405.424 1391.76 Q407.732 1392.04 409.761 1390.01 Q412.2 1387.57 412.053 1384.61 Q411.922 1381.63 409.237 1378.94 L398.844 1368.55 L401.855 1365.54 L420.188 1383.87 L417.176 1386.88 L414.361 1384.07 Q414.933 1386.83 414.295 1389.11 Q413.657 1391.35 411.742 1393.26 Q408.583 1396.42 404.982 1396.1 Q401.381 1395.77 397.6 1391.99 M393.639 1372.87 L393.639 1372.87 Z\" fill=\"#000000\" fill-rule=\"evenodd\" fill-opacity=\"1\" /><path clip-path=\"url(#clip210)\" d=\"M430.401 1355.36 Q427.079 1352.03 423.821 1351.53 Q420.564 1350.99 418.174 1353.38 Q415.785 1355.77 416.308 1359.04 Q416.832 1362.28 420.155 1365.6 Q423.478 1368.92 426.735 1369.47 Q429.992 1369.97 432.382 1367.58 Q434.772 1365.19 434.248 1361.95 Q433.724 1358.68 430.401 1355.36 M413.755 1359.2 Q413.068 1356.62 413.722 1354.39 Q414.377 1352.13 416.39 1350.12 Q419.729 1346.78 424.46 1347.35 Q429.206 1347.91 433.528 1352.23 Q437.849 1356.55 438.405 1361.3 Q438.978 1366.03 435.639 1369.37 Q433.626 1371.38 431.383 1372.05 Q429.141 1372.69 426.555 1372 L429.305 1374.75 L426.277 1377.78 L400.808 1352.31 L403.836 1349.28 L413.755 1359.2 Z\" fill=\"#000000\" fill-rule=\"evenodd\" fill-opacity=\"1\" /><path clip-path=\"url(#clip210)\" d=\"M321.988 1570.92 L325 1567.91 L343.332 1586.24 L340.321 1589.26 L321.988 1570.92 M314.852 1563.79 L317.864 1560.78 L321.677 1564.59 L318.666 1567.6 L314.852 1563.79 Z\" fill=\"#000000\" fill-rule=\"evenodd\" fill-opacity=\"1\" /><path clip-path=\"url(#clip210)\" d=\"M353.808 1553.64 L364.873 1564.7 L361.861 1567.72 L350.894 1556.75 Q348.292 1554.15 345.984 1553.87 Q343.676 1553.59 341.646 1555.62 Q339.208 1558.06 339.355 1561.02 Q339.502 1563.98 342.187 1566.67 L352.548 1577.03 L349.52 1580.06 L331.187 1561.73 L334.215 1558.7 L337.063 1561.55 Q336.491 1558.81 337.129 1556.54 Q337.784 1554.24 339.699 1552.33 Q342.858 1549.17 346.442 1549.51 Q350.011 1549.84 353.808 1553.64 Z\" fill=\"#000000\" fill-rule=\"evenodd\" fill-opacity=\"1\" /><path clip-path=\"url(#clip210)\" d=\"M366.444 1527.88 L369.26 1530.69 Q367.279 1531.26 365.642 1532.21 Q364.005 1533.13 362.696 1534.44 Q359.766 1537.37 360.012 1540.86 Q360.241 1544.33 363.596 1547.68 Q366.952 1551.04 370.438 1551.28 Q373.908 1551.51 376.838 1548.58 Q378.147 1547.27 379.08 1545.65 Q380.013 1544 380.586 1542.02 L383.369 1544.8 Q382.698 1546.65 381.634 1548.3 Q380.586 1549.94 379.064 1551.46 Q374.923 1555.6 369.881 1555.44 Q364.84 1555.28 360.421 1550.86 Q355.936 1546.37 355.821 1541.35 Q355.723 1536.31 360.012 1532.02 Q361.403 1530.63 363.023 1529.59 Q364.627 1528.55 366.444 1527.88 Z\" fill=\"#000000\" fill-rule=\"evenodd\" fill-opacity=\"1\" /><path clip-path=\"url(#clip210)\" d=\"M408.805 1531.9 L411.146 1534.24 L393.73 1551.66 L391.389 1549.32 L408.805 1531.9 Z\" fill=\"#000000\" fill-rule=\"evenodd\" fill-opacity=\"1\" /><path clip-path=\"url(#clip210)\" d=\"M401.636 1492.68 L404.451 1495.5 Q402.47 1496.07 400.834 1497.02 Q399.197 1497.94 397.887 1499.25 Q394.957 1502.18 395.203 1505.66 Q395.432 1509.13 398.788 1512.49 Q402.143 1515.85 405.629 1516.09 Q409.1 1516.32 412.029 1513.39 Q413.339 1512.08 414.272 1510.46 Q415.205 1508.81 415.778 1506.83 L418.56 1509.61 Q417.889 1511.46 416.825 1513.11 Q415.778 1514.75 414.255 1516.27 Q410.114 1520.41 405.073 1520.25 Q400.032 1520.08 395.612 1515.67 Q391.127 1511.18 391.013 1506.16 Q390.915 1501.11 395.203 1496.83 Q396.594 1495.43 398.215 1494.4 Q399.819 1493.36 401.636 1492.68 Z\" fill=\"#000000\" fill-rule=\"evenodd\" fill-opacity=\"1\" /><path clip-path=\"url(#clip210)\" d=\"M416.956 1498.15 L405.859 1487.05 L408.87 1484.04 L419.853 1495.03 Q422.456 1497.63 424.78 1497.92 Q427.088 1498.2 429.118 1496.17 Q431.557 1493.73 431.409 1490.77 Q431.278 1487.79 428.594 1485.11 L418.2 1474.71 L421.212 1471.7 L439.544 1490.03 L436.532 1493.04 L433.717 1490.23 Q434.29 1493 433.652 1495.27 Q433.013 1497.51 431.098 1499.43 Q427.939 1502.59 424.338 1502.26 Q420.737 1501.93 416.956 1498.15 M412.995 1479.03 L412.995 1479.03 Z\" fill=\"#000000\" fill-rule=\"evenodd\" fill-opacity=\"1\" /><path clip-path=\"url(#clip210)\" d=\"M449.758 1461.52 Q446.435 1458.2 443.178 1457.69 Q439.921 1457.15 437.531 1459.54 Q435.141 1461.93 435.665 1465.2 Q436.189 1468.44 439.511 1471.77 Q442.834 1475.09 446.091 1475.63 Q449.349 1476.14 451.738 1473.75 Q454.128 1471.36 453.604 1468.12 Q453.081 1464.84 449.758 1461.52 M433.112 1465.37 Q432.424 1462.78 433.079 1460.55 Q433.734 1458.29 435.747 1456.28 Q439.086 1452.94 443.816 1453.52 Q448.563 1454.07 452.884 1458.39 Q457.205 1462.71 457.762 1467.46 Q458.335 1472.19 454.996 1475.53 Q452.982 1477.54 450.74 1478.21 Q448.498 1478.85 445.911 1478.17 L448.661 1480.92 L445.633 1483.94 L420.164 1458.48 L423.192 1455.45 L433.112 1465.37 Z\" fill=\"#000000\" fill-rule=\"evenodd\" fill-opacity=\"1\" /><path clip-path=\"url(#clip210)\" d=\"M486.521 1454.19 L488.861 1456.53 L471.446 1473.94 L469.105 1471.6 L486.521 1454.19 Z\" fill=\"#000000\" fill-rule=\"evenodd\" fill-opacity=\"1\" /><path clip-path=\"url(#clip210)\" d=\"M487.961 1419.49 L499.026 1430.55 L496.014 1433.56 L485.048 1422.6 Q482.445 1419.99 480.137 1419.72 Q477.829 1419.44 475.8 1421.47 Q473.361 1423.91 473.508 1426.87 Q473.655 1429.83 476.34 1432.52 L486.701 1442.88 L483.673 1445.9 L458.204 1420.44 L461.232 1417.41 L471.217 1427.39 Q470.644 1424.66 471.282 1422.38 Q471.937 1420.09 473.852 1418.18 Q477.011 1415.02 480.595 1415.36 Q484.164 1415.69 487.961 1419.49 Z\" fill=\"#000000\" fill-rule=\"evenodd\" fill-opacity=\"1\" /><path clip-path=\"url(#clip210)\" d=\"M495.916 1401.22 Q493.494 1403.64 493.985 1406.95 Q494.459 1410.24 497.749 1413.53 Q501.039 1416.82 504.329 1417.33 Q507.619 1417.8 510.058 1415.36 Q512.464 1412.96 511.973 1409.65 Q511.482 1406.34 508.209 1403.07 Q504.951 1399.81 501.645 1399.32 Q498.322 1398.81 495.916 1401.22 M493.363 1398.67 Q497.291 1394.74 502.087 1395.05 Q506.883 1395.36 511.4 1399.88 Q515.902 1404.38 516.229 1409.19 Q516.54 1413.99 512.612 1417.91 Q508.667 1421.86 503.871 1421.55 Q499.075 1421.2 494.574 1416.7 Q490.056 1412.19 489.729 1407.41 Q489.418 1402.61 493.363 1398.67 Z\" fill=\"#000000\" fill-rule=\"evenodd\" fill-opacity=\"1\" /><path clip-path=\"url(#clip210)\" d=\"M505.459 1387.45 L508.47 1384.44 L526.541 1394.98 L515.983 1376.93 L519.535 1373.38 L537.606 1383.92 L527.048 1365.86 L530.06 1362.85 L543.596 1385.98 L540.045 1389.53 L521.074 1378.45 L532.139 1397.44 L528.587 1400.99 L505.459 1387.45 Z\" fill=\"#000000\" fill-rule=\"evenodd\" fill-opacity=\"1\" /><path clip-path=\"url(#clip210)\" d=\"M557.133 1350.31 L568.198 1361.38 L565.186 1364.39 L554.219 1353.42 Q551.617 1350.82 549.309 1350.54 Q547.001 1350.27 544.971 1352.29 Q542.532 1354.73 542.68 1357.7 Q542.827 1360.66 545.511 1363.34 L555.872 1373.7 L552.844 1376.73 L534.512 1358.4 L537.54 1355.37 L540.388 1358.22 Q539.815 1355.49 540.454 1353.21 Q541.108 1350.92 543.024 1349 Q546.183 1345.85 549.767 1346.19 Q553.335 1346.52 557.133 1350.31 Z\" fill=\"#000000\" fill-rule=\"evenodd\" fill-opacity=\"1\" /><path clip-path=\"url(#clip210)\" d=\"M398.011 1610.01 L403.216 1615.22 L409.42 1609.01 L411.761 1611.35 L405.557 1617.56 L415.509 1627.51 Q417.751 1629.75 418.995 1629.78 Q420.256 1629.8 422.138 1627.92 L425.232 1624.82 L427.752 1627.34 L424.659 1630.44 Q421.172 1633.92 418.553 1633.96 Q415.918 1633.97 412.481 1630.54 L402.529 1620.58 L400.319 1622.79 L397.979 1620.45 L400.188 1618.24 L394.983 1613.04 L398.011 1610.01 Z\" fill=\"#000000\" fill-rule=\"evenodd\" fill-opacity=\"1\" /><path clip-path=\"url(#clip210)\" d=\"M411.63 1606.8 L414.641 1603.79 L432.712 1614.33 L422.154 1596.28 L425.706 1592.73 L443.777 1603.27 L433.219 1585.21 L436.231 1582.2 L449.767 1605.33 L446.216 1608.88 L427.245 1597.8 L438.31 1616.79 L434.758 1620.34 L411.63 1606.8 Z\" fill=\"#000000\" fill-rule=\"evenodd\" fill-opacity=\"1\" /><path clip-path=\"url(#clip210)\" d=\"M450.013 1572.64 Q447.59 1575.07 448.081 1578.37 Q448.556 1581.66 451.846 1584.95 Q455.136 1588.24 458.426 1588.75 Q461.716 1589.22 464.155 1586.78 Q466.561 1584.38 466.07 1581.07 Q465.579 1577.77 462.305 1574.49 Q459.048 1571.24 455.742 1570.74 Q452.419 1570.24 450.013 1572.64 M447.459 1570.09 Q451.388 1566.16 456.184 1566.47 Q460.98 1566.78 465.497 1571.3 Q469.998 1575.8 470.326 1580.61 Q470.637 1585.41 466.708 1589.34 Q462.764 1593.28 457.968 1592.97 Q453.172 1592.63 448.671 1588.13 Q444.153 1583.61 443.826 1578.83 Q443.515 1574.03 447.459 1570.09 Z\" fill=\"#000000\" fill-rule=\"evenodd\" fill-opacity=\"1\" /><path clip-path=\"url(#clip210)\" d=\"M485.401 1549.86 L486.874 1551.33 L473.027 1565.18 Q476.333 1568.09 479.639 1568.06 Q482.946 1567.99 485.941 1565 Q487.676 1563.26 488.871 1561.22 Q490.082 1559.16 490.835 1556.7 L493.683 1559.55 Q492.75 1561.86 491.408 1563.92 Q490.066 1565.98 488.314 1567.73 Q483.928 1572.12 478.804 1572.14 Q473.698 1572.14 469.344 1567.78 Q464.842 1563.28 464.63 1558.22 Q464.417 1553.13 468.542 1549.01 Q472.241 1545.31 476.775 1545.55 Q481.309 1545.77 485.401 1549.86 M481.505 1551.99 Q479.001 1549.55 476.169 1549.43 Q473.354 1549.3 471.128 1551.53 Q468.607 1554.05 468.509 1556.99 Q468.427 1559.92 470.784 1562.74 L481.505 1551.99 Z\" fill=\"#000000\" fill-rule=\"evenodd\" fill-opacity=\"1\" /><path clip-path=\"url(#clip210)\" d=\"M499.379 1537.29 Q495.729 1540.94 495.156 1543.18 Q494.583 1545.42 496.597 1547.44 Q498.201 1549.04 500.198 1548.94 Q502.195 1548.81 504.011 1546.99 Q506.516 1544.49 506.254 1541.22 Q505.992 1537.91 503.046 1534.96 L502.375 1534.29 L499.379 1537.29 M504.142 1530.04 L514.602 1540.5 L511.59 1543.51 L508.807 1540.72 Q509.446 1543.43 508.709 1545.77 Q507.956 1548.09 505.73 1550.32 Q502.915 1553.13 499.674 1553.23 Q496.433 1553.3 493.781 1550.64 Q490.688 1547.55 491.179 1543.92 Q491.686 1540.27 495.795 1536.16 L500.018 1531.94 L499.723 1531.64 Q497.644 1529.56 495.14 1529.81 Q492.636 1530.02 490.164 1532.49 Q488.593 1534.06 487.48 1535.93 Q486.367 1537.79 485.745 1539.92 L482.962 1537.14 Q483.977 1534.85 485.221 1532.98 Q486.448 1531.1 487.921 1529.63 Q491.899 1525.65 495.926 1525.75 Q499.952 1525.85 504.142 1530.04 Z\" fill=\"#000000\" fill-rule=\"evenodd\" fill-opacity=\"1\" /><path clip-path=\"url(#clip210)\" d=\"M515.911 1508.15 Q515.109 1508.37 514.372 1508.84 Q513.636 1509.28 512.916 1510 Q510.362 1512.56 510.657 1515.6 Q510.951 1518.61 514.061 1521.72 L523.719 1531.38 L520.69 1534.41 L502.358 1516.07 L505.386 1513.05 L508.234 1515.89 Q507.514 1513.28 508.234 1510.95 Q508.938 1508.61 511.115 1506.43 Q511.426 1506.12 511.852 1505.8 Q512.261 1505.45 512.801 1505.08 L515.911 1508.15 Z\" fill=\"#000000\" fill-rule=\"evenodd\" fill-opacity=\"1\" /><path clip-path=\"url(#clip210)\" d=\"M538.172 1494.8 L549.236 1505.86 L546.225 1508.87 L535.258 1497.91 Q532.656 1495.3 530.348 1495.03 Q528.04 1494.75 526.01 1496.78 Q523.571 1499.22 523.719 1502.18 Q523.866 1505.14 526.55 1507.82 L536.911 1518.19 L533.883 1521.21 L515.551 1502.88 L518.579 1499.85 L521.427 1502.7 Q520.854 1499.97 521.493 1497.69 Q522.147 1495.4 524.062 1493.49 Q527.221 1490.33 530.806 1490.67 Q534.374 1491 538.172 1494.8 Z\" fill=\"#000000\" fill-rule=\"evenodd\" fill-opacity=\"1\" /><path clip-path=\"url(#clip210)\" d=\"M574.738 1491.49 L577.079 1493.83 L559.663 1511.25 L557.322 1508.91 L574.738 1491.49 Z\" fill=\"#000000\" fill-rule=\"evenodd\" fill-opacity=\"1\" /><path clip-path=\"url(#clip210)\" d=\"M553.672 1464.76 L556.684 1461.75 L575.016 1480.08 L572.005 1483.09 L553.672 1464.76 M546.536 1457.62 L549.547 1454.61 L553.361 1458.43 L550.35 1461.44 L546.536 1457.62 Z\" fill=\"#000000\" fill-rule=\"evenodd\" fill-opacity=\"1\" /><path clip-path=\"url(#clip210)\" d=\"M585.492 1447.48 L596.557 1458.54 L593.545 1461.55 L582.578 1450.59 Q579.976 1447.98 577.668 1447.7 Q575.36 1447.43 573.33 1449.46 Q570.892 1451.9 571.039 1454.86 Q571.186 1457.82 573.871 1460.5 L584.232 1470.87 L581.203 1473.89 L562.871 1455.56 L565.899 1452.53 L568.747 1455.38 Q568.174 1452.65 568.813 1450.37 Q569.467 1448.08 571.383 1446.17 Q574.542 1443.01 578.126 1443.35 Q581.694 1443.68 585.492 1447.48 Z\" fill=\"#000000\" fill-rule=\"evenodd\" fill-opacity=\"1\" /><path clip-path=\"url(#clip210)\" d=\"M598.128 1421.71 L600.943 1424.53 Q598.963 1425.1 597.326 1426.05 Q595.689 1426.97 594.38 1428.28 Q591.45 1431.21 591.695 1434.69 Q591.925 1438.16 595.28 1441.52 Q598.635 1444.87 602.122 1445.12 Q605.592 1445.35 608.522 1442.42 Q609.831 1441.11 610.764 1439.49 Q611.697 1437.83 612.27 1435.85 L615.053 1438.64 Q614.382 1440.49 613.318 1442.14 Q612.27 1443.78 610.748 1445.3 Q606.607 1449.44 601.565 1449.28 Q596.524 1449.11 592.105 1444.69 Q587.62 1440.21 587.505 1435.18 Q587.407 1430.14 591.695 1425.85 Q593.087 1424.46 594.707 1423.43 Q596.311 1422.38 598.128 1421.71 Z\" fill=\"#000000\" fill-rule=\"evenodd\" fill-opacity=\"1\" /><path clip-path=\"url(#clip210)\" d=\"M640.489 1425.74 L642.829 1428.08 L625.414 1445.5 L623.073 1443.15 L640.489 1425.74 Z\" fill=\"#000000\" fill-rule=\"evenodd\" fill-opacity=\"1\" /><path clip-path=\"url(#clip210)\" d=\"M633.32 1386.52 L636.135 1389.34 Q634.154 1389.91 632.518 1390.86 Q630.881 1391.77 629.571 1393.08 Q626.641 1396.01 626.887 1399.5 Q627.116 1402.97 630.471 1406.33 Q633.827 1409.68 637.313 1409.93 Q640.783 1410.16 643.713 1407.23 Q645.023 1405.92 645.956 1404.3 Q646.889 1402.64 647.462 1400.66 L650.244 1403.45 Q649.573 1405.29 648.509 1406.95 Q647.462 1408.58 645.939 1410.11 Q641.798 1414.25 636.757 1414.08 Q631.715 1413.92 627.296 1409.5 Q622.811 1405.02 622.697 1399.99 Q622.598 1394.95 626.887 1390.66 Q628.278 1389.27 629.899 1388.24 Q631.503 1387.19 633.32 1386.52 Z\" fill=\"#000000\" fill-rule=\"evenodd\" fill-opacity=\"1\" /><path clip-path=\"url(#clip210)\" d=\"M648.64 1391.99 L637.543 1380.89 L640.554 1377.88 L651.537 1388.86 Q654.14 1391.46 656.464 1391.76 Q658.772 1392.04 660.802 1390.01 Q663.24 1387.57 663.093 1384.61 Q662.962 1381.63 660.278 1378.94 L649.884 1368.55 L652.896 1365.54 L671.228 1383.87 L668.216 1386.88 L665.401 1384.07 Q665.974 1386.83 665.336 1389.11 Q664.697 1391.35 662.782 1393.26 Q659.623 1396.42 656.022 1396.1 Q652.421 1395.77 648.64 1391.99 M644.679 1372.87 L644.679 1372.87 Z\" fill=\"#000000\" fill-rule=\"evenodd\" fill-opacity=\"1\" /><path clip-path=\"url(#clip210)\" d=\"M681.442 1355.36 Q678.119 1352.03 674.862 1351.53 Q671.605 1350.99 669.215 1353.38 Q666.825 1355.77 667.349 1359.04 Q667.873 1362.28 671.195 1365.6 Q674.518 1368.92 677.775 1369.47 Q681.033 1369.97 683.422 1367.58 Q685.812 1365.19 685.288 1361.95 Q684.765 1358.68 681.442 1355.36 M664.795 1359.2 Q664.108 1356.62 664.763 1354.39 Q665.417 1352.13 667.431 1350.12 Q670.77 1346.78 675.5 1347.35 Q680.247 1347.91 684.568 1352.23 Q688.889 1356.55 689.446 1361.3 Q690.019 1366.03 686.68 1369.37 Q684.666 1371.38 682.424 1372.05 Q680.181 1372.69 677.595 1372 L680.345 1374.75 L677.317 1377.78 L651.848 1352.31 L654.876 1349.28 L664.795 1359.2 Z\" fill=\"#000000\" fill-rule=\"evenodd\" fill-opacity=\"1\" /><path clip-path=\"url(#clip210)\" d=\"M526.773 1617.18 L529.784 1614.17 L548.117 1632.5 L545.105 1635.51 L526.773 1617.18 M519.636 1610.04 L522.648 1607.03 L526.462 1610.85 L523.45 1613.86 L519.636 1610.04 Z\" fill=\"#000000\" fill-rule=\"evenodd\" fill-opacity=\"1\" /><path clip-path=\"url(#clip210)\" d=\"M558.592 1599.9 L569.657 1610.96 L566.645 1613.97 L555.679 1603.01 Q553.076 1600.4 550.768 1600.12 Q548.46 1599.85 546.431 1601.88 Q543.992 1604.31 544.139 1607.28 Q544.286 1610.24 546.971 1612.92 L557.332 1623.29 L554.304 1626.31 L535.971 1607.98 L539 1604.95 L541.848 1607.8 Q541.275 1605.07 541.913 1602.79 Q542.568 1600.5 544.483 1598.59 Q547.642 1595.43 551.226 1595.77 Q554.795 1596.1 558.592 1599.9 Z\" fill=\"#000000\" fill-rule=\"evenodd\" fill-opacity=\"1\" /><path clip-path=\"url(#clip210)\" d=\"M571.228 1574.13 L574.044 1576.95 Q572.063 1577.52 570.426 1578.47 Q568.789 1579.39 567.48 1580.7 Q564.55 1583.63 564.796 1587.11 Q565.025 1590.58 568.38 1593.94 Q571.736 1597.29 575.222 1597.54 Q578.692 1597.77 581.622 1594.84 Q582.932 1593.53 583.865 1591.91 Q584.798 1590.25 585.37 1588.27 L588.153 1591.06 Q587.482 1592.91 586.418 1594.56 Q585.37 1596.2 583.848 1597.72 Q579.707 1601.86 574.666 1601.7 Q569.624 1601.53 565.205 1597.11 Q560.72 1592.63 560.605 1587.6 Q560.507 1582.56 564.796 1578.27 Q566.187 1576.88 567.807 1575.85 Q569.411 1574.8 571.228 1574.13 Z\" fill=\"#000000\" fill-rule=\"evenodd\" fill-opacity=\"1\" /><path clip-path=\"url(#clip210)\" d=\"M613.589 1578.16 L615.93 1580.5 L598.514 1597.92 L596.173 1595.57 L613.589 1578.16 Z\" fill=\"#000000\" fill-rule=\"evenodd\" fill-opacity=\"1\" /><path clip-path=\"url(#clip210)\" d=\"M606.42 1538.94 L609.235 1541.76 Q607.255 1542.33 605.618 1543.28 Q603.981 1544.19 602.672 1545.5 Q599.742 1548.43 599.987 1551.92 Q600.216 1555.39 603.572 1558.75 Q606.927 1562.1 610.414 1562.35 Q613.884 1562.58 616.814 1559.65 Q618.123 1558.34 619.056 1556.72 Q619.989 1555.06 620.562 1553.08 L623.344 1555.87 Q622.673 1557.71 621.609 1559.37 Q620.562 1561 619.04 1562.53 Q614.898 1566.67 609.857 1566.5 Q604.816 1566.34 600.396 1561.92 Q595.911 1557.44 595.797 1552.41 Q595.699 1547.37 599.987 1543.08 Q601.378 1541.69 602.999 1540.66 Q604.603 1539.61 606.42 1538.94 Z\" fill=\"#000000\" fill-rule=\"evenodd\" fill-opacity=\"1\" /><path clip-path=\"url(#clip210)\" d=\"M621.74 1544.41 L610.643 1533.31 L613.655 1530.3 L624.638 1541.28 Q627.24 1543.88 629.564 1544.18 Q631.872 1544.46 633.902 1542.43 Q636.341 1539.99 636.193 1537.03 Q636.062 1534.05 633.378 1531.36 L622.984 1520.97 L625.996 1517.96 L644.328 1536.29 L641.317 1539.3 L638.501 1536.49 Q639.074 1539.25 638.436 1541.53 Q637.798 1543.77 635.882 1545.68 Q632.723 1548.84 629.122 1548.52 Q625.521 1548.19 621.74 1544.41 M617.779 1525.29 L617.779 1525.29 Z\" fill=\"#000000\" fill-rule=\"evenodd\" fill-opacity=\"1\" /><path clip-path=\"url(#clip210)\" d=\"M654.542 1507.78 Q651.219 1504.45 647.962 1503.95 Q644.705 1503.41 642.315 1505.8 Q639.925 1508.19 640.449 1511.46 Q640.973 1514.7 644.296 1518.02 Q647.618 1521.34 650.876 1521.89 Q654.133 1522.39 656.523 1520 Q658.912 1517.61 658.389 1514.37 Q657.865 1511.1 654.542 1507.78 M637.896 1511.62 Q637.208 1509.04 637.863 1506.81 Q638.518 1504.55 640.531 1502.54 Q643.87 1499.2 648.6 1499.77 Q653.347 1500.33 657.668 1504.65 Q661.99 1508.97 662.546 1513.72 Q663.119 1518.45 659.78 1521.79 Q657.767 1523.8 655.524 1524.47 Q653.282 1525.11 650.696 1524.42 L653.445 1527.17 L650.417 1530.2 L624.949 1504.73 L627.977 1501.7 L637.896 1511.62 Z\" fill=\"#000000\" fill-rule=\"evenodd\" fill-opacity=\"1\" /><path clip-path=\"url(#clip210)\" d=\"M691.305 1500.44 L693.646 1502.78 L676.23 1520.2 L673.889 1517.86 L691.305 1500.44 Z\" fill=\"#000000\" fill-rule=\"evenodd\" fill-opacity=\"1\" /><path clip-path=\"url(#clip210)\" d=\"M668.013 1465.53 L673.218 1470.73 L679.422 1464.53 L681.762 1466.87 L675.559 1473.08 L685.511 1483.03 Q687.753 1485.27 688.997 1485.3 Q690.257 1485.32 692.14 1483.44 L695.233 1480.34 L697.754 1482.86 L694.66 1485.96 Q691.174 1489.44 688.555 1489.48 Q685.92 1489.49 682.482 1486.06 L672.531 1476.1 L670.321 1478.31 L667.98 1475.97 L670.19 1473.76 L664.985 1468.56 L668.013 1465.53 Z\" fill=\"#000000\" fill-rule=\"evenodd\" fill-opacity=\"1\" /><path clip-path=\"url(#clip210)\" d=\"M681.631 1462.32 L684.643 1459.31 L702.713 1469.85 L692.156 1451.8 L695.708 1448.24 L713.778 1458.79 L703.221 1440.73 L706.233 1437.72 L719.769 1460.85 L716.217 1464.4 L697.247 1453.32 L708.311 1472.31 L704.76 1475.86 L681.631 1462.32 Z\" fill=\"#000000\" fill-rule=\"evenodd\" fill-opacity=\"1\" /><path clip-path=\"url(#clip210)\" d=\"M720.015 1428.16 Q717.592 1430.58 718.083 1433.89 Q718.558 1437.18 721.848 1440.47 Q725.138 1443.76 728.428 1444.27 Q731.718 1444.74 734.157 1442.3 Q736.563 1439.9 736.072 1436.59 Q735.581 1433.28 732.307 1430.01 Q729.05 1426.75 725.743 1426.26 Q722.421 1425.76 720.015 1428.16 M717.461 1425.61 Q721.39 1421.68 726.185 1421.99 Q730.981 1422.3 735.499 1426.82 Q740 1431.32 740.327 1436.13 Q740.638 1440.93 736.71 1444.86 Q732.765 1448.8 727.97 1448.49 Q723.174 1448.15 718.672 1443.65 Q714.155 1439.13 713.827 1434.35 Q713.516 1429.55 717.461 1425.61 Z\" fill=\"#000000\" fill-rule=\"evenodd\" fill-opacity=\"1\" /><path clip-path=\"url(#clip210)\" d=\"M755.402 1405.38 L756.876 1406.85 L743.028 1420.7 Q746.335 1423.61 749.641 1423.58 Q752.947 1423.51 755.943 1420.52 Q757.678 1418.78 758.873 1416.74 Q760.084 1414.67 760.837 1412.22 L763.685 1415.07 Q762.752 1417.37 761.41 1419.44 Q760.067 1421.5 758.316 1423.25 Q753.929 1427.64 748.806 1427.65 Q743.699 1427.65 739.345 1423.3 Q734.844 1418.8 734.631 1413.74 Q734.419 1408.65 738.543 1404.53 Q742.243 1400.83 746.776 1401.07 Q751.31 1401.28 755.402 1405.38 M751.507 1407.5 Q749.003 1405.07 746.171 1404.95 Q743.356 1404.82 741.129 1407.05 Q738.609 1409.57 738.511 1412.51 Q738.429 1415.44 740.786 1418.26 L751.507 1407.5 Z\" fill=\"#000000\" fill-rule=\"evenodd\" fill-opacity=\"1\" /><path clip-path=\"url(#clip210)\" d=\"M769.381 1392.81 Q765.731 1396.46 765.158 1398.7 Q764.585 1400.94 766.598 1402.95 Q768.202 1404.56 770.199 1404.46 Q772.196 1404.33 774.013 1402.51 Q776.517 1400.01 776.255 1396.73 Q775.994 1393.43 773.047 1390.48 L772.376 1389.81 L769.381 1392.81 M774.144 1385.56 L784.603 1396.01 L781.591 1399.03 L778.809 1396.24 Q779.447 1398.94 778.711 1401.28 Q777.958 1403.61 775.732 1405.84 Q772.916 1408.65 769.675 1408.75 Q766.435 1408.81 763.783 1406.16 Q760.689 1403.07 761.18 1399.44 Q761.688 1395.79 765.796 1391.68 L770.019 1387.45 L769.725 1387.16 Q767.646 1385.08 765.142 1385.33 Q762.637 1385.54 760.166 1388.01 Q758.594 1389.58 757.481 1391.45 Q756.368 1393.31 755.746 1395.44 L752.964 1392.66 Q753.978 1390.37 755.222 1388.5 Q756.45 1386.62 757.923 1385.15 Q761.901 1381.17 765.927 1381.27 Q769.954 1381.36 774.144 1385.56 Z\" fill=\"#000000\" fill-rule=\"evenodd\" fill-opacity=\"1\" /><path clip-path=\"url(#clip210)\" d=\"M785.913 1363.67 Q785.111 1363.88 784.374 1364.36 Q783.637 1364.8 782.917 1365.52 Q780.364 1368.07 780.658 1371.12 Q780.953 1374.13 784.063 1377.24 L793.72 1386.9 L790.692 1389.93 L772.36 1371.59 L775.388 1368.56 L778.236 1371.41 Q777.516 1368.79 778.236 1366.47 Q778.94 1364.13 781.117 1361.95 Q781.428 1361.64 781.853 1361.31 Q782.263 1360.97 782.803 1360.59 L785.913 1363.67 Z\" fill=\"#000000\" fill-rule=\"evenodd\" fill-opacity=\"1\" /><path clip-path=\"url(#clip210)\" d=\"M808.173 1350.31 L819.238 1361.38 L816.226 1364.39 L805.26 1353.42 Q802.657 1350.82 800.349 1350.54 Q798.041 1350.27 796.012 1352.29 Q793.573 1354.73 793.72 1357.7 Q793.868 1360.66 796.552 1363.34 L806.913 1373.7 L803.885 1376.73 L785.553 1358.4 L788.581 1355.37 L791.429 1358.22 Q790.856 1355.49 791.494 1353.21 Q792.149 1350.92 794.064 1349 Q797.223 1345.85 800.808 1346.19 Q804.376 1346.52 808.173 1350.31 Z\" fill=\"#000000\" fill-rule=\"evenodd\" fill-opacity=\"1\" /><path clip-path=\"url(#clip210)\" d=\"M687.451 1600.26 Q683.801 1603.91 683.229 1606.15 Q682.656 1608.39 684.669 1610.4 Q686.273 1612.01 688.27 1611.91 Q690.267 1611.78 692.084 1609.96 Q694.588 1607.46 694.326 1604.18 Q694.064 1600.88 691.118 1597.93 L690.447 1597.26 L687.451 1600.26 M692.215 1593 L702.674 1603.46 L699.662 1606.48 L696.88 1603.69 Q697.518 1606.39 696.781 1608.73 Q696.028 1611.06 693.802 1613.28 Q690.987 1616.1 687.746 1616.2 Q684.505 1616.26 681.854 1613.61 Q678.76 1610.52 679.251 1606.88 Q679.758 1603.23 683.867 1599.13 L688.09 1594.9 L687.795 1594.61 Q685.716 1592.53 683.212 1592.78 Q680.708 1592.99 678.236 1595.46 Q676.665 1597.03 675.552 1598.9 Q674.439 1600.76 673.817 1602.89 L671.034 1600.11 Q672.049 1597.82 673.293 1595.95 Q674.521 1594.07 675.994 1592.6 Q679.971 1588.62 683.998 1588.72 Q688.024 1588.81 692.215 1593 Z\" fill=\"#000000\" fill-rule=\"evenodd\" fill-opacity=\"1\" /><path clip-path=\"url(#clip210)\" d=\"M711.562 1575.82 Q708.288 1572.54 705.129 1572.1 Q701.986 1571.64 699.548 1574.08 Q697.125 1576.51 697.567 1579.66 Q698.025 1582.81 701.299 1586.08 Q704.556 1589.34 707.699 1589.8 Q710.858 1590.24 713.28 1587.82 Q715.719 1585.38 715.261 1582.23 Q714.819 1579.08 711.562 1575.82 M721.677 1579.91 Q726.359 1584.59 726.555 1588.95 Q726.768 1593.32 722.479 1597.6 Q720.892 1599.19 719.238 1600.35 Q717.602 1601.53 715.785 1602.37 L712.855 1599.44 Q714.901 1598.83 716.538 1597.88 Q718.174 1596.93 719.517 1595.59 Q722.479 1592.63 722.397 1589.6 Q722.332 1586.59 719.206 1583.46 L717.716 1581.97 Q718.404 1584.53 717.749 1586.78 Q717.094 1589.04 715.065 1591.07 Q711.693 1594.45 707.06 1593.94 Q702.428 1593.43 698.189 1589.19 Q693.933 1584.94 693.426 1580.3 Q692.918 1575.67 696.29 1572.3 Q698.32 1570.27 700.579 1569.61 Q702.838 1568.96 705.391 1569.65 L702.608 1566.86 L705.62 1563.85 L721.677 1579.91 Z\" fill=\"#000000\" fill-rule=\"evenodd\" fill-opacity=\"1\" /><path clip-path=\"url(#clip210)\" d=\"M735.918 1550.38 L737.391 1551.86 L723.543 1565.7 Q726.85 1568.62 730.156 1568.58 Q733.462 1568.52 736.458 1565.52 Q738.193 1563.79 739.388 1561.74 Q740.599 1559.68 741.352 1557.22 L744.2 1560.07 Q743.267 1562.38 741.925 1564.44 Q740.582 1566.5 738.831 1568.26 Q734.444 1572.64 729.321 1572.66 Q724.214 1572.66 719.86 1568.31 Q715.359 1563.8 715.146 1558.75 Q714.934 1553.66 719.058 1549.53 Q722.758 1545.83 727.292 1546.08 Q731.825 1546.29 735.918 1550.38 M732.022 1552.51 Q729.518 1550.07 726.686 1549.96 Q723.871 1549.83 721.644 1552.05 Q719.124 1554.57 719.026 1557.52 Q718.944 1560.45 721.301 1563.26 L732.022 1552.51 Z\" fill=\"#000000\" fill-rule=\"evenodd\" fill-opacity=\"1\" /><path clip-path=\"url(#clip210)\" d=\"M770.274 1546.99 L772.615 1549.33 L755.199 1566.75 L752.859 1564.41 L770.274 1546.99 Z\" fill=\"#000000\" fill-rule=\"evenodd\" fill-opacity=\"1\" /><path clip-path=\"url(#clip210)\" d=\"M761.435 1509.12 L764.283 1511.97 Q762.352 1512.59 760.65 1513.64 Q758.947 1514.68 757.474 1516.16 Q755.232 1518.4 754.79 1520.22 Q754.364 1522.02 755.739 1523.39 Q756.787 1524.44 758.195 1524.24 Q759.586 1524.03 762.548 1522.15 L763.809 1521.34 Q767.704 1518.82 770.307 1518.74 Q772.909 1518.63 775.152 1520.87 Q777.705 1523.42 777.165 1526.94 Q776.641 1530.45 773.106 1533.98 Q771.633 1535.45 769.734 1536.76 Q767.868 1538.07 765.527 1539.27 L762.417 1536.16 Q764.955 1535.36 767.017 1534.18 Q769.063 1532.98 770.651 1531.4 Q772.779 1529.27 773.204 1527.4 Q773.613 1525.52 772.287 1524.19 Q771.06 1522.97 769.57 1523.15 Q768.097 1523.31 764.693 1525.5 L763.4 1526.3 Q760.011 1528.51 757.556 1528.55 Q755.085 1528.56 752.957 1526.44 Q750.371 1523.85 750.796 1520.61 Q751.222 1517.37 754.594 1514 Q756.263 1512.33 757.982 1511.1 Q759.7 1509.87 761.435 1509.12 Z\" fill=\"#000000\" fill-rule=\"evenodd\" fill-opacity=\"1\" /><path clip-path=\"url(#clip210)\" d=\"M777.656 1510.18 Q780.979 1513.5 784.236 1514.04 Q787.493 1514.55 789.883 1512.16 Q792.273 1509.77 791.766 1506.52 Q791.242 1503.24 787.919 1499.92 Q784.596 1496.6 781.339 1496.09 Q778.065 1495.57 775.676 1497.95 Q773.286 1500.34 773.81 1503.62 Q774.333 1506.86 777.656 1510.18 M794.319 1506.32 Q795.006 1508.91 794.352 1511.16 Q793.697 1513.39 791.667 1515.42 Q788.345 1518.74 783.598 1518.19 Q778.867 1517.61 774.546 1513.29 Q770.225 1508.97 769.652 1504.24 Q769.096 1499.49 772.418 1496.17 Q774.448 1494.14 776.691 1493.5 Q778.933 1492.83 781.519 1493.52 L778.737 1490.74 L781.748 1487.72 L807.053 1513.03 L804.042 1516.04 L794.319 1506.32 Z\" fill=\"#000000\" fill-rule=\"evenodd\" fill-opacity=\"1\" /><path clip-path=\"url(#clip210)\" d=\"M825.779 1491.49 L828.119 1493.83 L810.703 1511.25 L808.363 1508.91 L825.779 1491.49 Z\" fill=\"#000000\" fill-rule=\"evenodd\" fill-opacity=\"1\" /><path clip-path=\"url(#clip210)\" d=\"M804.713 1464.76 L807.724 1461.75 L826.057 1480.08 L823.045 1483.09 L804.713 1464.76 M797.576 1457.62 L800.588 1454.61 L804.402 1458.43 L801.39 1461.44 L797.576 1457.62 Z\" fill=\"#000000\" fill-rule=\"evenodd\" fill-opacity=\"1\" /><path clip-path=\"url(#clip210)\" d=\"M836.532 1447.48 L847.597 1458.54 L844.585 1461.55 L833.619 1450.59 Q831.016 1447.98 828.708 1447.7 Q826.4 1447.43 824.371 1449.46 Q821.932 1451.9 822.079 1454.86 Q822.227 1457.82 824.911 1460.5 L835.272 1470.87 L832.244 1473.89 L813.912 1455.56 L816.94 1452.53 L819.788 1455.38 Q819.215 1452.65 819.853 1450.37 Q820.508 1448.08 822.423 1446.17 Q825.582 1443.01 829.167 1443.35 Q832.735 1443.68 836.532 1447.48 Z\" fill=\"#000000\" fill-rule=\"evenodd\" fill-opacity=\"1\" /><path clip-path=\"url(#clip210)\" d=\"M849.169 1421.71 L851.984 1424.53 Q850.003 1425.1 848.367 1426.05 Q846.73 1426.97 845.42 1428.28 Q842.49 1431.21 842.736 1434.69 Q842.965 1438.16 846.321 1441.52 Q849.676 1444.87 853.162 1445.12 Q856.632 1445.35 859.562 1442.42 Q860.872 1441.11 861.805 1439.49 Q862.738 1437.83 863.311 1435.85 L866.093 1438.64 Q865.422 1440.49 864.358 1442.14 Q863.311 1443.78 861.788 1445.3 Q857.647 1449.44 852.606 1449.28 Q847.564 1449.11 843.145 1444.69 Q838.66 1440.21 838.546 1435.18 Q838.447 1430.14 842.736 1425.85 Q844.127 1424.46 845.748 1423.43 Q847.352 1422.38 849.169 1421.71 Z\" fill=\"#000000\" fill-rule=\"evenodd\" fill-opacity=\"1\" /><path clip-path=\"url(#clip210)\" d=\"M891.529 1425.74 L893.87 1428.08 L876.454 1445.5 L874.114 1443.15 L891.529 1425.74 Z\" fill=\"#000000\" fill-rule=\"evenodd\" fill-opacity=\"1\" /><path clip-path=\"url(#clip210)\" d=\"M884.36 1386.52 L887.175 1389.34 Q885.195 1389.91 883.558 1390.86 Q881.921 1391.77 880.612 1393.08 Q877.682 1396.01 877.927 1399.5 Q878.157 1402.97 881.512 1406.33 Q884.867 1409.68 888.354 1409.93 Q891.824 1410.16 894.754 1407.23 Q896.063 1405.92 896.996 1404.3 Q897.929 1402.64 898.502 1400.66 L901.285 1403.45 Q900.614 1405.29 899.55 1406.95 Q898.502 1408.58 896.98 1410.11 Q892.839 1414.25 887.797 1414.08 Q882.756 1413.92 878.337 1409.5 Q873.852 1405.02 873.737 1399.99 Q873.639 1394.95 877.927 1390.66 Q879.319 1389.27 880.939 1388.24 Q882.543 1387.19 884.36 1386.52 Z\" fill=\"#000000\" fill-rule=\"evenodd\" fill-opacity=\"1\" /><path clip-path=\"url(#clip210)\" d=\"M899.681 1391.99 L888.583 1380.89 L891.595 1377.88 L902.578 1388.86 Q905.18 1391.46 907.505 1391.76 Q909.812 1392.04 911.842 1390.01 Q914.281 1387.57 914.134 1384.61 Q914.003 1381.63 911.318 1378.94 L900.925 1368.55 L903.936 1365.54 L922.269 1383.87 L919.257 1386.88 L916.442 1384.07 Q917.014 1386.83 916.376 1389.11 Q915.738 1391.35 913.823 1393.26 Q910.664 1396.42 907.063 1396.1 Q903.462 1395.77 899.681 1391.99 M895.72 1372.87 L895.72 1372.87 Z\" fill=\"#000000\" fill-rule=\"evenodd\" fill-opacity=\"1\" /><path clip-path=\"url(#clip210)\" d=\"M932.482 1355.36 Q929.16 1352.03 925.902 1351.53 Q922.645 1350.99 920.255 1353.38 Q917.866 1355.77 918.389 1359.04 Q918.913 1362.28 922.236 1365.6 Q925.559 1368.92 928.816 1369.47 Q932.073 1369.97 934.463 1367.58 Q936.853 1365.19 936.329 1361.95 Q935.805 1358.68 932.482 1355.36 M915.836 1359.2 Q915.148 1356.62 915.803 1354.39 Q916.458 1352.13 918.471 1350.12 Q921.81 1346.78 926.541 1347.35 Q931.287 1347.91 935.609 1352.23 Q939.93 1356.55 940.486 1361.3 Q941.059 1366.03 937.72 1369.37 Q935.707 1371.38 933.464 1372.05 Q931.222 1372.69 928.636 1372 L931.386 1374.75 L928.358 1377.78 L902.889 1352.31 L905.917 1349.28 L915.836 1359.2 Z\" fill=\"#000000\" fill-rule=\"evenodd\" fill-opacity=\"1\" /><path clip-path=\"url(#clip210)\" d=\"M796.735 1598.26 L799.746 1595.25 L818.079 1613.58 L815.067 1616.59 L796.735 1598.26 M789.598 1591.12 L792.61 1588.11 L796.424 1591.92 L793.412 1594.94 L789.598 1591.12 Z\" fill=\"#000000\" fill-rule=\"evenodd\" fill-opacity=\"1\" /><path clip-path=\"url(#clip210)\" d=\"M828.554 1580.97 L839.619 1592.04 L836.607 1595.05 L825.641 1584.08 Q823.038 1581.48 820.73 1581.2 Q818.422 1580.92 816.393 1582.95 Q813.954 1585.39 814.101 1588.36 Q814.248 1591.32 816.933 1594 L827.294 1604.36 L824.266 1607.39 L805.933 1589.06 L808.962 1586.03 L811.81 1588.88 Q811.237 1586.15 811.875 1583.87 Q812.53 1581.58 814.445 1579.66 Q817.604 1576.51 821.189 1576.85 Q824.757 1577.18 828.554 1580.97 Z\" fill=\"#000000\" fill-rule=\"evenodd\" fill-opacity=\"1\" /><path clip-path=\"url(#clip210)\" d=\"M841.19 1555.21 L844.006 1558.03 Q842.025 1558.6 840.388 1559.55 Q838.752 1560.46 837.442 1561.77 Q834.512 1564.7 834.758 1568.19 Q834.987 1571.66 838.342 1575.02 Q841.698 1578.37 845.184 1578.62 Q848.654 1578.85 851.584 1575.92 Q852.894 1574.61 853.827 1572.99 Q854.76 1571.33 855.332 1569.35 L858.115 1572.14 Q857.444 1573.98 856.38 1575.64 Q855.332 1577.27 853.81 1578.8 Q849.669 1582.94 844.628 1582.77 Q839.586 1582.61 835.167 1578.19 Q830.682 1573.71 830.567 1568.68 Q830.469 1563.64 834.758 1559.35 Q836.149 1557.96 837.769 1556.93 Q839.374 1555.88 841.19 1555.21 Z\" fill=\"#000000\" fill-rule=\"evenodd\" fill-opacity=\"1\" /><path clip-path=\"url(#clip210)\" d=\"M883.551 1559.24 L885.892 1561.58 L868.476 1578.99 L866.135 1576.65 L883.551 1559.24 Z\" fill=\"#000000\" fill-rule=\"evenodd\" fill-opacity=\"1\" /><path clip-path=\"url(#clip210)\" d=\"M876.382 1520.02 L879.197 1522.83 Q877.217 1523.41 875.58 1524.36 Q873.943 1525.27 872.634 1526.58 Q869.704 1529.51 869.949 1533 Q870.178 1536.47 873.534 1539.82 Q876.889 1543.18 880.376 1543.43 Q883.846 1543.65 886.776 1540.72 Q888.085 1539.42 889.018 1537.79 Q889.951 1536.14 890.524 1534.16 L893.306 1536.94 Q892.635 1538.79 891.571 1540.45 Q890.524 1542.08 889.002 1543.61 Q884.861 1547.75 879.819 1547.58 Q874.778 1547.42 870.358 1543 Q865.874 1538.52 865.759 1533.49 Q865.661 1528.45 869.949 1524.16 Q871.34 1522.77 872.961 1521.74 Q874.565 1520.69 876.382 1520.02 Z\" fill=\"#000000\" fill-rule=\"evenodd\" fill-opacity=\"1\" /><path clip-path=\"url(#clip210)\" d=\"M891.702 1525.49 L880.605 1514.39 L883.617 1511.38 L894.6 1522.36 Q897.202 1524.96 899.526 1525.26 Q901.834 1525.54 903.864 1523.51 Q906.303 1521.07 906.155 1518.1 Q906.025 1515.13 903.34 1512.44 L892.946 1502.05 L895.958 1499.04 L914.29 1517.37 L911.279 1520.38 L908.463 1517.56 Q909.036 1520.33 908.398 1522.61 Q907.76 1524.85 905.844 1526.76 Q902.685 1529.92 899.084 1529.59 Q895.483 1529.27 891.702 1525.49 M887.741 1506.37 L887.741 1506.37 Z\" fill=\"#000000\" fill-rule=\"evenodd\" fill-opacity=\"1\" /><path clip-path=\"url(#clip210)\" d=\"M924.504 1488.85 Q921.181 1485.53 917.924 1485.02 Q914.667 1484.48 912.277 1486.87 Q909.887 1489.26 910.411 1492.54 Q910.935 1495.78 914.258 1499.1 Q917.58 1502.42 920.838 1502.96 Q924.095 1503.47 926.485 1501.08 Q928.874 1498.69 928.351 1495.45 Q927.827 1492.18 924.504 1488.85 M907.858 1492.7 Q907.17 1490.11 907.825 1487.89 Q908.48 1485.63 910.493 1483.62 Q913.832 1480.28 918.562 1480.85 Q923.309 1481.41 927.63 1485.73 Q931.952 1490.05 932.508 1494.8 Q933.081 1499.53 929.742 1502.87 Q927.729 1504.88 925.486 1505.55 Q923.244 1506.19 920.658 1505.5 L923.407 1508.25 L920.379 1511.28 L894.911 1485.81 L897.939 1482.78 L907.858 1492.7 Z\" fill=\"#000000\" fill-rule=\"evenodd\" fill-opacity=\"1\" /><path clip-path=\"url(#clip210)\" d=\"M961.267 1481.52 L963.608 1483.86 L946.192 1501.28 L943.851 1498.94 L961.267 1481.52 Z\" fill=\"#000000\" fill-rule=\"evenodd\" fill-opacity=\"1\" /><path clip-path=\"url(#clip210)\" d=\"M957.65 1455.58 Q953.999 1459.23 953.427 1461.47 Q952.854 1463.71 954.867 1465.73 Q956.471 1467.33 958.468 1467.23 Q960.465 1467.1 962.282 1465.28 Q964.786 1462.78 964.524 1459.51 Q964.262 1456.2 961.316 1453.25 L960.645 1452.58 L957.65 1455.58 M962.413 1448.33 L972.872 1458.79 L969.86 1461.8 L967.078 1459.02 Q967.716 1461.72 966.979 1464.06 Q966.226 1466.38 964 1468.61 Q961.185 1471.42 957.944 1471.52 Q954.703 1471.59 952.052 1468.93 Q948.958 1465.84 949.449 1462.21 Q949.957 1458.56 954.065 1454.45 L958.288 1450.23 L957.993 1449.93 Q955.915 1447.85 953.41 1448.1 Q950.906 1448.31 948.434 1450.78 Q946.863 1452.35 945.75 1454.22 Q944.637 1456.09 944.015 1458.21 L941.232 1455.43 Q942.247 1453.14 943.491 1451.27 Q944.719 1449.39 946.192 1447.92 Q950.169 1443.94 954.196 1444.04 Q958.222 1444.14 962.413 1448.33 Z\" fill=\"#000000\" fill-rule=\"evenodd\" fill-opacity=\"1\" /><path clip-path=\"url(#clip210)\" d=\"M981.76 1431.14 Q978.486 1427.87 975.327 1427.42 Q972.184 1426.97 969.746 1429.41 Q967.323 1431.83 967.765 1434.99 Q968.223 1438.13 971.497 1441.4 Q974.754 1444.66 977.897 1445.12 Q981.056 1445.56 983.478 1443.14 Q985.917 1440.7 985.459 1437.56 Q985.017 1434.4 981.76 1431.14 M991.875 1435.23 Q996.557 1439.91 996.753 1444.27 Q996.966 1448.64 992.677 1452.93 Q991.09 1454.51 989.436 1455.68 Q987.8 1456.85 985.983 1457.69 L983.053 1454.76 Q985.099 1454.15 986.736 1453.2 Q988.373 1452.26 989.715 1450.91 Q992.677 1447.95 992.596 1444.92 Q992.53 1441.91 989.404 1438.78 L987.914 1437.29 Q988.602 1439.85 987.947 1442.11 Q987.292 1444.37 985.263 1446.4 Q981.891 1449.77 977.259 1449.26 Q972.626 1448.75 968.387 1444.51 Q964.131 1440.26 963.624 1435.63 Q963.117 1430.99 966.488 1427.62 Q968.518 1425.59 970.777 1424.94 Q973.036 1424.28 975.589 1424.97 L972.806 1422.19 L975.818 1419.18 L991.875 1435.23 Z\" fill=\"#000000\" fill-rule=\"evenodd\" fill-opacity=\"1\" /><path clip-path=\"url(#clip210)\" d=\"M1006.12 1405.7 L1007.59 1407.18 L993.741 1421.02 Q997.048 1423.94 1000.35 1423.91 Q1003.66 1423.84 1006.66 1420.84 Q1008.39 1419.11 1009.59 1417.06 Q1010.8 1415 1011.55 1412.55 L1014.4 1415.39 Q1013.46 1417.7 1012.12 1419.76 Q1010.78 1421.83 1009.03 1423.58 Q1004.64 1427.96 999.519 1427.98 Q994.412 1427.98 990.058 1423.63 Q985.557 1419.13 985.344 1414.07 Q985.132 1408.98 989.256 1404.85 Q992.956 1401.15 997.49 1401.4 Q1002.02 1401.61 1006.12 1405.7 M1002.22 1407.83 Q999.716 1405.39 996.884 1405.28 Q994.069 1405.15 991.843 1407.37 Q989.322 1409.89 989.224 1412.84 Q989.142 1415.77 991.499 1418.59 L1002.22 1407.83 Z\" fill=\"#000000\" fill-rule=\"evenodd\" fill-opacity=\"1\" /><path clip-path=\"url(#clip210)\" d=\"M1040.47 1402.32 L1042.81 1404.66 L1025.4 1422.07 L1023.06 1419.73 L1040.47 1402.32 Z\" fill=\"#000000\" fill-rule=\"evenodd\" fill-opacity=\"1\" /><path clip-path=\"url(#clip210)\" d=\"M1031.63 1364.44 L1034.48 1367.29 Q1032.55 1367.91 1030.85 1368.96 Q1029.15 1370.01 1027.67 1371.48 Q1025.43 1373.72 1024.99 1375.54 Q1024.56 1377.34 1025.94 1378.71 Q1026.98 1379.76 1028.39 1379.56 Q1029.78 1379.35 1032.75 1377.47 L1034.01 1376.67 Q1037.9 1374.15 1040.51 1374.06 Q1043.11 1373.95 1045.35 1376.19 Q1047.9 1378.75 1047.36 1382.27 Q1046.84 1385.77 1043.3 1389.3 Q1041.83 1390.78 1039.93 1392.09 Q1038.07 1393.4 1035.73 1394.59 L1032.62 1391.48 Q1035.15 1390.68 1037.22 1389.5 Q1039.26 1388.3 1040.85 1386.72 Q1042.98 1384.59 1043.4 1382.72 Q1043.81 1380.84 1042.49 1379.52 Q1041.26 1378.29 1039.77 1378.47 Q1038.3 1378.63 1034.89 1380.82 L1033.6 1381.63 Q1030.21 1383.84 1027.75 1383.87 Q1025.28 1383.89 1023.15 1381.76 Q1020.57 1379.17 1020.99 1375.93 Q1021.42 1372.69 1024.79 1369.32 Q1026.46 1367.65 1028.18 1366.42 Q1029.9 1365.19 1031.63 1364.44 Z\" fill=\"#000000\" fill-rule=\"evenodd\" fill-opacity=\"1\" /><path clip-path=\"url(#clip210)\" d=\"M1047.85 1365.5 Q1051.18 1368.83 1054.43 1369.37 Q1057.69 1369.87 1060.08 1367.48 Q1062.47 1365.09 1061.96 1361.84 Q1061.44 1358.56 1058.12 1355.24 Q1054.79 1351.92 1051.54 1351.41 Q1048.26 1350.89 1045.87 1353.28 Q1043.48 1355.67 1044.01 1358.94 Q1044.53 1362.18 1047.85 1365.5 M1064.52 1361.64 Q1065.2 1364.23 1064.55 1366.49 Q1063.9 1368.71 1061.87 1370.74 Q1058.54 1374.06 1053.8 1373.51 Q1049.07 1372.94 1044.74 1368.61 Q1040.42 1364.29 1039.85 1359.56 Q1039.29 1354.82 1042.62 1351.49 Q1044.65 1349.46 1046.89 1348.82 Q1049.13 1348.15 1051.72 1348.84 L1048.93 1346.06 L1051.95 1343.05 L1077.25 1368.35 L1074.24 1371.36 L1064.52 1361.64 Z\" fill=\"#000000\" fill-rule=\"evenodd\" fill-opacity=\"1\" /><path clip-path=\"url(#clip210)\" d=\"M993.996 1544.75 Q990.346 1548.4 989.773 1550.64 Q989.2 1552.89 991.214 1554.9 Q992.818 1556.5 994.815 1556.41 Q996.812 1556.27 998.628 1554.46 Q1001.13 1551.95 1000.87 1548.68 Q1000.61 1545.37 997.663 1542.43 L996.992 1541.76 L993.996 1544.75 M998.759 1537.5 L1009.22 1547.96 L1006.21 1550.97 L1003.42 1548.19 Q1004.06 1550.89 1003.33 1553.23 Q1002.57 1555.55 1000.35 1557.78 Q997.532 1560.6 994.291 1560.69 Q991.05 1560.76 988.398 1558.11 Q985.305 1555.01 985.796 1551.38 Q986.303 1547.73 990.412 1543.62 L994.635 1539.4 L994.34 1539.1 Q992.261 1537.03 989.757 1537.27 Q987.253 1537.48 984.781 1539.96 Q983.21 1541.53 982.097 1543.39 Q980.984 1545.26 980.362 1547.39 L977.579 1544.6 Q978.594 1542.31 979.838 1540.45 Q981.065 1538.56 982.539 1537.09 Q986.516 1533.11 990.543 1533.21 Q994.569 1533.31 998.759 1537.5 Z\" fill=\"#000000\" fill-rule=\"evenodd\" fill-opacity=\"1\" /><path clip-path=\"url(#clip210)\" d=\"M1018.11 1520.31 Q1014.83 1517.04 1011.67 1516.6 Q1008.53 1516.14 1006.09 1518.58 Q1003.67 1521 1004.11 1524.16 Q1004.57 1527.3 1007.84 1530.58 Q1011.1 1533.83 1014.24 1534.29 Q1017.4 1534.73 1019.83 1532.31 Q1022.26 1529.87 1021.81 1526.73 Q1021.36 1523.57 1018.11 1520.31 M1028.22 1524.41 Q1032.9 1529.09 1033.1 1533.44 Q1033.31 1537.81 1029.02 1542.1 Q1027.44 1543.69 1025.78 1544.85 Q1024.15 1546.03 1022.33 1546.86 L1019.4 1543.93 Q1021.45 1543.33 1023.08 1542.38 Q1024.72 1541.43 1026.06 1540.09 Q1029.02 1537.12 1028.94 1534.1 Q1028.88 1531.08 1025.75 1527.96 L1024.26 1526.47 Q1024.95 1529.02 1024.29 1531.28 Q1023.64 1533.54 1021.61 1535.57 Q1018.24 1538.94 1013.61 1538.43 Q1008.97 1537.93 1004.73 1533.69 Q1000.48 1529.43 999.971 1524.8 Q999.463 1520.17 1002.84 1516.79 Q1004.86 1514.76 1007.12 1514.11 Q1009.38 1513.46 1011.94 1514.14 L1009.15 1511.36 L1012.16 1508.35 L1028.22 1524.41 Z\" fill=\"#000000\" fill-rule=\"evenodd\" fill-opacity=\"1\" /><path clip-path=\"url(#clip210)\" d=\"M1042.46 1494.88 L1043.94 1496.35 L1030.09 1510.2 Q1033.39 1513.11 1036.7 1513.08 Q1040.01 1513.01 1043 1510.02 Q1044.74 1508.28 1045.93 1506.24 Q1047.14 1504.17 1047.9 1501.72 L1050.74 1504.57 Q1049.81 1506.88 1048.47 1508.94 Q1047.13 1511 1045.38 1512.75 Q1040.99 1517.14 1035.87 1517.15 Q1030.76 1517.15 1026.41 1512.8 Q1021.9 1508.3 1021.69 1503.24 Q1021.48 1498.15 1025.6 1494.03 Q1029.3 1490.33 1033.84 1490.57 Q1038.37 1490.79 1042.46 1494.88 M1038.57 1497.01 Q1036.06 1494.57 1033.23 1494.45 Q1030.42 1494.32 1028.19 1496.55 Q1025.67 1499.07 1025.57 1502.01 Q1025.49 1504.94 1027.85 1507.76 L1038.57 1497.01 Z\" fill=\"#000000\" fill-rule=\"evenodd\" fill-opacity=\"1\" /><path clip-path=\"url(#clip210)\" d=\"M1076.82 1491.49 L1079.16 1493.83 L1061.74 1511.25 L1059.4 1508.91 L1076.82 1491.49 Z\" fill=\"#000000\" fill-rule=\"evenodd\" fill-opacity=\"1\" /><path clip-path=\"url(#clip210)\" d=\"M1055.75 1464.76 L1058.76 1461.75 L1077.1 1480.08 L1074.09 1483.09 L1055.75 1464.76 M1048.62 1457.62 L1051.63 1454.61 L1055.44 1458.43 L1052.43 1461.44 L1048.62 1457.62 Z\" fill=\"#000000\" fill-rule=\"evenodd\" fill-opacity=\"1\" /><path clip-path=\"url(#clip210)\" d=\"M1087.57 1447.48 L1098.64 1458.54 L1095.63 1461.55 L1084.66 1450.59 Q1082.06 1447.98 1079.75 1447.7 Q1077.44 1447.43 1075.41 1449.46 Q1072.97 1451.9 1073.12 1454.86 Q1073.27 1457.82 1075.95 1460.5 L1086.31 1470.87 L1083.28 1473.89 L1064.95 1455.56 L1067.98 1452.53 L1070.83 1455.38 Q1070.26 1452.65 1070.89 1450.37 Q1071.55 1448.08 1073.46 1446.17 Q1076.62 1443.01 1080.21 1443.35 Q1083.78 1443.68 1087.57 1447.48 Z\" fill=\"#000000\" fill-rule=\"evenodd\" fill-opacity=\"1\" /><path clip-path=\"url(#clip210)\" d=\"M1100.21 1421.71 L1103.02 1424.53 Q1101.04 1425.1 1099.41 1426.05 Q1097.77 1426.97 1096.46 1428.28 Q1093.53 1431.21 1093.78 1434.69 Q1094.01 1438.16 1097.36 1441.52 Q1100.72 1444.87 1104.2 1445.12 Q1107.67 1445.35 1110.6 1442.42 Q1111.91 1441.11 1112.85 1439.49 Q1113.78 1437.83 1114.35 1435.85 L1117.13 1438.64 Q1116.46 1440.49 1115.4 1442.14 Q1114.35 1443.78 1112.83 1445.3 Q1108.69 1449.44 1103.65 1449.28 Q1098.6 1449.11 1094.19 1444.69 Q1089.7 1440.21 1089.59 1435.18 Q1089.49 1430.14 1093.78 1425.85 Q1095.17 1424.46 1096.79 1423.43 Q1098.39 1422.38 1100.21 1421.71 Z\" fill=\"#000000\" fill-rule=\"evenodd\" fill-opacity=\"1\" /><path clip-path=\"url(#clip210)\" d=\"M1142.57 1425.74 L1144.91 1428.08 L1127.49 1445.5 L1125.15 1443.15 L1142.57 1425.74 Z\" fill=\"#000000\" fill-rule=\"evenodd\" fill-opacity=\"1\" /><path clip-path=\"url(#clip210)\" d=\"M1135.4 1386.52 L1138.22 1389.34 Q1136.24 1389.91 1134.6 1390.86 Q1132.96 1391.77 1131.65 1393.08 Q1128.72 1396.01 1128.97 1399.5 Q1129.2 1402.97 1132.55 1406.33 Q1135.91 1409.68 1139.39 1409.93 Q1142.86 1410.16 1145.79 1407.23 Q1147.1 1405.92 1148.04 1404.3 Q1148.97 1402.64 1149.54 1400.66 L1152.33 1403.45 Q1151.65 1405.29 1150.59 1406.95 Q1149.54 1408.58 1148.02 1410.11 Q1143.88 1414.25 1138.84 1414.08 Q1133.8 1413.92 1129.38 1409.5 Q1124.89 1405.02 1124.78 1399.99 Q1124.68 1394.95 1128.97 1390.66 Q1130.36 1389.27 1131.98 1388.24 Q1133.58 1387.19 1135.4 1386.52 Z\" fill=\"#000000\" fill-rule=\"evenodd\" fill-opacity=\"1\" /><path clip-path=\"url(#clip210)\" d=\"M1150.72 1391.99 L1139.62 1380.89 L1142.64 1377.88 L1153.62 1388.86 Q1156.22 1391.46 1158.55 1391.76 Q1160.85 1392.04 1162.88 1390.01 Q1165.32 1387.57 1165.17 1384.61 Q1165.04 1381.63 1162.36 1378.94 L1151.97 1368.55 L1154.98 1365.54 L1173.31 1383.87 L1170.3 1386.88 L1167.48 1384.07 Q1168.05 1386.83 1167.42 1389.11 Q1166.78 1391.35 1164.86 1393.26 Q1161.7 1396.42 1158.1 1396.1 Q1154.5 1395.77 1150.72 1391.99 M1146.76 1372.87 L1146.76 1372.87 Z\" fill=\"#000000\" fill-rule=\"evenodd\" fill-opacity=\"1\" /><path clip-path=\"url(#clip210)\" d=\"M1183.52 1355.36 Q1180.2 1352.03 1176.94 1351.53 Q1173.69 1350.99 1171.3 1353.38 Q1168.91 1355.77 1169.43 1359.04 Q1169.95 1362.28 1173.28 1365.6 Q1176.6 1368.92 1179.86 1369.47 Q1183.11 1369.97 1185.5 1367.58 Q1187.89 1365.19 1187.37 1361.95 Q1186.85 1358.68 1183.52 1355.36 M1166.88 1359.2 Q1166.19 1356.62 1166.84 1354.39 Q1167.5 1352.13 1169.51 1350.12 Q1172.85 1346.78 1177.58 1347.35 Q1182.33 1347.91 1186.65 1352.23 Q1190.97 1356.55 1191.53 1361.3 Q1192.1 1366.03 1188.76 1369.37 Q1186.75 1371.38 1184.5 1372.05 Q1182.26 1372.69 1179.68 1372 L1182.43 1374.75 L1179.4 1377.78 L1153.93 1352.31 L1156.96 1349.28 L1166.88 1359.2 Z\" fill=\"#000000\" fill-rule=\"evenodd\" fill-opacity=\"1\" /><path clip-path=\"url(#clip210)\" d=\"M1102.02 1544.01 L1105.03 1541 L1123.36 1559.34 L1120.35 1562.35 L1102.02 1544.01 M1094.88 1536.88 L1097.89 1533.87 L1101.71 1537.68 L1098.7 1540.69 L1094.88 1536.88 Z\" fill=\"#000000\" fill-rule=\"evenodd\" fill-opacity=\"1\" /><path clip-path=\"url(#clip210)\" d=\"M1133.84 1526.73 L1144.9 1537.79 L1141.89 1540.81 L1130.93 1529.84 Q1128.32 1527.24 1126.01 1526.96 Q1123.71 1526.68 1121.68 1528.71 Q1119.24 1531.15 1119.39 1534.11 Q1119.53 1537.07 1122.22 1539.76 L1132.58 1550.12 L1129.55 1553.15 L1111.22 1534.82 L1114.25 1531.79 L1117.09 1534.64 Q1116.52 1531.9 1117.16 1529.63 Q1117.81 1527.34 1119.73 1525.42 Q1122.89 1522.26 1126.47 1522.61 Q1130.04 1522.93 1133.84 1526.73 Z\" fill=\"#000000\" fill-rule=\"evenodd\" fill-opacity=\"1\" /><path clip-path=\"url(#clip210)\" d=\"M1146.47 1500.97 L1149.29 1503.78 Q1147.31 1504.35 1145.67 1505.3 Q1144.04 1506.22 1142.73 1507.53 Q1139.8 1510.46 1140.04 1513.95 Q1140.27 1517.42 1143.63 1520.77 Q1146.98 1524.13 1150.47 1524.37 Q1153.94 1524.6 1156.87 1521.67 Q1158.18 1520.36 1159.11 1518.74 Q1160.04 1517.09 1160.62 1515.11 L1163.4 1517.89 Q1162.73 1519.74 1161.66 1521.39 Q1160.62 1523.03 1159.09 1524.55 Q1154.95 1528.69 1149.91 1528.53 Q1144.87 1528.37 1140.45 1523.95 Q1135.97 1519.46 1135.85 1514.44 Q1135.75 1509.4 1140.04 1505.11 Q1141.43 1503.72 1143.05 1502.69 Q1144.66 1501.64 1146.47 1500.97 Z\" fill=\"#000000\" fill-rule=\"evenodd\" fill-opacity=\"1\" /><path clip-path=\"url(#clip210)\" d=\"M1188.84 1504.99 L1191.18 1507.33 L1173.76 1524.75 L1171.42 1522.41 L1188.84 1504.99 Z\" fill=\"#000000\" fill-rule=\"evenodd\" fill-opacity=\"1\" /><path clip-path=\"url(#clip210)\" d=\"M1181.67 1465.78 L1184.48 1468.59 Q1182.5 1469.16 1180.86 1470.11 Q1179.23 1471.03 1177.92 1472.34 Q1174.99 1475.27 1175.23 1478.76 Q1175.46 1482.23 1178.82 1485.58 Q1182.17 1488.94 1185.66 1489.18 Q1189.13 1489.41 1192.06 1486.48 Q1193.37 1485.17 1194.3 1483.55 Q1195.24 1481.9 1195.81 1479.92 L1198.59 1482.7 Q1197.92 1484.55 1196.86 1486.2 Q1195.81 1487.84 1194.29 1489.36 Q1190.14 1493.5 1185.1 1493.34 Q1180.06 1493.18 1175.64 1488.76 Q1171.16 1484.27 1171.04 1479.25 Q1170.95 1474.2 1175.23 1469.92 Q1176.62 1468.53 1178.25 1467.49 Q1179.85 1466.45 1181.67 1465.78 Z\" fill=\"#000000\" fill-rule=\"evenodd\" fill-opacity=\"1\" /><path clip-path=\"url(#clip210)\" d=\"M1196.99 1471.24 L1185.89 1460.14 L1188.9 1457.13 L1199.88 1468.12 Q1202.49 1470.72 1204.81 1471.01 Q1207.12 1471.29 1209.15 1469.26 Q1211.59 1466.82 1211.44 1463.86 Q1211.31 1460.88 1208.62 1458.2 L1198.23 1447.8 L1201.24 1444.79 L1219.57 1463.12 L1216.56 1466.14 L1213.75 1463.32 Q1214.32 1466.09 1213.68 1468.36 Q1213.04 1470.6 1211.13 1472.52 Q1207.97 1475.68 1204.37 1475.35 Q1200.77 1475.02 1196.99 1471.24 M1193.03 1452.12 L1193.03 1452.12 Z\" fill=\"#000000\" fill-rule=\"evenodd\" fill-opacity=\"1\" /><path clip-path=\"url(#clip210)\" d=\"M1229.79 1434.61 Q1226.47 1431.29 1223.21 1430.78 Q1219.95 1430.24 1217.56 1432.63 Q1215.17 1435.02 1215.7 1438.29 Q1216.22 1441.53 1219.54 1444.86 Q1222.86 1448.18 1226.12 1448.72 Q1229.38 1449.23 1231.77 1446.84 Q1234.16 1444.45 1233.64 1441.21 Q1233.11 1437.93 1229.79 1434.61 M1213.14 1438.46 Q1212.45 1435.87 1213.11 1433.64 Q1213.76 1431.39 1215.78 1429.37 Q1219.12 1426.03 1223.85 1426.61 Q1228.59 1427.16 1232.91 1431.48 Q1237.24 1435.81 1237.79 1440.55 Q1238.37 1445.28 1235.03 1448.62 Q1233.01 1450.63 1230.77 1451.31 Q1228.53 1451.94 1225.94 1451.26 L1228.69 1454.01 L1225.66 1457.03 L1200.19 1431.57 L1203.22 1428.54 L1213.14 1438.46 Z\" fill=\"#000000\" fill-rule=\"evenodd\" fill-opacity=\"1\" /><path clip-path=\"url(#clip210)\" d=\"M1266.55 1427.28 L1268.89 1429.62 L1251.48 1447.03 L1249.14 1444.69 L1266.55 1427.28 Z\" fill=\"#000000\" fill-rule=\"evenodd\" fill-opacity=\"1\" /><path clip-path=\"url(#clip210)\" d=\"M1262.93 1401.33 Q1259.28 1404.98 1258.71 1407.23 Q1258.14 1409.47 1260.15 1411.48 Q1261.76 1413.09 1263.75 1412.99 Q1265.75 1412.86 1267.57 1411.04 Q1270.07 1408.54 1269.81 1405.26 Q1269.55 1401.96 1266.6 1399.01 L1265.93 1398.34 L1262.93 1401.33 M1267.7 1394.08 L1278.16 1404.54 L1275.14 1407.55 L1272.36 1404.77 Q1273 1407.47 1272.26 1409.81 Q1271.51 1412.14 1269.28 1414.36 Q1266.47 1417.18 1263.23 1417.28 Q1259.99 1417.34 1257.34 1414.69 Q1254.24 1411.6 1254.73 1407.96 Q1255.24 1404.31 1259.35 1400.2 L1263.57 1395.98 L1263.28 1395.69 Q1261.2 1393.61 1258.69 1393.85 Q1256.19 1394.07 1253.72 1396.54 Q1252.15 1398.11 1251.03 1399.98 Q1249.92 1401.84 1249.3 1403.97 L1246.52 1401.19 Q1247.53 1398.9 1248.78 1397.03 Q1250 1395.15 1251.48 1393.67 Q1255.45 1389.7 1259.48 1389.79 Q1263.51 1389.89 1267.7 1394.08 Z\" fill=\"#000000\" fill-rule=\"evenodd\" fill-opacity=\"1\" /><path clip-path=\"url(#clip210)\" d=\"M1287.04 1376.9 Q1283.77 1373.62 1280.61 1373.18 Q1277.47 1372.72 1275.03 1375.16 Q1272.61 1377.58 1273.05 1380.74 Q1273.51 1383.89 1276.78 1387.16 Q1280.04 1390.42 1283.18 1390.87 Q1286.34 1391.32 1288.76 1388.89 Q1291.2 1386.46 1290.74 1383.31 Q1290.3 1380.15 1287.04 1376.9 M1297.16 1380.99 Q1301.84 1385.67 1302.04 1390.02 Q1302.25 1394.39 1297.96 1398.68 Q1296.37 1400.27 1294.72 1401.43 Q1293.08 1402.61 1291.27 1403.45 L1288.34 1400.52 Q1290.38 1399.91 1292.02 1398.96 Q1293.66 1398.01 1295 1396.67 Q1297.96 1393.71 1297.88 1390.68 Q1297.81 1387.67 1294.69 1384.54 L1293.2 1383.05 Q1293.89 1385.6 1293.23 1387.86 Q1292.58 1390.12 1290.55 1392.15 Q1287.18 1395.52 1282.54 1395.02 Q1277.91 1394.51 1273.67 1390.27 Q1269.42 1386.01 1268.91 1381.38 Q1268.4 1376.75 1271.77 1373.38 Q1273.8 1371.35 1276.06 1370.69 Q1278.32 1370.04 1280.87 1370.73 L1278.09 1367.94 L1281.1 1364.93 L1297.16 1380.99 Z\" fill=\"#000000\" fill-rule=\"evenodd\" fill-opacity=\"1\" /><path clip-path=\"url(#clip210)\" d=\"M1311.4 1351.46 L1312.87 1352.93 L1299.03 1366.78 Q1302.33 1369.69 1305.64 1369.66 Q1308.94 1369.6 1311.94 1366.6 Q1313.68 1364.87 1314.87 1362.82 Q1316.08 1360.76 1316.83 1358.3 L1319.68 1361.15 Q1318.75 1363.46 1317.41 1365.52 Q1316.06 1367.58 1314.31 1369.33 Q1309.93 1373.72 1304.8 1373.74 Q1299.7 1373.74 1295.34 1369.38 Q1290.84 1364.88 1290.63 1359.82 Q1290.42 1354.73 1294.54 1350.61 Q1298.24 1346.91 1302.77 1347.16 Q1307.31 1347.37 1311.4 1351.46 M1307.5 1353.59 Q1305 1351.15 1302.17 1351.03 Q1299.35 1350.9 1297.13 1353.13 Q1294.61 1355.65 1294.51 1358.6 Q1294.43 1361.53 1296.78 1364.34 L1307.5 1353.59 Z\" fill=\"#000000\" fill-rule=\"evenodd\" fill-opacity=\"1\" /><path clip-path=\"url(#clip210)\" d=\"M1174.56 1586.59 L1179.76 1591.79 L1185.96 1585.59 L1188.3 1587.93 L1182.1 1594.13 L1192.05 1604.09 Q1194.3 1606.33 1195.54 1606.36 Q1196.8 1606.38 1198.68 1604.5 L1201.78 1601.4 L1204.3 1603.92 L1201.2 1607.02 Q1197.72 1610.5 1195.1 1610.53 Q1192.46 1610.55 1189.03 1607.11 L1179.07 1597.16 L1176.86 1599.37 L1174.52 1597.03 L1176.73 1594.82 L1171.53 1589.62 L1174.56 1586.59 Z\" fill=\"#000000\" fill-rule=\"evenodd\" fill-opacity=\"1\" /><path clip-path=\"url(#clip210)\" d=\"M1188.17 1583.38 L1191.19 1580.37 L1209.26 1590.91 L1198.7 1572.86 L1202.25 1569.3 L1220.32 1579.84 L1209.76 1561.79 L1212.78 1558.78 L1226.31 1581.91 L1222.76 1585.46 L1203.79 1574.38 L1214.85 1593.36 L1211.3 1596.92 L1188.17 1583.38 Z\" fill=\"#000000\" fill-rule=\"evenodd\" fill-opacity=\"1\" /><path clip-path=\"url(#clip210)\" d=\"M1226.56 1549.22 Q1224.13 1551.64 1224.63 1554.95 Q1225.1 1558.24 1228.39 1561.53 Q1231.68 1564.82 1234.97 1565.33 Q1238.26 1565.8 1240.7 1563.36 Q1243.11 1560.96 1242.61 1557.65 Q1242.12 1554.34 1238.85 1551.07 Q1235.59 1547.81 1232.29 1547.32 Q1228.96 1546.81 1226.56 1549.22 M1224 1546.67 Q1227.93 1542.74 1232.73 1543.05 Q1237.52 1543.36 1242.04 1547.88 Q1246.54 1552.38 1246.87 1557.19 Q1247.18 1561.99 1243.25 1565.92 Q1239.31 1569.86 1234.51 1569.55 Q1229.72 1569.21 1225.21 1564.7 Q1220.7 1560.19 1220.37 1555.41 Q1220.06 1550.61 1224 1546.67 Z\" fill=\"#000000\" fill-rule=\"evenodd\" fill-opacity=\"1\" /><path clip-path=\"url(#clip210)\" d=\"M1261.95 1526.44 L1263.42 1527.91 L1249.57 1541.76 Q1252.88 1544.67 1256.18 1544.64 Q1259.49 1544.57 1262.49 1541.58 Q1264.22 1539.84 1265.42 1537.79 Q1266.63 1535.73 1267.38 1533.28 L1270.23 1536.13 Q1269.29 1538.43 1267.95 1540.5 Q1266.61 1542.56 1264.86 1544.31 Q1260.47 1548.7 1255.35 1548.71 Q1250.24 1548.71 1245.89 1544.36 Q1241.39 1539.86 1241.17 1534.8 Q1240.96 1529.71 1245.09 1525.58 Q1248.79 1521.89 1253.32 1522.13 Q1257.85 1522.34 1261.95 1526.44 M1258.05 1528.56 Q1255.55 1526.12 1252.71 1526.01 Q1249.9 1525.88 1247.67 1528.11 Q1245.15 1530.63 1245.05 1533.57 Q1244.97 1536.5 1247.33 1539.32 L1258.05 1528.56 Z\" fill=\"#000000\" fill-rule=\"evenodd\" fill-opacity=\"1\" /><path clip-path=\"url(#clip210)\" d=\"M1275.92 1513.86 Q1272.27 1517.51 1271.7 1519.76 Q1271.13 1522 1273.14 1524.01 Q1274.74 1525.62 1276.74 1525.52 Q1278.74 1525.39 1280.56 1523.57 Q1283.06 1521.07 1282.8 1517.79 Q1282.54 1514.49 1279.59 1511.54 L1278.92 1510.87 L1275.92 1513.86 M1280.69 1506.61 L1291.15 1517.07 L1288.13 1520.08 L1285.35 1517.3 Q1285.99 1520 1285.25 1522.34 Q1284.5 1524.67 1282.27 1526.89 Q1279.46 1529.71 1276.22 1529.81 Q1272.98 1529.87 1270.33 1527.22 Q1267.23 1524.13 1267.72 1520.49 Q1268.23 1516.84 1272.34 1512.74 L1276.56 1508.51 L1276.27 1508.22 Q1274.19 1506.14 1271.68 1506.38 Q1269.18 1506.6 1266.71 1509.07 Q1265.14 1510.64 1264.02 1512.51 Q1262.91 1514.37 1262.29 1516.5 L1259.51 1513.72 Q1260.52 1511.43 1261.76 1509.56 Q1262.99 1507.68 1264.47 1506.2 Q1268.44 1502.23 1272.47 1502.33 Q1276.5 1502.42 1280.69 1506.61 Z\" fill=\"#000000\" fill-rule=\"evenodd\" fill-opacity=\"1\" /><path clip-path=\"url(#clip210)\" d=\"M1292.46 1484.73 Q1291.65 1484.94 1290.92 1485.42 Q1290.18 1485.86 1289.46 1486.58 Q1286.91 1489.13 1287.2 1492.18 Q1287.5 1495.19 1290.61 1498.3 L1300.26 1507.96 L1297.23 1510.98 L1278.9 1492.65 L1281.93 1489.62 L1284.78 1492.47 Q1284.06 1489.85 1284.78 1487.53 Q1285.48 1485.19 1287.66 1483.01 Q1287.97 1482.7 1288.4 1482.37 Q1288.81 1482.03 1289.35 1481.65 L1292.46 1484.73 Z\" fill=\"#000000\" fill-rule=\"evenodd\" fill-opacity=\"1\" /><path clip-path=\"url(#clip210)\" d=\"M1314.72 1471.37 L1325.78 1482.44 L1322.77 1485.45 L1311.8 1474.48 Q1309.2 1471.88 1306.89 1471.6 Q1304.58 1471.32 1302.55 1473.35 Q1300.12 1475.79 1300.26 1478.76 Q1300.41 1481.72 1303.09 1484.4 L1313.46 1494.76 L1310.43 1497.79 L1292.1 1479.46 L1295.12 1476.43 L1297.97 1479.28 Q1297.4 1476.55 1298.04 1474.27 Q1298.69 1471.98 1300.61 1470.06 Q1303.77 1466.9 1307.35 1467.25 Q1310.92 1467.58 1314.72 1471.37 Z\" fill=\"#000000\" fill-rule=\"evenodd\" fill-opacity=\"1\" /><path clip-path=\"url(#clip210)\" d=\"M1351.28 1468.07 L1353.62 1470.41 L1336.21 1487.82 L1333.87 1485.48 L1351.28 1468.07 Z\" fill=\"#000000\" fill-rule=\"evenodd\" fill-opacity=\"1\" /><path clip-path=\"url(#clip210)\" d=\"M1330.22 1441.34 L1333.23 1438.33 L1351.56 1456.66 L1348.55 1459.67 L1330.22 1441.34 M1323.08 1434.2 L1326.09 1431.19 L1329.91 1435 L1326.89 1438.01 L1323.08 1434.2 Z\" fill=\"#000000\" fill-rule=\"evenodd\" fill-opacity=\"1\" /><path clip-path=\"url(#clip210)\" d=\"M1362.04 1424.05 L1373.1 1435.12 L1370.09 1438.13 L1359.12 1427.16 Q1356.52 1424.56 1354.21 1424.28 Q1351.9 1424 1349.87 1426.03 Q1347.44 1428.47 1347.58 1431.43 Q1347.73 1434.4 1350.41 1437.08 L1360.78 1447.44 L1357.75 1450.47 L1339.42 1432.14 L1342.44 1429.11 L1345.29 1431.96 Q1344.72 1429.23 1345.36 1426.95 Q1346.01 1424.66 1347.93 1422.74 Q1351.09 1419.58 1354.67 1419.93 Q1358.24 1420.26 1362.04 1424.05 Z\" fill=\"#000000\" fill-rule=\"evenodd\" fill-opacity=\"1\" /><path clip-path=\"url(#clip210)\" d=\"M1374.67 1398.29 L1377.49 1401.1 Q1375.51 1401.68 1373.87 1402.63 Q1372.23 1403.54 1370.92 1404.85 Q1367.99 1407.78 1368.24 1411.27 Q1368.47 1414.74 1371.82 1418.09 Q1375.18 1421.45 1378.67 1421.7 Q1382.14 1421.92 1385.07 1419 Q1386.38 1417.69 1387.31 1416.07 Q1388.24 1414.41 1388.81 1412.43 L1391.6 1415.21 Q1390.93 1417.06 1389.86 1418.72 Q1388.81 1420.35 1387.29 1421.88 Q1383.15 1426.02 1378.11 1425.85 Q1373.07 1425.69 1368.65 1421.27 Q1364.16 1416.79 1364.05 1411.76 Q1363.95 1406.72 1368.24 1402.43 Q1369.63 1401.04 1371.25 1400.01 Q1372.86 1398.96 1374.67 1398.29 Z\" fill=\"#000000\" fill-rule=\"evenodd\" fill-opacity=\"1\" /><path clip-path=\"url(#clip210)\" d=\"M1417.03 1402.32 L1419.37 1404.66 L1401.96 1422.07 L1399.62 1419.73 L1417.03 1402.32 Z\" fill=\"#000000\" fill-rule=\"evenodd\" fill-opacity=\"1\" /><path clip-path=\"url(#clip210)\" d=\"M1408.19 1364.44 L1411.04 1367.29 Q1409.11 1367.91 1407.41 1368.96 Q1405.71 1370.01 1404.23 1371.48 Q1401.99 1373.72 1401.55 1375.54 Q1401.12 1377.34 1402.5 1378.71 Q1403.55 1379.76 1404.95 1379.56 Q1406.34 1379.35 1409.31 1377.47 L1410.57 1376.67 Q1414.46 1374.15 1417.07 1374.06 Q1419.67 1373.95 1421.91 1376.19 Q1424.46 1378.75 1423.92 1382.27 Q1423.4 1385.77 1419.86 1389.3 Q1418.39 1390.78 1416.49 1392.09 Q1414.63 1393.4 1412.29 1394.59 L1409.18 1391.48 Q1411.71 1390.68 1413.78 1389.5 Q1415.82 1388.3 1417.41 1386.72 Q1419.54 1384.59 1419.96 1382.72 Q1420.37 1380.84 1419.05 1379.52 Q1417.82 1378.29 1416.33 1378.47 Q1414.86 1378.63 1411.45 1380.82 L1410.16 1381.63 Q1406.77 1383.84 1404.31 1383.87 Q1401.84 1383.89 1399.72 1381.76 Q1397.13 1379.17 1397.55 1375.93 Q1397.98 1372.69 1401.35 1369.32 Q1403.02 1367.65 1404.74 1366.42 Q1406.46 1365.19 1408.19 1364.44 Z\" fill=\"#000000\" fill-rule=\"evenodd\" fill-opacity=\"1\" /><path clip-path=\"url(#clip210)\" d=\"M1424.42 1365.5 Q1427.74 1368.83 1431 1369.37 Q1434.25 1369.87 1436.64 1367.48 Q1439.03 1365.09 1438.52 1361.84 Q1438 1358.56 1434.68 1355.24 Q1431.36 1351.92 1428.1 1351.41 Q1424.82 1350.89 1422.43 1353.28 Q1420.04 1355.67 1420.57 1358.94 Q1421.09 1362.18 1424.42 1365.5 M1441.08 1361.64 Q1441.77 1364.23 1441.11 1366.49 Q1440.46 1368.71 1438.43 1370.74 Q1435.1 1374.06 1430.36 1373.51 Q1425.63 1372.94 1421.31 1368.61 Q1416.98 1364.29 1416.41 1359.56 Q1415.85 1354.82 1419.18 1351.49 Q1421.21 1349.46 1423.45 1348.82 Q1425.69 1348.15 1428.28 1348.84 L1425.5 1346.06 L1428.51 1343.05 L1453.81 1368.35 L1450.8 1371.36 L1441.08 1361.64 Z\" fill=\"#000000\" fill-rule=\"evenodd\" fill-opacity=\"1\" /><path clip-path=\"url(#clip210)\" d=\"M1302.11 1594.97 L1305.12 1591.96 L1323.45 1610.29 L1320.44 1613.3 L1302.11 1594.97 M1294.97 1587.83 L1297.98 1584.82 L1301.79 1588.63 L1298.78 1591.65 L1294.97 1587.83 Z\" fill=\"#000000\" fill-rule=\"evenodd\" fill-opacity=\"1\" /><path clip-path=\"url(#clip210)\" d=\"M1333.93 1577.68 L1344.99 1588.75 L1341.98 1591.76 L1331.01 1580.79 Q1328.41 1578.19 1326.1 1577.91 Q1323.79 1577.63 1321.76 1579.66 Q1319.32 1582.1 1319.47 1585.07 Q1319.62 1588.03 1322.3 1590.71 L1332.66 1601.07 L1329.64 1604.1 L1311.3 1585.77 L1314.33 1582.74 L1317.18 1585.59 Q1316.61 1582.86 1317.25 1580.58 Q1317.9 1578.29 1319.82 1576.37 Q1322.97 1573.22 1326.56 1573.56 Q1330.13 1573.89 1333.93 1577.68 Z\" fill=\"#000000\" fill-rule=\"evenodd\" fill-opacity=\"1\" /><path clip-path=\"url(#clip210)\" d=\"M1346.56 1551.92 L1349.38 1554.74 Q1347.4 1555.31 1345.76 1556.26 Q1344.12 1557.17 1342.81 1558.48 Q1339.88 1561.41 1340.13 1564.9 Q1340.36 1568.37 1343.71 1571.73 Q1347.07 1575.08 1350.56 1575.33 Q1354.03 1575.56 1356.96 1572.63 Q1358.26 1571.32 1359.2 1569.7 Q1360.13 1568.04 1360.7 1566.06 L1363.49 1568.85 Q1362.81 1570.69 1361.75 1572.35 Q1360.7 1573.98 1359.18 1575.51 Q1355.04 1579.65 1350 1579.48 Q1344.96 1579.32 1340.54 1574.9 Q1336.05 1570.42 1335.94 1565.39 Q1335.84 1560.35 1340.13 1556.06 Q1341.52 1554.67 1343.14 1553.64 Q1344.74 1552.59 1346.56 1551.92 Z\" fill=\"#000000\" fill-rule=\"evenodd\" fill-opacity=\"1\" /><path clip-path=\"url(#clip210)\" d=\"M1388.92 1555.95 L1391.26 1558.29 L1373.85 1575.7 L1371.51 1573.36 L1388.92 1555.95 Z\" fill=\"#000000\" fill-rule=\"evenodd\" fill-opacity=\"1\" /><path clip-path=\"url(#clip210)\" d=\"M1380.08 1518.07 L1382.93 1520.92 Q1381 1521.54 1379.3 1522.59 Q1377.6 1523.64 1376.12 1525.11 Q1373.88 1527.35 1373.44 1529.17 Q1373.01 1530.97 1374.39 1532.34 Q1375.43 1533.39 1376.84 1533.2 Q1378.23 1532.98 1381.2 1531.1 L1382.46 1530.3 Q1386.35 1527.78 1388.95 1527.7 Q1391.56 1527.58 1393.8 1529.82 Q1396.35 1532.38 1395.81 1535.9 Q1395.29 1539.4 1391.75 1542.93 Q1390.28 1544.41 1388.38 1545.72 Q1386.52 1547.03 1384.18 1548.22 L1381.07 1545.11 Q1383.6 1544.31 1385.66 1543.13 Q1387.71 1541.94 1389.3 1540.35 Q1391.43 1538.22 1391.85 1536.35 Q1392.26 1534.47 1390.94 1533.15 Q1389.71 1531.92 1388.22 1532.1 Q1386.75 1532.26 1383.34 1534.46 L1382.05 1535.26 Q1378.66 1537.47 1376.2 1537.5 Q1373.73 1537.52 1371.6 1535.39 Q1369.02 1532.8 1369.44 1529.56 Q1369.87 1526.32 1373.24 1522.95 Q1374.91 1521.28 1376.63 1520.05 Q1378.35 1518.82 1380.08 1518.07 Z\" fill=\"#000000\" fill-rule=\"evenodd\" fill-opacity=\"1\" /><path clip-path=\"url(#clip210)\" d=\"M1396.3 1519.14 Q1399.63 1522.46 1402.88 1523 Q1406.14 1523.51 1408.53 1521.12 Q1410.92 1518.73 1410.41 1515.47 Q1409.89 1512.2 1406.57 1508.87 Q1403.24 1505.55 1399.99 1505.04 Q1396.71 1504.52 1394.32 1506.91 Q1391.93 1509.3 1392.46 1512.57 Q1392.98 1515.81 1396.3 1519.14 M1412.97 1515.27 Q1413.65 1517.86 1413 1520.12 Q1412.34 1522.34 1410.32 1524.37 Q1406.99 1527.7 1402.25 1527.14 Q1397.52 1526.57 1393.19 1522.25 Q1388.87 1517.92 1388.3 1513.19 Q1387.74 1508.45 1391.07 1505.12 Q1393.1 1503.09 1395.34 1502.46 Q1397.58 1501.79 1400.17 1502.47 L1397.38 1499.69 L1400.4 1496.68 L1425.7 1521.98 L1422.69 1525 L1412.97 1515.27 Z\" fill=\"#000000\" fill-rule=\"evenodd\" fill-opacity=\"1\" /><path clip-path=\"url(#clip210)\" d=\"M1444.43 1500.44 L1446.77 1502.78 L1429.35 1520.2 L1427.01 1517.86 L1444.43 1500.44 Z\" fill=\"#000000\" fill-rule=\"evenodd\" fill-opacity=\"1\" /><path clip-path=\"url(#clip210)\" d=\"M1421.13 1465.53 L1426.34 1470.73 L1432.54 1464.53 L1434.88 1466.87 L1428.68 1473.08 L1438.63 1483.03 Q1440.87 1485.27 1442.12 1485.3 Q1443.38 1485.32 1445.26 1483.44 L1448.35 1480.34 L1450.88 1482.86 L1447.78 1485.96 Q1444.3 1489.44 1441.68 1489.48 Q1439.04 1489.49 1435.6 1486.06 L1425.65 1476.1 L1423.44 1478.31 L1421.1 1475.97 L1423.31 1473.76 L1418.11 1468.56 L1421.13 1465.53 Z\" fill=\"#000000\" fill-rule=\"evenodd\" fill-opacity=\"1\" /><path clip-path=\"url(#clip210)\" d=\"M1434.75 1462.32 L1437.76 1459.31 L1455.83 1469.85 L1445.28 1451.8 L1448.83 1448.24 L1466.9 1458.79 L1456.34 1440.73 L1459.35 1437.72 L1472.89 1460.85 L1469.34 1464.4 L1450.37 1453.32 L1461.43 1472.31 L1457.88 1475.86 L1434.75 1462.32 Z\" fill=\"#000000\" fill-rule=\"evenodd\" fill-opacity=\"1\" /><path clip-path=\"url(#clip210)\" d=\"M1473.14 1428.16 Q1470.71 1430.58 1471.2 1433.89 Q1471.68 1437.18 1474.97 1440.47 Q1478.26 1443.76 1481.55 1444.27 Q1484.84 1444.74 1487.28 1442.3 Q1489.68 1439.9 1489.19 1436.59 Q1488.7 1433.28 1485.43 1430.01 Q1482.17 1426.75 1478.86 1426.26 Q1475.54 1425.76 1473.14 1428.16 M1470.58 1425.61 Q1474.51 1421.68 1479.31 1421.99 Q1484.1 1422.3 1488.62 1426.82 Q1493.12 1431.32 1493.45 1436.13 Q1493.76 1440.93 1489.83 1444.86 Q1485.89 1448.8 1481.09 1448.49 Q1476.3 1448.15 1471.79 1443.65 Q1467.28 1439.13 1466.95 1434.35 Q1466.64 1429.55 1470.58 1425.61 Z\" fill=\"#000000\" fill-rule=\"evenodd\" fill-opacity=\"1\" /><path clip-path=\"url(#clip210)\" d=\"M1508.52 1405.38 L1510 1406.85 L1496.15 1420.7 Q1499.46 1423.61 1502.76 1423.58 Q1506.07 1423.51 1509.06 1420.52 Q1510.8 1418.78 1511.99 1416.74 Q1513.21 1414.67 1513.96 1412.22 L1516.81 1415.07 Q1515.87 1417.37 1514.53 1419.44 Q1513.19 1421.5 1511.44 1423.25 Q1507.05 1427.64 1501.93 1427.65 Q1496.82 1427.65 1492.47 1423.3 Q1487.97 1418.8 1487.75 1413.74 Q1487.54 1408.65 1491.66 1404.53 Q1495.36 1400.83 1499.9 1401.07 Q1504.43 1401.28 1508.52 1405.38 M1504.63 1407.5 Q1502.12 1405.07 1499.29 1404.95 Q1496.48 1404.82 1494.25 1407.05 Q1491.73 1409.57 1491.63 1412.51 Q1491.55 1415.44 1493.91 1418.26 L1504.63 1407.5 Z\" fill=\"#000000\" fill-rule=\"evenodd\" fill-opacity=\"1\" /><path clip-path=\"url(#clip210)\" d=\"M1522.5 1392.81 Q1518.85 1396.46 1518.28 1398.7 Q1517.71 1400.94 1519.72 1402.95 Q1521.32 1404.56 1523.32 1404.46 Q1525.32 1404.33 1527.13 1402.51 Q1529.64 1400.01 1529.38 1396.73 Q1529.12 1393.43 1526.17 1390.48 L1525.5 1389.81 L1522.5 1392.81 M1527.27 1385.56 L1537.72 1396.01 L1534.71 1399.03 L1531.93 1396.24 Q1532.57 1398.94 1531.83 1401.28 Q1531.08 1403.61 1528.85 1405.84 Q1526.04 1408.65 1522.8 1408.75 Q1519.56 1408.81 1516.9 1406.16 Q1513.81 1403.07 1514.3 1399.44 Q1514.81 1395.79 1518.92 1391.68 L1523.14 1387.45 L1522.85 1387.16 Q1520.77 1385.08 1518.26 1385.33 Q1515.76 1385.54 1513.29 1388.01 Q1511.72 1389.58 1510.6 1391.45 Q1509.49 1393.31 1508.87 1395.44 L1506.09 1392.66 Q1507.1 1390.37 1508.34 1388.5 Q1509.57 1386.62 1511.04 1385.15 Q1515.02 1381.17 1519.05 1381.27 Q1523.08 1381.36 1527.27 1385.56 Z\" fill=\"#000000\" fill-rule=\"evenodd\" fill-opacity=\"1\" /><path clip-path=\"url(#clip210)\" d=\"M1539.03 1363.67 Q1538.23 1363.88 1537.5 1364.36 Q1536.76 1364.8 1536.04 1365.52 Q1533.49 1368.07 1533.78 1371.12 Q1534.07 1374.13 1537.18 1377.24 L1546.84 1386.9 L1543.81 1389.93 L1525.48 1371.59 L1528.51 1368.56 L1531.36 1371.41 Q1530.64 1368.79 1531.36 1366.47 Q1532.06 1364.13 1534.24 1361.95 Q1534.55 1361.64 1534.97 1361.31 Q1535.38 1360.97 1535.92 1360.59 L1539.03 1363.67 Z\" fill=\"#000000\" fill-rule=\"evenodd\" fill-opacity=\"1\" /><path clip-path=\"url(#clip210)\" d=\"M1561.29 1350.31 L1572.36 1361.38 L1569.35 1364.39 L1558.38 1353.42 Q1555.78 1350.82 1553.47 1350.54 Q1551.16 1350.27 1549.13 1352.29 Q1546.69 1354.73 1546.84 1357.7 Q1546.99 1360.66 1549.67 1363.34 L1560.03 1373.7 L1557.01 1376.73 L1538.67 1358.4 L1541.7 1355.37 L1544.55 1358.22 Q1543.98 1355.49 1544.62 1353.21 Q1545.27 1350.92 1547.19 1349 Q1550.34 1345.85 1553.93 1346.19 Q1557.5 1346.52 1561.29 1350.31 Z\" fill=\"#000000\" fill-rule=\"evenodd\" fill-opacity=\"1\" /><path clip-path=\"url(#clip210)\" d=\"M1555.08 1467.51 L1558.1 1464.5 L1576.43 1482.83 L1573.42 1485.84 L1555.08 1467.51 M1547.95 1460.37 L1550.96 1457.36 L1554.77 1461.18 L1551.76 1464.19 L1547.95 1460.37 Z\" fill=\"#000000\" fill-rule=\"evenodd\" fill-opacity=\"1\" /><path clip-path=\"url(#clip210)\" d=\"M1586.9 1450.23 L1597.97 1461.29 L1594.96 1464.3 L1583.99 1453.34 Q1581.39 1450.73 1579.08 1450.45 Q1576.77 1450.18 1574.74 1452.21 Q1572.3 1454.64 1572.45 1457.61 Q1572.6 1460.57 1575.28 1463.25 L1585.64 1473.62 L1582.62 1476.64 L1564.28 1458.31 L1567.31 1455.28 L1570.16 1458.13 Q1569.59 1455.4 1570.22 1453.12 Q1570.88 1450.83 1572.79 1448.92 Q1575.95 1445.76 1579.54 1446.1 Q1583.11 1446.43 1586.9 1450.23 Z\" fill=\"#000000\" fill-rule=\"evenodd\" fill-opacity=\"1\" /><path clip-path=\"url(#clip210)\" d=\"M1599.54 1424.46 L1602.36 1427.28 Q1600.37 1427.85 1598.74 1428.8 Q1597.1 1429.72 1595.79 1431.03 Q1592.86 1433.96 1593.11 1437.44 Q1593.34 1440.91 1596.69 1444.27 Q1600.05 1447.62 1603.53 1447.87 Q1607 1448.1 1609.93 1445.17 Q1611.24 1443.86 1612.18 1442.24 Q1613.11 1440.58 1613.68 1438.6 L1616.46 1441.39 Q1615.79 1443.24 1614.73 1444.89 Q1613.68 1446.53 1612.16 1448.05 Q1608.02 1452.19 1602.98 1452.03 Q1597.94 1451.86 1593.52 1447.44 Q1589.03 1442.96 1588.92 1437.93 Q1588.82 1432.89 1593.11 1428.6 Q1594.5 1427.21 1596.12 1426.18 Q1597.72 1425.13 1599.54 1424.46 Z\" fill=\"#000000\" fill-rule=\"evenodd\" fill-opacity=\"1\" /><path clip-path=\"url(#clip210)\" d=\"M1641.9 1428.49 L1644.24 1430.83 L1626.83 1448.24 L1624.49 1445.9 L1641.9 1428.49 Z\" fill=\"#000000\" fill-rule=\"evenodd\" fill-opacity=\"1\" /><path clip-path=\"url(#clip210)\" d=\"M1639.33 1414.43 L1649.05 1424.15 L1646.03 1427.18 L1620.72 1401.87 L1623.75 1398.85 L1626.53 1401.63 Q1625.84 1399.04 1626.5 1396.82 Q1627.15 1394.56 1629.17 1392.54 Q1632.51 1389.21 1637.24 1389.78 Q1641.98 1390.33 1646.3 1394.66 Q1650.63 1398.98 1651.18 1403.72 Q1651.75 1408.45 1648.42 1411.79 Q1646.4 1413.81 1644.16 1414.48 Q1641.92 1415.12 1639.33 1414.43 M1643.18 1397.78 Q1639.85 1394.46 1636.6 1393.95 Q1633.34 1393.41 1630.95 1395.8 Q1628.56 1398.19 1629.08 1401.46 Q1629.61 1404.71 1632.93 1408.03 Q1636.25 1411.35 1639.51 1411.89 Q1642.77 1412.4 1645.16 1410.01 Q1647.55 1407.62 1647.02 1404.38 Q1646.5 1401.1 1643.18 1397.78 Z\" fill=\"#000000\" fill-rule=\"evenodd\" fill-opacity=\"1\" /><path clip-path=\"url(#clip210)\" d=\"M1642.11 1380.48 L1645.13 1377.47 L1663.46 1395.8 L1660.45 1398.81 L1642.11 1380.48 M1634.98 1373.34 L1637.99 1370.33 L1641.8 1374.15 L1638.79 1377.16 L1634.98 1373.34 Z\" fill=\"#000000\" fill-rule=\"evenodd\" fill-opacity=\"1\" /><path clip-path=\"url(#clip210)\" d=\"M1664.87 1363.36 Q1664.06 1363.57 1663.33 1364.05 Q1662.59 1364.49 1661.87 1365.21 Q1659.32 1367.76 1659.61 1370.81 Q1659.91 1373.82 1663.02 1376.93 L1672.67 1386.59 L1669.64 1389.61 L1651.31 1371.28 L1654.34 1368.25 L1657.19 1371.1 Q1656.47 1368.48 1657.19 1366.16 Q1657.89 1363.82 1660.07 1361.64 Q1660.38 1361.33 1660.81 1361 Q1661.22 1360.66 1661.76 1360.28 L1664.87 1363.36 Z\" fill=\"#000000\" fill-rule=\"evenodd\" fill-opacity=\"1\" /><path clip-path=\"url(#clip210)\" d=\"M1682.66 1358.17 Q1679.01 1361.82 1678.43 1364.06 Q1677.86 1366.31 1679.87 1368.32 Q1681.48 1369.92 1683.48 1369.83 Q1685.47 1369.69 1687.29 1367.88 Q1689.79 1365.37 1689.53 1362.1 Q1689.27 1358.79 1686.32 1355.85 L1685.65 1355.18 L1682.66 1358.17 M1687.42 1350.92 L1697.88 1361.38 L1694.87 1364.39 L1692.09 1361.61 Q1692.72 1364.31 1691.99 1366.65 Q1691.23 1368.97 1689.01 1371.2 Q1686.19 1374.02 1682.95 1374.11 Q1679.71 1374.18 1677.06 1371.53 Q1673.97 1368.43 1674.46 1364.8 Q1674.96 1361.15 1679.07 1357.04 L1683.3 1352.82 L1683 1352.52 Q1680.92 1350.45 1678.42 1350.69 Q1675.91 1350.9 1673.44 1353.38 Q1671.87 1354.95 1670.76 1356.81 Q1669.64 1358.68 1669.02 1360.81 L1666.24 1358.02 Q1667.26 1355.73 1668.5 1353.87 Q1669.73 1351.98 1671.2 1350.51 Q1675.18 1346.53 1679.2 1346.63 Q1683.23 1346.73 1687.42 1350.92 Z\" fill=\"#000000\" fill-rule=\"evenodd\" fill-opacity=\"1\" /><path clip-path=\"url(#clip210)\" d=\"M1698.13 1481.14 L1707.86 1490.87 L1704.83 1493.9 L1679.52 1468.59 L1682.55 1465.56 L1685.33 1468.34 Q1684.65 1465.76 1685.3 1463.53 Q1685.96 1461.27 1687.97 1459.26 Q1691.31 1455.92 1696.04 1456.49 Q1700.79 1457.05 1705.11 1461.37 Q1709.43 1465.69 1709.99 1470.44 Q1710.56 1475.17 1707.22 1478.51 Q1705.21 1480.52 1702.96 1481.19 Q1700.72 1481.83 1698.13 1481.14 M1701.98 1464.5 Q1698.66 1461.18 1695.4 1460.67 Q1692.14 1460.13 1689.75 1462.52 Q1687.36 1464.91 1687.89 1468.18 Q1688.41 1471.42 1691.73 1474.74 Q1695.06 1478.07 1698.31 1478.61 Q1701.57 1479.12 1703.96 1476.73 Q1706.35 1474.34 1705.83 1471.09 Q1705.3 1467.82 1701.98 1464.5 Z\" fill=\"#000000\" fill-rule=\"evenodd\" fill-opacity=\"1\" /><path clip-path=\"url(#clip210)\" d=\"M1700.92 1447.2 L1703.93 1444.19 L1722.26 1462.52 L1719.25 1465.53 L1700.92 1447.2 M1693.78 1440.06 L1696.79 1437.05 L1700.61 1440.86 L1697.59 1443.87 L1693.78 1440.06 Z\" fill=\"#000000\" fill-rule=\"evenodd\" fill-opacity=\"1\" /><path clip-path=\"url(#clip210)\" d=\"M1723.67 1430.08 Q1722.87 1430.29 1722.13 1430.76 Q1721.39 1431.21 1720.67 1431.93 Q1718.12 1434.48 1718.41 1437.52 Q1718.71 1440.54 1721.82 1443.65 L1731.48 1453.3 L1728.45 1456.33 L1710.12 1438 L1713.14 1434.97 L1715.99 1437.82 Q1715.27 1435.2 1715.99 1432.88 Q1716.7 1430.53 1718.87 1428.36 Q1719.18 1428.05 1719.61 1427.72 Q1720.02 1427.38 1720.56 1427 L1723.67 1430.08 Z\" fill=\"#000000\" fill-rule=\"evenodd\" fill-opacity=\"1\" /><path clip-path=\"url(#clip210)\" d=\"M1741.46 1424.89 Q1737.81 1428.54 1737.24 1430.78 Q1736.67 1433.02 1738.68 1435.04 Q1740.28 1436.64 1742.28 1436.54 Q1744.28 1436.41 1746.09 1434.59 Q1748.6 1432.09 1748.34 1428.82 Q1748.07 1425.51 1745.13 1422.56 L1744.46 1421.89 L1741.46 1424.89 M1746.22 1417.64 L1756.68 1428.1 L1753.67 1431.11 L1750.89 1428.32 Q1751.53 1431.03 1750.79 1433.37 Q1750.04 1435.69 1747.81 1437.92 Q1745 1440.73 1741.76 1440.83 Q1738.51 1440.9 1735.86 1438.24 Q1732.77 1435.15 1733.26 1431.52 Q1733.77 1427.87 1737.88 1423.76 L1742.1 1419.54 L1741.8 1419.24 Q1739.73 1417.16 1737.22 1417.41 Q1734.72 1417.62 1732.25 1420.09 Q1730.67 1421.66 1729.56 1423.53 Q1728.45 1425.4 1727.83 1427.52 L1725.04 1424.74 Q1726.06 1422.45 1727.3 1420.58 Q1728.53 1418.7 1730 1417.23 Q1733.98 1413.25 1738.01 1413.35 Q1742.03 1413.45 1746.22 1417.64 Z\" fill=\"#000000\" fill-rule=\"evenodd\" fill-opacity=\"1\" /><path clip-path=\"url(#clip210)\" d=\"M1782.38 1413.53 L1784.72 1415.87 L1767.31 1433.28 L1764.97 1430.94 L1782.38 1413.53 Z\" fill=\"#000000\" fill-rule=\"evenodd\" fill-opacity=\"1\" /><path clip-path=\"url(#clip210)\" d=\"M1761.32 1386.8 L1764.33 1383.79 L1782.66 1402.12 L1779.65 1405.13 L1761.32 1386.8 M1754.18 1379.66 L1757.19 1376.65 L1761 1380.46 L1757.99 1383.48 L1754.18 1379.66 Z\" fill=\"#000000\" fill-rule=\"evenodd\" fill-opacity=\"1\" /><path clip-path=\"url(#clip210)\" d=\"M1793.14 1369.51 L1804.2 1380.58 L1801.19 1383.59 L1790.22 1372.62 Q1787.62 1370.02 1785.31 1369.74 Q1783 1369.47 1780.97 1371.49 Q1778.54 1373.93 1778.68 1376.9 Q1778.83 1379.86 1781.51 1382.54 L1791.88 1392.9 L1788.85 1395.93 L1770.51 1377.6 L1773.54 1374.57 L1776.39 1377.42 Q1775.82 1374.69 1776.46 1372.41 Q1777.11 1370.12 1779.03 1368.2 Q1782.19 1365.05 1785.77 1365.39 Q1789.34 1365.72 1793.14 1369.51 Z\" fill=\"#000000\" fill-rule=\"evenodd\" fill-opacity=\"1\" /><path clip-path=\"url(#clip210)\" d=\"M1805.77 1343.75 L1808.59 1346.57 Q1806.61 1347.14 1804.97 1348.09 Q1803.33 1349 1802.02 1350.31 Q1799.09 1353.24 1799.34 1356.73 Q1799.57 1360.2 1802.92 1363.56 Q1806.28 1366.91 1809.77 1367.16 Q1813.24 1367.39 1816.17 1364.46 Q1817.47 1363.15 1818.41 1361.53 Q1819.34 1359.87 1819.91 1357.89 L1822.7 1360.68 Q1822.03 1362.53 1820.96 1364.18 Q1819.91 1365.82 1818.39 1367.34 Q1814.25 1371.48 1809.21 1371.31 Q1804.17 1371.15 1799.75 1366.73 Q1795.26 1362.25 1795.15 1357.22 Q1795.05 1352.18 1799.34 1347.89 Q1800.73 1346.5 1802.35 1345.47 Q1803.95 1344.42 1805.77 1343.75 Z\" fill=\"#000000\" fill-rule=\"evenodd\" fill-opacity=\"1\" /><path clip-path=\"url(#clip210)\" d=\"M1732.24 1572.56 L1741.96 1582.28 L1738.93 1585.31 L1713.63 1560.01 L1716.66 1556.98 L1719.44 1559.76 Q1718.75 1557.17 1719.41 1554.95 Q1720.06 1552.69 1722.07 1550.68 Q1725.41 1547.34 1730.14 1547.91 Q1734.89 1548.47 1739.21 1552.79 Q1743.53 1557.11 1744.09 1561.86 Q1744.66 1566.59 1741.32 1569.93 Q1739.31 1571.94 1737.07 1572.61 Q1734.83 1573.25 1732.24 1572.56 M1736.09 1555.91 Q1732.76 1552.59 1729.51 1552.08 Q1726.25 1551.54 1723.86 1553.93 Q1721.47 1556.32 1721.99 1559.6 Q1722.52 1562.84 1725.84 1566.16 Q1729.16 1569.48 1732.42 1570.02 Q1735.68 1570.53 1738.07 1568.14 Q1740.46 1565.75 1739.93 1562.51 Q1739.41 1559.24 1736.09 1555.91 Z\" fill=\"#000000\" fill-rule=\"evenodd\" fill-opacity=\"1\" /><path clip-path=\"url(#clip210)\" d=\"M1735.02 1538.61 L1738.03 1535.6 L1756.37 1553.93 L1753.35 1556.95 L1735.02 1538.61 M1727.89 1531.48 L1730.9 1528.47 L1734.71 1532.28 L1731.7 1535.29 L1727.89 1531.48 Z\" fill=\"#000000\" fill-rule=\"evenodd\" fill-opacity=\"1\" /><path clip-path=\"url(#clip210)\" d=\"M1757.77 1521.49 Q1756.97 1521.71 1756.23 1522.18 Q1755.5 1522.62 1754.78 1523.34 Q1752.22 1525.9 1752.52 1528.94 Q1752.81 1531.95 1755.92 1535.06 L1765.58 1544.72 L1762.55 1547.75 L1744.22 1529.41 L1747.25 1526.39 L1750.1 1529.23 Q1749.38 1526.62 1750.1 1524.29 Q1750.8 1521.95 1752.98 1519.77 Q1753.29 1519.46 1753.71 1519.14 Q1754.12 1518.79 1754.66 1518.42 L1757.77 1521.49 Z\" fill=\"#000000\" fill-rule=\"evenodd\" fill-opacity=\"1\" /><path clip-path=\"url(#clip210)\" d=\"M1775.57 1516.3 Q1771.92 1519.95 1771.34 1522.2 Q1770.77 1524.44 1772.78 1526.45 Q1774.39 1528.06 1776.38 1527.96 Q1778.38 1527.83 1780.2 1526.01 Q1782.7 1523.51 1782.44 1520.23 Q1782.18 1516.93 1779.23 1513.98 L1778.56 1513.31 L1775.57 1516.3 M1780.33 1509.05 L1790.79 1519.51 L1787.78 1522.52 L1784.99 1519.74 Q1785.63 1522.44 1784.9 1524.78 Q1784.14 1527.11 1781.92 1529.33 Q1779.1 1532.15 1775.86 1532.25 Q1772.62 1532.31 1769.97 1529.66 Q1766.87 1526.57 1767.37 1522.93 Q1767.87 1519.28 1771.98 1515.17 L1776.2 1510.95 L1775.91 1510.66 Q1773.83 1508.58 1771.33 1508.82 Q1768.82 1509.04 1766.35 1511.51 Q1764.78 1513.08 1763.67 1514.95 Q1762.55 1516.81 1761.93 1518.94 L1759.15 1516.16 Q1760.16 1513.86 1761.41 1512 Q1762.63 1510.12 1764.11 1508.64 Q1768.09 1504.67 1772.11 1504.76 Q1776.14 1504.86 1780.33 1509.05 Z\" fill=\"#000000\" fill-rule=\"evenodd\" fill-opacity=\"1\" /><path clip-path=\"url(#clip210)\" d=\"M1816.49 1504.94 L1818.83 1507.28 L1801.41 1524.7 L1799.07 1522.36 L1816.49 1504.94 Z\" fill=\"#000000\" fill-rule=\"evenodd\" fill-opacity=\"1\" /><path clip-path=\"url(#clip210)\" d=\"M1812.87 1479 Q1809.22 1482.65 1808.65 1484.89 Q1808.07 1487.14 1810.09 1489.15 Q1811.69 1490.75 1813.69 1490.65 Q1815.68 1490.52 1817.5 1488.71 Q1820 1486.2 1819.74 1482.93 Q1819.48 1479.62 1816.53 1476.68 L1815.86 1476.01 L1812.87 1479 M1817.63 1471.75 L1828.09 1482.21 L1825.08 1485.22 L1822.3 1482.44 Q1822.93 1485.14 1822.2 1487.48 Q1821.45 1489.8 1819.22 1492.03 Q1816.4 1494.84 1813.16 1494.94 Q1809.92 1495.01 1807.27 1492.36 Q1804.18 1489.26 1804.67 1485.63 Q1805.18 1481.98 1809.28 1477.87 L1813.51 1473.65 L1813.21 1473.35 Q1811.13 1471.27 1808.63 1471.52 Q1806.12 1471.73 1803.65 1474.2 Q1802.08 1475.78 1800.97 1477.64 Q1799.86 1479.51 1799.23 1481.64 L1796.45 1478.85 Q1797.47 1476.56 1798.71 1474.7 Q1799.94 1472.81 1801.41 1471.34 Q1805.39 1467.36 1809.41 1467.46 Q1813.44 1467.56 1817.63 1471.75 Z\" fill=\"#000000\" fill-rule=\"evenodd\" fill-opacity=\"1\" /><path clip-path=\"url(#clip210)\" d=\"M1836.98 1454.56 Q1833.71 1451.29 1830.55 1450.85 Q1827.4 1450.39 1824.96 1452.83 Q1822.54 1455.25 1822.98 1458.41 Q1823.44 1461.55 1826.72 1464.83 Q1829.97 1468.08 1833.12 1468.54 Q1836.27 1468.98 1838.7 1466.56 Q1841.14 1464.12 1840.68 1460.98 Q1840.24 1457.82 1836.98 1454.56 M1847.09 1458.66 Q1851.78 1463.34 1851.97 1467.69 Q1852.18 1472.06 1847.9 1476.35 Q1846.31 1477.94 1844.66 1479.1 Q1843.02 1480.28 1841.2 1481.11 L1838.27 1478.18 Q1840.32 1477.58 1841.95 1476.63 Q1843.59 1475.68 1844.93 1474.34 Q1847.9 1471.37 1847.81 1468.34 Q1847.75 1465.33 1844.62 1462.21 L1843.13 1460.72 Q1843.82 1463.27 1843.17 1465.53 Q1842.51 1467.79 1840.48 1469.82 Q1837.11 1473.19 1832.48 1472.68 Q1827.85 1472.18 1823.61 1467.94 Q1819.35 1463.68 1818.84 1459.05 Q1818.34 1454.42 1821.71 1451.04 Q1823.74 1449.01 1826 1448.36 Q1828.25 1447.7 1830.81 1448.39 L1828.03 1445.61 L1831.04 1442.6 L1847.09 1458.66 Z\" fill=\"#000000\" fill-rule=\"evenodd\" fill-opacity=\"1\" /><path clip-path=\"url(#clip210)\" d=\"M1861.33 1429.13 L1862.81 1430.6 L1848.96 1444.45 Q1852.27 1447.36 1855.57 1447.33 Q1858.88 1447.26 1861.87 1444.27 Q1863.61 1442.53 1864.8 1440.49 Q1866.02 1438.42 1866.77 1435.97 L1869.62 1438.82 Q1868.68 1441.12 1867.34 1443.19 Q1866 1445.25 1864.25 1447 Q1859.86 1451.39 1854.74 1451.4 Q1849.63 1451.4 1845.28 1447.05 Q1840.78 1442.55 1840.56 1437.49 Q1840.35 1432.4 1844.48 1428.28 Q1848.17 1424.58 1852.71 1424.82 Q1857.24 1425.03 1861.33 1429.13 M1857.44 1431.25 Q1854.93 1428.82 1852.1 1428.7 Q1849.29 1428.57 1847.06 1430.8 Q1844.54 1433.32 1844.44 1436.26 Q1844.36 1439.19 1846.72 1442.01 L1857.44 1431.25 Z\" fill=\"#000000\" fill-rule=\"evenodd\" fill-opacity=\"1\" /><path clip-path=\"url(#clip210)\" d=\"M1895.69 1425.74 L1898.03 1428.08 L1880.62 1445.5 L1878.28 1443.15 L1895.69 1425.74 Z\" fill=\"#000000\" fill-rule=\"evenodd\" fill-opacity=\"1\" /><path clip-path=\"url(#clip210)\" d=\"M1888.52 1386.52 L1891.34 1389.34 Q1889.36 1389.91 1887.72 1390.86 Q1886.08 1391.77 1884.77 1393.08 Q1881.84 1396.01 1882.09 1399.5 Q1882.32 1402.97 1885.67 1406.33 Q1889.03 1409.68 1892.52 1409.93 Q1895.99 1410.16 1898.92 1407.23 Q1900.23 1405.92 1901.16 1404.3 Q1902.09 1402.64 1902.66 1400.66 L1905.45 1403.45 Q1904.78 1405.29 1903.71 1406.95 Q1902.66 1408.58 1901.14 1410.11 Q1897 1414.25 1891.96 1414.08 Q1886.92 1413.92 1882.5 1409.5 Q1878.01 1405.02 1877.9 1399.99 Q1877.8 1394.95 1882.09 1390.66 Q1883.48 1389.27 1885.1 1388.24 Q1886.71 1387.19 1888.52 1386.52 Z\" fill=\"#000000\" fill-rule=\"evenodd\" fill-opacity=\"1\" /><path clip-path=\"url(#clip210)\" d=\"M1903.84 1391.99 L1892.74 1380.89 L1895.76 1377.88 L1906.74 1388.86 Q1909.34 1391.46 1911.67 1391.76 Q1913.97 1392.04 1916 1390.01 Q1918.44 1387.57 1918.3 1384.61 Q1918.16 1381.63 1915.48 1378.94 L1905.09 1368.55 L1908.1 1365.54 L1926.43 1383.87 L1923.42 1386.88 L1920.6 1384.07 Q1921.18 1386.83 1920.54 1389.11 Q1919.9 1391.35 1917.98 1393.26 Q1914.83 1396.42 1911.22 1396.1 Q1907.62 1395.77 1903.84 1391.99 M1899.88 1372.87 L1899.88 1372.87 Z\" fill=\"#000000\" fill-rule=\"evenodd\" fill-opacity=\"1\" /><path clip-path=\"url(#clip210)\" d=\"M1936.64 1355.36 Q1933.32 1352.03 1930.06 1351.53 Q1926.81 1350.99 1924.42 1353.38 Q1922.03 1355.77 1922.55 1359.04 Q1923.08 1362.28 1926.4 1365.6 Q1929.72 1368.92 1932.98 1369.47 Q1936.24 1369.97 1938.62 1367.58 Q1941.01 1365.19 1940.49 1361.95 Q1939.97 1358.68 1936.64 1355.36 M1920 1359.2 Q1919.31 1356.62 1919.97 1354.39 Q1920.62 1352.13 1922.63 1350.12 Q1925.97 1346.78 1930.7 1347.35 Q1935.45 1347.91 1939.77 1352.23 Q1944.09 1356.55 1944.65 1361.3 Q1945.22 1366.03 1941.88 1369.37 Q1939.87 1371.38 1937.63 1372.05 Q1935.38 1372.69 1932.8 1372 L1935.55 1374.75 L1932.52 1377.78 L1907.05 1352.31 L1910.08 1349.28 L1920 1359.2 Z\" fill=\"#000000\" fill-rule=\"evenodd\" fill-opacity=\"1\" /><path clip-path=\"url(#clip210)\" d=\"M1857.92 1559.47 Q1854.27 1563.12 1853.7 1565.36 Q1853.13 1567.6 1855.14 1569.61 Q1856.74 1571.22 1858.74 1571.12 Q1860.74 1570.99 1862.56 1569.17 Q1865.06 1566.67 1864.8 1563.39 Q1864.54 1560.09 1861.59 1557.14 L1860.92 1556.47 L1857.92 1559.47 M1862.69 1552.22 L1873.15 1562.67 L1870.13 1565.69 L1867.35 1562.9 Q1867.99 1565.6 1867.25 1567.95 Q1866.5 1570.27 1864.27 1572.5 Q1861.46 1575.31 1858.22 1575.41 Q1854.98 1575.47 1852.33 1572.82 Q1849.23 1569.73 1849.72 1566.1 Q1850.23 1562.45 1854.34 1558.34 L1858.56 1554.11 L1858.27 1553.82 Q1856.19 1551.74 1853.68 1551.99 Q1851.18 1552.2 1848.71 1554.67 Q1847.14 1556.24 1846.02 1558.11 Q1844.91 1559.97 1844.29 1562.1 L1841.51 1559.32 Q1842.52 1557.03 1843.76 1555.16 Q1844.99 1553.28 1846.47 1551.81 Q1850.44 1547.83 1854.47 1547.93 Q1858.5 1548.03 1862.69 1552.22 Z\" fill=\"#000000\" fill-rule=\"evenodd\" fill-opacity=\"1\" /><path clip-path=\"url(#clip210)\" d=\"M1882.03 1535.03 Q1878.76 1531.76 1875.6 1531.31 Q1872.46 1530.85 1870.02 1533.29 Q1867.6 1535.72 1868.04 1538.88 Q1868.5 1542.02 1871.77 1545.29 Q1875.03 1548.55 1878.17 1549.01 Q1881.33 1549.45 1883.75 1547.03 Q1886.19 1544.59 1885.73 1541.45 Q1885.29 1538.29 1882.03 1535.03 M1892.15 1539.12 Q1896.83 1543.8 1897.03 1548.16 Q1897.24 1552.53 1892.95 1556.81 Q1891.36 1558.4 1889.71 1559.56 Q1888.07 1560.74 1886.26 1561.58 L1883.33 1558.65 Q1885.37 1558.04 1887.01 1557.09 Q1888.65 1556.14 1889.99 1554.8 Q1892.95 1551.84 1892.87 1548.81 Q1892.8 1545.8 1889.68 1542.67 L1888.19 1541.18 Q1888.88 1543.74 1888.22 1546 Q1887.57 1548.25 1885.54 1550.28 Q1882.16 1553.66 1877.53 1553.15 Q1872.9 1552.64 1868.66 1548.4 Q1864.4 1544.15 1863.9 1539.51 Q1863.39 1534.88 1866.76 1531.51 Q1868.79 1529.48 1871.05 1528.83 Q1873.31 1528.17 1875.86 1528.86 L1873.08 1526.08 L1876.09 1523.06 L1892.15 1539.12 Z\" fill=\"#000000\" fill-rule=\"evenodd\" fill-opacity=\"1\" /><path clip-path=\"url(#clip210)\" d=\"M1906.39 1509.59 L1907.86 1511.07 L1894.01 1524.91 Q1897.32 1527.83 1900.63 1527.79 Q1903.93 1527.73 1906.93 1524.73 Q1908.66 1523 1909.86 1520.95 Q1911.07 1518.89 1911.82 1516.43 L1914.67 1519.28 Q1913.74 1521.59 1912.4 1523.65 Q1911.05 1525.72 1909.3 1527.47 Q1904.92 1531.85 1899.79 1531.87 Q1894.69 1531.87 1890.33 1527.52 Q1885.83 1523.01 1885.62 1517.96 Q1885.41 1512.87 1889.53 1508.74 Q1893.23 1505.04 1897.76 1505.29 Q1902.3 1505.5 1906.39 1509.59 M1902.49 1511.72 Q1899.99 1509.28 1897.16 1509.17 Q1894.34 1509.04 1892.12 1511.26 Q1889.6 1513.78 1889.5 1516.73 Q1889.42 1519.66 1891.77 1522.47 L1902.49 1511.72 Z\" fill=\"#000000\" fill-rule=\"evenodd\" fill-opacity=\"1\" /><path clip-path=\"url(#clip210)\" d=\"M1940.75 1506.2 L1943.09 1508.55 L1925.67 1525.96 L1923.33 1523.62 L1940.75 1506.2 Z\" fill=\"#000000\" fill-rule=\"evenodd\" fill-opacity=\"1\" /><path clip-path=\"url(#clip210)\" d=\"M1933.58 1466.99 L1936.39 1469.8 Q1934.41 1470.37 1932.77 1471.32 Q1931.14 1472.24 1929.83 1473.55 Q1926.9 1476.48 1927.14 1479.97 Q1927.37 1483.44 1930.73 1486.79 Q1934.08 1490.15 1937.57 1490.39 Q1941.04 1490.62 1943.97 1487.69 Q1945.28 1486.38 1946.21 1484.76 Q1947.15 1483.11 1947.72 1481.13 L1950.5 1483.91 Q1949.83 1485.76 1948.77 1487.41 Q1947.72 1489.05 1946.2 1490.57 Q1942.06 1494.71 1937.01 1494.55 Q1931.97 1494.39 1927.55 1489.97 Q1923.07 1485.48 1922.95 1480.46 Q1922.86 1475.42 1927.14 1471.13 Q1928.54 1469.74 1930.16 1468.71 Q1931.76 1467.66 1933.58 1466.99 Z\" fill=\"#000000\" fill-rule=\"evenodd\" fill-opacity=\"1\" /><path clip-path=\"url(#clip210)\" d=\"M1948.9 1472.45 L1937.8 1461.36 L1940.81 1458.34 L1951.79 1469.33 Q1954.4 1471.93 1956.72 1472.22 Q1959.03 1472.5 1961.06 1470.47 Q1963.5 1468.03 1963.35 1465.07 Q1963.22 1462.09 1960.53 1459.41 L1950.14 1449.01 L1953.15 1446 L1971.49 1464.33 L1968.47 1467.35 L1965.66 1464.53 Q1966.23 1467.3 1965.59 1469.57 Q1964.95 1471.82 1963.04 1473.73 Q1959.88 1476.89 1956.28 1476.56 Q1952.68 1476.23 1948.9 1472.45 M1944.94 1453.34 L1944.94 1453.34 Z\" fill=\"#000000\" fill-rule=\"evenodd\" fill-opacity=\"1\" /><path clip-path=\"url(#clip210)\" d=\"M1981.7 1435.82 Q1978.38 1432.5 1975.12 1431.99 Q1971.86 1431.45 1969.47 1433.84 Q1967.08 1436.23 1967.61 1439.5 Q1968.13 1442.75 1971.45 1446.07 Q1974.78 1449.39 1978.03 1449.93 Q1981.29 1450.44 1983.68 1448.05 Q1986.07 1445.66 1985.55 1442.42 Q1985.02 1439.14 1981.7 1435.82 M1965.05 1439.67 Q1964.36 1437.08 1965.02 1434.86 Q1965.67 1432.6 1967.69 1430.58 Q1971.03 1427.24 1975.76 1427.82 Q1980.5 1428.37 1984.83 1432.7 Q1989.15 1437.02 1989.7 1441.76 Q1990.28 1446.49 1986.94 1449.83 Q1984.92 1451.85 1982.68 1452.52 Q1980.44 1453.16 1977.85 1452.47 L1980.6 1455.22 L1977.57 1458.25 L1952.11 1432.78 L1955.13 1429.75 L1965.05 1439.67 Z\" fill=\"#000000\" fill-rule=\"evenodd\" fill-opacity=\"1\" /><path clip-path=\"url(#clip210)\" d=\"M2018.46 1428.49 L2020.8 1430.83 L2003.39 1448.24 L2001.05 1445.9 L2018.46 1428.49 Z\" fill=\"#000000\" fill-rule=\"evenodd\" fill-opacity=\"1\" /><path clip-path=\"url(#clip210)\" d=\"M2015.89 1414.43 L2025.61 1424.15 L2022.59 1427.18 L1997.28 1401.87 L2000.31 1398.85 L2003.09 1401.63 Q2002.4 1399.04 2003.06 1396.82 Q2003.71 1394.56 2005.73 1392.54 Q2009.07 1389.21 2013.8 1389.78 Q2018.54 1390.33 2022.86 1394.66 Q2027.19 1398.98 2027.74 1403.72 Q2028.32 1408.45 2024.98 1411.79 Q2022.96 1413.81 2020.72 1414.48 Q2018.48 1415.12 2015.89 1414.43 M2019.74 1397.78 Q2016.42 1394.46 2013.16 1393.95 Q2009.9 1393.41 2007.51 1395.8 Q2005.12 1398.19 2005.65 1401.46 Q2006.17 1404.71 2009.49 1408.03 Q2012.81 1411.35 2016.07 1411.89 Q2019.33 1412.4 2021.72 1410.01 Q2024.11 1407.62 2023.58 1404.38 Q2023.06 1401.1 2019.74 1397.78 Z\" fill=\"#000000\" fill-rule=\"evenodd\" fill-opacity=\"1\" /><path clip-path=\"url(#clip210)\" d=\"M2018.67 1380.48 L2021.69 1377.47 L2040.02 1395.8 L2037.01 1398.81 L2018.67 1380.48 M2011.54 1373.34 L2014.55 1370.33 L2018.36 1374.15 L2015.35 1377.16 L2011.54 1373.34 Z\" fill=\"#000000\" fill-rule=\"evenodd\" fill-opacity=\"1\" /><path clip-path=\"url(#clip210)\" d=\"M2041.43 1363.36 Q2040.62 1363.57 2039.89 1364.05 Q2039.15 1364.49 2038.43 1365.21 Q2035.88 1367.76 2036.17 1370.81 Q2036.47 1373.82 2039.58 1376.93 L2049.23 1386.59 L2046.21 1389.61 L2027.87 1371.28 L2030.9 1368.25 L2033.75 1371.1 Q2033.03 1368.48 2033.75 1366.16 Q2034.45 1363.82 2036.63 1361.64 Q2036.94 1361.33 2037.37 1361 Q2037.78 1360.66 2038.32 1360.28 L2041.43 1363.36 Z\" fill=\"#000000\" fill-rule=\"evenodd\" fill-opacity=\"1\" /><path clip-path=\"url(#clip210)\" d=\"M2059.22 1358.17 Q2055.57 1361.82 2055 1364.06 Q2054.42 1366.31 2056.44 1368.32 Q2058.04 1369.92 2060.04 1369.83 Q2062.03 1369.69 2063.85 1367.88 Q2066.35 1365.37 2066.09 1362.1 Q2065.83 1358.79 2062.88 1355.85 L2062.21 1355.18 L2059.22 1358.17 M2063.98 1350.92 L2074.44 1361.38 L2071.43 1364.39 L2068.65 1361.61 Q2069.28 1364.31 2068.55 1366.65 Q2067.8 1368.97 2065.57 1371.2 Q2062.75 1374.02 2059.51 1374.11 Q2056.27 1374.18 2053.62 1371.53 Q2050.53 1368.43 2051.02 1364.8 Q2051.53 1361.15 2055.63 1357.04 L2059.86 1352.82 L2059.56 1352.52 Q2057.48 1350.45 2054.98 1350.69 Q2052.47 1350.9 2050 1353.38 Q2048.43 1354.95 2047.32 1356.81 Q2046.21 1358.68 2045.58 1360.81 L2042.8 1358.02 Q2043.82 1355.73 2045.06 1353.87 Q2046.29 1351.98 2047.76 1350.51 Q2051.74 1346.53 2055.76 1346.63 Q2059.79 1346.73 2063.98 1350.92 Z\" fill=\"#000000\" fill-rule=\"evenodd\" fill-opacity=\"1\" /><path clip-path=\"url(#clip210)\" d=\"M2031.47 1493.21 L2034.48 1490.2 L2052.81 1508.53 L2049.8 1511.54 L2031.47 1493.21 M2024.33 1486.07 L2027.34 1483.06 L2031.16 1486.87 L2028.14 1489.89 L2024.33 1486.07 Z\" fill=\"#000000\" fill-rule=\"evenodd\" fill-opacity=\"1\" /><path clip-path=\"url(#clip210)\" d=\"M2063.29 1475.92 L2074.35 1486.99 L2071.34 1490 L2060.37 1479.03 Q2057.77 1476.43 2055.46 1476.15 Q2053.16 1475.87 2051.13 1477.9 Q2048.69 1480.34 2048.83 1483.31 Q2048.98 1486.27 2051.67 1488.95 L2062.03 1499.31 L2059 1502.34 L2040.67 1484.01 L2043.69 1480.98 L2046.54 1483.83 Q2045.97 1481.1 2046.61 1478.82 Q2047.26 1476.53 2049.18 1474.61 Q2052.34 1471.45 2055.92 1471.8 Q2059.49 1472.13 2063.29 1475.92 Z\" fill=\"#000000\" fill-rule=\"evenodd\" fill-opacity=\"1\" /><path clip-path=\"url(#clip210)\" d=\"M2075.92 1450.16 L2078.74 1452.98 Q2076.76 1453.55 2075.12 1454.5 Q2073.48 1455.41 2072.17 1456.72 Q2069.24 1459.65 2069.49 1463.14 Q2069.72 1466.61 2073.08 1469.97 Q2076.43 1473.32 2079.92 1473.57 Q2083.39 1473.8 2086.32 1470.87 Q2087.63 1469.56 2088.56 1467.94 Q2089.49 1466.28 2090.07 1464.3 L2092.85 1467.08 Q2092.18 1468.93 2091.11 1470.59 Q2090.07 1472.22 2088.54 1473.75 Q2084.4 1477.89 2079.36 1477.72 Q2074.32 1477.56 2069.9 1473.14 Q2065.41 1468.66 2065.3 1463.63 Q2065.2 1458.59 2069.49 1454.3 Q2070.88 1452.91 2072.5 1451.88 Q2074.11 1450.83 2075.92 1450.16 Z\" fill=\"#000000\" fill-rule=\"evenodd\" fill-opacity=\"1\" /><path clip-path=\"url(#clip210)\" d=\"M2118.28 1454.19 L2120.62 1456.53 L2103.21 1473.94 L2100.87 1471.6 L2118.28 1454.19 Z\" fill=\"#000000\" fill-rule=\"evenodd\" fill-opacity=\"1\" /><path clip-path=\"url(#clip210)\" d=\"M2119.72 1419.49 L2130.79 1430.55 L2127.78 1433.56 L2116.81 1422.6 Q2114.21 1419.99 2111.9 1419.72 Q2109.59 1419.44 2107.56 1421.47 Q2105.12 1423.91 2105.27 1426.87 Q2105.42 1429.83 2108.1 1432.52 L2118.46 1442.88 L2115.44 1445.9 L2089.97 1420.44 L2093 1417.41 L2102.98 1427.39 Q2102.41 1424.66 2103.05 1422.38 Q2103.7 1420.09 2105.61 1418.18 Q2108.77 1415.02 2112.36 1415.36 Q2115.93 1415.69 2119.72 1419.49 Z\" fill=\"#000000\" fill-rule=\"evenodd\" fill-opacity=\"1\" /><path clip-path=\"url(#clip210)\" d=\"M2127.68 1401.22 Q2125.26 1403.64 2125.75 1406.95 Q2126.22 1410.24 2129.51 1413.53 Q2132.8 1416.82 2136.09 1417.33 Q2139.38 1417.8 2141.82 1415.36 Q2144.23 1412.96 2143.74 1409.65 Q2143.25 1406.34 2139.97 1403.07 Q2136.71 1399.81 2133.41 1399.32 Q2130.09 1398.81 2127.68 1401.22 M2125.13 1398.67 Q2129.05 1394.74 2133.85 1395.05 Q2138.65 1395.36 2143.16 1399.88 Q2147.66 1404.38 2147.99 1409.19 Q2148.3 1413.99 2144.37 1417.91 Q2140.43 1421.86 2135.63 1421.55 Q2130.84 1421.2 2126.34 1416.7 Q2121.82 1412.19 2121.49 1407.41 Q2121.18 1402.61 2125.13 1398.67 Z\" fill=\"#000000\" fill-rule=\"evenodd\" fill-opacity=\"1\" /><path clip-path=\"url(#clip210)\" d=\"M2137.22 1387.45 L2140.23 1384.44 L2158.3 1394.98 L2147.75 1376.93 L2151.3 1373.38 L2169.37 1383.92 L2158.81 1365.86 L2161.82 1362.85 L2175.36 1385.98 L2171.81 1389.53 L2152.84 1378.45 L2163.9 1397.44 L2160.35 1400.99 L2137.22 1387.45 Z\" fill=\"#000000\" fill-rule=\"evenodd\" fill-opacity=\"1\" /><path clip-path=\"url(#clip210)\" d=\"M2188.9 1350.31 L2199.96 1361.38 L2196.95 1364.39 L2185.98 1353.42 Q2183.38 1350.82 2181.07 1350.54 Q2178.76 1350.27 2176.73 1352.29 Q2174.3 1354.73 2174.44 1357.7 Q2174.59 1360.66 2177.27 1363.34 L2187.64 1373.7 L2184.61 1376.73 L2166.28 1358.4 L2169.3 1355.37 L2172.15 1358.22 Q2171.58 1355.49 2172.22 1353.21 Q2172.87 1350.92 2174.79 1349 Q2177.95 1345.85 2181.53 1346.19 Q2185.1 1346.52 2188.9 1350.31 Z\" fill=\"#000000\" fill-rule=\"evenodd\" fill-opacity=\"1\" /><polyline clip-path=\"url(#clip212)\" style=\"stroke:#000000; stroke-linecap:butt; stroke-linejoin:round; stroke-width:2; stroke-opacity:0.1; fill:none\" points=\"\n",
       "  265.445,1278.01 2352.76,1278.01 \n",
       "  \"/>\n",
       "<polyline clip-path=\"url(#clip212)\" style=\"stroke:#000000; stroke-linecap:butt; stroke-linejoin:round; stroke-width:2; stroke-opacity:0.1; fill:none\" points=\"\n",
       "  265.445,974.235 2352.76,974.235 \n",
       "  \"/>\n",
       "<polyline clip-path=\"url(#clip212)\" style=\"stroke:#000000; stroke-linecap:butt; stroke-linejoin:round; stroke-width:2; stroke-opacity:0.1; fill:none\" points=\"\n",
       "  265.445,670.466 2352.76,670.466 \n",
       "  \"/>\n",
       "<polyline clip-path=\"url(#clip212)\" style=\"stroke:#000000; stroke-linecap:butt; stroke-linejoin:round; stroke-width:2; stroke-opacity:0.1; fill:none\" points=\"\n",
       "  265.445,366.696 2352.76,366.696 \n",
       "  \"/>\n",
       "<polyline clip-path=\"url(#clip210)\" style=\"stroke:#000000; stroke-linecap:butt; stroke-linejoin:round; stroke-width:4; stroke-opacity:1; fill:none\" points=\"\n",
       "  265.445,1311.63 265.445,123.472 \n",
       "  \"/>\n",
       "<polyline clip-path=\"url(#clip210)\" style=\"stroke:#000000; stroke-linecap:butt; stroke-linejoin:round; stroke-width:4; stroke-opacity:1; fill:none\" points=\"\n",
       "  265.445,1278.01 284.342,1278.01 \n",
       "  \"/>\n",
       "<polyline clip-path=\"url(#clip210)\" style=\"stroke:#000000; stroke-linecap:butt; stroke-linejoin:round; stroke-width:4; stroke-opacity:1; fill:none\" points=\"\n",
       "  265.445,974.235 284.342,974.235 \n",
       "  \"/>\n",
       "<polyline clip-path=\"url(#clip210)\" style=\"stroke:#000000; stroke-linecap:butt; stroke-linejoin:round; stroke-width:4; stroke-opacity:1; fill:none\" points=\"\n",
       "  265.445,670.466 284.342,670.466 \n",
       "  \"/>\n",
       "<polyline clip-path=\"url(#clip210)\" style=\"stroke:#000000; stroke-linecap:butt; stroke-linejoin:round; stroke-width:4; stroke-opacity:1; fill:none\" points=\"\n",
       "  265.445,366.696 284.342,366.696 \n",
       "  \"/>\n",
       "<path clip-path=\"url(#clip210)\" d=\"M217.5 1263.8 Q213.889 1263.8 212.061 1267.37 Q210.255 1270.91 210.255 1278.04 Q210.255 1285.15 212.061 1288.71 Q213.889 1292.25 217.5 1292.25 Q221.135 1292.25 222.94 1288.71 Q224.769 1285.15 224.769 1278.04 Q224.769 1270.91 222.94 1267.37 Q221.135 1263.8 217.5 1263.8 M217.5 1260.1 Q223.31 1260.1 226.366 1264.71 Q229.445 1269.29 229.445 1278.04 Q229.445 1286.77 226.366 1291.37 Q223.31 1295.96 217.5 1295.96 Q211.69 1295.96 208.612 1291.37 Q205.556 1286.77 205.556 1278.04 Q205.556 1269.29 208.612 1264.71 Q211.69 1260.1 217.5 1260.1 Z\" fill=\"#000000\" fill-rule=\"evenodd\" fill-opacity=\"1\" /><path clip-path=\"url(#clip210)\" d=\"M121.043 987.58 L137.362 987.58 L137.362 991.515 L115.418 991.515 L115.418 987.58 Q118.08 984.826 122.663 980.196 Q127.269 975.543 128.45 974.201 Q130.695 971.678 131.575 969.941 Q132.478 968.182 132.478 966.492 Q132.478 963.738 130.533 962.002 Q128.612 960.266 125.51 960.266 Q123.311 960.266 120.857 961.029 Q118.427 961.793 115.649 963.344 L115.649 958.622 Q118.473 957.488 120.927 956.909 Q123.38 956.33 125.418 956.33 Q130.788 956.33 133.982 959.016 Q137.177 961.701 137.177 966.191 Q137.177 968.321 136.367 970.242 Q135.579 972.141 133.473 974.733 Q132.894 975.404 129.792 978.622 Q126.691 981.816 121.043 987.58 Z\" fill=\"#000000\" fill-rule=\"evenodd\" fill-opacity=\"1\" /><path clip-path=\"url(#clip210)\" d=\"M157.177 960.034 Q153.566 960.034 151.737 963.599 Q149.931 967.141 149.931 974.27 Q149.931 981.377 151.737 984.941 Q153.566 988.483 157.177 988.483 Q160.811 988.483 162.616 984.941 Q164.445 981.377 164.445 974.27 Q164.445 967.141 162.616 963.599 Q160.811 960.034 157.177 960.034 M157.177 956.33 Q162.987 956.33 166.042 960.937 Q169.121 965.52 169.121 974.27 Q169.121 982.997 166.042 987.603 Q162.987 992.187 157.177 992.187 Q151.366 992.187 148.288 987.603 Q145.232 982.997 145.232 974.27 Q145.232 965.52 148.288 960.937 Q151.366 956.33 157.177 956.33 Z\" fill=\"#000000\" fill-rule=\"evenodd\" fill-opacity=\"1\" /><path clip-path=\"url(#clip210)\" d=\"M187.338 960.034 Q183.727 960.034 181.899 963.599 Q180.093 967.141 180.093 974.27 Q180.093 981.377 181.899 984.941 Q183.727 988.483 187.338 988.483 Q190.973 988.483 192.778 984.941 Q194.607 981.377 194.607 974.27 Q194.607 967.141 192.778 963.599 Q190.973 960.034 187.338 960.034 M187.338 956.33 Q193.149 956.33 196.204 960.937 Q199.283 965.52 199.283 974.27 Q199.283 982.997 196.204 987.603 Q193.149 992.187 187.338 992.187 Q181.528 992.187 178.45 987.603 Q175.394 982.997 175.394 974.27 Q175.394 965.52 178.45 960.937 Q181.528 956.33 187.338 956.33 Z\" fill=\"#000000\" fill-rule=\"evenodd\" fill-opacity=\"1\" /><path clip-path=\"url(#clip210)\" d=\"M217.5 960.034 Q213.889 960.034 212.061 963.599 Q210.255 967.141 210.255 974.27 Q210.255 981.377 212.061 984.941 Q213.889 988.483 217.5 988.483 Q221.135 988.483 222.94 984.941 Q224.769 981.377 224.769 974.27 Q224.769 967.141 222.94 963.599 Q221.135 960.034 217.5 960.034 M217.5 956.33 Q223.31 956.33 226.366 960.937 Q229.445 965.52 229.445 974.27 Q229.445 982.997 226.366 987.603 Q223.31 992.187 217.5 992.187 Q211.69 992.187 208.612 987.603 Q205.556 982.997 205.556 974.27 Q205.556 965.52 208.612 960.937 Q211.69 956.33 217.5 956.33 Z\" fill=\"#000000\" fill-rule=\"evenodd\" fill-opacity=\"1\" /><path clip-path=\"url(#clip210)\" d=\"M129.862 657.26 L118.056 675.709 L129.862 675.709 L129.862 657.26 M128.635 653.186 L134.515 653.186 L134.515 675.709 L139.445 675.709 L139.445 679.598 L134.515 679.598 L134.515 687.746 L129.862 687.746 L129.862 679.598 L114.26 679.598 L114.26 675.084 L128.635 653.186 Z\" fill=\"#000000\" fill-rule=\"evenodd\" fill-opacity=\"1\" /><path clip-path=\"url(#clip210)\" d=\"M157.177 656.264 Q153.566 656.264 151.737 659.829 Q149.931 663.371 149.931 670.5 Q149.931 677.607 151.737 681.172 Q153.566 684.713 157.177 684.713 Q160.811 684.713 162.616 681.172 Q164.445 677.607 164.445 670.5 Q164.445 663.371 162.616 659.829 Q160.811 656.264 157.177 656.264 M157.177 652.561 Q162.987 652.561 166.042 657.167 Q169.121 661.751 169.121 670.5 Q169.121 679.227 166.042 683.834 Q162.987 688.417 157.177 688.417 Q151.366 688.417 148.288 683.834 Q145.232 679.227 145.232 670.5 Q145.232 661.751 148.288 657.167 Q151.366 652.561 157.177 652.561 Z\" fill=\"#000000\" fill-rule=\"evenodd\" fill-opacity=\"1\" /><path clip-path=\"url(#clip210)\" d=\"M187.338 656.264 Q183.727 656.264 181.899 659.829 Q180.093 663.371 180.093 670.5 Q180.093 677.607 181.899 681.172 Q183.727 684.713 187.338 684.713 Q190.973 684.713 192.778 681.172 Q194.607 677.607 194.607 670.5 Q194.607 663.371 192.778 659.829 Q190.973 656.264 187.338 656.264 M187.338 652.561 Q193.149 652.561 196.204 657.167 Q199.283 661.751 199.283 670.5 Q199.283 679.227 196.204 683.834 Q193.149 688.417 187.338 688.417 Q181.528 688.417 178.45 683.834 Q175.394 679.227 175.394 670.5 Q175.394 661.751 178.45 657.167 Q181.528 652.561 187.338 652.561 Z\" fill=\"#000000\" fill-rule=\"evenodd\" fill-opacity=\"1\" /><path clip-path=\"url(#clip210)\" d=\"M217.5 656.264 Q213.889 656.264 212.061 659.829 Q210.255 663.371 210.255 670.5 Q210.255 677.607 212.061 681.172 Q213.889 684.713 217.5 684.713 Q221.135 684.713 222.94 681.172 Q224.769 677.607 224.769 670.5 Q224.769 663.371 222.94 659.829 Q221.135 656.264 217.5 656.264 M217.5 652.561 Q223.31 652.561 226.366 657.167 Q229.445 661.751 229.445 670.5 Q229.445 679.227 226.366 683.834 Q223.31 688.417 217.5 688.417 Q211.69 688.417 208.612 683.834 Q205.556 679.227 205.556 670.5 Q205.556 661.751 208.612 657.167 Q211.69 652.561 217.5 652.561 Z\" fill=\"#000000\" fill-rule=\"evenodd\" fill-opacity=\"1\" /><path clip-path=\"url(#clip210)\" d=\"M127.593 364.833 Q124.445 364.833 122.593 366.985 Q120.765 369.138 120.765 372.888 Q120.765 376.615 122.593 378.791 Q124.445 380.944 127.593 380.944 Q130.742 380.944 132.57 378.791 Q134.422 376.615 134.422 372.888 Q134.422 369.138 132.57 366.985 Q130.742 364.833 127.593 364.833 M136.876 350.18 L136.876 354.439 Q135.117 353.606 133.311 353.166 Q131.529 352.726 129.769 352.726 Q125.14 352.726 122.686 355.851 Q120.255 358.976 119.908 365.296 Q121.274 363.282 123.334 362.217 Q125.394 361.129 127.871 361.129 Q133.08 361.129 136.089 364.3 Q139.121 367.448 139.121 372.888 Q139.121 378.212 135.973 381.43 Q132.825 384.647 127.593 384.647 Q121.598 384.647 118.427 380.064 Q115.256 375.458 115.256 366.731 Q115.256 358.536 119.144 353.675 Q123.033 348.791 129.584 348.791 Q131.343 348.791 133.126 349.138 Q134.931 349.486 136.876 350.18 Z\" fill=\"#000000\" fill-rule=\"evenodd\" fill-opacity=\"1\" /><path clip-path=\"url(#clip210)\" d=\"M157.177 352.495 Q153.566 352.495 151.737 356.06 Q149.931 359.601 149.931 366.731 Q149.931 373.837 151.737 377.402 Q153.566 380.944 157.177 380.944 Q160.811 380.944 162.616 377.402 Q164.445 373.837 164.445 366.731 Q164.445 359.601 162.616 356.06 Q160.811 352.495 157.177 352.495 M157.177 348.791 Q162.987 348.791 166.042 353.398 Q169.121 357.981 169.121 366.731 Q169.121 375.458 166.042 380.064 Q162.987 384.647 157.177 384.647 Q151.366 384.647 148.288 380.064 Q145.232 375.458 145.232 366.731 Q145.232 357.981 148.288 353.398 Q151.366 348.791 157.177 348.791 Z\" fill=\"#000000\" fill-rule=\"evenodd\" fill-opacity=\"1\" /><path clip-path=\"url(#clip210)\" d=\"M187.338 352.495 Q183.727 352.495 181.899 356.06 Q180.093 359.601 180.093 366.731 Q180.093 373.837 181.899 377.402 Q183.727 380.944 187.338 380.944 Q190.973 380.944 192.778 377.402 Q194.607 373.837 194.607 366.731 Q194.607 359.601 192.778 356.06 Q190.973 352.495 187.338 352.495 M187.338 348.791 Q193.149 348.791 196.204 353.398 Q199.283 357.981 199.283 366.731 Q199.283 375.458 196.204 380.064 Q193.149 384.647 187.338 384.647 Q181.528 384.647 178.45 380.064 Q175.394 375.458 175.394 366.731 Q175.394 357.981 178.45 353.398 Q181.528 348.791 187.338 348.791 Z\" fill=\"#000000\" fill-rule=\"evenodd\" fill-opacity=\"1\" /><path clip-path=\"url(#clip210)\" d=\"M217.5 352.495 Q213.889 352.495 212.061 356.06 Q210.255 359.601 210.255 366.731 Q210.255 373.837 212.061 377.402 Q213.889 380.944 217.5 380.944 Q221.135 380.944 222.94 377.402 Q224.769 373.837 224.769 366.731 Q224.769 359.601 222.94 356.06 Q221.135 352.495 217.5 352.495 M217.5 348.791 Q223.31 348.791 226.366 353.398 Q229.445 357.981 229.445 366.731 Q229.445 375.458 226.366 380.064 Q223.31 384.647 217.5 384.647 Q211.69 384.647 208.612 380.064 Q205.556 375.458 205.556 366.731 Q205.556 357.981 208.612 353.398 Q211.69 348.791 217.5 348.791 Z\" fill=\"#000000\" fill-rule=\"evenodd\" fill-opacity=\"1\" /><path clip-path=\"url(#clip210)\" d=\"M14.1925 974.599 L79.3773 974.599 L79.3773 980.01 L14.1925 980.01 L14.1925 974.599 Z\" fill=\"#000000\" fill-rule=\"evenodd\" fill-opacity=\"1\" /><path clip-path=\"url(#clip210)\" d=\"M20.1444 924.342 L26.9239 924.342 Q23.9002 927.589 22.4043 931.281 Q20.9083 934.941 20.9083 939.079 Q20.9083 947.227 25.9054 951.556 Q30.8707 955.884 40.2919 955.884 Q49.6813 955.884 54.6784 951.556 Q59.6436 947.227 59.6436 939.079 Q59.6436 934.941 58.1477 931.281 Q56.6518 927.589 53.6281 924.342 L60.3439 924.342 Q62.6355 927.716 63.7814 931.504 Q64.9272 935.259 64.9272 939.461 Q64.9272 950.251 58.3387 956.457 Q51.7183 962.664 40.2919 962.664 Q28.8336 962.664 22.2451 956.457 Q15.6248 950.251 15.6248 939.461 Q15.6248 935.196 16.7706 931.44 Q17.8846 927.652 20.1444 924.342 Z\" fill=\"#000000\" fill-rule=\"evenodd\" fill-opacity=\"1\" /><path clip-path=\"url(#clip210)\" d=\"M32.4621 900.853 Q32.4621 905.563 36.1542 908.301 Q39.8145 911.038 46.212 911.038 Q52.6095 911.038 56.3017 908.332 Q59.9619 905.595 59.9619 900.853 Q59.9619 896.174 56.2698 893.437 Q52.5777 890.699 46.212 890.699 Q39.8781 890.699 36.186 893.437 Q32.4621 896.174 32.4621 900.853 M27.4968 900.853 Q27.4968 893.214 32.4621 888.853 Q37.4273 884.493 46.212 884.493 Q54.9649 884.493 59.9619 888.853 Q64.9272 893.214 64.9272 900.853 Q64.9272 908.523 59.9619 912.884 Q54.9649 917.213 46.212 917.213 Q37.4273 917.213 32.4621 912.884 Q27.4968 908.523 27.4968 900.853 Z\" fill=\"#000000\" fill-rule=\"evenodd\" fill-opacity=\"1\" /><path clip-path=\"url(#clip210)\" d=\"M44.7161 844.293 L47.5806 844.293 L47.5806 871.22 Q53.6281 870.838 56.8109 867.592 Q59.9619 864.314 59.9619 858.489 Q59.9619 855.115 59.1344 851.964 Q58.3069 848.781 56.6518 845.662 L62.1899 845.662 Q63.5267 848.813 64.227 852.123 Q64.9272 855.433 64.9272 858.839 Q64.9272 867.369 59.9619 872.366 Q54.9967 877.331 46.5303 877.331 Q37.7774 877.331 32.6531 872.621 Q27.4968 867.878 27.4968 859.858 Q27.4968 852.664 32.1438 848.495 Q36.7589 844.293 44.7161 844.293 M42.9973 850.15 Q38.1912 850.214 35.3266 852.855 Q32.4621 855.465 32.4621 859.794 Q32.4621 864.696 35.2312 867.656 Q38.0002 870.584 43.0292 871.029 L42.9973 850.15 Z\" fill=\"#000000\" fill-rule=\"evenodd\" fill-opacity=\"1\" /><path clip-path=\"url(#clip210)\" d=\"M14.479 816.634 L19.3487 816.634 L19.3487 822.236 Q19.3487 825.387 20.6219 826.629 Q21.895 827.838 25.2052 827.838 L28.3562 827.838 L28.3562 818.194 L32.9077 818.194 L32.9077 827.838 L64.0042 827.838 L64.0042 833.726 L32.9077 833.726 L32.9077 839.328 L28.3562 839.328 L28.3562 833.726 L25.8736 833.726 Q19.9216 833.726 17.2162 830.957 Q14.479 828.188 14.479 822.173 L14.479 816.634 Z\" fill=\"#000000\" fill-rule=\"evenodd\" fill-opacity=\"1\" /><path clip-path=\"url(#clip210)\" d=\"M14.479 793.686 L19.3487 793.686 L19.3487 799.288 Q19.3487 802.439 20.6219 803.68 Q21.895 804.89 25.2052 804.89 L28.3562 804.89 L28.3562 795.246 L32.9077 795.246 L32.9077 804.89 L64.0042 804.89 L64.0042 810.778 L32.9077 810.778 L32.9077 816.38 L28.3562 816.38 L28.3562 810.778 L25.8736 810.778 Q19.9216 810.778 17.2162 808.009 Q14.479 805.24 14.479 799.224 L14.479 793.686 Z\" fill=\"#000000\" fill-rule=\"evenodd\" fill-opacity=\"1\" /><path clip-path=\"url(#clip210)\" d=\"M28.3562 788.784 L28.3562 782.928 L64.0042 782.928 L64.0042 788.784 L28.3562 788.784 M14.479 788.784 L14.479 782.928 L21.895 782.928 L21.895 788.784 L14.479 788.784 Z\" fill=\"#000000\" fill-rule=\"evenodd\" fill-opacity=\"1\" /><path clip-path=\"url(#clip210)\" d=\"M29.7248 745.02 L35.1993 745.02 Q33.8307 747.503 33.1623 750.017 Q32.4621 752.5 32.4621 755.046 Q32.4621 760.744 36.0905 763.895 Q39.6872 767.046 46.212 767.046 Q52.7369 767.046 56.3653 763.895 Q59.9619 760.744 59.9619 755.046 Q59.9619 752.5 59.2935 750.017 Q58.5933 747.503 57.2247 745.02 L62.6355 745.02 Q63.7814 747.471 64.3543 750.113 Q64.9272 752.723 64.9272 755.683 Q64.9272 763.735 59.8664 768.478 Q54.8057 773.22 46.212 773.22 Q37.491 773.22 32.4939 768.446 Q27.4968 763.64 27.4968 755.301 Q27.4968 752.595 28.0697 750.017 Q28.6108 747.439 29.7248 745.02 Z\" fill=\"#000000\" fill-rule=\"evenodd\" fill-opacity=\"1\" /><path clip-path=\"url(#clip210)\" d=\"M28.3562 734.835 L28.3562 728.979 L64.0042 728.979 L64.0042 734.835 L28.3562 734.835 M14.479 734.835 L14.479 728.979 L21.895 728.979 L21.895 734.835 L14.479 734.835 Z\" fill=\"#000000\" fill-rule=\"evenodd\" fill-opacity=\"1\" /><path clip-path=\"url(#clip210)\" d=\"M44.7161 686.233 L47.5806 686.233 L47.5806 713.16 Q53.6281 712.778 56.8109 709.531 Q59.9619 706.253 59.9619 700.428 Q59.9619 697.055 59.1344 693.904 Q58.3069 690.721 56.6518 687.602 L62.1899 687.602 Q63.5267 690.753 64.227 694.063 Q64.9272 697.373 64.9272 700.779 Q64.9272 709.309 59.9619 714.306 Q54.9967 719.271 46.5303 719.271 Q37.7774 719.271 32.6531 714.56 Q27.4968 709.818 27.4968 701.797 Q27.4968 694.604 32.1438 690.434 Q36.7589 686.233 44.7161 686.233 M42.9973 692.089 Q38.1912 692.153 35.3266 694.795 Q32.4621 697.405 32.4621 701.733 Q32.4621 706.635 35.2312 709.595 Q38.0002 712.523 43.0292 712.969 L42.9973 692.089 Z\" fill=\"#000000\" fill-rule=\"evenodd\" fill-opacity=\"1\" /><path clip-path=\"url(#clip210)\" d=\"M42.4881 646.988 L64.0042 646.988 L64.0042 652.845 L42.679 652.845 Q37.6183 652.845 35.1038 654.818 Q32.5894 656.792 32.5894 660.738 Q32.5894 665.481 35.6131 668.218 Q38.6368 670.955 43.8567 670.955 L64.0042 670.955 L64.0042 676.844 L28.3562 676.844 L28.3562 670.955 L33.8944 670.955 Q30.6797 668.855 29.0883 666.022 Q27.4968 663.157 27.4968 659.433 Q27.4968 653.29 31.3163 650.139 Q35.1038 646.988 42.4881 646.988 Z\" fill=\"#000000\" fill-rule=\"evenodd\" fill-opacity=\"1\" /><path clip-path=\"url(#clip210)\" d=\"M18.2347 629.514 L28.3562 629.514 L28.3562 617.451 L32.9077 617.451 L32.9077 629.514 L52.2594 629.514 Q56.6199 629.514 57.8613 628.337 Q59.1026 627.127 59.1026 623.467 L59.1026 617.451 L64.0042 617.451 L64.0042 623.467 Q64.0042 630.247 61.4897 632.825 Q58.9434 635.403 52.2594 635.403 L32.9077 635.403 L32.9077 639.7 L28.3562 639.7 L28.3562 635.403 L18.2347 635.403 L18.2347 629.514 Z\" fill=\"#000000\" fill-rule=\"evenodd\" fill-opacity=\"1\" /><path clip-path=\"url(#clip210)\" d=\"M29.4065 566.303 L34.9447 566.303 Q33.6716 568.786 33.035 571.459 Q32.3984 574.133 32.3984 576.997 Q32.3984 581.358 33.7352 583.554 Q35.072 585.718 37.7456 585.718 Q39.7826 585.718 40.9603 584.159 Q42.1061 582.599 43.1565 577.889 L43.6021 575.883 Q44.9389 569.645 47.3897 567.035 Q49.8086 564.393 54.1691 564.393 Q59.1344 564.393 62.0308 568.34 Q64.9272 572.255 64.9272 579.13 Q64.9272 581.994 64.3543 585.114 Q63.8132 588.201 62.6992 591.639 L56.6518 591.639 Q58.3387 588.392 59.198 585.241 Q60.0256 582.09 60.0256 579.003 Q60.0256 574.865 58.6251 572.637 Q57.1929 570.409 54.6147 570.409 Q52.2276 570.409 50.9545 572.032 Q49.6813 573.624 48.5037 579.066 L48.0262 581.103 Q46.8804 586.546 44.5251 588.965 Q42.138 591.384 38.0002 591.384 Q32.9713 591.384 30.2341 587.819 Q27.4968 584.254 27.4968 577.698 Q27.4968 574.451 27.9743 571.587 Q28.4517 568.722 29.4065 566.303 Z\" fill=\"#000000\" fill-rule=\"evenodd\" fill-opacity=\"1\" /><path clip-path=\"url(#clip210)\" d=\"M28.3562 555.068 L28.3562 549.211 L64.0042 549.211 L64.0042 555.068 L28.3562 555.068 M14.479 555.068 L14.479 549.211 L21.895 549.211 L21.895 555.068 L14.479 555.068 Z\" fill=\"#000000\" fill-rule=\"evenodd\" fill-opacity=\"1\" /><path clip-path=\"url(#clip210)\" d=\"M28.3562 539.503 L28.3562 511.685 L33.7034 511.685 L59.3254 533.711 L59.3254 511.685 L64.0042 511.685 L64.0042 540.299 L58.657 540.299 L33.035 518.274 L33.035 539.503 L28.3562 539.503 Z\" fill=\"#000000\" fill-rule=\"evenodd\" fill-opacity=\"1\" /><path clip-path=\"url(#clip210)\" d=\"M44.7161 472.25 L47.5806 472.25 L47.5806 499.177 Q53.6281 498.795 56.8109 495.548 Q59.9619 492.27 59.9619 486.445 Q59.9619 483.071 59.1344 479.92 Q58.3069 476.738 56.6518 473.618 L62.1899 473.618 Q63.5267 476.769 64.227 480.08 Q64.9272 483.39 64.9272 486.795 Q64.9272 495.325 59.9619 500.322 Q54.9967 505.288 46.5303 505.288 Q37.7774 505.288 32.6531 500.577 Q27.4968 495.835 27.4968 487.814 Q27.4968 480.621 32.1438 476.451 Q36.7589 472.25 44.7161 472.25 M42.9973 478.106 Q38.1912 478.17 35.3266 480.812 Q32.4621 483.422 32.4621 487.75 Q32.4621 492.652 35.2312 495.612 Q38.0002 498.54 43.0292 498.986 L42.9973 478.106 Z\" fill=\"#000000\" fill-rule=\"evenodd\" fill-opacity=\"1\" /><path clip-path=\"url(#clip210)\" d=\"M14.1925 455.094 L79.3773 455.094 L79.3773 460.505 L14.1925 460.505 L14.1925 455.094 Z\" fill=\"#000000\" fill-rule=\"evenodd\" fill-opacity=\"1\" /><path clip-path=\"url(#clip210)\" d=\"M952.884 12.096 L1004.05 12.096 L1004.05 18.9825 L982.577 18.9825 L982.577 72.576 L974.354 72.576 L974.354 18.9825 L952.884 18.9825 L952.884 12.096 Z\" fill=\"#000000\" fill-rule=\"evenodd\" fill-opacity=\"1\" /><path clip-path=\"url(#clip210)\" d=\"M1015.11 32.4315 Q1009.11 32.4315 1005.63 37.1306 Q1002.14 41.7891 1002.14 49.9314 Q1002.14 58.0738 1005.59 62.7728 Q1009.07 67.4314 1015.11 67.4314 Q1021.06 67.4314 1024.54 62.7323 Q1028.03 58.0333 1028.03 49.9314 Q1028.03 41.8701 1024.54 37.1711 Q1021.06 32.4315 1015.11 32.4315 M1015.11 26.1121 Q1024.83 26.1121 1030.38 32.4315 Q1035.93 38.7509 1035.93 49.9314 Q1035.93 61.0714 1030.38 67.4314 Q1024.83 73.7508 1015.11 73.7508 Q1005.34 73.7508 999.794 67.4314 Q994.284 61.0714 994.284 49.9314 Q994.284 38.7509 999.794 32.4315 Q1005.34 26.1121 1015.11 26.1121 Z\" fill=\"#000000\" fill-rule=\"evenodd\" fill-opacity=\"1\" /><path clip-path=\"url(#clip210)\" d=\"M1055.49 65.7705 L1055.49 89.8329 L1048 89.8329 L1048 27.2059 L1055.49 27.2059 L1055.49 34.0924 Q1057.84 30.0415 1061.41 28.0971 Q1065.01 26.1121 1070 26.1121 Q1078.26 26.1121 1083.4 32.6746 Q1088.59 39.2371 1088.59 49.9314 Q1088.59 60.6258 1083.4 67.1883 Q1078.26 73.7508 1070 73.7508 Q1065.01 73.7508 1061.41 71.8063 Q1057.84 69.8214 1055.49 65.7705 M1080.85 49.9314 Q1080.85 41.7081 1077.45 37.0496 Q1074.09 32.3505 1068.17 32.3505 Q1062.26 32.3505 1058.86 37.0496 Q1055.49 41.7081 1055.49 49.9314 Q1055.49 58.1548 1058.86 62.8538 Q1062.26 67.5124 1068.17 67.5124 Q1074.09 67.5124 1077.45 62.8538 Q1080.85 58.1548 1080.85 49.9314 Z\" fill=\"#000000\" fill-rule=\"evenodd\" fill-opacity=\"1\" /><path clip-path=\"url(#clip210)\" d=\"M1129.79 65.6895 L1143.16 65.6895 L1143.16 19.5497 L1128.61 22.4663 L1128.61 15.0127 L1143.07 12.096 L1151.26 12.096 L1151.26 65.6895 L1164.62 65.6895 L1164.62 72.576 L1129.79 72.576 L1129.79 65.6895 Z\" fill=\"#000000\" fill-rule=\"evenodd\" fill-opacity=\"1\" /><path clip-path=\"url(#clip210)\" d=\"M1181.23 12.096 L1213.36 12.096 L1213.36 18.9825 L1188.73 18.9825 L1188.73 33.8088 Q1190.51 33.2012 1192.29 32.9176 Q1194.07 32.5936 1195.86 32.5936 Q1205.98 32.5936 1211.9 38.1433 Q1217.81 43.6931 1217.81 53.1722 Q1217.81 62.9348 1211.74 68.3631 Q1205.66 73.7508 1194.6 73.7508 Q1190.79 73.7508 1186.82 73.1026 Q1182.89 72.4545 1178.68 71.1582 L1178.68 62.9348 Q1182.33 64.9198 1186.22 65.892 Q1190.11 66.8642 1194.44 66.8642 Q1201.45 66.8642 1205.54 63.1779 Q1209.63 59.4916 1209.63 53.1722 Q1209.63 46.8528 1205.54 43.1664 Q1201.45 39.4801 1194.44 39.4801 Q1191.16 39.4801 1187.88 40.2093 Q1184.64 40.9384 1181.23 42.4778 L1181.23 12.096 Z\" fill=\"#000000\" fill-rule=\"evenodd\" fill-opacity=\"1\" /><path clip-path=\"url(#clip210)\" d=\"M1266.46 65.7705 L1266.46 89.8329 L1258.97 89.8329 L1258.97 27.2059 L1266.46 27.2059 L1266.46 34.0924 Q1268.81 30.0415 1272.38 28.0971 Q1275.98 26.1121 1280.97 26.1121 Q1289.23 26.1121 1294.38 32.6746 Q1299.56 39.2371 1299.56 49.9314 Q1299.56 60.6258 1294.38 67.1883 Q1289.23 73.7508 1280.97 73.7508 Q1275.98 73.7508 1272.38 71.8063 Q1268.81 69.8214 1266.46 65.7705 M1291.82 49.9314 Q1291.82 41.7081 1288.42 37.0496 Q1285.06 32.3505 1279.14 32.3505 Q1273.23 32.3505 1269.83 37.0496 Q1266.46 41.7081 1266.46 49.9314 Q1266.46 58.1548 1269.83 62.8538 Q1273.23 67.5124 1279.14 67.5124 Q1285.06 67.5124 1288.42 62.8538 Q1291.82 58.1548 1291.82 49.9314 Z\" fill=\"#000000\" fill-rule=\"evenodd\" fill-opacity=\"1\" /><path clip-path=\"url(#clip210)\" d=\"M1338.21 34.1734 Q1336.95 33.4443 1335.45 33.1202 Q1333.99 32.7556 1332.21 32.7556 Q1325.89 32.7556 1322.49 36.8875 Q1319.13 40.9789 1319.13 48.6757 L1319.13 72.576 L1311.63 72.576 L1311.63 27.2059 L1319.13 27.2059 L1319.13 34.2544 Q1321.48 30.1225 1325.24 28.1376 Q1329.01 26.1121 1334.4 26.1121 Q1335.17 26.1121 1336.1 26.2337 Q1337.03 26.3147 1338.17 26.5172 L1338.21 34.1734 Z\" fill=\"#000000\" fill-rule=\"evenodd\" fill-opacity=\"1\" /><path clip-path=\"url(#clip210)\" d=\"M1383.01 48.0275 L1383.01 51.6733 L1348.74 51.6733 Q1349.22 59.3701 1353.36 63.421 Q1357.53 67.4314 1364.94 67.4314 Q1369.24 67.4314 1373.25 66.3781 Q1377.3 65.3249 1381.27 63.2184 L1381.27 70.267 Q1377.26 71.9684 1373.04 72.8596 Q1368.83 73.7508 1364.5 73.7508 Q1353.64 73.7508 1347.28 67.4314 Q1340.96 61.1119 1340.96 50.3365 Q1340.96 39.1965 1346.96 32.6746 Q1352.99 26.1121 1363.2 26.1121 Q1372.36 26.1121 1377.66 32.0264 Q1383.01 37.9003 1383.01 48.0275 M1375.56 45.84 Q1375.47 39.7232 1372.11 36.0774 Q1368.79 32.4315 1363.28 32.4315 Q1357.04 32.4315 1353.28 35.9558 Q1349.55 39.4801 1348.98 45.8805 L1375.56 45.84 Z\" fill=\"#000000\" fill-rule=\"evenodd\" fill-opacity=\"1\" /><path clip-path=\"url(#clip210)\" d=\"M1425.1 34.0924 L1425.1 9.54393 L1432.55 9.54393 L1432.55 72.576 L1425.1 72.576 L1425.1 65.7705 Q1422.75 69.8214 1419.14 71.8063 Q1415.58 73.7508 1410.56 73.7508 Q1402.33 73.7508 1397.15 67.1883 Q1392 60.6258 1392 49.9314 Q1392 39.2371 1397.15 32.6746 Q1402.33 26.1121 1410.56 26.1121 Q1415.58 26.1121 1419.14 28.0971 Q1422.75 30.0415 1425.1 34.0924 M1399.7 49.9314 Q1399.7 58.1548 1403.06 62.8538 Q1406.46 67.5124 1412.38 67.5124 Q1418.29 67.5124 1421.7 62.8538 Q1425.1 58.1548 1425.1 49.9314 Q1425.1 41.7081 1421.7 37.0496 Q1418.29 32.3505 1412.38 32.3505 Q1406.46 32.3505 1403.06 37.0496 Q1399.7 41.7081 1399.7 49.9314 Z\" fill=\"#000000\" fill-rule=\"evenodd\" fill-opacity=\"1\" /><path clip-path=\"url(#clip210)\" d=\"M1447.9 27.2059 L1455.36 27.2059 L1455.36 72.576 L1447.9 72.576 L1447.9 27.2059 M1447.9 9.54393 L1455.36 9.54393 L1455.36 18.9825 L1447.9 18.9825 L1447.9 9.54393 Z\" fill=\"#000000\" fill-rule=\"evenodd\" fill-opacity=\"1\" /><path clip-path=\"url(#clip210)\" d=\"M1503.6 28.9478 L1503.6 35.9153 Q1500.44 34.1734 1497.24 33.3227 Q1494.08 32.4315 1490.84 32.4315 Q1483.59 32.4315 1479.58 37.0496 Q1475.57 41.6271 1475.57 49.9314 Q1475.57 58.2358 1479.58 62.8538 Q1483.59 67.4314 1490.84 67.4314 Q1494.08 67.4314 1497.24 66.5807 Q1500.44 65.6895 1503.6 63.9476 L1503.6 70.8341 Q1500.49 72.2924 1497.12 73.0216 Q1493.8 73.7508 1490.03 73.7508 Q1479.79 73.7508 1473.75 67.3098 Q1467.71 60.8689 1467.71 49.9314 Q1467.71 38.832 1473.79 32.472 Q1479.91 26.1121 1490.52 26.1121 Q1493.96 26.1121 1497.24 26.8413 Q1500.53 27.5299 1503.6 28.9478 Z\" fill=\"#000000\" fill-rule=\"evenodd\" fill-opacity=\"1\" /><path clip-path=\"url(#clip210)\" d=\"M1523.94 14.324 L1523.94 27.2059 L1539.29 27.2059 L1539.29 32.9987 L1523.94 32.9987 L1523.94 57.6282 Q1523.94 63.1779 1525.44 64.7578 Q1526.98 66.3376 1531.64 66.3376 L1539.29 66.3376 L1539.29 72.576 L1531.64 72.576 Q1523.01 72.576 1519.73 69.3758 Q1516.45 66.1351 1516.45 57.6282 L1516.45 32.9987 L1510.98 32.9987 L1510.98 27.2059 L1516.45 27.2059 L1516.45 14.324 L1523.94 14.324 Z\" fill=\"#000000\" fill-rule=\"evenodd\" fill-opacity=\"1\" /><path clip-path=\"url(#clip210)\" d=\"M1566.68 32.4315 Q1560.68 32.4315 1557.2 37.1306 Q1553.71 41.7891 1553.71 49.9314 Q1553.71 58.0738 1557.16 62.7728 Q1560.64 67.4314 1566.68 67.4314 Q1572.63 67.4314 1576.12 62.7323 Q1579.6 58.0333 1579.6 49.9314 Q1579.6 41.8701 1576.12 37.1711 Q1572.63 32.4315 1566.68 32.4315 M1566.68 26.1121 Q1576.4 26.1121 1581.95 32.4315 Q1587.5 38.7509 1587.5 49.9314 Q1587.5 61.0714 1581.95 67.4314 Q1576.4 73.7508 1566.68 73.7508 Q1556.91 73.7508 1551.36 67.4314 Q1545.86 61.0714 1545.86 49.9314 Q1545.86 38.7509 1551.36 32.4315 Q1556.91 26.1121 1566.68 26.1121 Z\" fill=\"#000000\" fill-rule=\"evenodd\" fill-opacity=\"1\" /><path clip-path=\"url(#clip210)\" d=\"M1626.14 34.1734 Q1624.89 33.4443 1623.39 33.1202 Q1621.93 32.7556 1620.15 32.7556 Q1613.83 32.7556 1610.43 36.8875 Q1607.06 40.9789 1607.06 48.6757 L1607.06 72.576 L1599.57 72.576 L1599.57 27.2059 L1607.06 27.2059 L1607.06 34.2544 Q1609.41 30.1225 1613.18 28.1376 Q1616.95 26.1121 1622.34 26.1121 Q1623.11 26.1121 1624.04 26.2337 Q1624.97 26.3147 1626.1 26.5172 L1626.14 34.1734 Z\" fill=\"#000000\" fill-rule=\"evenodd\" fill-opacity=\"1\" /><path clip-path=\"url(#clip210)\" d=\"M1662.89 28.5427 L1662.89 35.5912 Q1659.73 33.9709 1656.32 33.1607 Q1652.92 32.3505 1649.27 32.3505 Q1643.73 32.3505 1640.93 34.0519 Q1638.18 35.7533 1638.18 39.156 Q1638.18 41.7486 1640.16 43.2475 Q1642.15 44.7058 1648.14 46.0426 L1650.69 46.6097 Q1658.63 48.3111 1661.95 51.4303 Q1665.32 54.509 1665.32 60.0587 Q1665.32 66.3781 1660.29 70.0644 Q1655.31 73.7508 1646.56 73.7508 Q1642.92 73.7508 1638.95 73.0216 Q1635.02 72.3329 1630.64 70.9151 L1630.64 63.2184 Q1634.77 65.3654 1638.78 66.4591 Q1642.79 67.5124 1646.72 67.5124 Q1651.99 67.5124 1654.82 65.73 Q1657.66 63.9071 1657.66 60.6258 Q1657.66 57.5877 1655.59 55.9673 Q1653.57 54.3469 1646.64 52.8481 L1644.05 52.2405 Q1637.12 50.7821 1634.04 47.7845 Q1630.96 44.7463 1630.96 39.4801 Q1630.96 33.0797 1635.5 29.5959 Q1640.04 26.1121 1648.38 26.1121 Q1652.52 26.1121 1656.16 26.7198 Q1659.81 27.3274 1662.89 28.5427 Z\" fill=\"#000000\" fill-rule=\"evenodd\" fill-opacity=\"1\" /><path clip-path=\"url(#clip212)\" d=\"\n",
       "M380.251 157.099 L380.251 1278.01 L480.667 1278.01 L480.667 157.099 L380.251 157.099 L380.251 157.099  Z\n",
       "  \" fill=\"#009af9\" fill-rule=\"evenodd\" fill-opacity=\"1\"/>\n",
       "<polyline clip-path=\"url(#clip212)\" style=\"stroke:#000000; stroke-linecap:butt; stroke-linejoin:round; stroke-width:4; stroke-opacity:1; fill:none\" points=\"\n",
       "  380.251,157.099 380.251,1278.01 480.667,1278.01 480.667,157.099 380.251,157.099 \n",
       "  \"/>\n",
       "<path clip-path=\"url(#clip212)\" d=\"\n",
       "M505.771 157.099 L505.771 1278.01 L606.187 1278.01 L606.187 157.099 L505.771 157.099 L505.771 157.099  Z\n",
       "  \" fill=\"#009af9\" fill-rule=\"evenodd\" fill-opacity=\"1\"/>\n",
       "<polyline clip-path=\"url(#clip212)\" style=\"stroke:#000000; stroke-linecap:butt; stroke-linejoin:round; stroke-width:4; stroke-opacity:1; fill:none\" points=\"\n",
       "  505.771,157.099 505.771,1278.01 606.187,1278.01 606.187,157.099 505.771,157.099 \n",
       "  \"/>\n",
       "<path clip-path=\"url(#clip212)\" d=\"\n",
       "M631.291 207.118 L631.291 1278.01 L731.707 1278.01 L731.707 207.118 L631.291 207.118 L631.291 207.118  Z\n",
       "  \" fill=\"#009af9\" fill-rule=\"evenodd\" fill-opacity=\"1\"/>\n",
       "<polyline clip-path=\"url(#clip212)\" style=\"stroke:#000000; stroke-linecap:butt; stroke-linejoin:round; stroke-width:4; stroke-opacity:1; fill:none\" points=\"\n",
       "  631.291,207.118 631.291,1278.01 731.707,1278.01 731.707,207.118 631.291,207.118 \n",
       "  \"/>\n",
       "<path clip-path=\"url(#clip212)\" d=\"\n",
       "M756.811 207.118 L756.811 1278.01 L857.227 1278.01 L857.227 207.118 L756.811 207.118 L756.811 207.118  Z\n",
       "  \" fill=\"#009af9\" fill-rule=\"evenodd\" fill-opacity=\"1\"/>\n",
       "<polyline clip-path=\"url(#clip212)\" style=\"stroke:#000000; stroke-linecap:butt; stroke-linejoin:round; stroke-width:4; stroke-opacity:1; fill:none\" points=\"\n",
       "  756.811,207.118 756.811,1278.01 857.227,1278.01 857.227,207.118 756.811,207.118 \n",
       "  \"/>\n",
       "<path clip-path=\"url(#clip212)\" d=\"\n",
       "M882.332 280.526 L882.332 1278.01 L982.748 1278.01 L982.748 280.526 L882.332 280.526 L882.332 280.526  Z\n",
       "  \" fill=\"#009af9\" fill-rule=\"evenodd\" fill-opacity=\"1\"/>\n",
       "<polyline clip-path=\"url(#clip212)\" style=\"stroke:#000000; stroke-linecap:butt; stroke-linejoin:round; stroke-width:4; stroke-opacity:1; fill:none\" points=\"\n",
       "  882.332,280.526 882.332,1278.01 982.748,1278.01 982.748,280.526 882.332,280.526 \n",
       "  \"/>\n",
       "<path clip-path=\"url(#clip212)\" d=\"\n",
       "M1007.85 280.526 L1007.85 1278.01 L1108.27 1278.01 L1108.27 280.526 L1007.85 280.526 L1007.85 280.526  Z\n",
       "  \" fill=\"#009af9\" fill-rule=\"evenodd\" fill-opacity=\"1\"/>\n",
       "<polyline clip-path=\"url(#clip212)\" style=\"stroke:#000000; stroke-linecap:butt; stroke-linejoin:round; stroke-width:4; stroke-opacity:1; fill:none\" points=\"\n",
       "  1007.85,280.526 1007.85,1278.01 1108.27,1278.01 1108.27,280.526 1007.85,280.526 \n",
       "  \"/>\n",
       "<path clip-path=\"url(#clip212)\" d=\"\n",
       "M1133.37 413.955 L1133.37 1278.01 L1233.79 1278.01 L1233.79 413.955 L1133.37 413.955 L1133.37 413.955  Z\n",
       "  \" fill=\"#009af9\" fill-rule=\"evenodd\" fill-opacity=\"1\"/>\n",
       "<polyline clip-path=\"url(#clip212)\" style=\"stroke:#000000; stroke-linecap:butt; stroke-linejoin:round; stroke-width:4; stroke-opacity:1; fill:none\" points=\"\n",
       "  1133.37,413.955 1133.37,1278.01 1233.79,1278.01 1233.79,413.955 1133.37,413.955 \n",
       "  \"/>\n",
       "<path clip-path=\"url(#clip212)\" d=\"\n",
       "M1258.89 413.955 L1258.89 1278.01 L1359.31 1278.01 L1359.31 413.955 L1258.89 413.955 L1258.89 413.955  Z\n",
       "  \" fill=\"#009af9\" fill-rule=\"evenodd\" fill-opacity=\"1\"/>\n",
       "<polyline clip-path=\"url(#clip212)\" style=\"stroke:#000000; stroke-linecap:butt; stroke-linejoin:round; stroke-width:4; stroke-opacity:1; fill:none\" points=\"\n",
       "  1258.89,413.955 1258.89,1278.01 1359.31,1278.01 1359.31,413.955 1258.89,413.955 \n",
       "  \"/>\n",
       "<path clip-path=\"url(#clip212)\" d=\"\n",
       "M1384.41 432.362 L1384.41 1278.01 L1484.83 1278.01 L1484.83 432.362 L1384.41 432.362 L1384.41 432.362  Z\n",
       "  \" fill=\"#009af9\" fill-rule=\"evenodd\" fill-opacity=\"1\"/>\n",
       "<polyline clip-path=\"url(#clip212)\" style=\"stroke:#000000; stroke-linecap:butt; stroke-linejoin:round; stroke-width:4; stroke-opacity:1; fill:none\" points=\"\n",
       "  1384.41,432.362 1384.41,1278.01 1484.83,1278.01 1484.83,432.362 1384.41,432.362 \n",
       "  \"/>\n",
       "<path clip-path=\"url(#clip212)\" d=\"\n",
       "M1509.93 432.362 L1509.93 1278.01 L1610.35 1278.01 L1610.35 432.362 L1509.93 432.362 L1509.93 432.362  Z\n",
       "  \" fill=\"#009af9\" fill-rule=\"evenodd\" fill-opacity=\"1\"/>\n",
       "<polyline clip-path=\"url(#clip212)\" style=\"stroke:#000000; stroke-linecap:butt; stroke-linejoin:round; stroke-width:4; stroke-opacity:1; fill:none\" points=\"\n",
       "  1509.93,432.362 1509.93,1278.01 1610.35,1278.01 1610.35,432.362 1509.93,432.362 \n",
       "  \"/>\n",
       "<path clip-path=\"url(#clip212)\" d=\"\n",
       "M1635.45 556.982 L1635.45 1278.01 L1735.87 1278.01 L1735.87 556.982 L1635.45 556.982 L1635.45 556.982  Z\n",
       "  \" fill=\"#009af9\" fill-rule=\"evenodd\" fill-opacity=\"1\"/>\n",
       "<polyline clip-path=\"url(#clip212)\" style=\"stroke:#000000; stroke-linecap:butt; stroke-linejoin:round; stroke-width:4; stroke-opacity:1; fill:none\" points=\"\n",
       "  1635.45,556.982 1635.45,1278.01 1735.87,1278.01 1735.87,556.982 1635.45,556.982 \n",
       "  \"/>\n",
       "<path clip-path=\"url(#clip212)\" d=\"\n",
       "M1760.97 556.982 L1760.97 1278.01 L1861.39 1278.01 L1861.39 556.982 L1760.97 556.982 L1760.97 556.982  Z\n",
       "  \" fill=\"#009af9\" fill-rule=\"evenodd\" fill-opacity=\"1\"/>\n",
       "<polyline clip-path=\"url(#clip212)\" style=\"stroke:#000000; stroke-linecap:butt; stroke-linejoin:round; stroke-width:4; stroke-opacity:1; fill:none\" points=\"\n",
       "  1760.97,556.982 1760.97,1278.01 1861.39,1278.01 1861.39,556.982 1760.97,556.982 \n",
       "  \"/>\n",
       "<path clip-path=\"url(#clip212)\" d=\"\n",
       "M1886.49 572.767 L1886.49 1278.01 L1986.91 1278.01 L1986.91 572.767 L1886.49 572.767 L1886.49 572.767  Z\n",
       "  \" fill=\"#009af9\" fill-rule=\"evenodd\" fill-opacity=\"1\"/>\n",
       "<polyline clip-path=\"url(#clip212)\" style=\"stroke:#000000; stroke-linecap:butt; stroke-linejoin:round; stroke-width:4; stroke-opacity:1; fill:none\" points=\"\n",
       "  1886.49,572.767 1886.49,1278.01 1986.91,1278.01 1986.91,572.767 1886.49,572.767 \n",
       "  \"/>\n",
       "<path clip-path=\"url(#clip212)\" d=\"\n",
       "M2012.01 572.767 L2012.01 1278.01 L2112.43 1278.01 L2112.43 572.767 L2012.01 572.767 L2012.01 572.767  Z\n",
       "  \" fill=\"#009af9\" fill-rule=\"evenodd\" fill-opacity=\"1\"/>\n",
       "<polyline clip-path=\"url(#clip212)\" style=\"stroke:#000000; stroke-linecap:butt; stroke-linejoin:round; stroke-width:4; stroke-opacity:1; fill:none\" points=\"\n",
       "  2012.01,572.767 2012.01,1278.01 2112.43,1278.01 2112.43,572.767 2012.01,572.767 \n",
       "  \"/>\n",
       "<path clip-path=\"url(#clip212)\" d=\"\n",
       "M2137.53 888.444 L2137.53 1278.01 L2237.95 1278.01 L2237.95 888.444 L2137.53 888.444 L2137.53 888.444  Z\n",
       "  \" fill=\"#009af9\" fill-rule=\"evenodd\" fill-opacity=\"1\"/>\n",
       "<polyline clip-path=\"url(#clip212)\" style=\"stroke:#000000; stroke-linecap:butt; stroke-linejoin:round; stroke-width:4; stroke-opacity:1; fill:none\" points=\"\n",
       "  2137.53,888.444 2137.53,1278.01 2237.95,1278.01 2237.95,888.444 2137.53,888.444 \n",
       "  \"/>\n",
       "<circle clip-path=\"url(#clip212)\" style=\"fill:#009af9; stroke:none; fill-opacity:0\" cx=\"430.459\" cy=\"157.099\" r=\"2\"/>\n",
       "<circle clip-path=\"url(#clip212)\" style=\"fill:#009af9; stroke:none; fill-opacity:0\" cx=\"555.979\" cy=\"157.099\" r=\"2\"/>\n",
       "<circle clip-path=\"url(#clip212)\" style=\"fill:#009af9; stroke:none; fill-opacity:0\" cx=\"681.499\" cy=\"207.118\" r=\"2\"/>\n",
       "<circle clip-path=\"url(#clip212)\" style=\"fill:#009af9; stroke:none; fill-opacity:0\" cx=\"807.019\" cy=\"207.118\" r=\"2\"/>\n",
       "<circle clip-path=\"url(#clip212)\" style=\"fill:#009af9; stroke:none; fill-opacity:0\" cx=\"932.54\" cy=\"280.526\" r=\"2\"/>\n",
       "<circle clip-path=\"url(#clip212)\" style=\"fill:#009af9; stroke:none; fill-opacity:0\" cx=\"1058.06\" cy=\"280.526\" r=\"2\"/>\n",
       "<circle clip-path=\"url(#clip212)\" style=\"fill:#009af9; stroke:none; fill-opacity:0\" cx=\"1183.58\" cy=\"413.955\" r=\"2\"/>\n",
       "<circle clip-path=\"url(#clip212)\" style=\"fill:#009af9; stroke:none; fill-opacity:0\" cx=\"1309.1\" cy=\"413.955\" r=\"2\"/>\n",
       "<circle clip-path=\"url(#clip212)\" style=\"fill:#009af9; stroke:none; fill-opacity:0\" cx=\"1434.62\" cy=\"432.362\" r=\"2\"/>\n",
       "<circle clip-path=\"url(#clip212)\" style=\"fill:#009af9; stroke:none; fill-opacity:0\" cx=\"1560.14\" cy=\"432.362\" r=\"2\"/>\n",
       "<circle clip-path=\"url(#clip212)\" style=\"fill:#009af9; stroke:none; fill-opacity:0\" cx=\"1685.66\" cy=\"556.982\" r=\"2\"/>\n",
       "<circle clip-path=\"url(#clip212)\" style=\"fill:#009af9; stroke:none; fill-opacity:0\" cx=\"1811.18\" cy=\"556.982\" r=\"2\"/>\n",
       "<circle clip-path=\"url(#clip212)\" style=\"fill:#009af9; stroke:none; fill-opacity:0\" cx=\"1936.7\" cy=\"572.767\" r=\"2\"/>\n",
       "<circle clip-path=\"url(#clip212)\" style=\"fill:#009af9; stroke:none; fill-opacity:0\" cx=\"2062.22\" cy=\"572.767\" r=\"2\"/>\n",
       "<circle clip-path=\"url(#clip212)\" style=\"fill:#009af9; stroke:none; fill-opacity:0\" cx=\"2187.74\" cy=\"888.444\" r=\"2\"/>\n",
       "<path clip-path=\"url(#clip210)\" d=\"\n",
       "M1998.83 266.757 L2283.18 266.757 L2283.18 163.077 L1998.83 163.077  Z\n",
       "  \" fill=\"#ffffff\" fill-rule=\"evenodd\" fill-opacity=\"1\"/>\n",
       "<polyline clip-path=\"url(#clip210)\" style=\"stroke:#000000; stroke-linecap:butt; stroke-linejoin:round; stroke-width:4; stroke-opacity:1; fill:none\" points=\"\n",
       "  1998.83,266.757 2283.18,266.757 2283.18,163.077 1998.83,163.077 1998.83,266.757 \n",
       "  \"/>\n",
       "<path clip-path=\"url(#clip210)\" d=\"\n",
       "M2022.02 235.653 L2161.17 235.653 L2161.17 194.181 L2022.02 194.181 L2022.02 235.653  Z\n",
       "  \" fill=\"#009af9\" fill-rule=\"evenodd\" fill-opacity=\"1\"/>\n",
       "<polyline clip-path=\"url(#clip210)\" style=\"stroke:#000000; stroke-linecap:butt; stroke-linejoin:round; stroke-width:4; stroke-opacity:1; fill:none\" points=\"\n",
       "  2022.02,235.653 2161.17,235.653 2161.17,194.181 2022.02,194.181 2022.02,235.653 \n",
       "  \"/>\n",
       "<path clip-path=\"url(#clip210)\" d=\"M2198.21 234.605 Q2196.4 239.234 2194.69 240.646 Q2192.97 242.059 2190.1 242.059 L2186.7 242.059 L2186.7 238.494 L2189.2 238.494 Q2190.96 238.494 2191.93 237.66 Q2192.91 236.827 2194.09 233.725 L2194.85 231.781 L2184.36 206.272 L2188.88 206.272 L2196.98 226.549 L2205.08 206.272 L2209.6 206.272 L2198.21 234.605 Z\" fill=\"#000000\" fill-rule=\"evenodd\" fill-opacity=\"1\" /><path clip-path=\"url(#clip210)\" d=\"M2216.89 228.262 L2224.53 228.262 L2224.53 201.897 L2216.22 203.563 L2216.22 199.304 L2224.48 197.637 L2229.16 197.637 L2229.16 228.262 L2236.79 228.262 L2236.79 232.197 L2216.89 232.197 L2216.89 228.262 Z\" fill=\"#000000\" fill-rule=\"evenodd\" fill-opacity=\"1\" /></svg>\n"
      ]
     },
     "execution_count": 13,
     "metadata": {},
     "output_type": "execute_result"
    }
   ],
   "source": [
    "coefs = coefs[.~(coef_vals .≈ 0)]\n",
    "coef_names = string.([c[1] for c in coefs])\n",
    "coef_vals = [abs(c[2]) for c in coefs]\n",
    "\n",
    "coefs = DataFrame(coef_names=coef_names, coef_vals=coef_vals)\n",
    "sort!(coefs, :coef_vals, rev=true)\n",
    "\n",
    "bar(coefs[1:15, 1], coefs[1:15, 2], ylabel=\"|Coefficient size|\", xrotation = 45, title=\"Top 15 predictors\", size=(600, 400))"
   ]
  },
  {
   "cell_type": "markdown",
   "id": "90cea627-0d7a-47c9-afd2-11cc121c4026",
   "metadata": {},
   "source": [
    "The procedure results in 86\\% of the 270 constructed terms being set to approximately zero and 38 variables being nonzero. As a result, there are now more than 4 times more predictor variables present than in the linear regression model. Interestingly, the model appear to choose only interaction terms where at least one of the terms is either squared or cubed. This is a strong indication that the prediction problem is non-linear and one should therefore exepct the Lasso model to outperform OLS."
   ]
  },
  {
   "cell_type": "markdown",
   "id": "d6e8ea8f-cfb8-42d4-adb0-eb6c62296cfe",
   "metadata": {
    "tags": []
   },
   "source": [
    "### (iv) Ridge\n",
    "\n",
    "In this section I repeat the above procedure using a Ridge regression."
   ]
  },
  {
   "cell_type": "code",
   "execution_count": 14,
   "id": "f357c8bb-9202-445c-b503-316c5aa65da3",
   "metadata": {},
   "outputs": [
    {
     "name": "stdout",
     "output_type": "stream",
     "text": [
      "import MLJLinearModels ✔\n"
     ]
    }
   ],
   "source": [
    "RidgeRegressor = @load RidgeRegressor pkg=MLJLinearModels;"
   ]
  },
  {
   "cell_type": "code",
   "execution_count": 15,
   "id": "47743d18-db77-46e9-ab22-74642b9db065",
   "metadata": {},
   "outputs": [
    {
     "name": "stderr",
     "output_type": "stream",
     "text": [
      "\u001b[33mEvaluating over 50 metamodels: 100%[=========================] Time: 0:00:10\u001b[39m\n"
     ]
    },
    {
     "name": "stdout",
     "output_type": "stream",
     "text": [
      "Opimtal penalty: 0.1326\n",
      "intercept = 18954.440283050226\n"
     ]
    },
    {
     "data": {
      "image/svg+xml": [
       "<?xml version=\"1.0\" encoding=\"utf-8\"?>\n",
       "<svg xmlns=\"http://www.w3.org/2000/svg\" xmlns:xlink=\"http://www.w3.org/1999/xlink\" width=\"600\" height=\"400\" viewBox=\"0 0 2400 1600\">\n",
       "<defs>\n",
       "  <clipPath id=\"clip250\">\n",
       "    <rect x=\"0\" y=\"0\" width=\"2400\" height=\"1600\"/>\n",
       "  </clipPath>\n",
       "</defs>\n",
       "<path clip-path=\"url(#clip250)\" d=\"\n",
       "M0 1600 L2400 1600 L2400 0 L0 0  Z\n",
       "  \" fill=\"#ffffff\" fill-rule=\"evenodd\" fill-opacity=\"1\"/>\n",
       "<defs>\n",
       "  <clipPath id=\"clip251\">\n",
       "    <rect x=\"480\" y=\"0\" width=\"1681\" height=\"1600\"/>\n",
       "  </clipPath>\n",
       "</defs>\n",
       "<path clip-path=\"url(#clip250)\" d=\"\n",
       "M294.611 1410.9 L2352.76 1410.9 L2352.76 47.2441 L294.611 47.2441  Z\n",
       "  \" fill=\"#ffffff\" fill-rule=\"evenodd\" fill-opacity=\"1\"/>\n",
       "<defs>\n",
       "  <clipPath id=\"clip252\">\n",
       "    <rect x=\"294\" y=\"47\" width=\"2059\" height=\"1365\"/>\n",
       "  </clipPath>\n",
       "</defs>\n",
       "<polyline clip-path=\"url(#clip252)\" style=\"stroke:#000000; stroke-linecap:butt; stroke-linejoin:round; stroke-width:2; stroke-opacity:0.1; fill:none\" points=\"\n",
       "  1215.81,1410.9 1215.81,47.2441 \n",
       "  \"/>\n",
       "<polyline clip-path=\"url(#clip252)\" style=\"stroke:#000000; stroke-linecap:butt; stroke-linejoin:round; stroke-width:2; stroke-opacity:0.1; fill:none\" points=\"\n",
       "  2294.51,1410.9 2294.51,47.2441 \n",
       "  \"/>\n",
       "<polyline clip-path=\"url(#clip250)\" style=\"stroke:#000000; stroke-linecap:butt; stroke-linejoin:round; stroke-width:4; stroke-opacity:1; fill:none\" points=\"\n",
       "  294.611,1410.9 2352.76,1410.9 \n",
       "  \"/>\n",
       "<polyline clip-path=\"url(#clip250)\" style=\"stroke:#000000; stroke-linecap:butt; stroke-linejoin:round; stroke-width:4; stroke-opacity:1; fill:none\" points=\"\n",
       "  294.611,47.2441 2352.76,47.2441 \n",
       "  \"/>\n",
       "<polyline clip-path=\"url(#clip250)\" style=\"stroke:#000000; stroke-linecap:butt; stroke-linejoin:round; stroke-width:4; stroke-opacity:1; fill:none\" points=\"\n",
       "  1215.81,1410.9 1215.81,1392 \n",
       "  \"/>\n",
       "<polyline clip-path=\"url(#clip250)\" style=\"stroke:#000000; stroke-linecap:butt; stroke-linejoin:round; stroke-width:4; stroke-opacity:1; fill:none\" points=\"\n",
       "  2294.51,1410.9 2294.51,1392 \n",
       "  \"/>\n",
       "<path clip-path=\"url(#clip250)\" d=\"M1180.8 1485.02 L1188.44 1485.02 L1188.44 1458.66 L1180.13 1460.32 L1180.13 1456.06 L1188.39 1454.4 L1193.07 1454.4 L1193.07 1485.02 L1200.7 1485.02 L1200.7 1488.96 L1180.8 1488.96 L1180.8 1485.02 Z\" fill=\"#000000\" fill-rule=\"evenodd\" fill-opacity=\"1\" /><path clip-path=\"url(#clip250)\" d=\"M1220.15 1457.48 Q1216.54 1457.48 1214.71 1461.04 Q1212.9 1464.58 1212.9 1471.71 Q1212.9 1478.82 1214.71 1482.38 Q1216.54 1485.92 1220.15 1485.92 Q1223.78 1485.92 1225.59 1482.38 Q1227.42 1478.82 1227.42 1471.71 Q1227.42 1464.58 1225.59 1461.04 Q1223.78 1457.48 1220.15 1457.48 M1220.15 1453.77 Q1225.96 1453.77 1229.01 1458.38 Q1232.09 1462.96 1232.09 1471.71 Q1232.09 1480.44 1229.01 1485.04 Q1225.96 1489.63 1220.15 1489.63 Q1214.34 1489.63 1211.26 1485.04 Q1208.2 1480.44 1208.2 1471.71 Q1208.2 1462.96 1211.26 1458.38 Q1214.34 1453.77 1220.15 1453.77 Z\" fill=\"#000000\" fill-rule=\"evenodd\" fill-opacity=\"1\" /><path clip-path=\"url(#clip250)\" d=\"M1241.8 1435.97 Q1238.86 1435.97 1237.38 1438.86 Q1235.91 1441.74 1235.91 1447.53 Q1235.91 1453.31 1237.38 1456.2 Q1238.86 1459.08 1241.8 1459.08 Q1244.75 1459.08 1246.22 1456.2 Q1247.7 1453.31 1247.7 1447.53 Q1247.7 1441.74 1246.22 1438.86 Q1244.75 1435.97 1241.8 1435.97 M1241.8 1432.96 Q1246.52 1432.96 1249 1436.7 Q1251.5 1440.43 1251.5 1447.53 Q1251.5 1454.62 1249 1458.37 Q1246.52 1462.09 1241.8 1462.09 Q1237.08 1462.09 1234.58 1458.37 Q1232.09 1454.62 1232.09 1447.53 Q1232.09 1440.43 1234.58 1436.7 Q1237.08 1432.96 1241.8 1432.96 Z\" fill=\"#000000\" fill-rule=\"evenodd\" fill-opacity=\"1\" /><path clip-path=\"url(#clip250)\" d=\"M2260.11 1485.02 L2267.75 1485.02 L2267.75 1458.66 L2259.44 1460.32 L2259.44 1456.06 L2267.7 1454.4 L2272.38 1454.4 L2272.38 1485.02 L2280.02 1485.02 L2280.02 1488.96 L2260.11 1488.96 L2260.11 1485.02 Z\" fill=\"#000000\" fill-rule=\"evenodd\" fill-opacity=\"1\" /><path clip-path=\"url(#clip250)\" d=\"M2299.46 1457.48 Q2295.85 1457.48 2294.02 1461.04 Q2292.22 1464.58 2292.22 1471.71 Q2292.22 1478.82 2294.02 1482.38 Q2295.85 1485.92 2299.46 1485.92 Q2303.1 1485.92 2304.9 1482.38 Q2306.73 1478.82 2306.73 1471.71 Q2306.73 1464.58 2304.9 1461.04 Q2303.1 1457.48 2299.46 1457.48 M2299.46 1453.77 Q2305.27 1453.77 2308.33 1458.38 Q2311.41 1462.96 2311.41 1471.71 Q2311.41 1480.44 2308.33 1485.04 Q2305.27 1489.63 2299.46 1489.63 Q2293.65 1489.63 2290.57 1485.04 Q2287.52 1480.44 2287.52 1471.71 Q2287.52 1462.96 2290.57 1458.38 Q2293.65 1453.77 2299.46 1453.77 Z\" fill=\"#000000\" fill-rule=\"evenodd\" fill-opacity=\"1\" /><path clip-path=\"url(#clip250)\" d=\"M2312.59 1433.47 L2327.51 1433.47 L2327.51 1436.66 L2316.07 1436.66 L2316.07 1443.55 Q2316.9 1443.27 2317.73 1443.13 Q2318.55 1442.98 2319.38 1442.98 Q2324.08 1442.98 2326.83 1445.56 Q2329.57 1448.14 2329.57 1452.54 Q2329.57 1457.07 2326.75 1459.59 Q2323.93 1462.09 2318.8 1462.09 Q2317.03 1462.09 2315.19 1461.79 Q2313.36 1461.49 2311.41 1460.89 L2311.41 1457.07 Q2313.1 1457.99 2314.9 1458.44 Q2316.71 1458.89 2318.72 1458.89 Q2321.98 1458.89 2323.88 1457.18 Q2325.78 1455.47 2325.78 1452.54 Q2325.78 1449.6 2323.88 1447.89 Q2321.98 1446.18 2318.72 1446.18 Q2317.2 1446.18 2315.68 1446.52 Q2314.17 1446.86 2312.59 1447.57 L2312.59 1433.47 Z\" fill=\"#000000\" fill-rule=\"evenodd\" fill-opacity=\"1\" /><path clip-path=\"url(#clip250)\" d=\"M1207.59 1524.66 L1213.45 1524.66 L1213.45 1574.19 L1207.59 1574.19 L1207.59 1524.66 Z\" fill=\"#000000\" fill-rule=\"evenodd\" fill-opacity=\"1\" /><path clip-path=\"url(#clip250)\" d=\"M1241.9 1556.27 Q1234.8 1556.27 1232.07 1557.89 Q1229.33 1559.51 1229.33 1563.43 Q1229.33 1566.55 1231.36 1568.39 Q1233.43 1570.21 1236.97 1570.21 Q1241.84 1570.21 1244.76 1566.77 Q1247.72 1563.3 1247.72 1557.57 L1247.72 1556.27 L1241.9 1556.27 M1253.58 1553.85 L1253.58 1574.19 L1247.72 1574.19 L1247.72 1568.77 Q1245.72 1572.02 1242.73 1573.58 Q1239.74 1575.11 1235.41 1575.11 Q1229.93 1575.11 1226.69 1572.05 Q1223.47 1568.97 1223.47 1563.81 Q1223.47 1557.79 1227.48 1554.74 Q1231.52 1551.68 1239.51 1551.68 L1247.72 1551.68 L1247.72 1551.11 Q1247.72 1547.07 1245.05 1544.87 Q1242.41 1542.64 1237.6 1542.64 Q1234.55 1542.64 1231.65 1543.38 Q1228.75 1544.11 1226.08 1545.57 L1226.08 1540.16 Q1229.3 1538.92 1232.32 1538.31 Q1235.34 1537.68 1238.21 1537.68 Q1245.94 1537.68 1249.76 1541.69 Q1253.58 1545.7 1253.58 1553.85 Z\" fill=\"#000000\" fill-rule=\"evenodd\" fill-opacity=\"1\" /><path clip-path=\"url(#clip250)\" d=\"M1293.4 1545.38 Q1295.59 1541.43 1298.65 1539.56 Q1301.71 1537.68 1305.84 1537.68 Q1311.41 1537.68 1314.44 1541.59 Q1317.46 1545.48 1317.46 1552.67 L1317.46 1574.19 L1311.57 1574.19 L1311.57 1552.86 Q1311.57 1547.74 1309.76 1545.25 Q1307.94 1542.77 1304.22 1542.77 Q1299.67 1542.77 1297.03 1545.79 Q1294.39 1548.82 1294.39 1554.04 L1294.39 1574.19 L1288.5 1574.19 L1288.5 1552.86 Q1288.5 1547.7 1286.68 1545.25 Q1284.87 1542.77 1281.08 1542.77 Q1276.59 1542.77 1273.95 1545.83 Q1271.31 1548.85 1271.31 1554.04 L1271.31 1574.19 L1265.42 1574.19 L1265.42 1538.54 L1271.31 1538.54 L1271.31 1544.08 Q1273.31 1540.8 1276.12 1539.24 Q1278.92 1537.68 1282.77 1537.68 Q1286.65 1537.68 1289.36 1539.65 Q1292.09 1541.62 1293.4 1545.38 Z\" fill=\"#000000\" fill-rule=\"evenodd\" fill-opacity=\"1\" /><path clip-path=\"url(#clip250)\" d=\"M1354.73 1556.39 Q1354.73 1549.93 1352.06 1546.27 Q1349.42 1542.58 1344.77 1542.58 Q1340.12 1542.58 1337.45 1546.27 Q1334.81 1549.93 1334.81 1556.39 Q1334.81 1562.85 1337.45 1566.55 Q1340.12 1570.21 1344.77 1570.21 Q1349.42 1570.21 1352.06 1566.55 Q1354.73 1562.85 1354.73 1556.39 M1334.81 1543.95 Q1336.65 1540.77 1339.45 1539.24 Q1342.29 1537.68 1346.2 1537.68 Q1352.7 1537.68 1356.74 1542.83 Q1360.81 1547.99 1360.81 1556.39 Q1360.81 1564.8 1356.74 1569.95 Q1352.7 1575.11 1346.2 1575.11 Q1342.29 1575.11 1339.45 1573.58 Q1336.65 1572.02 1334.81 1568.84 L1334.81 1574.19 L1328.92 1574.19 L1328.92 1524.66 L1334.81 1524.66 L1334.81 1543.95 Z\" fill=\"#000000\" fill-rule=\"evenodd\" fill-opacity=\"1\" /><path clip-path=\"url(#clip250)\" d=\"M1393.98 1543.95 L1393.98 1524.66 L1399.83 1524.66 L1399.83 1574.19 L1393.98 1574.19 L1393.98 1568.84 Q1392.13 1572.02 1389.3 1573.58 Q1386.5 1575.11 1382.55 1575.11 Q1376.09 1575.11 1372.02 1569.95 Q1367.97 1564.8 1367.97 1556.39 Q1367.97 1547.99 1372.02 1542.83 Q1376.09 1537.68 1382.55 1537.68 Q1386.5 1537.68 1389.3 1539.24 Q1392.13 1540.77 1393.98 1543.95 M1374.02 1556.39 Q1374.02 1562.85 1376.66 1566.55 Q1379.34 1570.21 1383.98 1570.21 Q1388.63 1570.21 1391.3 1566.55 Q1393.98 1562.85 1393.98 1556.39 Q1393.98 1549.93 1391.3 1546.27 Q1388.63 1542.58 1383.98 1542.58 Q1379.34 1542.58 1376.66 1546.27 Q1374.02 1549.93 1374.02 1556.39 Z\" fill=\"#000000\" fill-rule=\"evenodd\" fill-opacity=\"1\" /><path clip-path=\"url(#clip250)\" d=\"M1428.1 1556.27 Q1421 1556.27 1418.26 1557.89 Q1415.52 1559.51 1415.52 1563.43 Q1415.52 1566.55 1417.56 1568.39 Q1419.63 1570.21 1423.16 1570.21 Q1428.03 1570.21 1430.96 1566.77 Q1433.92 1563.3 1433.92 1557.57 L1433.92 1556.27 L1428.1 1556.27 M1439.78 1553.85 L1439.78 1574.19 L1433.92 1574.19 L1433.92 1568.77 Q1431.92 1572.02 1428.92 1573.58 Q1425.93 1575.11 1421.6 1575.11 Q1416.13 1575.11 1412.88 1572.05 Q1409.67 1568.97 1409.67 1563.81 Q1409.67 1557.79 1413.68 1554.74 Q1417.72 1551.68 1425.71 1551.68 L1433.92 1551.68 L1433.92 1551.11 Q1433.92 1547.07 1431.25 1544.87 Q1428.61 1542.64 1423.8 1542.64 Q1420.74 1542.64 1417.85 1543.38 Q1414.95 1544.11 1412.28 1545.57 L1412.28 1540.16 Q1415.49 1538.92 1418.52 1538.31 Q1421.54 1537.68 1424.4 1537.68 Q1432.14 1537.68 1435.96 1541.69 Q1439.78 1545.7 1439.78 1553.85 Z\" fill=\"#000000\" fill-rule=\"evenodd\" fill-opacity=\"1\" /><polyline clip-path=\"url(#clip252)\" style=\"stroke:#000000; stroke-linecap:butt; stroke-linejoin:round; stroke-width:2; stroke-opacity:0.1; fill:none\" points=\"\n",
       "  294.611,1251.19 2352.76,1251.19 \n",
       "  \"/>\n",
       "<polyline clip-path=\"url(#clip252)\" style=\"stroke:#000000; stroke-linecap:butt; stroke-linejoin:round; stroke-width:2; stroke-opacity:0.1; fill:none\" points=\"\n",
       "  294.611,997.666 2352.76,997.666 \n",
       "  \"/>\n",
       "<polyline clip-path=\"url(#clip252)\" style=\"stroke:#000000; stroke-linecap:butt; stroke-linejoin:round; stroke-width:2; stroke-opacity:0.1; fill:none\" points=\"\n",
       "  294.611,744.143 2352.76,744.143 \n",
       "  \"/>\n",
       "<polyline clip-path=\"url(#clip252)\" style=\"stroke:#000000; stroke-linecap:butt; stroke-linejoin:round; stroke-width:2; stroke-opacity:0.1; fill:none\" points=\"\n",
       "  294.611,490.621 2352.76,490.621 \n",
       "  \"/>\n",
       "<polyline clip-path=\"url(#clip252)\" style=\"stroke:#000000; stroke-linecap:butt; stroke-linejoin:round; stroke-width:2; stroke-opacity:0.1; fill:none\" points=\"\n",
       "  294.611,237.099 2352.76,237.099 \n",
       "  \"/>\n",
       "<polyline clip-path=\"url(#clip250)\" style=\"stroke:#000000; stroke-linecap:butt; stroke-linejoin:round; stroke-width:4; stroke-opacity:1; fill:none\" points=\"\n",
       "  294.611,1410.9 294.611,47.2441 \n",
       "  \"/>\n",
       "<polyline clip-path=\"url(#clip250)\" style=\"stroke:#000000; stroke-linecap:butt; stroke-linejoin:round; stroke-width:4; stroke-opacity:1; fill:none\" points=\"\n",
       "  2352.76,1410.9 2352.76,47.2441 \n",
       "  \"/>\n",
       "<polyline clip-path=\"url(#clip250)\" style=\"stroke:#000000; stroke-linecap:butt; stroke-linejoin:round; stroke-width:4; stroke-opacity:1; fill:none\" points=\"\n",
       "  294.611,1251.19 313.509,1251.19 \n",
       "  \"/>\n",
       "<polyline clip-path=\"url(#clip250)\" style=\"stroke:#000000; stroke-linecap:butt; stroke-linejoin:round; stroke-width:4; stroke-opacity:1; fill:none\" points=\"\n",
       "  294.611,997.666 313.509,997.666 \n",
       "  \"/>\n",
       "<polyline clip-path=\"url(#clip250)\" style=\"stroke:#000000; stroke-linecap:butt; stroke-linejoin:round; stroke-width:4; stroke-opacity:1; fill:none\" points=\"\n",
       "  294.611,744.143 313.509,744.143 \n",
       "  \"/>\n",
       "<polyline clip-path=\"url(#clip250)\" style=\"stroke:#000000; stroke-linecap:butt; stroke-linejoin:round; stroke-width:4; stroke-opacity:1; fill:none\" points=\"\n",
       "  294.611,490.621 313.509,490.621 \n",
       "  \"/>\n",
       "<polyline clip-path=\"url(#clip250)\" style=\"stroke:#000000; stroke-linecap:butt; stroke-linejoin:round; stroke-width:4; stroke-opacity:1; fill:none\" points=\"\n",
       "  294.611,237.099 313.509,237.099 \n",
       "  \"/>\n",
       "<path clip-path=\"url(#clip250)\" d=\"M116.066 1233.91 L134.422 1233.91 L134.422 1237.84 L120.348 1237.84 L120.348 1246.32 Q121.367 1245.97 122.385 1245.81 Q123.404 1245.62 124.422 1245.62 Q130.209 1245.62 133.589 1248.79 Q136.968 1251.96 136.968 1257.38 Q136.968 1262.96 133.496 1266.06 Q130.024 1269.14 123.705 1269.14 Q121.529 1269.14 119.26 1268.77 Q117.015 1268.4 114.607 1267.66 L114.607 1262.96 Q116.691 1264.09 118.913 1264.65 Q121.135 1265.2 123.612 1265.2 Q127.617 1265.2 129.955 1263.1 Q132.292 1260.99 132.292 1257.38 Q132.292 1253.77 129.955 1251.66 Q127.617 1249.56 123.612 1249.56 Q121.737 1249.56 119.862 1249.97 Q118.01 1250.39 116.066 1251.27 L116.066 1233.91 Z\" fill=\"#000000\" fill-rule=\"evenodd\" fill-opacity=\"1\" /><path clip-path=\"url(#clip250)\" d=\"M159.028 1237.98 L147.223 1256.43 L159.028 1256.43 L159.028 1237.98 M157.802 1233.91 L163.681 1233.91 L163.681 1256.43 L168.612 1256.43 L168.612 1260.32 L163.681 1260.32 L163.681 1268.47 L159.028 1268.47 L159.028 1260.32 L143.427 1260.32 L143.427 1255.81 L157.802 1233.91 Z\" fill=\"#000000\" fill-rule=\"evenodd\" fill-opacity=\"1\" /><path clip-path=\"url(#clip250)\" d=\"M186.343 1236.99 Q182.732 1236.99 180.903 1240.55 Q179.098 1244.09 179.098 1251.22 Q179.098 1258.33 180.903 1261.89 Q182.732 1265.44 186.343 1265.44 Q189.977 1265.44 191.783 1261.89 Q193.612 1258.33 193.612 1251.22 Q193.612 1244.09 191.783 1240.55 Q189.977 1236.99 186.343 1236.99 M186.343 1233.28 Q192.153 1233.28 195.209 1237.89 Q198.287 1242.47 198.287 1251.22 Q198.287 1259.95 195.209 1264.56 Q192.153 1269.14 186.343 1269.14 Q180.533 1269.14 177.454 1264.56 Q174.399 1259.95 174.399 1251.22 Q174.399 1242.47 177.454 1237.89 Q180.533 1233.28 186.343 1233.28 Z\" fill=\"#000000\" fill-rule=\"evenodd\" fill-opacity=\"1\" /><path clip-path=\"url(#clip250)\" d=\"M216.505 1236.99 Q212.894 1236.99 211.065 1240.55 Q209.26 1244.09 209.26 1251.22 Q209.26 1258.33 211.065 1261.89 Q212.894 1265.44 216.505 1265.44 Q220.139 1265.44 221.945 1261.89 Q223.773 1258.33 223.773 1251.22 Q223.773 1244.09 221.945 1240.55 Q220.139 1236.99 216.505 1236.99 M216.505 1233.28 Q222.315 1233.28 225.371 1237.89 Q228.449 1242.47 228.449 1251.22 Q228.449 1259.95 225.371 1264.56 Q222.315 1269.14 216.505 1269.14 Q210.695 1269.14 207.616 1264.56 Q204.561 1259.95 204.561 1251.22 Q204.561 1242.47 207.616 1237.89 Q210.695 1233.28 216.505 1233.28 Z\" fill=\"#000000\" fill-rule=\"evenodd\" fill-opacity=\"1\" /><path clip-path=\"url(#clip250)\" d=\"M246.667 1236.99 Q243.056 1236.99 241.227 1240.55 Q239.422 1244.09 239.422 1251.22 Q239.422 1258.33 241.227 1261.89 Q243.056 1265.44 246.667 1265.44 Q250.301 1265.44 252.107 1261.89 Q253.935 1258.33 253.935 1251.22 Q253.935 1244.09 252.107 1240.55 Q250.301 1236.99 246.667 1236.99 M246.667 1233.28 Q252.477 1233.28 255.533 1237.89 Q258.611 1242.47 258.611 1251.22 Q258.611 1259.95 255.533 1264.56 Q252.477 1269.14 246.667 1269.14 Q240.857 1269.14 237.778 1264.56 Q234.722 1259.95 234.722 1251.22 Q234.722 1242.47 237.778 1237.89 Q240.857 1233.28 246.667 1233.28 Z\" fill=\"#000000\" fill-rule=\"evenodd\" fill-opacity=\"1\" /><path clip-path=\"url(#clip250)\" d=\"M116.066 980.386 L134.422 980.386 L134.422 984.321 L120.348 984.321 L120.348 992.793 Q121.367 992.446 122.385 992.284 Q123.404 992.098 124.422 992.098 Q130.209 992.098 133.589 995.27 Q136.968 998.441 136.968 1003.86 Q136.968 1009.44 133.496 1012.54 Q130.024 1015.62 123.705 1015.62 Q121.529 1015.62 119.26 1015.25 Q117.015 1014.88 114.607 1014.14 L114.607 1009.44 Q116.691 1010.57 118.913 1011.13 Q121.135 1011.68 123.612 1011.68 Q127.617 1011.68 129.955 1009.58 Q132.292 1007.47 132.292 1003.86 Q132.292 1000.25 129.955 998.14 Q127.617 996.034 123.612 996.034 Q121.737 996.034 119.862 996.45 Q118.01 996.867 116.066 997.747 L116.066 980.386 Z\" fill=\"#000000\" fill-rule=\"evenodd\" fill-opacity=\"1\" /><path clip-path=\"url(#clip250)\" d=\"M156.76 995.802 Q153.612 995.802 151.76 997.955 Q149.931 1000.11 149.931 1003.86 Q149.931 1007.58 151.76 1009.76 Q153.612 1011.91 156.76 1011.91 Q159.908 1011.91 161.737 1009.76 Q163.589 1007.58 163.589 1003.86 Q163.589 1000.11 161.737 997.955 Q159.908 995.802 156.76 995.802 M166.042 981.149 L166.042 985.409 Q164.283 984.575 162.477 984.136 Q160.695 983.696 158.936 983.696 Q154.306 983.696 151.853 986.821 Q149.422 989.946 149.075 996.265 Q150.441 994.251 152.501 993.186 Q154.561 992.098 157.038 992.098 Q162.246 992.098 165.255 995.27 Q168.288 998.418 168.288 1003.86 Q168.288 1009.18 165.14 1012.4 Q161.991 1015.62 156.76 1015.62 Q150.765 1015.62 147.593 1011.03 Q144.422 1006.43 144.422 997.7 Q144.422 989.506 148.311 984.645 Q152.2 979.761 158.751 979.761 Q160.51 979.761 162.292 980.108 Q164.098 980.455 166.042 981.149 Z\" fill=\"#000000\" fill-rule=\"evenodd\" fill-opacity=\"1\" /><path clip-path=\"url(#clip250)\" d=\"M186.343 983.464 Q182.732 983.464 180.903 987.029 Q179.098 990.571 179.098 997.7 Q179.098 1004.81 180.903 1008.37 Q182.732 1011.91 186.343 1011.91 Q189.977 1011.91 191.783 1008.37 Q193.612 1004.81 193.612 997.7 Q193.612 990.571 191.783 987.029 Q189.977 983.464 186.343 983.464 M186.343 979.761 Q192.153 979.761 195.209 984.367 Q198.287 988.95 198.287 997.7 Q198.287 1006.43 195.209 1011.03 Q192.153 1015.62 186.343 1015.62 Q180.533 1015.62 177.454 1011.03 Q174.399 1006.43 174.399 997.7 Q174.399 988.95 177.454 984.367 Q180.533 979.761 186.343 979.761 Z\" fill=\"#000000\" fill-rule=\"evenodd\" fill-opacity=\"1\" /><path clip-path=\"url(#clip250)\" d=\"M216.505 983.464 Q212.894 983.464 211.065 987.029 Q209.26 990.571 209.26 997.7 Q209.26 1004.81 211.065 1008.37 Q212.894 1011.91 216.505 1011.91 Q220.139 1011.91 221.945 1008.37 Q223.773 1004.81 223.773 997.7 Q223.773 990.571 221.945 987.029 Q220.139 983.464 216.505 983.464 M216.505 979.761 Q222.315 979.761 225.371 984.367 Q228.449 988.95 228.449 997.7 Q228.449 1006.43 225.371 1011.03 Q222.315 1015.62 216.505 1015.62 Q210.695 1015.62 207.616 1011.03 Q204.561 1006.43 204.561 997.7 Q204.561 988.95 207.616 984.367 Q210.695 979.761 216.505 979.761 Z\" fill=\"#000000\" fill-rule=\"evenodd\" fill-opacity=\"1\" /><path clip-path=\"url(#clip250)\" d=\"M246.667 983.464 Q243.056 983.464 241.227 987.029 Q239.422 990.571 239.422 997.7 Q239.422 1004.81 241.227 1008.37 Q243.056 1011.91 246.667 1011.91 Q250.301 1011.91 252.107 1008.37 Q253.935 1004.81 253.935 997.7 Q253.935 990.571 252.107 987.029 Q250.301 983.464 246.667 983.464 M246.667 979.761 Q252.477 979.761 255.533 984.367 Q258.611 988.95 258.611 997.7 Q258.611 1006.43 255.533 1011.03 Q252.477 1015.62 246.667 1015.62 Q240.857 1015.62 237.778 1011.03 Q234.722 1006.43 234.722 997.7 Q234.722 988.95 237.778 984.367 Q240.857 979.761 246.667 979.761 Z\" fill=\"#000000\" fill-rule=\"evenodd\" fill-opacity=\"1\" /><path clip-path=\"url(#clip250)\" d=\"M116.066 726.863 L134.422 726.863 L134.422 730.799 L120.348 730.799 L120.348 739.271 Q121.367 738.924 122.385 738.762 Q123.404 738.576 124.422 738.576 Q130.209 738.576 133.589 741.748 Q136.968 744.919 136.968 750.336 Q136.968 755.914 133.496 759.016 Q130.024 762.095 123.705 762.095 Q121.529 762.095 119.26 761.724 Q117.015 761.354 114.607 760.613 L114.607 755.914 Q116.691 757.048 118.913 757.604 Q121.135 758.16 123.612 758.16 Q127.617 758.16 129.955 756.053 Q132.292 753.947 132.292 750.336 Q132.292 746.724 129.955 744.618 Q127.617 742.511 123.612 742.511 Q121.737 742.511 119.862 742.928 Q118.01 743.345 116.066 744.224 L116.066 726.863 Z\" fill=\"#000000\" fill-rule=\"evenodd\" fill-opacity=\"1\" /><path clip-path=\"url(#clip250)\" d=\"M156.181 745.011 Q152.848 745.011 150.927 746.794 Q149.028 748.576 149.028 751.701 Q149.028 754.826 150.927 756.609 Q152.848 758.391 156.181 758.391 Q159.515 758.391 161.436 756.609 Q163.357 754.803 163.357 751.701 Q163.357 748.576 161.436 746.794 Q159.538 745.011 156.181 745.011 M151.505 743.021 Q148.496 742.28 146.806 740.22 Q145.14 738.16 145.14 735.197 Q145.14 731.053 148.079 728.646 Q151.042 726.238 156.181 726.238 Q161.343 726.238 164.283 728.646 Q167.223 731.053 167.223 735.197 Q167.223 738.16 165.533 740.22 Q163.866 742.28 160.88 743.021 Q164.26 743.808 166.135 746.099 Q168.033 748.391 168.033 751.701 Q168.033 756.724 164.954 759.41 Q161.899 762.095 156.181 762.095 Q150.464 762.095 147.385 759.41 Q144.329 756.724 144.329 751.701 Q144.329 748.391 146.228 746.099 Q148.126 743.808 151.505 743.021 M149.792 735.637 Q149.792 738.322 151.459 739.826 Q153.149 741.331 156.181 741.331 Q159.19 741.331 160.88 739.826 Q162.593 738.322 162.593 735.637 Q162.593 732.951 160.88 731.447 Q159.19 729.942 156.181 729.942 Q153.149 729.942 151.459 731.447 Q149.792 732.951 149.792 735.637 Z\" fill=\"#000000\" fill-rule=\"evenodd\" fill-opacity=\"1\" /><path clip-path=\"url(#clip250)\" d=\"M186.343 729.942 Q182.732 729.942 180.903 733.507 Q179.098 737.049 179.098 744.178 Q179.098 751.285 180.903 754.849 Q182.732 758.391 186.343 758.391 Q189.977 758.391 191.783 754.849 Q193.612 751.285 193.612 744.178 Q193.612 737.049 191.783 733.507 Q189.977 729.942 186.343 729.942 M186.343 726.238 Q192.153 726.238 195.209 730.845 Q198.287 735.428 198.287 744.178 Q198.287 752.905 195.209 757.511 Q192.153 762.095 186.343 762.095 Q180.533 762.095 177.454 757.511 Q174.399 752.905 174.399 744.178 Q174.399 735.428 177.454 730.845 Q180.533 726.238 186.343 726.238 Z\" fill=\"#000000\" fill-rule=\"evenodd\" fill-opacity=\"1\" /><path clip-path=\"url(#clip250)\" d=\"M216.505 729.942 Q212.894 729.942 211.065 733.507 Q209.26 737.049 209.26 744.178 Q209.26 751.285 211.065 754.849 Q212.894 758.391 216.505 758.391 Q220.139 758.391 221.945 754.849 Q223.773 751.285 223.773 744.178 Q223.773 737.049 221.945 733.507 Q220.139 729.942 216.505 729.942 M216.505 726.238 Q222.315 726.238 225.371 730.845 Q228.449 735.428 228.449 744.178 Q228.449 752.905 225.371 757.511 Q222.315 762.095 216.505 762.095 Q210.695 762.095 207.616 757.511 Q204.561 752.905 204.561 744.178 Q204.561 735.428 207.616 730.845 Q210.695 726.238 216.505 726.238 Z\" fill=\"#000000\" fill-rule=\"evenodd\" fill-opacity=\"1\" /><path clip-path=\"url(#clip250)\" d=\"M246.667 729.942 Q243.056 729.942 241.227 733.507 Q239.422 737.049 239.422 744.178 Q239.422 751.285 241.227 754.849 Q243.056 758.391 246.667 758.391 Q250.301 758.391 252.107 754.849 Q253.935 751.285 253.935 744.178 Q253.935 737.049 252.107 733.507 Q250.301 729.942 246.667 729.942 M246.667 726.238 Q252.477 726.238 255.533 730.845 Q258.611 735.428 258.611 744.178 Q258.611 752.905 255.533 757.511 Q252.477 762.095 246.667 762.095 Q240.857 762.095 237.778 757.511 Q234.722 752.905 234.722 744.178 Q234.722 735.428 237.778 730.845 Q240.857 726.238 246.667 726.238 Z\" fill=\"#000000\" fill-rule=\"evenodd\" fill-opacity=\"1\" /><path clip-path=\"url(#clip250)\" d=\"M126.598 488.758 Q123.45 488.758 121.598 490.911 Q119.769 493.063 119.769 496.813 Q119.769 500.54 121.598 502.716 Q123.45 504.869 126.598 504.869 Q129.746 504.869 131.575 502.716 Q133.427 500.54 133.427 496.813 Q133.427 493.063 131.575 490.911 Q129.746 488.758 126.598 488.758 M135.88 474.105 L135.88 478.364 Q134.121 477.531 132.316 477.091 Q130.533 476.651 128.774 476.651 Q124.144 476.651 121.691 479.776 Q119.26 482.901 118.913 489.221 Q120.279 487.207 122.339 486.142 Q124.399 485.054 126.876 485.054 Q132.084 485.054 135.093 488.225 Q138.126 491.374 138.126 496.813 Q138.126 502.137 134.978 505.355 Q131.83 508.573 126.598 508.573 Q120.603 508.573 117.431 503.989 Q114.26 499.383 114.26 490.656 Q114.26 482.462 118.149 477.601 Q122.038 472.716 128.589 472.716 Q130.348 472.716 132.13 473.063 Q133.936 473.411 135.88 474.105 Z\" fill=\"#000000\" fill-rule=\"evenodd\" fill-opacity=\"1\" /><path clip-path=\"url(#clip250)\" d=\"M156.181 476.42 Q152.57 476.42 150.741 479.985 Q148.936 483.526 148.936 490.656 Q148.936 497.762 150.741 501.327 Q152.57 504.869 156.181 504.869 Q159.815 504.869 161.621 501.327 Q163.45 497.762 163.45 490.656 Q163.45 483.526 161.621 479.985 Q159.815 476.42 156.181 476.42 M156.181 472.716 Q161.991 472.716 165.047 477.323 Q168.126 481.906 168.126 490.656 Q168.126 499.383 165.047 503.989 Q161.991 508.573 156.181 508.573 Q150.371 508.573 147.292 503.989 Q144.237 499.383 144.237 490.656 Q144.237 481.906 147.292 477.323 Q150.371 472.716 156.181 472.716 Z\" fill=\"#000000\" fill-rule=\"evenodd\" fill-opacity=\"1\" /><path clip-path=\"url(#clip250)\" d=\"M186.343 476.42 Q182.732 476.42 180.903 479.985 Q179.098 483.526 179.098 490.656 Q179.098 497.762 180.903 501.327 Q182.732 504.869 186.343 504.869 Q189.977 504.869 191.783 501.327 Q193.612 497.762 193.612 490.656 Q193.612 483.526 191.783 479.985 Q189.977 476.42 186.343 476.42 M186.343 472.716 Q192.153 472.716 195.209 477.323 Q198.287 481.906 198.287 490.656 Q198.287 499.383 195.209 503.989 Q192.153 508.573 186.343 508.573 Q180.533 508.573 177.454 503.989 Q174.399 499.383 174.399 490.656 Q174.399 481.906 177.454 477.323 Q180.533 472.716 186.343 472.716 Z\" fill=\"#000000\" fill-rule=\"evenodd\" fill-opacity=\"1\" /><path clip-path=\"url(#clip250)\" d=\"M216.505 476.42 Q212.894 476.42 211.065 479.985 Q209.26 483.526 209.26 490.656 Q209.26 497.762 211.065 501.327 Q212.894 504.869 216.505 504.869 Q220.139 504.869 221.945 501.327 Q223.773 497.762 223.773 490.656 Q223.773 483.526 221.945 479.985 Q220.139 476.42 216.505 476.42 M216.505 472.716 Q222.315 472.716 225.371 477.323 Q228.449 481.906 228.449 490.656 Q228.449 499.383 225.371 503.989 Q222.315 508.573 216.505 508.573 Q210.695 508.573 207.616 503.989 Q204.561 499.383 204.561 490.656 Q204.561 481.906 207.616 477.323 Q210.695 472.716 216.505 472.716 Z\" fill=\"#000000\" fill-rule=\"evenodd\" fill-opacity=\"1\" /><path clip-path=\"url(#clip250)\" d=\"M246.667 476.42 Q243.056 476.42 241.227 479.985 Q239.422 483.526 239.422 490.656 Q239.422 497.762 241.227 501.327 Q243.056 504.869 246.667 504.869 Q250.301 504.869 252.107 501.327 Q253.935 497.762 253.935 490.656 Q253.935 483.526 252.107 479.985 Q250.301 476.42 246.667 476.42 M246.667 472.716 Q252.477 472.716 255.533 477.323 Q258.611 481.906 258.611 490.656 Q258.611 499.383 255.533 503.989 Q252.477 508.573 246.667 508.573 Q240.857 508.573 237.778 503.989 Q234.722 499.383 234.722 490.656 Q234.722 481.906 237.778 477.323 Q240.857 472.716 246.667 472.716 Z\" fill=\"#000000\" fill-rule=\"evenodd\" fill-opacity=\"1\" /><path clip-path=\"url(#clip250)\" d=\"M126.598 235.236 Q123.45 235.236 121.598 237.388 Q119.769 239.541 119.769 243.291 Q119.769 247.018 121.598 249.194 Q123.45 251.347 126.598 251.347 Q129.746 251.347 131.575 249.194 Q133.427 247.018 133.427 243.291 Q133.427 239.541 131.575 237.388 Q129.746 235.236 126.598 235.236 M135.88 220.583 L135.88 224.842 Q134.121 224.009 132.316 223.569 Q130.533 223.129 128.774 223.129 Q124.144 223.129 121.691 226.254 Q119.26 229.379 118.913 235.699 Q120.279 233.685 122.339 232.62 Q124.399 231.532 126.876 231.532 Q132.084 231.532 135.093 234.703 Q138.126 237.851 138.126 243.291 Q138.126 248.615 134.978 251.833 Q131.83 255.05 126.598 255.05 Q120.603 255.05 117.431 250.467 Q114.26 245.861 114.26 237.134 Q114.26 228.939 118.149 224.078 Q122.038 219.194 128.589 219.194 Q130.348 219.194 132.13 219.541 Q133.936 219.889 135.88 220.583 Z\" fill=\"#000000\" fill-rule=\"evenodd\" fill-opacity=\"1\" /><path clip-path=\"url(#clip250)\" d=\"M150.209 250.444 L166.528 250.444 L166.528 254.379 L144.584 254.379 L144.584 250.444 Q147.246 247.689 151.829 243.06 Q156.436 238.407 157.616 237.064 Q159.862 234.541 160.741 232.805 Q161.644 231.046 161.644 229.356 Q161.644 226.601 159.7 224.865 Q157.778 223.129 154.677 223.129 Q152.478 223.129 150.024 223.893 Q147.593 224.657 144.816 226.208 L144.816 221.486 Q147.64 220.352 150.093 219.773 Q152.547 219.194 154.584 219.194 Q159.954 219.194 163.149 221.879 Q166.343 224.564 166.343 229.055 Q166.343 231.185 165.533 233.106 Q164.746 235.004 162.64 237.597 Q162.061 238.268 158.959 241.486 Q155.857 244.68 150.209 250.444 Z\" fill=\"#000000\" fill-rule=\"evenodd\" fill-opacity=\"1\" /><path clip-path=\"url(#clip250)\" d=\"M186.343 222.898 Q182.732 222.898 180.903 226.463 Q179.098 230.004 179.098 237.134 Q179.098 244.24 180.903 247.805 Q182.732 251.347 186.343 251.347 Q189.977 251.347 191.783 247.805 Q193.612 244.24 193.612 237.134 Q193.612 230.004 191.783 226.463 Q189.977 222.898 186.343 222.898 M186.343 219.194 Q192.153 219.194 195.209 223.801 Q198.287 228.384 198.287 237.134 Q198.287 245.861 195.209 250.467 Q192.153 255.05 186.343 255.05 Q180.533 255.05 177.454 250.467 Q174.399 245.861 174.399 237.134 Q174.399 228.384 177.454 223.801 Q180.533 219.194 186.343 219.194 Z\" fill=\"#000000\" fill-rule=\"evenodd\" fill-opacity=\"1\" /><path clip-path=\"url(#clip250)\" d=\"M216.505 222.898 Q212.894 222.898 211.065 226.463 Q209.26 230.004 209.26 237.134 Q209.26 244.24 211.065 247.805 Q212.894 251.347 216.505 251.347 Q220.139 251.347 221.945 247.805 Q223.773 244.24 223.773 237.134 Q223.773 230.004 221.945 226.463 Q220.139 222.898 216.505 222.898 M216.505 219.194 Q222.315 219.194 225.371 223.801 Q228.449 228.384 228.449 237.134 Q228.449 245.861 225.371 250.467 Q222.315 255.05 216.505 255.05 Q210.695 255.05 207.616 250.467 Q204.561 245.861 204.561 237.134 Q204.561 228.384 207.616 223.801 Q210.695 219.194 216.505 219.194 Z\" fill=\"#000000\" fill-rule=\"evenodd\" fill-opacity=\"1\" /><path clip-path=\"url(#clip250)\" d=\"M246.667 222.898 Q243.056 222.898 241.227 226.463 Q239.422 230.004 239.422 237.134 Q239.422 244.24 241.227 247.805 Q243.056 251.347 246.667 251.347 Q250.301 251.347 252.107 247.805 Q253.935 244.24 253.935 237.134 Q253.935 230.004 252.107 226.463 Q250.301 222.898 246.667 222.898 M246.667 219.194 Q252.477 219.194 255.533 223.801 Q258.611 228.384 258.611 237.134 Q258.611 245.861 255.533 250.467 Q252.477 255.05 246.667 255.05 Q240.857 255.05 237.778 250.467 Q234.722 245.861 234.722 237.134 Q234.722 228.384 237.778 223.801 Q240.857 219.194 246.667 219.194 Z\" fill=\"#000000\" fill-rule=\"evenodd\" fill-opacity=\"1\" /><path clip-path=\"url(#clip250)\" d=\"M41.7242 1080.86 Q42.4244 1078.79 44.7161 1076.84 Q47.0077 1074.87 51.0181 1072.9 L64.0042 1066.37 L64.0042 1073.28 L51.8138 1079.36 Q47.0395 1081.71 45.48 1083.94 Q43.9204 1086.14 43.9204 1089.96 L43.9204 1096.96 L64.0042 1096.96 L64.0042 1103.39 L16.4842 1103.39 L16.4842 1088.88 Q16.4842 1080.73 19.8898 1076.72 Q23.2955 1072.71 30.1704 1072.71 Q34.6582 1072.71 37.6183 1074.81 Q40.5784 1076.88 41.7242 1080.86 M21.7677 1096.96 L38.6368 1096.96 L38.6368 1088.88 Q38.6368 1084.23 36.5043 1081.87 Q34.34 1079.49 30.1704 1079.49 Q26.0009 1079.49 23.9002 1081.87 Q21.7677 1084.23 21.7677 1088.88 L21.7677 1096.96 Z\" fill=\"#000000\" fill-rule=\"evenodd\" fill-opacity=\"1\" /><path clip-path=\"url(#clip250)\" d=\"M32.4621 1047.47 Q32.4621 1052.18 36.1542 1054.91 Q39.8145 1057.65 46.212 1057.65 Q52.6095 1057.65 56.3017 1054.95 Q59.9619 1052.21 59.9619 1047.47 Q59.9619 1042.79 56.2698 1040.05 Q52.5777 1037.31 46.212 1037.31 Q39.8781 1037.31 36.186 1040.05 Q32.4621 1042.79 32.4621 1047.47 M27.4968 1047.47 Q27.4968 1039.83 32.4621 1035.47 Q37.4273 1031.11 46.212 1031.11 Q54.9649 1031.11 59.9619 1035.47 Q64.9272 1039.83 64.9272 1047.47 Q64.9272 1055.14 59.9619 1059.5 Q54.9649 1063.83 46.212 1063.83 Q37.4273 1063.83 32.4621 1059.5 Q27.4968 1055.14 27.4968 1047.47 Z\" fill=\"#000000\" fill-rule=\"evenodd\" fill-opacity=\"1\" /><path clip-path=\"url(#clip250)\" d=\"M32.4621 1007.59 Q32.4621 1012.3 36.1542 1015.03 Q39.8145 1017.77 46.212 1017.77 Q52.6095 1017.77 56.3017 1015.07 Q59.9619 1012.33 59.9619 1007.59 Q59.9619 1002.91 56.2698 1000.17 Q52.5777 997.433 46.212 997.433 Q39.8781 997.433 36.186 1000.17 Q32.4621 1002.91 32.4621 1007.59 M27.4968 1007.59 Q27.4968 999.947 32.4621 995.587 Q37.4273 991.226 46.212 991.226 Q54.9649 991.226 59.9619 995.587 Q64.9272 999.947 64.9272 1007.59 Q64.9272 1015.26 59.9619 1019.62 Q54.9649 1023.95 46.212 1023.95 Q37.4273 1023.95 32.4621 1019.62 Q27.4968 1015.26 27.4968 1007.59 Z\" fill=\"#000000\" fill-rule=\"evenodd\" fill-opacity=\"1\" /><path clip-path=\"url(#clip250)\" d=\"M18.2347 975.726 L28.3562 975.726 L28.3562 963.663 L32.9077 963.663 L32.9077 975.726 L52.2594 975.726 Q56.6199 975.726 57.8613 974.548 Q59.1026 973.338 59.1026 969.678 L59.1026 963.663 L64.0042 963.663 L64.0042 969.678 Q64.0042 976.458 61.4897 979.036 Q58.9434 981.614 52.2594 981.614 L32.9077 981.614 L32.9077 985.911 L28.3562 985.911 L28.3562 981.614 L18.2347 981.614 L18.2347 975.726 Z\" fill=\"#000000\" fill-rule=\"evenodd\" fill-opacity=\"1\" /><path clip-path=\"url(#clip250)\" d=\"M16.4842 955.705 L16.4842 946.125 L48.8219 933.998 L16.4842 921.808 L16.4842 912.228 L64.0042 912.228 L64.0042 918.498 L22.277 918.498 L54.8694 930.752 L54.8694 937.213 L22.277 949.467 L64.0042 949.467 L64.0042 955.705 L16.4842 955.705 Z\" fill=\"#000000\" fill-rule=\"evenodd\" fill-opacity=\"1\" /><path clip-path=\"url(#clip250)\" d=\"M44.7161 869.227 L47.5806 869.227 L47.5806 896.154 Q53.6281 895.772 56.8109 892.526 Q59.9619 889.247 59.9619 883.423 Q59.9619 880.049 59.1344 876.898 Q58.3069 873.715 56.6518 870.596 L62.1899 870.596 Q63.5267 873.747 64.227 877.057 Q64.9272 880.367 64.9272 883.773 Q64.9272 892.303 59.9619 897.3 Q54.9967 902.265 46.5303 902.265 Q37.7774 902.265 32.6531 897.555 Q27.4968 892.812 27.4968 884.791 Q27.4968 877.598 32.1438 873.429 Q36.7589 869.227 44.7161 869.227 M42.9973 875.084 Q38.1912 875.147 35.3266 877.789 Q32.4621 880.399 32.4621 884.728 Q32.4621 889.629 35.2312 892.589 Q38.0002 895.518 43.0292 895.963 L42.9973 875.084 Z\" fill=\"#000000\" fill-rule=\"evenodd\" fill-opacity=\"1\" /><path clip-path=\"url(#clip250)\" d=\"M46.0847 843.414 Q46.0847 850.512 47.7079 853.249 Q49.3312 855.987 53.2461 855.987 Q56.3653 855.987 58.2114 853.95 Q60.0256 851.881 60.0256 848.348 Q60.0256 843.478 56.5881 840.55 Q53.1188 837.59 47.3897 837.59 L46.0847 837.59 L46.0847 843.414 M43.6657 831.733 L64.0042 831.733 L64.0042 837.59 L58.5933 837.59 Q61.8398 839.595 63.3994 842.587 Q64.9272 845.579 64.9272 849.907 Q64.9272 855.382 61.8716 858.628 Q58.7843 861.843 53.6281 861.843 Q47.6125 861.843 44.5569 857.833 Q41.5014 853.79 41.5014 845.802 L41.5014 837.59 L40.9285 837.59 Q36.8862 837.59 34.6901 840.263 Q32.4621 842.905 32.4621 847.711 Q32.4621 850.767 33.1941 853.663 Q33.9262 856.56 35.3903 859.233 L29.9795 859.233 Q28.7381 856.018 28.1334 852.995 Q27.4968 849.971 27.4968 847.106 Q27.4968 839.372 31.5072 835.553 Q35.5176 831.733 43.6657 831.733 Z\" fill=\"#000000\" fill-rule=\"evenodd\" fill-opacity=\"1\" /><path clip-path=\"url(#clip250)\" d=\"M42.4881 790.038 L64.0042 790.038 L64.0042 795.894 L42.679 795.894 Q37.6183 795.894 35.1038 797.868 Q32.5894 799.841 32.5894 803.788 Q32.5894 808.53 35.6131 811.268 Q38.6368 814.005 43.8567 814.005 L64.0042 814.005 L64.0042 819.893 L28.3562 819.893 L28.3562 814.005 L33.8944 814.005 Q30.6797 811.904 29.0883 809.071 Q27.4968 806.207 27.4968 802.483 Q27.4968 796.34 31.3163 793.189 Q35.1038 790.038 42.4881 790.038 Z\" fill=\"#000000\" fill-rule=\"evenodd\" fill-opacity=\"1\" /><path clip-path=\"url(#clip250)\" d=\"M18.0438 749.616 L24.314 749.616 Q22.5634 753.276 21.704 756.522 Q20.8447 759.769 20.8447 762.793 Q20.8447 768.044 22.8817 770.909 Q24.9187 773.742 28.6745 773.742 Q31.8255 773.742 33.4488 771.864 Q35.0402 769.954 36.0269 764.671 L36.8226 760.788 Q38.1912 753.594 41.6605 750.189 Q45.098 746.751 50.8908 746.751 Q57.7976 746.751 61.3624 751.398 Q64.9272 756.013 64.9272 764.957 Q64.9272 768.331 64.1633 772.15 Q63.3994 775.938 61.9035 780.012 L55.2831 780.012 Q57.4793 776.097 58.5933 772.341 Q59.7073 768.585 59.7073 764.957 Q59.7073 759.451 57.543 756.459 Q55.3786 753.467 51.3682 753.467 Q47.8671 753.467 45.8937 755.631 Q43.9204 757.764 42.9337 762.665 L42.1698 766.58 Q40.7375 773.774 37.682 776.988 Q34.6264 780.203 29.1837 780.203 Q22.8817 780.203 19.2532 775.779 Q15.6248 771.323 15.6248 763.525 Q15.6248 760.183 16.2295 756.713 Q16.8343 753.244 18.0438 749.616 Z\" fill=\"#000000\" fill-rule=\"evenodd\" fill-opacity=\"1\" /><path clip-path=\"url(#clip250)\" d=\"M46.212 733.479 Q52.6732 733.479 56.3653 730.837 Q60.0256 728.163 60.0256 723.516 Q60.0256 718.869 56.3653 716.196 Q52.6732 713.522 46.212 713.522 Q39.7508 713.522 36.0905 716.196 Q32.3984 718.869 32.3984 723.516 Q32.3984 728.163 36.0905 730.837 Q39.7508 733.479 46.212 733.479 M58.657 713.522 Q61.8398 715.368 63.3994 718.201 Q64.9272 721.002 64.9272 724.949 Q64.9272 731.41 59.771 735.484 Q54.6147 739.526 46.212 739.526 Q37.8093 739.526 32.6531 735.484 Q27.4968 731.41 27.4968 724.949 Q27.4968 721.002 29.0564 718.201 Q30.5842 715.368 33.7671 713.522 L28.3562 713.522 L28.3562 707.666 L77.5631 707.666 L77.5631 713.522 L58.657 713.522 Z\" fill=\"#000000\" fill-rule=\"evenodd\" fill-opacity=\"1\" /><path clip-path=\"url(#clip250)\" d=\"M49.9359 696.207 L28.3562 696.207 L28.3562 690.351 L49.7131 690.351 Q54.7739 690.351 57.3202 688.378 Q59.8346 686.404 59.8346 682.457 Q59.8346 677.715 56.8109 674.978 Q53.7872 672.209 48.5673 672.209 L28.3562 672.209 L28.3562 666.352 L64.0042 666.352 L64.0042 672.209 L58.5296 672.209 Q61.7762 674.341 63.3676 677.174 Q64.9272 679.975 64.9272 683.699 Q64.9272 689.842 61.1078 693.025 Q57.2883 696.207 49.9359 696.207 M27.4968 681.471 L27.4968 681.471 Z\" fill=\"#000000\" fill-rule=\"evenodd\" fill-opacity=\"1\" /><path clip-path=\"url(#clip250)\" d=\"M46.0847 638.089 Q46.0847 645.186 47.7079 647.924 Q49.3312 650.661 53.2461 650.661 Q56.3653 650.661 58.2114 648.624 Q60.0256 646.555 60.0256 643.022 Q60.0256 638.152 56.5881 635.224 Q53.1188 632.264 47.3897 632.264 L46.0847 632.264 L46.0847 638.089 M43.6657 626.407 L64.0042 626.407 L64.0042 632.264 L58.5933 632.264 Q61.8398 634.269 63.3994 637.261 Q64.9272 640.253 64.9272 644.582 Q64.9272 650.056 61.8716 653.303 Q58.7843 656.517 53.6281 656.517 Q47.6125 656.517 44.5569 652.507 Q41.5014 648.465 41.5014 640.476 L41.5014 632.264 L40.9285 632.264 Q36.8862 632.264 34.6901 634.937 Q32.4621 637.579 32.4621 642.385 Q32.4621 645.441 33.1941 648.337 Q33.9262 651.234 35.3903 653.907 L29.9795 653.907 Q28.7381 650.693 28.1334 647.669 Q27.4968 644.645 27.4968 641.781 Q27.4968 634.046 31.5072 630.227 Q35.5176 626.407 43.6657 626.407 Z\" fill=\"#000000\" fill-rule=\"evenodd\" fill-opacity=\"1\" /><path clip-path=\"url(#clip250)\" d=\"M33.8307 593.688 Q33.2578 594.674 33.0032 595.852 Q32.7167 596.998 32.7167 598.398 Q32.7167 603.364 35.9632 606.037 Q39.1779 608.679 45.2253 608.679 L64.0042 608.679 L64.0042 614.567 L28.3562 614.567 L28.3562 608.679 L33.8944 608.679 Q30.6479 606.833 29.0883 603.873 Q27.4968 600.913 27.4968 596.68 Q27.4968 596.075 27.5923 595.343 Q27.656 594.611 27.8151 593.72 L33.8307 593.688 Z\" fill=\"#000000\" fill-rule=\"evenodd\" fill-opacity=\"1\" /><path clip-path=\"url(#clip250)\" d=\"M44.7161 558.485 L47.5806 558.485 L47.5806 585.412 Q53.6281 585.03 56.8109 581.784 Q59.9619 578.505 59.9619 572.681 Q59.9619 569.307 59.1344 566.156 Q58.3069 562.973 56.6518 559.854 L62.1899 559.854 Q63.5267 563.005 64.227 566.315 Q64.9272 569.625 64.9272 573.031 Q64.9272 581.561 59.9619 586.558 Q54.9967 591.523 46.5303 591.523 Q37.7774 591.523 32.6531 586.813 Q27.4968 582.07 27.4968 574.049 Q27.4968 566.856 32.1438 562.687 Q36.7589 558.485 44.7161 558.485 M42.9973 564.342 Q38.1912 564.405 35.3266 567.047 Q32.4621 569.657 32.4621 573.986 Q32.4621 578.887 35.2312 581.847 Q38.0002 584.776 43.0292 585.221 L42.9973 564.342 Z\" fill=\"#000000\" fill-rule=\"evenodd\" fill-opacity=\"1\" /><path clip-path=\"url(#clip250)\" d=\"M33.7671 525.415 L14.479 525.415 L14.479 519.559 L64.0042 519.559 L64.0042 525.415 L58.657 525.415 Q61.8398 527.262 63.3994 530.094 Q64.9272 532.895 64.9272 536.842 Q64.9272 543.303 59.771 547.377 Q54.6147 551.419 46.212 551.419 Q37.8093 551.419 32.6531 547.377 Q27.4968 543.303 27.4968 536.842 Q27.4968 532.895 29.0564 530.094 Q30.5842 527.262 33.7671 525.415 M46.212 545.372 Q52.6732 545.372 56.3653 542.73 Q60.0256 540.057 60.0256 535.41 Q60.0256 530.763 56.3653 528.089 Q52.6732 525.415 46.212 525.415 Q39.7508 525.415 36.0905 528.089 Q32.3984 530.763 32.3984 535.41 Q32.3984 540.057 36.0905 542.73 Q39.7508 545.372 46.212 545.372 Z\" fill=\"#000000\" fill-rule=\"evenodd\" fill-opacity=\"1\" /><path clip-path=\"url(#clip250)\" d=\"M16.4842 507.241 L16.4842 477.195 L21.895 477.195 L21.895 500.812 L35.9632 500.812 L35.9632 478.182 L41.3741 478.182 L41.3741 500.812 L58.5933 500.812 L58.5933 476.622 L64.0042 476.622 L64.0042 507.241 L16.4842 507.241 Z\" fill=\"#000000\" fill-rule=\"evenodd\" fill-opacity=\"1\" /><path clip-path=\"url(#clip250)\" d=\"M33.8307 445.653 Q33.2578 446.64 33.0032 447.818 Q32.7167 448.963 32.7167 450.364 Q32.7167 455.329 35.9632 458.003 Q39.1779 460.644 45.2253 460.644 L64.0042 460.644 L64.0042 466.533 L28.3562 466.533 L28.3562 460.644 L33.8944 460.644 Q30.6479 458.798 29.0883 455.838 Q27.4968 452.878 27.4968 448.645 Q27.4968 448.04 27.5923 447.308 Q27.656 446.576 27.8151 445.685 L33.8307 445.653 Z\" fill=\"#000000\" fill-rule=\"evenodd\" fill-opacity=\"1\" /><path clip-path=\"url(#clip250)\" d=\"M33.8307 419.999 Q33.2578 420.986 33.0032 422.164 Q32.7167 423.31 32.7167 424.71 Q32.7167 429.675 35.9632 432.349 Q39.1779 434.991 45.2253 434.991 L64.0042 434.991 L64.0042 440.879 L28.3562 440.879 L28.3562 434.991 L33.8944 434.991 Q30.6479 433.145 29.0883 430.185 Q27.4968 427.224 27.4968 422.991 Q27.4968 422.387 27.5923 421.654 Q27.656 420.922 27.8151 420.031 L33.8307 419.999 Z\" fill=\"#000000\" fill-rule=\"evenodd\" fill-opacity=\"1\" /><path clip-path=\"url(#clip250)\" d=\"M32.4621 401.475 Q32.4621 406.186 36.1542 408.923 Q39.8145 411.66 46.212 411.66 Q52.6095 411.66 56.3017 408.955 Q59.9619 406.218 59.9619 401.475 Q59.9619 396.796 56.2698 394.059 Q52.5777 391.322 46.212 391.322 Q39.8781 391.322 36.186 394.059 Q32.4621 396.796 32.4621 401.475 M27.4968 401.475 Q27.4968 393.836 32.4621 389.476 Q37.4273 385.115 46.212 385.115 Q54.9649 385.115 59.9619 389.476 Q64.9272 393.836 64.9272 401.475 Q64.9272 409.146 59.9619 413.506 Q54.9649 417.835 46.212 417.835 Q37.4273 417.835 32.4621 413.506 Q27.4968 409.146 27.4968 401.475 Z\" fill=\"#000000\" fill-rule=\"evenodd\" fill-opacity=\"1\" /><path clip-path=\"url(#clip250)\" d=\"M33.8307 354.751 Q33.2578 355.738 33.0032 356.915 Q32.7167 358.061 32.7167 359.462 Q32.7167 364.427 35.9632 367.1 Q39.1779 369.742 45.2253 369.742 L64.0042 369.742 L64.0042 375.63 L28.3562 375.63 L28.3562 369.742 L33.8944 369.742 Q30.6479 367.896 29.0883 364.936 Q27.4968 361.976 27.4968 357.743 Q27.4968 357.138 27.5923 356.406 Q27.656 355.674 27.8151 354.783 L33.8307 354.751 Z\" fill=\"#000000\" fill-rule=\"evenodd\" fill-opacity=\"1\" /><circle clip-path=\"url(#clip252)\" cx=\"2294.51\" cy=\"85.838\" r=\"14\" fill=\"#009af9\" fill-rule=\"evenodd\" fill-opacity=\"1\" stroke=\"#000000\" stroke-opacity=\"1\" stroke-width=\"3.2\"/>\n",
       "<circle clip-path=\"url(#clip252)\" cx=\"947.242\" cy=\"1363.95\" r=\"14\" fill=\"#009af9\" fill-rule=\"evenodd\" fill-opacity=\"1\" stroke=\"#000000\" stroke-opacity=\"1\" stroke-width=\"3.2\"/>\n",
       "<circle clip-path=\"url(#clip252)\" cx=\"550.988\" cy=\"1258.81\" r=\"14\" fill=\"#009af9\" fill-rule=\"evenodd\" fill-opacity=\"1\" stroke=\"#000000\" stroke-opacity=\"1\" stroke-width=\"3.2\"/>\n",
       "<circle clip-path=\"url(#clip252)\" cx=\"2096.38\" cy=\"96.6304\" r=\"14\" fill=\"#009af9\" fill-rule=\"evenodd\" fill-opacity=\"1\" stroke=\"#000000\" stroke-opacity=\"1\" stroke-width=\"3.2\"/>\n",
       "<circle clip-path=\"url(#clip252)\" cx=\"1343.5\" cy=\"1273.17\" r=\"14\" fill=\"#009af9\" fill-rule=\"evenodd\" fill-opacity=\"1\" stroke=\"#000000\" stroke-opacity=\"1\" stroke-width=\"3.2\"/>\n",
       "<circle clip-path=\"url(#clip252)\" cx=\"2017.13\" cy=\"112.608\" r=\"14\" fill=\"#009af9\" fill-rule=\"evenodd\" fill-opacity=\"1\" stroke=\"#000000\" stroke-opacity=\"1\" stroke-width=\"3.2\"/>\n",
       "<circle clip-path=\"url(#clip252)\" cx=\"511.362\" cy=\"1234.85\" r=\"14\" fill=\"#009af9\" fill-rule=\"evenodd\" fill-opacity=\"1\" stroke=\"#000000\" stroke-opacity=\"1\" stroke-width=\"3.2\"/>\n",
       "<circle clip-path=\"url(#clip252)\" cx=\"867.991\" cy=\"1348.73\" r=\"14\" fill=\"#009af9\" fill-rule=\"evenodd\" fill-opacity=\"1\" stroke=\"#000000\" stroke-opacity=\"1\" stroke-width=\"3.2\"/>\n",
       "<circle clip-path=\"url(#clip252)\" cx=\"1819\" cy=\"285.494\" r=\"14\" fill=\"#009af9\" fill-rule=\"evenodd\" fill-opacity=\"1\" stroke=\"#000000\" stroke-opacity=\"1\" stroke-width=\"3.2\"/>\n",
       "<circle clip-path=\"url(#clip252)\" cx=\"1502\" cy=\"1099.84\" r=\"14\" fill=\"#009af9\" fill-rule=\"evenodd\" fill-opacity=\"1\" stroke=\"#000000\" stroke-opacity=\"1\" stroke-width=\"3.2\"/>\n",
       "<circle clip-path=\"url(#clip252)\" cx=\"2056.75\" cy=\"103.004\" r=\"14\" fill=\"#009af9\" fill-rule=\"evenodd\" fill-opacity=\"1\" stroke=\"#000000\" stroke-opacity=\"1\" stroke-width=\"3.2\"/>\n",
       "<circle clip-path=\"url(#clip252)\" cx=\"630.239\" cy=\"1295.66\" r=\"14\" fill=\"#009af9\" fill-rule=\"evenodd\" fill-opacity=\"1\" stroke=\"#000000\" stroke-opacity=\"1\" stroke-width=\"3.2\"/>\n",
       "<circle clip-path=\"url(#clip252)\" cx=\"1264.25\" cy=\"1320.47\" r=\"14\" fill=\"#009af9\" fill-rule=\"evenodd\" fill-opacity=\"1\" stroke=\"#000000\" stroke-opacity=\"1\" stroke-width=\"3.2\"/>\n",
       "<circle clip-path=\"url(#clip252)\" cx=\"1066.12\" cy=\"1371.66\" r=\"14\" fill=\"#009af9\" fill-rule=\"evenodd\" fill-opacity=\"1\" stroke=\"#000000\" stroke-opacity=\"1\" stroke-width=\"3.2\"/>\n",
       "<circle clip-path=\"url(#clip252)\" cx=\"1026.49\" cy=\"1372.3\" r=\"14\" fill=\"#009af9\" fill-rule=\"evenodd\" fill-opacity=\"1\" stroke=\"#000000\" stroke-opacity=\"1\" stroke-width=\"3.2\"/>\n",
       "<circle clip-path=\"url(#clip252)\" cx=\"1184.99\" cy=\"1350.22\" r=\"14\" fill=\"#009af9\" fill-rule=\"evenodd\" fill-opacity=\"1\" stroke=\"#000000\" stroke-opacity=\"1\" stroke-width=\"3.2\"/>\n",
       "<circle clip-path=\"url(#clip252)\" cx=\"749.115\" cy=\"1326.9\" r=\"14\" fill=\"#009af9\" fill-rule=\"evenodd\" fill-opacity=\"1\" stroke=\"#000000\" stroke-opacity=\"1\" stroke-width=\"3.2\"/>\n",
       "<circle clip-path=\"url(#clip252)\" cx=\"1462.37\" cy=\"1156.46\" r=\"14\" fill=\"#009af9\" fill-rule=\"evenodd\" fill-opacity=\"1\" stroke=\"#000000\" stroke-opacity=\"1\" stroke-width=\"3.2\"/>\n",
       "<circle clip-path=\"url(#clip252)\" cx=\"2215.26\" cy=\"87.8217\" r=\"14\" fill=\"#009af9\" fill-rule=\"evenodd\" fill-opacity=\"1\" stroke=\"#000000\" stroke-opacity=\"1\" stroke-width=\"3.2\"/>\n",
       "<circle clip-path=\"url(#clip252)\" cx=\"986.867\" cy=\"1369.53\" r=\"14\" fill=\"#009af9\" fill-rule=\"evenodd\" fill-opacity=\"1\" stroke=\"#000000\" stroke-opacity=\"1\" stroke-width=\"3.2\"/>\n",
       "<circle clip-path=\"url(#clip252)\" cx=\"709.489\" cy=\"1318.88\" r=\"14\" fill=\"#009af9\" fill-rule=\"evenodd\" fill-opacity=\"1\" stroke=\"#000000\" stroke-opacity=\"1\" stroke-width=\"3.2\"/>\n",
       "<circle clip-path=\"url(#clip252)\" cx=\"1581.25\" cy=\"940.977\" r=\"14\" fill=\"#009af9\" fill-rule=\"evenodd\" fill-opacity=\"1\" stroke=\"#000000\" stroke-opacity=\"1\" stroke-width=\"3.2\"/>\n",
       "<circle clip-path=\"url(#clip252)\" cx=\"2254.88\" cy=\"86.624\" r=\"14\" fill=\"#009af9\" fill-rule=\"evenodd\" fill-opacity=\"1\" stroke=\"#000000\" stroke-opacity=\"1\" stroke-width=\"3.2\"/>\n",
       "<circle clip-path=\"url(#clip252)\" cx=\"1858.63\" cy=\"223.893\" r=\"14\" fill=\"#009af9\" fill-rule=\"evenodd\" fill-opacity=\"1\" stroke=\"#000000\" stroke-opacity=\"1\" stroke-width=\"3.2\"/>\n",
       "<circle clip-path=\"url(#clip252)\" cx=\"392.486\" cy=\"1144.86\" r=\"14\" fill=\"#009af9\" fill-rule=\"evenodd\" fill-opacity=\"1\" stroke=\"#000000\" stroke-opacity=\"1\" stroke-width=\"3.2\"/>\n",
       "<circle clip-path=\"url(#clip252)\" cx=\"1383.12\" cy=\"1241.2\" r=\"14\" fill=\"#009af9\" fill-rule=\"evenodd\" fill-opacity=\"1\" stroke=\"#000000\" stroke-opacity=\"1\" stroke-width=\"3.2\"/>\n",
       "<circle clip-path=\"url(#clip252)\" cx=\"1224.62\" cy=\"1337.14\" r=\"14\" fill=\"#009af9\" fill-rule=\"evenodd\" fill-opacity=\"1\" stroke=\"#000000\" stroke-opacity=\"1\" stroke-width=\"3.2\"/>\n",
       "<circle clip-path=\"url(#clip252)\" cx=\"1898.25\" cy=\"179.418\" r=\"14\" fill=\"#009af9\" fill-rule=\"evenodd\" fill-opacity=\"1\" stroke=\"#000000\" stroke-opacity=\"1\" stroke-width=\"3.2\"/>\n",
       "<circle clip-path=\"url(#clip252)\" cx=\"471.737\" cy=\"1207.38\" r=\"14\" fill=\"#009af9\" fill-rule=\"evenodd\" fill-opacity=\"1\" stroke=\"#000000\" stroke-opacity=\"1\" stroke-width=\"3.2\"/>\n",
       "<circle clip-path=\"url(#clip252)\" cx=\"1303.87\" cy=\"1299.39\" r=\"14\" fill=\"#009af9\" fill-rule=\"evenodd\" fill-opacity=\"1\" stroke=\"#000000\" stroke-opacity=\"1\" stroke-width=\"3.2\"/>\n",
       "<circle clip-path=\"url(#clip252)\" cx=\"1105.74\" cy=\"1367.56\" r=\"14\" fill=\"#009af9\" fill-rule=\"evenodd\" fill-opacity=\"1\" stroke=\"#000000\" stroke-opacity=\"1\" stroke-width=\"3.2\"/>\n",
       "<circle clip-path=\"url(#clip252)\" cx=\"1779.38\" cy=\"367.161\" r=\"14\" fill=\"#009af9\" fill-rule=\"evenodd\" fill-opacity=\"1\" stroke=\"#000000\" stroke-opacity=\"1\" stroke-width=\"3.2\"/>\n",
       "<circle clip-path=\"url(#clip252)\" cx=\"1422.75\" cy=\"1202.75\" r=\"14\" fill=\"#009af9\" fill-rule=\"evenodd\" fill-opacity=\"1\" stroke=\"#000000\" stroke-opacity=\"1\" stroke-width=\"3.2\"/>\n",
       "<circle clip-path=\"url(#clip252)\" cx=\"1660.5\" cy=\"713.084\" r=\"14\" fill=\"#009af9\" fill-rule=\"evenodd\" fill-opacity=\"1\" stroke=\"#000000\" stroke-opacity=\"1\" stroke-width=\"3.2\"/>\n",
       "<circle clip-path=\"url(#clip252)\" cx=\"1541.62\" cy=\"1029.23\" r=\"14\" fill=\"#009af9\" fill-rule=\"evenodd\" fill-opacity=\"1\" stroke=\"#000000\" stroke-opacity=\"1\" stroke-width=\"3.2\"/>\n",
       "<circle clip-path=\"url(#clip252)\" cx=\"1977.5\" cy=\"126.986\" r=\"14\" fill=\"#009af9\" fill-rule=\"evenodd\" fill-opacity=\"1\" stroke=\"#000000\" stroke-opacity=\"1\" stroke-width=\"3.2\"/>\n",
       "<circle clip-path=\"url(#clip252)\" cx=\"788.74\" cy=\"1333.97\" r=\"14\" fill=\"#009af9\" fill-rule=\"evenodd\" fill-opacity=\"1\" stroke=\"#000000\" stroke-opacity=\"1\" stroke-width=\"3.2\"/>\n",
       "<circle clip-path=\"url(#clip252)\" cx=\"590.613\" cy=\"1279.07\" r=\"14\" fill=\"#009af9\" fill-rule=\"evenodd\" fill-opacity=\"1\" stroke=\"#000000\" stroke-opacity=\"1\" stroke-width=\"3.2\"/>\n",
       "<circle clip-path=\"url(#clip252)\" cx=\"828.366\" cy=\"1341.1\" r=\"14\" fill=\"#009af9\" fill-rule=\"evenodd\" fill-opacity=\"1\" stroke=\"#000000\" stroke-opacity=\"1\" stroke-width=\"3.2\"/>\n",
       "<circle clip-path=\"url(#clip252)\" cx=\"2136\" cy=\"92.4196\" r=\"14\" fill=\"#009af9\" fill-rule=\"evenodd\" fill-opacity=\"1\" stroke=\"#000000\" stroke-opacity=\"1\" stroke-width=\"3.2\"/>\n",
       "<circle clip-path=\"url(#clip252)\" cx=\"432.111\" cy=\"1176.99\" r=\"14\" fill=\"#009af9\" fill-rule=\"evenodd\" fill-opacity=\"1\" stroke=\"#000000\" stroke-opacity=\"1\" stroke-width=\"3.2\"/>\n",
       "<circle clip-path=\"url(#clip252)\" cx=\"1620.87\" cy=\"834.134\" r=\"14\" fill=\"#009af9\" fill-rule=\"evenodd\" fill-opacity=\"1\" stroke=\"#000000\" stroke-opacity=\"1\" stroke-width=\"3.2\"/>\n",
       "<circle clip-path=\"url(#clip252)\" cx=\"352.861\" cy=\"1112.43\" r=\"14\" fill=\"#009af9\" fill-rule=\"evenodd\" fill-opacity=\"1\" stroke=\"#000000\" stroke-opacity=\"1\" stroke-width=\"3.2\"/>\n",
       "<circle clip-path=\"url(#clip252)\" cx=\"1937.88\" cy=\"148.296\" r=\"14\" fill=\"#009af9\" fill-rule=\"evenodd\" fill-opacity=\"1\" stroke=\"#000000\" stroke-opacity=\"1\" stroke-width=\"3.2\"/>\n",
       "<circle clip-path=\"url(#clip252)\" cx=\"2175.63\" cy=\"89.6457\" r=\"14\" fill=\"#009af9\" fill-rule=\"evenodd\" fill-opacity=\"1\" stroke=\"#000000\" stroke-opacity=\"1\" stroke-width=\"3.2\"/>\n",
       "<circle clip-path=\"url(#clip252)\" cx=\"1145.37\" cy=\"1360.32\" r=\"14\" fill=\"#009af9\" fill-rule=\"evenodd\" fill-opacity=\"1\" stroke=\"#000000\" stroke-opacity=\"1\" stroke-width=\"3.2\"/>\n",
       "<circle clip-path=\"url(#clip252)\" cx=\"1739.75\" cy=\"469.23\" r=\"14\" fill=\"#009af9\" fill-rule=\"evenodd\" fill-opacity=\"1\" stroke=\"#000000\" stroke-opacity=\"1\" stroke-width=\"3.2\"/>\n",
       "<circle clip-path=\"url(#clip252)\" cx=\"907.617\" cy=\"1356.63\" r=\"14\" fill=\"#009af9\" fill-rule=\"evenodd\" fill-opacity=\"1\" stroke=\"#000000\" stroke-opacity=\"1\" stroke-width=\"3.2\"/>\n",
       "<circle clip-path=\"url(#clip252)\" cx=\"669.864\" cy=\"1308.77\" r=\"14\" fill=\"#009af9\" fill-rule=\"evenodd\" fill-opacity=\"1\" stroke=\"#000000\" stroke-opacity=\"1\" stroke-width=\"3.2\"/>\n",
       "<circle clip-path=\"url(#clip252)\" cx=\"1700.13\" cy=\"587.565\" r=\"14\" fill=\"#009af9\" fill-rule=\"evenodd\" fill-opacity=\"1\" stroke=\"#000000\" stroke-opacity=\"1\" stroke-width=\"3.2\"/>\n",
       "</svg>\n"
      ]
     },
     "execution_count": 15,
     "metadata": {},
     "output_type": "execute_result"
    }
   ],
   "source": [
    "r  = range(RidgeRegressor(), :(lambda), lower=0.0001, upper=100_000, scale=:log10)\n",
    "tm = TunedModel(model=RidgeRegressor(), ranges=r, tuning=Grid(resolution=50),\n",
    "                resampling=CV(nfolds=5, rng=42), measure=rms)\n",
    "\n",
    "ridge_tm = machine(tm, X_flex, y) |> fit!\n",
    "best_mdl = fitted_params(ridge_tm).best_model\n",
    "\n",
    "# Print results\n",
    "println(\"Opimtal penalty: \", round(best_mdl.lambda, sigdigits=4))\n",
    "coefs, intercept = fitted_params(ridge_tm).best_fitted_params\n",
    "@show intercept\n",
    "\n",
    "plot(ridge_tm, size=(600, 400))"
   ]
  },
  {
   "cell_type": "markdown",
   "id": "c75e255b-0bd9-4d64-9685-98913f8581f7",
   "metadata": {},
   "source": [
    "### (v) Decision tree"
   ]
  },
  {
   "cell_type": "code",
   "execution_count": 16,
   "id": "f378721a-01d1-45e7-95a9-8076e72df4e5",
   "metadata": {},
   "outputs": [
    {
     "name": "stdout",
     "output_type": "stream",
     "text": [
      "import MLJDecisionTreeInterface ✔\n"
     ]
    },
    {
     "data": {
      "text/plain": [
       "MLJDecisionTreeInterface.DecisionTreeRegressor"
      ]
     },
     "execution_count": 16,
     "metadata": {},
     "output_type": "execute_result"
    }
   ],
   "source": [
    "DecisionTreeRegressor = @load DecisionTreeRegressor pkg=DecisionTree"
   ]
  },
  {
   "cell_type": "code",
   "execution_count": 17,
   "id": "cda1552d-b166-48b1-9e80-1f82c9ffb0f8",
   "metadata": {},
   "outputs": [
    {
     "data": {
      "text/plain": [
       "MLJDecisionTreeInterface.DecisionTreeRegressor"
      ]
     },
     "execution_count": 17,
     "metadata": {},
     "output_type": "execute_result"
    }
   ],
   "source": [
    "DecisionTreeRegressor"
   ]
  },
  {
   "cell_type": "code",
   "execution_count": 18,
   "id": "4c5561d4-bedf-46b3-858d-a6d3f851379c",
   "metadata": {},
   "outputs": [
    {
     "name": "stderr",
     "output_type": "stream",
     "text": [
      "\u001b[33mEvaluating over 250 metamodels: 100%[=========================] Time: 0:00:06\u001b[39m\n"
     ]
    },
    {
     "data": {
      "text/plain": [
       "DecisionTreeRegressor(\n",
       "  max_depth = 3, \n",
       "  min_samples_leaf = 7, \n",
       "  min_samples_split = 2, \n",
       "  min_purity_increase = 0.0, \n",
       "  n_subfeatures = 0, \n",
       "  post_prune = false, \n",
       "  merge_purity_threshold = 1.0, \n",
       "  rng = Random._GLOBAL_RNG())"
      ]
     },
     "execution_count": 18,
     "metadata": {},
     "output_type": "execute_result"
    }
   ],
   "source": [
    "r1 = range(DecisionTreeRegressor(), :max_depth, lower=1, upper=5)\n",
    "r2 = range(DecisionTreeRegressor(), :min_samples_leaf, lower=5, upper=100,)\n",
    "\n",
    "tm = TunedModel(model=DecisionTreeRegressor(), ranges=[r1, r2], tuning=Grid(resolution=50),\n",
    "                resampling=CV(nfolds=5, rng=42), measure=rms)\n",
    "\n",
    "tree = machine(tm, X, y) |> fit!\n",
    "\n",
    "fp = fitted_params(tree).best_model"
   ]
  },
  {
   "cell_type": "code",
   "execution_count": 19,
   "id": "5c09c1b0-f919-4f15-87ea-f2932738fdb2",
   "metadata": {},
   "outputs": [
    {
     "name": "stdout",
     "output_type": "stream",
     "text": [
      "Feature 2 < 200000.0 ?\n",
      "├─ Feature 12 < 0.5 ?\n",
      "    ├─ Feature 2 < 70000.0 ?\n",
      "        ├─ 3674.0157498824638 : 0/4254\n",
      "        └─ 37326.37455830388 : 0/283\n",
      "    └─ Feature 2 < 60000.0 ?\n",
      "        ├─ 38363.41998060136 : 0/1031\n",
      "        └─ 91199.4893111639 : 0/421\n",
      "└─ 551118.3636363636 : 0/11\n"
     ]
    }
   ],
   "source": [
    "import DecisionTree\n",
    "DecisionTree.print_tree(tree.fitresult.fitresult, sigdigits=1)"
   ]
  },
  {
   "cell_type": "markdown",
   "id": "1809cc1d-b44b-419e-8742-ff96c0842c14",
   "metadata": {},
   "source": [
    "From the final tree structure, Feature 2 (income) and Feature 11 (pira=0) are important. The tree clearly captures some interaction terms between these two features as Income is both in the top node as well as in a leaf node."
   ]
  },
  {
   "cell_type": "markdown",
   "id": "60c5ec97-843e-4286-93bc-3fef04681e1c",
   "metadata": {},
   "source": [
    "### (vi) Random Forest\n",
    "\n",
    "In this section I train a random forest. I use 100 bootstrap replications and also tune over the number of features to use and the bagging fraction to use."
   ]
  },
  {
   "cell_type": "code",
   "execution_count": 20,
   "id": "abf7dd6c-22d6-4539-9cee-bbcd73cf2584",
   "metadata": {},
   "outputs": [
    {
     "data": {
      "text/plain": [
       "DeterministicEnsembleModel(\n",
       "  model = DecisionTreeRegressor(\n",
       "        max_depth = -1, \n",
       "        min_samples_leaf = 5, \n",
       "        min_samples_split = 2, \n",
       "        min_purity_increase = 0.0, \n",
       "        n_subfeatures = 0, \n",
       "        post_prune = false, \n",
       "        merge_purity_threshold = 1.0, \n",
       "        rng = Random._GLOBAL_RNG()), \n",
       "  atomic_weights = Float64[], \n",
       "  bagging_fraction = 0.8, \n",
       "  rng = Random._GLOBAL_RNG(), \n",
       "  n = 100, \n",
       "  acceleration = CPU1{Nothing}(nothing), \n",
       "  out_of_bag_measure = Any[])"
      ]
     },
     "execution_count": 20,
     "metadata": {},
     "output_type": "execute_result"
    }
   ],
   "source": [
    "forest = EnsembleModel(model=DecisionTreeRegressor())"
   ]
  },
  {
   "cell_type": "code",
   "execution_count": 21,
   "id": "792b388c-577d-48be-a913-07a5cad3dcca",
   "metadata": {},
   "outputs": [
    {
     "name": "stdout",
     "output_type": "stream",
     "text": [
      "n_bootstraps = best_mdl.n = 100\n",
      "n_subfeatures = best_mdl.model.n_subfeatures = 5\n",
      "bagging_fraction = best_mdl.bagging_fraction = 0.5636363636363636\n"
     ]
    }
   ],
   "source": [
    "r1 = range(forest, :(model.n_subfeatures), lower=1, upper=5)\n",
    "r2 = range(forest, :bagging_fraction, lower=0.4, upper=1.0)\n",
    "tm = TunedModel(model=forest, tuning=Grid(resolution=12),\n",
    "                resampling=CV(nfolds=6), ranges=[r1, r2],\n",
    "                measure=rms)\n",
    "\n",
    "#forest_tm = machine(tm, X, y) |> fit!\n",
    "#MLJ.save(\"MLmodels/forest.jls\", forest_tm)\n",
    "forest_tm = machine(\"MLmodels/forest.jls\")\n",
    "\n",
    "best_mdl = fitted_params(forest_tm).best_model\n",
    "@show n_bootstraps = best_mdl.n\n",
    "@show n_subfeatures = best_mdl.model.n_subfeatures\n",
    "@show bagging_fraction = best_mdl.bagging_fraction;"
   ]
  },
  {
   "cell_type": "code",
   "execution_count": null,
   "id": "38ff611c-2898-4adc-9a97-48be46521347",
   "metadata": {
    "tags": []
   },
   "outputs": [],
   "source": [
    "using ShapML, Gadfly\n",
    "\n",
    "function predict_function(model, data)\n",
    "  data_pred = DataFrame(y_pred = predict(model, data))\n",
    "  return data_pred\n",
    "end\n",
    "\n",
    "explain = copy(X)\n",
    "reference = copy(X)\n",
    "\n",
    "@time data_shap = ShapML.shap(explain = explain,\n",
    "                        model = forest_tm,\n",
    "                        predict_function = predict_function,\n",
    "                        sample_size = 60,\n",
    "                        seed = 42\n",
    "                        )\n",
    "\n",
    "function plot_shap(data_shap)\n",
    "    data_plot = combine(groupby(data_shap, :feature_name), :shap_effect => (x -> mean(abs.(x)) ) => :mean_effect )\n",
    "    data_plot = sort(data_plot, order(:mean_effect, rev = true))\n",
    "\n",
    "    baseline = round(data_shap.intercept[1], digits = 1)\n",
    "\n",
    "    p = plot(data_plot, y = :feature_name, x = :mean_effect, Coord.cartesian(yflip = true),\n",
    "             Scale.y_discrete, Geom.bar(position = :dodge, orientation = :horizontal),\n",
    "             Theme(bar_spacing = 1mm),\n",
    "             Guide.xlabel(\"|Shapley effect| (baseline = $baseline)\"), Guide.ylabel(nothing),\n",
    "             Guide.title(\"Feature Importance - Mean Absolute Shapley Value\"))\n",
    "end\n",
    "\n",
    "\n",
    "p = plot_shap(data_shap)"
   ]
  },
  {
   "cell_type": "markdown",
   "id": "e5793a45-a8e7-455a-ad90-07764bb0cb99",
   "metadata": {},
   "source": [
    "<img src=\"images/forest_shap.png\" alt=\"drawing\" width=\"700\"/>"
   ]
  },
  {
   "cell_type": "markdown",
   "id": "09e11905-b7f7-4867-a19d-09f82c853bc5",
   "metadata": {},
   "source": [
    "From the shapley values above, it is clear that income and pira=0 is again important (as in the decision tree). Age and twoearn=0 are also somewhat important now."
   ]
  },
  {
   "cell_type": "markdown",
   "id": "e42cb845-f9d6-43d0-b2ee-72837f680251",
   "metadata": {},
   "source": [
    "### (vii) Boosted trees\n",
    "\n",
    "In this section I train XGB trees. I tune over the number of iterations and the maximum depth of each tree using 5-fold CV."
   ]
  },
  {
   "cell_type": "code",
   "execution_count": 22,
   "id": "1a6722a9-a317-4bf3-b416-b0782416d5ac",
   "metadata": {},
   "outputs": [
    {
     "name": "stdout",
     "output_type": "stream",
     "text": [
      "import MLJXGBoostInterface ✔\n"
     ]
    }
   ],
   "source": [
    "XGBR = @load XGBoostRegressor;"
   ]
  },
  {
   "cell_type": "code",
   "execution_count": 23,
   "id": "cf7af4b1-e535-42c7-a681-aabc8688a3c8",
   "metadata": {},
   "outputs": [
    {
     "name": "stderr",
     "output_type": "stream",
     "text": [
      "\u001b[33mEvaluating over 100 metamodels: 100%[=========================] Time: 0:00:09\u001b[39m\n"
     ]
    },
    {
     "name": "stdout",
     "output_type": "stream",
     "text": [
      "num_round = best_mdl.num_round = 17\n",
      "max_depth = best_mdl.max_depth = 2\n"
     ]
    }
   ],
   "source": [
    "r1 = range(XGBR(), :num_round, lower=1, upper=20)\n",
    "r2 = range(XGBR(), :max_depth, lower=1, upper=5)\n",
    "\n",
    "tm = TunedModel(model=XGBR(), tuning=Grid(resolution=50),\n",
    "                resampling=CV(nfolds=5 ,rng=42), ranges=[r1, r2],\n",
    "                measure=rms)\n",
    "\n",
    "xgb = machine(tm, X, y) |> fit!\n",
    "best_mdl = fitted_params(xgb).best_model\n",
    "@show num_round = best_mdl.num_round\n",
    "@show max_depth = best_mdl.max_depth;"
   ]
  },
  {
   "cell_type": "code",
   "execution_count": null,
   "id": "656de7ab-10c6-4726-bf39-f57cb07fb1f5",
   "metadata": {},
   "outputs": [],
   "source": [
    "@time data_shap = ShapML.shap(explain = explain,\n",
    "                        model = xgb,\n",
    "                        predict_function = predict_function,\n",
    "                        sample_size = 60,\n",
    "                        seed = 42\n",
    "                        );\n",
    "\n",
    "plot_shap(data_shap)"
   ]
  },
  {
   "cell_type": "markdown",
   "id": "f0916368-66bd-4c55-ad73-d6faafdd635b",
   "metadata": {},
   "source": [
    "<img src=\"images/xgb_shap.png\" alt=\"drawing\" width=\"700\"/>"
   ]
  },
  {
   "cell_type": "markdown",
   "id": "5ddea983-d131-40c3-914b-595b70eb5558",
   "metadata": {},
   "source": [
    "I end up using a tree depth of 2. The XGB regressor seems largely consistent with the Random Forest, when evaluated on Shapley values."
   ]
  },
  {
   "cell_type": "markdown",
   "id": "6cfcac1d-0d23-4c7b-b6a0-427f085a9817",
   "metadata": {},
   "source": [
    "### (viii) Neural net\n",
    "\n",
    "In this section I train a neural net. I use two hidden layers, each with 32 nodes in them and the ReLu activation function. This choice was chosen amongst a subset of both deep and shallow neural nets, which I tested. That is, I tried a shallow net of one hidden layer with 64 nodes, another net with two hidden layers and 32 nodes in each hidden layer, and a deep neural net with 4 hidden layers and 8 nodes in each layer. I decided to do drop-out regularization, dropping 50\\% after each layer, which seemed to be the best regularizer amongst the three models - I tried different percentages and also adding early stopping, but it didn't seem to matter much for the model performance."
   ]
  },
  {
   "cell_type": "code",
   "execution_count": 24,
   "id": "2bc9201f-94c8-4f95-8370-29def41212d4",
   "metadata": {},
   "outputs": [
    {
     "name": "stdout",
     "output_type": "stream",
     "text": [
      "import MLJFlux ✔\n"
     ]
    }
   ],
   "source": [
    "import MLJFlux\n",
    "import Flux\n",
    "NeuralNetworkRegressor = @load NeuralNetworkRegressor;"
   ]
  },
  {
   "cell_type": "code",
   "execution_count": 25,
   "id": "dabcdfc7-9df7-4177-a12c-eb07b378dea3",
   "metadata": {},
   "outputs": [
    {
     "data": {
      "text/plain": [
       "NeuralNetworkRegressor(\n",
       "  builder = MyNetworkBuilder(\n",
       "        n1 = 32, \n",
       "        n2 = 32, \n",
       "        dropout = 0.5, \n",
       "        σ = NNlib.relu), \n",
       "  optimiser = Flux.Optimise.Adam(0.001, (0.9, 0.999), 1.0e-8, IdDict{Any, Any}()), \n",
       "  loss = Flux.Losses.mse, \n",
       "  epochs = 10, \n",
       "  batch_size = 1, \n",
       "  lambda = 0.0, \n",
       "  alpha = 0.0, \n",
       "  rng = Random._GLOBAL_RNG(), \n",
       "  optimiser_changes_trigger_retraining = false, \n",
       "  acceleration = CPU1{Nothing}(nothing))"
      ]
     },
     "execution_count": 25,
     "metadata": {},
     "output_type": "execute_result"
    }
   ],
   "source": [
    "mutable struct MyNetworkBuilder <: MLJFlux.Builder\n",
    "    n1::Int #Number of cells in the first hidden layer\n",
    "    n2::Int #Number of cells in the second hidden layer\n",
    "    dropout::Float64\n",
    "    σ\n",
    "end\n",
    "\n",
    "MyNetworkBuilder(; n1=32, n2=32, dropout=0.5, σ=Flux.relu) = MyNetworkBuilder(n1, n2, dropout, σ)\n",
    "\n",
    "function MLJFlux.build(model::MyNetworkBuilder, rng, n_in, n_out)\n",
    "    n1, n2 = model.n1, model.n2\n",
    "    dropout, σ = model.dropout, model.σ\n",
    "    \n",
    "    init = Flux.glorot_uniform(rng)\n",
    "    layer1 = Flux.Dense(n_in, n1, σ, init=init)\n",
    "    layer1_drop = Flux.Dropout(dropout)\n",
    "    layer2 = Flux.Dense(n1, n2, σ, init=init)\n",
    "    layer2_drop = Flux.Dropout(dropout)\n",
    "    layer3 = Flux.Dense(model.n2, n_out, init=init)\n",
    "    return Flux.Chain(layer1, layer1_drop, layer2, layer2_drop, layer3)\n",
    "end\n",
    "\n",
    "nnregressor = NeuralNetworkRegressor(builder=MyNetworkBuilder(), epochs=10)"
   ]
  },
  {
   "cell_type": "code",
   "execution_count": 26,
   "id": "594f970b-54f3-481f-960e-ee0ab0effdf3",
   "metadata": {},
   "outputs": [
    {
     "data": {
      "text/plain": [
       "Machine trained 1 time; caches data\n",
       "  model: NeuralNetworkRegressor(builder = MyNetworkBuilder(n1 = 32, …), …)\n",
       "  args: \n"
      ]
     },
     "execution_count": 26,
     "metadata": {},
     "output_type": "execute_result"
    }
   ],
   "source": [
    "#nn = machine(nnregressor, X, y) |> fit!\n",
    "#MLJ.save(\"MLmodels/nn.jls\", nn)\n",
    "nn = machine(\"MLmodels/nn.jls\")"
   ]
  },
  {
   "cell_type": "code",
   "execution_count": null,
   "id": "fb29a840-6f13-4214-be45-92936e200a56",
   "metadata": {},
   "outputs": [],
   "source": [
    "@time data_shap = ShapML.shap(explain = explain,\n",
    "                        model = nn,\n",
    "                        predict_function = predict_function,\n",
    "                        sample_size = 60,\n",
    "                        seed = 42\n",
    "                        );\n",
    "\n",
    "plot_shap(data_shap)"
   ]
  },
  {
   "cell_type": "markdown",
   "id": "66efb892-194f-47b0-83bd-cb1c8e4fe6bd",
   "metadata": {},
   "source": [
    "<img src=\"images/nn_shap.png\" alt=\"drawing\" width=\"700\"/>"
   ]
  },
  {
   "cell_type": "markdown",
   "id": "0624e1e4-2e4f-4eb6-b134-2868773b2986",
   "metadata": {},
   "source": [
    "The neural net appear to only focus on income, setting all the other coefficients close to zero."
   ]
  },
  {
   "cell_type": "markdown",
   "id": "abec56a9-35ed-4351-8415-d0dac4e2f882",
   "metadata": {
    "tags": []
   },
   "source": [
    "### Ensemble\n",
    "\n",
    "In this section I stack all previous models, by finding the combination of learners that minimize overall MSE in training."
   ]
  },
  {
   "cell_type": "code",
   "execution_count": 27,
   "id": "bae60596-648e-4c2c-ad25-007e1140c519",
   "metadata": {},
   "outputs": [],
   "source": [
    "# Compute predictions of all models, then stack them\n",
    "MLmodels = [tree, forest_tm, xgb, nn]\n",
    "M = zeros(length(y), 7)\n",
    "\n",
    "M[:, 1] = predict(lm , df[!, X_cols])\n",
    "M[:, 2] = predict(lasso_tm , X_flex)\n",
    "M[:, 3] = predict(ridge_tm , X_flex)\n",
    "\n",
    "for i in 1:length(MLmodels)\n",
    "    M[:, i+3] = predict(MLmodels[i], X)\n",
    "end"
   ]
  },
  {
   "cell_type": "code",
   "execution_count": 28,
   "id": "666a0109",
   "metadata": {},
   "outputs": [
    {
     "name": "stdout",
     "output_type": "stream",
     "text": [
      "Collecting package metadata (current_repodata.json): ...working... done\n",
      "Solving environment: ...working... done\n",
      "\n",
      "# All requested packages already installed.\n",
      "\n"
     ]
    }
   ],
   "source": [
    "using IJulia, Conda\n",
    "Conda.add(\"scipy\");"
   ]
  },
  {
   "cell_type": "code",
   "execution_count": 30,
   "id": "74c08eb6-d0b0-4387-9770-1a7015dde656",
   "metadata": {},
   "outputs": [
    {
     "name": "stdout",
     "output_type": "stream",
     "text": [
      "Iteration limit reached\n"
     ]
    },
    {
     "data": {
      "text/plain": [
       "7-element Vector{Float64}:\n",
       " -2.5360341577319046e-7\n",
       "  1.3218466230751566e-6\n",
       "  3.8709687187601174e-7\n",
       "  1.5429030004269632e-6\n",
       "  0.9999982564587033\n",
       "  2.0705104983425046e-7\n",
       "  2.8634315061041944e-8"
      ]
     },
     "execution_count": 30,
     "metadata": {},
     "output_type": "execute_result"
    }
   ],
   "source": [
    "# Compute stacking weights with Python's Scipy library\n",
    "using PyCall\n",
    "\n",
    "f(w) = (y .- M*w)' * (y .- M*w)\n",
    "\n",
    "n_models = size(M)[2]\n",
    "x0 = ones(n_models) * (1/n_models)\n",
    "\n",
    "py\"\"\"\n",
    "import numpy as np\n",
    "import scipy.optimize as opt\n",
    "cons = {'type':'eq', 'fun': lambda w: np.sum(np.abs(w))-1}\n",
    "cons1 = ({'type':'eq', 'fun': lambda w: np.sum(np.abs(w))-1},\n",
    "        {'type':'ineq', 'fun': lambda w: np.array(w)})\n",
    "\n",
    "\n",
    "res = opt.minimize($f, $x0, constraints=cons)\n",
    "\"\"\"\n",
    "println(py\"res.message\")\n",
    "w = py\"res.x\"   # Stacking weights"
   ]
  },
  {
   "cell_type": "code",
   "execution_count": 31,
   "id": "6c1a90de-21fe-4eea-ac2e-c6036f69e2ff",
   "metadata": {},
   "outputs": [],
   "source": [
    "ensemble_preds = w' .* M[:, 1:end] |> x -> sum(x, dims=2)\n",
    "M = hcat(M, ensemble_preds);"
   ]
  },
  {
   "cell_type": "markdown",
   "id": "2c6a7746-7880-448b-ab8a-633548396dd5",
   "metadata": {},
   "source": [
    "It is clear that the ensemble basically loads 100\\% on the random forest. Thus they will likely have very similar performance on the test set."
   ]
  },
  {
   "cell_type": "markdown",
   "id": "08e226a6-df90-4a6f-a19d-a39e16861bf9",
   "metadata": {},
   "source": [
    "## Mean-square forecast error of all models"
   ]
  },
  {
   "cell_type": "code",
   "execution_count": 32,
   "id": "1d49d782",
   "metadata": {},
   "outputs": [],
   "source": [
    "X_test, y_test = df_test[!, X_cols], df_test[!, :net_tfa]\n",
    "\n",
    "# Do data transformations on test set\n",
    "X_test_f = copy(X_test)\n",
    "nl_transform(X_test_f)\n",
    "X_test_f = MLJ.transform(transformer, X_test_f)\n",
    "\n",
    "X_test = machine(ContinuousEncoder(), X_test) |> fit! |> MLJ.transform;  # Onehot-encode categorical variables"
   ]
  },
  {
   "cell_type": "code",
   "execution_count": 33,
   "id": "08b2a8b5-3e5f-481b-8387-0fdd7d1eb692",
   "metadata": {},
   "outputs": [
    {
     "data": {
      "text/html": [
       "<div class=\"data-frame\"><p>8 rows × 4 columns</p><table class=\"data-frame\"><thead><tr><th></th><th>Model</th><th>Train_MSE</th><th>Test_MSE</th><th>Test_MSE_SE</th></tr><tr><th></th><th title=\"String\">String</th><th title=\"Float64\">Float64</th><th title=\"Float64\">Float64</th><th title=\"Float64\">Float64</th></tr></thead><tbody><tr><th>1</th><td>Lasso</td><td>2.60924e9</td><td>2.84833e9</td><td>7.57937e8</td></tr><tr><th>2</th><td>Ridge</td><td>2.59649e9</td><td>2.85141e9</td><td>7.55092e8</td></tr><tr><th>3</th><td>Ensemble</td><td>2.10081e9</td><td>3.0386e9</td><td>7.81582e8</td></tr><tr><th>4</th><td>RF</td><td>2.10081e9</td><td>3.0386e9</td><td>7.81582e8</td></tr><tr><th>5</th><td>XGB</td><td>2.37597e9</td><td>3.1137e9</td><td>7.87585e8</td></tr><tr><th>6</th><td>OLS</td><td>3.03314e9</td><td>3.22963e9</td><td>8.07457e8</td></tr><tr><th>7</th><td>Tree</td><td>2.85783e9</td><td>3.23919e9</td><td>7.91188e8</td></tr><tr><th>8</th><td>NN</td><td>3.64473e9</td><td>3.79006e9</td><td>9.24879e8</td></tr></tbody></table></div>"
      ],
      "text/latex": [
       "\\begin{tabular}{r|cccc}\n",
       "\t& Model & Train\\_MSE & Test\\_MSE & Test\\_MSE\\_SE\\\\\n",
       "\t\\hline\n",
       "\t& String & Float64 & Float64 & Float64\\\\\n",
       "\t\\hline\n",
       "\t1 & Lasso & 2.60924e9 & 2.84833e9 & 7.57937e8 \\\\\n",
       "\t2 & Ridge & 2.59649e9 & 2.85141e9 & 7.55092e8 \\\\\n",
       "\t3 & Ensemble & 2.10081e9 & 3.0386e9 & 7.81582e8 \\\\\n",
       "\t4 & RF & 2.10081e9 & 3.0386e9 & 7.81582e8 \\\\\n",
       "\t5 & XGB & 2.37597e9 & 3.1137e9 & 7.87585e8 \\\\\n",
       "\t6 & OLS & 3.03314e9 & 3.22963e9 & 8.07457e8 \\\\\n",
       "\t7 & Tree & 2.85783e9 & 3.23919e9 & 7.91188e8 \\\\\n",
       "\t8 & NN & 3.64473e9 & 3.79006e9 & 9.24879e8 \\\\\n",
       "\\end{tabular}\n"
      ],
      "text/plain": [
       "\u001b[1m8×4 DataFrame\u001b[0m\n",
       "\u001b[1m Row \u001b[0m│\u001b[1m Model    \u001b[0m\u001b[1m Train_MSE \u001b[0m\u001b[1m Test_MSE  \u001b[0m\u001b[1m Test_MSE_SE \u001b[0m\n",
       "\u001b[1m     \u001b[0m│\u001b[90m String   \u001b[0m\u001b[90m Float64   \u001b[0m\u001b[90m Float64   \u001b[0m\u001b[90m Float64     \u001b[0m\n",
       "─────┼─────────────────────────────────────────────\n",
       "   1 │ Lasso     2.60924e9  2.84833e9    7.57937e8\n",
       "   2 │ Ridge     2.59649e9  2.85141e9    7.55092e8\n",
       "   3 │ Ensemble  2.10081e9  3.0386e9     7.81582e8\n",
       "   4 │ RF        2.10081e9  3.0386e9     7.81582e8\n",
       "   5 │ XGB       2.37597e9  3.1137e9     7.87585e8\n",
       "   6 │ OLS       3.03314e9  3.22963e9    8.07457e8\n",
       "   7 │ Tree      2.85783e9  3.23919e9    7.91188e8\n",
       "   8 │ NN        3.64473e9  3.79006e9    9.24879e8"
      ]
     },
     "execution_count": 33,
     "metadata": {},
     "output_type": "execute_result"
    }
   ],
   "source": [
    "# Compute predictions of all models, then stack them\n",
    "MLmodels = [tree, forest_tm, xgb, nn]\n",
    "G = zeros(length(y_test), 8)\n",
    "\n",
    "G[:, 1] = predict(lm , df_test[!, X_cols])\n",
    "G[:, 2] = predict(lasso_tm , X_test_f)\n",
    "G[:, 3] = predict(ridge_tm , X_test_f)\n",
    "\n",
    "for i in 1:length(MLmodels)\n",
    "    G[:, i+3] = predict(MLmodels[i], X_test)\n",
    "end\n",
    "\n",
    "G[:, end] = w' .* G[:, 1:end-1] |> x -> sum(x, dims=2)  # Ensemble predictions\n",
    "\n",
    "msfe = (G .- y_test).^2  # mean square forecast error\n",
    "msfe_mean = mean(msfe, dims=1)\n",
    "msfe_std = std(msfe, dims=1) / sqrt(length(y_test))\n",
    "\n",
    "mse = (M .- y).^2\n",
    "mse_mean = mean(mse, dims=1)\n",
    "\n",
    "res = DataFrame(Model=[\"OLS\", \"Lasso\", \"Ridge\", \"Tree\", \"RF\", \"XGB\", \"NN\", \"Ensemble\"],\n",
    "          Train_MSE=mse_mean[:],\n",
    "          Test_MSE=msfe_mean[:],\n",
    "          Test_MSE_SE=msfe_std[:])\n",
    "          \n",
    "sort!(res, :Test_MSE)"
   ]
  },
  {
   "cell_type": "markdown",
   "id": "49be5ecd-f3f8-4624-a80e-e3ea6fb4c199",
   "metadata": {},
   "source": [
    "Lasso and Ridge appear to do the best job in predicting net financial assets, both in terms of test_MSE and the associated standard error. Note, that the random forest has the best perfomance in-sample, which likely also explains why the ensemble model loads 100\\% on that specific model. \n",
    "\n",
    "The difference in performance doesn't seem very high out-of-sample, except for the neural net, ridge and Lasso. The Neural Net also performs poorly in-sample and has very high-standard errors. This can potentially be because the Neural Net needs more training epochs to converge.\n",
    "\n",
    "In conclusion, there is definitely some improvement over OLS both in- and out-of-sample. This is especially true in-sample, yet the ML models doesn't seem to outperform too much out-of-sample."
   ]
  }
 ],
 "metadata": {
  "kernelspec": {
   "display_name": "Julia 1.7.2",
   "language": "julia",
   "name": "julia-1.7"
  },
  "language_info": {
   "file_extension": ".jl",
   "mimetype": "application/julia",
   "name": "julia",
   "version": "1.7.2"
  }
 },
 "nbformat": 4,
 "nbformat_minor": 5
}
